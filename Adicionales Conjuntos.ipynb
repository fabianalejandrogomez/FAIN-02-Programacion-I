{
  "cells": [
    {
      "metadata": {
        "trusted": true
      },
      "cell_type": "code",
      "source": "# Ingresar una frase desde el teclado y eliminar las palabras repetidas, dejando un\n# solo ejemplar de cada una. Finalmente mostrar las palabras ordenadas según su\n# longitud. La eliminación de las palabras duplicadas debe realizarse a través de un\n# conjunto.\n\ndef operaCad(cad):\n    cadList=cad.lower().split() #cadList lista\n    listConj=set(cadList) #listConj conjunto\n    conjList=list(listConj) #conjList lista\n    conjList.sort(key=len)\n    return conjList\n\ndef main():\n    frase=input(\"Ingrese una frase: \")\n    print(\"Respuesta: \", operaCad(frase))\n\nmain()",
      "execution_count": 1,
      "outputs": [
        {
          "output_type": "stream",
          "name": "stdout",
          "text": "Ingrese una frase: hola  que tal hola que tal\nRespuesta:  ['tal', 'que', 'hola']\n"
        }
      ]
    },
    {
      "metadata": {
        "trusted": true
      },
      "cell_type": "code",
      "source": "# Definir un conjunto con números enteros entre 0 y 9. Luego solicitar valores al\n# usuario y eliminarlos del conjunto mediante el método remove, mostrando el contenido\n# del conjunto luego de cada eliminación. Finalizar el proceso al ingresar -1.\n# Utilizar manejo de excepciones para evitar errores al intentar quitar elementos\n# inexistentes.\n\ndef main():\n    conj={numero for numero in range(10)}\n    print(\"Conjunto inicial: \", conj)\n    while True:\n        try:\n            elem=int(input(\"Ingrese un valor para eliminar: \"))\n        except ValueError:\n            print(\"Se ingresó un valor no entero.\")\n        else:\n            if (elem==-1):\n                break\n            try:\n                conj.remove(elem)\n                print(\"Conjunto actualizado: \", conj)\n            except KeyError:\n                print(\"Se ingresó un valor que no está en el conjunto.\")\n\nmain()",
      "execution_count": 2,
      "outputs": [
        {
          "output_type": "stream",
          "text": "Conjunto inicial:  {0, 1, 2, 3, 4, 5, 6, 7, 8, 9}\nIngrese un valor para eliminar: 3\nConjunto actualizado:  {0, 1, 2, 4, 5, 6, 7, 8, 9}\nIngrese un valor para eliminar: 2\nConjunto actualizado:  {0, 1, 4, 5, 6, 7, 8, 9}\nIngrese un valor para eliminar: 1\nConjunto actualizado:  {0, 4, 5, 6, 7, 8, 9}\nIngrese un valor para eliminar: 3\nSe ingresó un valor que no está en el conjunto.\nIngrese un valor para eliminar: -1\n",
          "name": "stdout"
        }
      ]
    },
    {
      "metadata": {
        "trusted": true
      },
      "cell_type": "code",
      "source": "",
      "execution_count": null,
      "outputs": []
    }
  ],
  "metadata": {
    "kernelspec": {
      "name": "python36",
      "display_name": "Python 3.6",
      "language": "python"
    },
    "language_info": {
      "mimetype": "text/x-python",
      "nbconvert_exporter": "python",
      "name": "python",
      "pygments_lexer": "ipython3",
      "version": "3.6.6",
      "file_extension": ".py",
      "codemirror_mode": {
        "version": 3,
        "name": "ipython"
      }
    }
  },
  "nbformat": 4,
  "nbformat_minor": 2
}