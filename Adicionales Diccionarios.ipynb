{
  "cells": [
    {
      "metadata": {
        "trusted": true
      },
      "cell_type": "code",
      "source": "'''\nEjercicio\nA partir del archivo adjunto lograr la siguiente informaciòn:\n    \nCantidad de Operaciones por Usuario, ordenado decreciente por Q operaciones\nCantidad de Operaciones por Año de Ingreso, ordenado ascentende por año\nLa cantidad de Tarjetas Validas por localidad, ordenado ascendente por Q de operaciones\nLos saldos por Usuario (ventas memos Compras)\n\nOTRAS no realizadas:\nLas Compras que tuvieron devolucion en menos de 3 horas\nLa venta de mayor monto por localidad\nEl Usuario con mas operaciones de Compra\nEl Usuario con mas operacione sde Venta\nLa cantidad de Ventas por Codigo Postal\nGenerar un archivo de salida para cada Provincia\ningresando el codigo de usuario, obtener la informacion de cantidad de ventas\n\n'''\n# Programa principal\n\ndef validartarjeta(num):\n    esvalido = True\n    lista = num.split(\"-\")\n    # Verificamos la cantidad de guiones\n    if len(lista)!=4:\n        esvalido = False\n    # Verificamos que cada grupo de números tenga 4 dígitos y que sean todos números\n    for grupo in lista:\n        if len(grupo)!=4:\n            esvalido = False\n        for digito in grupo:    \n            if not (\"0\"<=digito<=\"9\"):\n                esvalido = False\n    # Primer punto de salida\n    if not esvalido:\n        return False\n    else:\n        return True\n\ndef var_q(lis): #Crea un diccionario por que argupa por una variable y cuenta su frecuencia   \n    dictionar = { }\n    for var in lis:\n        if var in dictionar:\n            dictionar[var] = dictionar[var] +1\n        else:\n            dictionar[var] =1\n    return dictionar\n\ndef var_suma(lis): #Crea un diccionario por una variable clave e informe la suma de una variable cuantitativa   \n    larg = len(lis)\n    dictionar = { }\n    for i in range(0,larg-1,2):\n        if lis[i] in dictionar:          \n            continue\n        dictionar[lis[i]] = lis[i+1]\n        for j in range(i+2, larg,2):\n            if lis[i] == lis[j]:\n                dictionar[lis[i]] += lis[j+1]\n    return dictionar\n\ndef dic2list(diccionar,variableorden,sentido): #Crea una lista ordenada a partir de un diccinario\n    lis = list(dict.items(diccionar))\n    lis.sort(key = lambda x: x[variableorden], reverse = sentido)\n    return lis\n\ndef une_dic(dict1,dict2):#integra dos disscionario usando el orden del primero, utiliza metodo tradicional\n    finaldict = {}\n    for key in dict1:\n        finaldict[key] = [dict1[key], dict2[key]]\n    return finaldict\n\ndef saldo_vta_cpra(dict1,dict2):\n    finaldict = {}\n    for key in dict1:\n        finaldict[key] = [dict1[key]-dict2[key]]\n    return finaldict\n\ntry:\n#Cuento las lineas del archivo\n    arch = open(\"Ejercicio.csv\")\n    cuentalineas = len(arch.readlines(  ))\n    print(\"El archivo tiene :\", cuentalineas, \"lineas\")\n\n    arch = open(\"Ejercicio.csv\")\n    \n    lis_nombre = []\n    lis_anio = []\n    lis_tarjcorrect = []\n    lis_compras = []\n    lis_ventas = []\n\n#Salteo encabezado\n    linea = arch.readline()\n#Leo un registro en memoria\n    linea = arch.readline()\n#mienstras hay registros entro el ciclo\n    while linea:\n        linea = linea.rstrip(\"\\n\") #elimina caracteres desde la derecha\n        codigo,nombre,edad,feching,tarj,monto,opera,hc,hd,loc,prov,dire = linea.split(\";\")\n        lis_nombre.append(nombre)\n            \n#Genero un lista para contabilizar los datos de año\n        anio = feching[-4:]\n        lis_anio.append(anio)\n\n        if validartarjeta(tarj) == True:\n            lis_tarjcorrect.append(loc)\n\n            \n        monto = int(monto[2:])\n \n    #crea la lista saldo filtrando los nombres que tuvieron operaciones con valor cero\n        if monto > 0 and opera == \"compra\":     \n            lis_compras.append(nombre)\n            lis_compras.append(monto)\n            \n        if monto > 0 and opera == \"venta\":     \n            lis_ventas.append(nombre)\n            lis_ventas.append(monto)\n            \n# Leo un nuevo registro en meoria\n        linea = arch.readline()\n        \n    print(\"Cantidad de Operaciones por Usuario, ordenado decreciente por Q operaciones\")\n    print(dic2list(var_q(lis_nombre),1,True))\n    print() \n    print(\"Cantidad de Operaciones por Año de Ingreso, ordenado ascentende por año\")\n    print(dic2list(var_q(lis_anio),0,False))\n    print()\n    print(\"La cantidad de Tarjetas Validas por localidad, ordenado ascendente por Q de operaciones\")\n    print(dic2list(var_q(lis_tarjcorrect),1,False))\n    print()\n    print(\"Acumulado de ventas y de compras de cada usuario\")\n    dic_nombre_compras_ac = var_suma(lis_compras)\n    dic_nombre_ventas_ac = var_suma(lis_ventas)\n    print(une_dic(dic_nombre_ventas_ac,dic_nombre_compras_ac))\n    print()\n    print(\"Saldo para cada usuario restando ventas - compras\")\n    print(saldo_vta_cpra(dic_nombre_ventas_ac,dic_nombre_compras_ac))\n\nexcept (FileNotFoundError, OSError) as error:\n    print(\"ERROR:\", error)\nfinally:\n    try:\n        arch.close()\n    except NameError:\n        pass",
      "execution_count": 16,
      "outputs": [
        {
          "output_type": "stream",
          "text": "El archivo tiene : 21 lineas\nCantidad de Operaciones por Usuario, ordenado decreciente por Q operaciones\n[('Carlos Rios', 7), ('Leopoldo Abelardo', 5), ('Jorge Alimbertucchi', 4), ('Rosa Esperanza', 4)]\n\nCantidad de Operaciones por Año de Ingreso, ordenado ascentende por año\n[('1989', 7), ('2003', 4), ('2011', 4), ('2020', 5)]\n\nLa cantidad de Tarjetas Validas por localidad, ordenado ascendente por Q de operaciones\n[('San Clemente', 3), ('Chascomus', 3), ('San Luis', 3), ('Buenos Aires', 5)]\n\nAcumulado de ventas y de compras de cada usuario\n{'Carlos Rios': [591, 2195], 'Jorge Alimbertucchi': [788, 466], 'Leopoldo Abelardo': [1133, 1333], 'Rosa Esperanza': [553, 1353]}\n\nSaldo para cada usuario restando ventas - compras\n{'Carlos Rios': [-1604], 'Jorge Alimbertucchi': [322], 'Leopoldo Abelardo': [-200], 'Rosa Esperanza': [-800]}\n",
          "name": "stdout"
        }
      ]
    },
    {
      "metadata": {
        "trusted": true
      },
      "cell_type": "code",
      "source": "'''\nUn Banco desea saber que meses del primer trimestre, se dio un deposito maximo\n'''\n\ndepositos = {'enero':[1500,900,1000],  'febrero':[2500], 'marzo': [200,2500]}\nkey_depositos = dict.fromkeys(depositos)\n\nmaximo = 0\nminimo = 0\n\nfor key in depositos:\n    for data in depositos[key]:\n        if(data >= maximo):\n            maximo = data\n\nfor key in depositos:\n    for data in depositos[key]:\n        if(data <= minimo):\n            minimo = data\n            \nfor key in depositos:\n    for data in depositos[key]:\n        if(data == maximo):\n            key_depositos[key] = data\n        elif(data == minimo):\n            key_depositos[key] = data\n        continue\n\nprint(key_depositos)",
      "execution_count": 2,
      "outputs": [
        {
          "output_type": "stream",
          "text": "{'enero': None, 'febrero': 2500, 'marzo': 2500}\n",
          "name": "stdout"
        }
      ]
    },
    {
      "metadata": {
        "trusted": true
      },
      "cell_type": "code",
      "source": "'''\nUn Banco desea saber cual fue el deposito maximo y minimo de cada mes\n'''\n\ndepositos = {'enero':[1150,900,1000],  'febrero':[2500], 'marzo': [200, 340, 5600, 2500]}\n\ndepositos_max_min = {}\nmaximos = dict.fromkeys(depositos)\nminimos = dict.fromkeys(depositos)\n\n\nfor key in depositos:\n    minimo = min(depositos[key])\n    minimos[key] = minimo\n\n    maximo = max(depositos[key])          \n    maximos[key] = maximo    \n    \nfor key in depositos:\n    depositos_max_min[key] = [ maximos[key],minimos[key]]\n\nprint(depositos_max_min)",
      "execution_count": 3,
      "outputs": [
        {
          "output_type": "stream",
          "text": "{'enero': [1150, 900], 'febrero': [2500, 2500], 'marzo': [5600, 200]}\n",
          "name": "stdout"
        }
      ]
    },
    {
      "metadata": {
        "trusted": true
      },
      "cell_type": "code",
      "source": "'''Crear un diccionario de meses con sus valores a partir de un listado'''\n\nlistado = ['enero', 1200, 300, 'febrero', 2100, 500, 'marzo', 2122,0]\n\n#Creo una lista de los meses que luego y las transformo en las claves\nmeses = []\nfor i in range(0, len(listado)-2, 3):\n    meses.append((listado[i]))\nmesesDic = dict.fromkeys(meses)\nprint(mesesDic)\n\n\n# Creo una lista con los primeros valores de cada mes\nprimero = []\nfor i in range(1, len(listado)-1, 3):\n    primero.append((listado[i]))\nprint(primero)\n\n# Creo una lista con los segundos valores de cada mes\nsegundo = []\nfor i in range(2, len(listado), 3):\n    segundo.append((listado[i]))\nprint(segundo)\n\n#integro ambas listas en una nueva lista de valores\nnewValues = []\nfor i in range(len(primero)):\n    newValues.append([primero[i], segundo[i]])\nprint(newValues)\n\n#le asigno los elementos de la nueva lista de valores al diccionario)\nlar = 0\nfor elem in mesesDic:\n    mesesDic[elem] = newValues[lar]\n    lar += 1\n\nprint(mesesDic)   ",
      "execution_count": 4,
      "outputs": [
        {
          "output_type": "stream",
          "text": "{'enero': None, 'febrero': None, 'marzo': None}\n[1200, 2100, 2122]\n[300, 500, 0]\n[[1200, 300], [2100, 500], [2122, 0]]\n{'enero': [1200, 300], 'febrero': [2100, 500], 'marzo': [2122, 0]}\n",
          "name": "stdout"
        }
      ]
    },
    {
      "metadata": {
        "trusted": true
      },
      "cell_type": "code",
      "source": "'''Separando los elementos del diccionario'''\n\nclaves=list(mesesDic.keys())\nprint(claves)\nvalores=list(mesesDic.values())\nprint(valores)\n\nfor i in range(len(claves)):\n    claves[i] = valores[i]\n    print(claves[i])\n    ",
      "execution_count": 5,
      "outputs": [
        {
          "output_type": "stream",
          "text": "['enero', 'febrero', 'marzo']\n[[1200, 300], [2100, 500], [2122, 0]]\n[1200, 300]\n[2100, 500]\n[2122, 0]\n",
          "name": "stdout"
        }
      ]
    },
    {
      "metadata": {
        "trusted": true
      },
      "cell_type": "code",
      "source": "'''Pasando a diccionario y a lista otra vez'''\nprint(dict(valores))\n\ndictList = []\nfor key, value in valores:\n    dictList.append([key, value])\nprint(dictList)",
      "execution_count": 10,
      "outputs": [
        {
          "output_type": "stream",
          "text": "{1200: 300, 2100: 500, 2122: 0}\n[[1200, 300], [2100, 500], [2122, 0]]\n",
          "name": "stdout"
        }
      ]
    },
    {
      "metadata": {
        "trusted": true
      },
      "cell_type": "code",
      "source": "",
      "execution_count": null,
      "outputs": []
    }
  ],
  "metadata": {
    "kernelspec": {
      "name": "python36",
      "display_name": "Python 3.6",
      "language": "python"
    },
    "language_info": {
      "mimetype": "text/x-python",
      "nbconvert_exporter": "python",
      "name": "python",
      "pygments_lexer": "ipython3",
      "version": "3.6.6",
      "file_extension": ".py",
      "codemirror_mode": {
        "version": 3,
        "name": "ipython"
      }
    }
  },
  "nbformat": 4,
  "nbformat_minor": 2
}