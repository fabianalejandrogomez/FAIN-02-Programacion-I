{
  "cells": [
    {
      "metadata": {
        "trusted": true
      },
      "cell_type": "code",
      "source": "def ingresa():\n    while True:\n        try:\n            data = input(\"Ingrese la info: \")\n            if data.isdigit():\n                assert int(data)>=100, \"El número debe ser mayor a 100.\"\n                assert int(data)%2 == 0 , \"El número debe ser par.\"            \n            else:\n                assert len(data)>5, \"El dato debe ser mas largo.\"\n                assert data.isupper(), \"El dato debe ser en mayuscula.\"     \n            break\n        except ValueError:\n            print(\"El valor es incorrecto.\")\n            print(\"Intente nuevamente.\")\n        except AssertionError as error:\n            print(error)\n        print(\"Intente nuevamente.\")\n    print(\"se ingreso:\", data)\n\n#programa principal\na = ingresa()",
      "execution_count": null,
      "outputs": [
        {
          "output_type": "stream",
          "name": "stdout",
          "text": "Ingrese la info: asdasdasdasd\nEl dato debe ser en mayuscula.\nIntente nuevamente.\n"
        }
      ]
    },
    {
      "metadata": {
        "trusted": true
      },
      "cell_type": "code",
      "source": "",
      "execution_count": null,
      "outputs": []
    },
    {
      "metadata": {
        "trusted": true
      },
      "cell_type": "code",
      "source": "",
      "execution_count": null,
      "outputs": []
    }
  ],
  "metadata": {
    "kernelspec": {
      "name": "python36",
      "display_name": "Python 3.6",
      "language": "python"
    },
    "language_info": {
      "mimetype": "text/x-python",
      "nbconvert_exporter": "python",
      "name": "python",
      "pygments_lexer": "ipython3",
      "version": "3.6.6",
      "file_extension": ".py",
      "codemirror_mode": {
        "version": 3,
        "name": "ipython"
      }
    }
  },
  "nbformat": 4,
  "nbformat_minor": 2
}