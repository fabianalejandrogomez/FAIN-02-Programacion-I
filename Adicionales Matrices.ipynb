{
  "cells": [
    {
      "metadata": {},
      "cell_type": "markdown",
      "source": "# Matrices: Listas de Listas"
    },
    {
      "metadata": {
        "trusted": true
      },
      "cell_type": "code",
      "source": "a = [[1, 2, 3], [4, 5, 6]]\nprint(\"Primera fila de la matriz:\", a[0])\nprint()\nprint(\"Segunda fila de la matriz:\",a[1])\nprint()\nprint(\"Seleccionar una casilla: el cruce de la 1ra fila y la 3ra columna:\",a[0][2])\nprint()\nprint(\"Cambiar el valor de un casillero de la matriz:\")\na[0][1] = 7\nprint(a)",
      "execution_count": 5,
      "outputs": [
        {
          "output_type": "stream",
          "text": "Primera fila de la matriz: [1, 2, 3]\n\nSegunda fila de la matriz: [4, 5, 6]\n\nSeleccionar una casilla: el cruce de la 1ra fila y la 3ra columna: 3\n\nCambiar el valor de un casillero de la matriz:\n[[1, 7, 3], [4, 5, 6]]\n",
          "name": "stdout"
        }
      ]
    },
    {
      "metadata": {
        "trusted": true
      },
      "cell_type": "code",
      "source": "a = [[0, 1, 2], [3, 4, 5], [6, 7, 8]]\nprint(\"El largo de la matriz es: \",len(a))\nprint()\nprint(\"Se puede imprimir los elementos de la matriz en funcion a i\")\nprint(a[i-2], a[i-1],a[i])\nprint()\nprint(\"Se puede imprimir los elementos de la matriz utiizando for, (i sera 0 , 1 , 2)\")\nfor i in range(len(a)):\n    print(a[i], end=' ')\nprint()",
      "execution_count": 6,
      "outputs": [
        {
          "output_type": "stream",
          "text": "El largo de la matriz es:  3\n\nSe puede imprimir los elementos de la matriz en funcion a i\n[0, 1, 2] [3, 4, 5] [6, 7, 8]\n\nSe puede imprimir los elementos de la matriz utiizando for, (i sera 0 , 1 , 2)\n[0, 1, 2] [3, 4, 5] [6, 7, 8] \n",
          "name": "stdout"
        }
      ]
    },
    {
      "metadata": {
        "trusted": true
      },
      "cell_type": "code",
      "source": "#Para imprimir la matriz\n\na = [[0, 1, 2], [3, 4, 5], [6, 7, 8]]\nprint(\"Es este caso, el primer for utiliza el largo de la matriz len(a) y el segundo cada i dentro de cada lista  len(a[i]), luego imprime cada casillero a[i][j]\")\nfor i in range(len(a)):\n    for j in range(len(a[i])):\n        print(a[i][j], end=' ')\n    print()",
      "execution_count": 7,
      "outputs": [
        {
          "output_type": "stream",
          "text": "Es este caso, el primer for utiliza el largo de la matriz len(a) y el segundo cada i dentro de cada lista  len(a[i]), luego imprime cada casillero a[i][j]\n0 1 2 \n3 4 5 \n6 7 8 \n",
          "name": "stdout"
        }
      ]
    },
    {
      "metadata": {
        "trusted": true
      },
      "cell_type": "code",
      "source": "a = [[0, 1, 2], [3, 4, 5], [6, 7, 8]]\nprint(\"En lugar de range se puede usar directamente el nombre de la matriz\")\nfor row in a:\n    for elem in row:\n        print(elem, end=' ')\n    print()",
      "execution_count": 8,
      "outputs": [
        {
          "output_type": "stream",
          "text": "En lugar de range se puede usar directamente el nombre de la matriz\n0 1 2 \n3 4 5 \n6 7 8 \n",
          "name": "stdout"
        }
      ]
    },
    {
      "metadata": {
        "trusted": true
      },
      "cell_type": "code",
      "source": "print(\"Usando 2 for para calcular la suma de todos los números en la lista bidimensional:\")\na = [[1, 2, 3, 4], [5, 6], [7, 8, 9]]\ns = 0\nfor i in range(len(a)):\n    for j in range(len(a[i])):\n        s += a[i][j]\nprint(s)",
      "execution_count": 9,
      "outputs": [
        {
          "output_type": "stream",
          "text": "Usando 2 for para calcular la suma de todos los números en la lista bidimensional:\n45\n",
          "name": "stdout"
        }
      ]
    },
    {
      "metadata": {
        "trusted": true
      },
      "cell_type": "code",
      "source": "print(\"Version de la misma suma anterior, pero sin usar range\")\nmatriz = [[1, 2, 3, 4], [5, 6], [7, 8, 9]]\nsuma = 0\nfor fila in matriz:\n    for celda in fila:\n        suma += celda\nprint(s)",
      "execution_count": 10,
      "outputs": [
        {
          "output_type": "stream",
          "text": "Version de la misma suma anterior, pero sin usar range\n45\n",
          "name": "stdout"
        }
      ]
    },
    {
      "metadata": {
        "trusted": true
      },
      "cell_type": "code",
      "source": "print(\"generator, creando una lista de n elementos, cada uno de los cuales es una lista de m ceros:\")\nn = 3\nm = 4\na = [[0] * m for i in range(n)]\nprint(a)",
      "execution_count": 11,
      "outputs": [
        {
          "output_type": "stream",
          "text": "generator, creando una lista de n elementos, cada uno de los cuales es una lista de m ceros:\n[[0, 0, 0, 0], [0, 0, 0, 0], [0, 0, 0, 0]]\n",
          "name": "stdout"
        }
      ]
    },
    {
      "metadata": {},
      "cell_type": "markdown",
      "source": "# Matrices: Nested Generators"
    },
    {
      "metadata": {
        "trusted": true
      },
      "cell_type": "code",
      "source": "import random\nfila = 3\ncolumna = 3\n\na = [[random.randint(1,100) for i in range (fila)]for j in range (columna)]\nprint(a)\n\n",
      "execution_count": 12,
      "outputs": [
        {
          "output_type": "stream",
          "text": "[[60, 100, 10], [68, 99, 73], [72, 69, 60]]\n",
          "name": "stdout"
        }
      ]
    },
    {
      "metadata": {
        "trusted": true
      },
      "cell_type": "code",
      "source": "import random\nfila = 3\ncolumna = 3\na = [[random.randint(1,100) for i in range (fila)]for j in range (columna)]\nfor f in range (fila):\n    for c in range (columna):\n        print(a[f][c], end=' ')",
      "execution_count": 13,
      "outputs": [
        {
          "output_type": "stream",
          "text": "29 64 19 31 13 84 96 69 69 ",
          "name": "stdout"
        }
      ]
    },
    {
      "metadata": {
        "trusted": true
      },
      "cell_type": "code",
      "source": "import random\nfila = 3\ncolumna = 3\na = [[random.randint(1,100) for i in range (fila)]for j in range (columna)]\nfor f in a:\n    print(f)",
      "execution_count": 14,
      "outputs": [
        {
          "output_type": "stream",
          "text": "[87, 99, 59]\n[29, 93, 78]\n[86, 56, 99]\n",
          "name": "stdout"
        }
      ]
    },
    {
      "metadata": {
        "trusted": true
      },
      "cell_type": "code",
      "source": "import random\nfila = 3\ncolumna = 3\na = [[random.randint(1,100) for i in range (fila)]for j in range (columna)]\nprint(a)\n\nc = int(input(\"ingrese el numero que columna a visualizar, recuerde que empeiezan en 0:\"))\nb=[]\nfor f in range(len(a)):\n    b.append(a[f][c])\n\nprint(b)",
      "execution_count": 16,
      "outputs": [
        {
          "output_type": "stream",
          "text": "[[39, 42, 47], [25, 57, 33], [36, 38, 36]]\ningrese el numero que columna a visualizar, recuerde que empeiezan en 0:2\n[47, 33, 36]\n",
          "name": "stdout"
        }
      ]
    },
    {
      "metadata": {
        "trusted": true
      },
      "cell_type": "markdown",
      "source": "# Contruccion de Matrices"
    },
    {
      "metadata": {},
      "cell_type": "raw",
      "source": "1 0 0 0\n2 1 0 0\n2 2 1 0\n2 2 2 1"
    },
    {
      "metadata": {
        "trusted": true
      },
      "cell_type": "code",
      "source": "n = 4\na = [[0] * n for i in range(n)]\nfor i in range(n):\n    for j in range(n):\n        if i < j:\n            a[i][j] = 0\n        elif i > j:\n            a[i][j] = 2\n        else:\n            a[i][j] = 1\nfor row in a:\n    print(' '.join([str(elem) for elem in row]))",
      "execution_count": 17,
      "outputs": [
        {
          "output_type": "stream",
          "text": "1 0 0 0\n2 1 0 0\n2 2 1 0\n2 2 2 1\n",
          "name": "stdout"
        }
      ]
    },
    {
      "metadata": {
        "trusted": true
      },
      "cell_type": "code",
      "source": "n = 4\nv = 1\na = [[1] * n for i in range(n)]\nfor i in range(n):\n    for j in range(n):\n        if i==j:\n            a[i][j] = j+1\n        else:\n            a[i][j] = 0\nfor row in a:\n    print(' '.join([str(elem) for elem in row]))",
      "execution_count": 18,
      "outputs": [
        {
          "output_type": "stream",
          "text": "1 0 0 0\n0 2 0 0\n0 0 3 0\n0 0 0 4\n",
          "name": "stdout"
        }
      ]
    },
    {
      "metadata": {
        "trusted": true
      },
      "cell_type": "code",
      "source": "n = 4\nv = 1\ncontador = 1\na = [[1] * n for i in range(n)]\nfor i in range(n):\n    for j in range(n):\n        if (i+j)<n//2:\n            a[i][j] = contador\n            contador = contador + 1\n        else:\n            a[i][j] = 0\nfor row in a:\n    print(' '.join([str(elem) for elem in row]))",
      "execution_count": 19,
      "outputs": [
        {
          "output_type": "stream",
          "text": "1 2 0 0\n3 0 0 0\n0 0 0 0\n0 0 0 0\n",
          "name": "stdout"
        }
      ]
    },
    {
      "metadata": {
        "trusted": true
      },
      "cell_type": "code",
      "source": "#Armando matrices por capas: con cada bloque for puedo sobreponer una nueva capa en la matriz\n\nn = int(input(\"ingrese la cantidad de columnas: \"))\nwhile n <= 0 or n%2 != 0:\n    n = int(input(\"ingrese la cantidad de columnas: \"))\nprint(\"La matriz tiene %d columnas\" %n)\n\nmat = [[0]*n for i in range(n)]\n\n#primera capa= cuatro cuadrantes 1, 2, 3, 4\nfor c in range(n):\n    for r in range(n):\n        if c<n//2 and r<n//2:\n            mat[c][r] = 1\n        elif c>=n//2 and r>=n//2:\n            mat[c][r] = 3\n        elif r>=n//2 and r>=n//2:\n            mat[c][r] = 2\n        else:\n            mat[c][r] = 4    \n\n#segunda  capa= diagonal 5\nfor c in range(n):\n    for r in range(n):\n        if c==r:\n            mat[c][r] = 5             \n\n#tercera  capa= diagonal 6\nfor c in range(n):\n    for r in range(n):\n        if c+r == n-1:\n            mat[c][r] = 6             \n \n\nfor row in mat:\n    print(' '.join([str(elem) for elem in row]))\n",
      "execution_count": 20,
      "outputs": [
        {
          "output_type": "stream",
          "name": "stdout",
          "text": "ingrese la cantidad de columnas: 8\nLa matriz tiene 8 columnas\n5 1 1 1 2 2 2 6\n1 5 1 1 2 2 6 2\n1 1 5 1 2 6 2 2\n1 1 1 5 6 2 2 2\n4 4 4 6 5 3 3 3\n4 4 6 4 3 5 3 3\n4 6 4 4 3 3 5 3\n6 4 4 4 3 3 3 5\n"
        }
      ]
    },
    {
      "metadata": {
        "trusted": true
      },
      "cell_type": "code",
      "source": "#Armando matrices por capas: con cada bloque for puedo sobreponer una nueva capa en la matriz\n\nn = int(input(\"ingrese la cantidad de columnas: \"))\nwhile n <= 0 or n%2 != 0:\n    n = int(input(\"ingrese la cantidad de columnas: \"))\nprint(\"La matriz tiene %d columnas\" %n)\n\nmat = [[\" \"]*n for i in range(n)]\n\n\n\n#primera capa= diagonal de arriba a abajo\nfor c in range(n):\n    for r in range(n):\n        if c==r:\n            mat[c][r] = 1             \n\n#segunda  capa= diagonal de abajo a arriba\nfor c in range(n):\n    for r in range(n):\n        if c+r == n-1:\n            mat[c][r] = 1            \n \n#tercera  capa= borde superior\nfor c in range(n):\n    for r in range(n):\n        if c == 0:\n            mat[c][r] = 1\n            \n#cuarta capa= borde inferior\nfor c in range(n):\n    for r in range(n):\n        if c == n-1:\n            mat[c][r] = 1 \n\n#quinta capa= borde izquierdo\nfor c in range(n):\n    for r in range(n):\n        if r == 0:\n            mat[c][r] = 1\n            \n#sexta capa= borde derecho\nfor c in range(n):\n    for r in range(n):\n        if r == n-1:\n            mat[c][r] = 1            \n  \n\nfor row in mat:\n    print(' '.join([str(elem) for elem in row]))",
      "execution_count": 21,
      "outputs": [
        {
          "output_type": "stream",
          "name": "stdout",
          "text": "ingrese la cantidad de columnas: 8\nLa matriz tiene 8 columnas\n1 1 1 1 1 1 1 1\n1 1         1 1\n1   1     1   1\n1     1 1     1\n1     1 1     1\n1   1     1   1\n1 1         1 1\n1 1 1 1 1 1 1 1\n"
        }
      ]
    },
    {
      "metadata": {
        "trusted": true
      },
      "cell_type": "code",
      "source": "#Armando matrices por capas: con cada bloque for puedo sobreponer una nueva capa en la matriz\n\nn = int(input(\"ingrese la cantidad de columnas: \"))\nwhile n <= 0 or n%2 != 0:\n    n = int(input(\"ingrese la cantidad de columnas: \"))\nprint(\"La matriz tiene %d columnas\" %n)\n\nmat = [[\"O\"]*n for i in range(n)]\n\n\n#primera capa= diagonal de arriba a abajo\nfor c in range(n):\n    for r in range(n):\n        if c==r:\n            mat[c][r] = \" \"             \n\n#segunda  capa= diagonal de abajo a arriba\nfor c in range(n):\n    for r in range(n):\n        if c+r == n-1:\n            mat[c][r] = \" \"            \n \n#tercera  capa= borde superior\nfor c in range(n):\n    for r in range(n):\n        if c == 0:\n            mat[c][r] = \" \"\n            \n#cuarta capa= borde inferior\nfor c in range(n):\n    for r in range(n):\n        if c == n-1:\n            mat[c][r] = \" \" \n\n#quinta capa= borde izquierdo\nfor c in range(n):\n    for r in range(n):\n        if r == 0:\n            mat[c][r] = \" \"\n            \n#sexta capa= borde derecho\nfor c in range(n):\n    for r in range(n):\n        if r == n-1:\n            mat[c][r] = \" \"            \n  \n\nfor row in mat:\n    print(' '.join([str(elem) for elem in row]))",
      "execution_count": null,
      "outputs": []
    },
    {
      "metadata": {
        "trusted": true
      },
      "cell_type": "code",
      "source": "def sepnum(x):\n    lista = []\n    while x > 0:\n        y= x%10\n        lista.append(y)\n        x = x//10\n    lista = lista[::-1]\n    return lista\n\ndef prinmat(matrix):\n    for fila in matrix:\n        print(\" \".join([str(elem) for elem in fila]))\n        \n\nn = 7837138039322314\nlis = sepnum(n)\nlarg = len(lis)\nprint(\"El largo de la lista es\",larg)\nprint(lis)\nprint()\n\nmat = [[0]*4 for i in range(4)]\nprinmat(mat)\nprint()\n\nfor i in range(4):\n    for j in range(4):\n            y= n%10\n            mat[i][j] = y\n            n = n//10\nprinmat(mat)\nprint()\n    ",
      "execution_count": 35,
      "outputs": [
        {
          "output_type": "stream",
          "text": "El largo de la lista es 16\n[7, 8, 3, 7, 1, 3, 8, 0, 3, 9, 3, 2, 2, 3, 1, 4]\n\n0 0 0 0\n0 0 0 0\n0 0 0 0\n0 0 0 0\n\n4 1 3 2\n2 3 9 3\n0 8 3 1\n7 3 8 7\n\n",
          "name": "stdout"
        }
      ]
    },
    {
      "metadata": {
        "trusted": true
      },
      "cell_type": "code",
      "source": "def rellenarmatriz(mat):\n\n    n = len(mat)\n    contador = n\n    relleno = 0\n    for f in range(n):\n        for c in range(n):\n            if f+c > n-1:\n                mat[f][c] = 0\n            else:\n                relleno = n-contador\n                contador -= 1\n                mat[f][c] = relleno\n\n\ndef imprimirmatriz(mat):\n    for row in mat:\n        print(' '.join([str(elem) for elem in row]))\n\n\nn = 4\nmatrix = [[0] * n for i in range(n)]\nrellenarmatriz(matrix)\nimprimirmatriz(matrix)",
      "execution_count": 2,
      "outputs": [
        {
          "output_type": "stream",
          "text": "0 1 2 3\n4 5 6 0\n7 8 0 0\n9 0 0 0\n",
          "name": "stdout"
        }
      ]
    },
    {
      "metadata": {
        "trusted": true
      },
      "cell_type": "code",
      "source": "# Practica 3, ejercicio 2f\n\nn = 5\ncontador = 1\na = [[0] * n for i in range(n)]\nfor f in range(n):\n    for c in range(n):\n        if (f>c)>0:\n            a[f][c] = 0\n        else:\n            a[f][c] = contador\n            contador = contador +1\nfor row in a:\n    print(' '.join([str(elem) for elem in row]))",
      "execution_count": 6,
      "outputs": [
        {
          "output_type": "stream",
          "text": "1 2 3 4 5\n0 6 7 8 9\n0 0 10 11 12\n0 0 0 13 14\n0 0 0 0 15\n",
          "name": "stdout"
        }
      ]
    },
    {
      "metadata": {
        "trusted": true
      },
      "cell_type": "code",
      "source": "n = 5\ncontador = 1\na = [[0] * n for i in range(n)]\nfor f in range(n):\n    for c in range(n):\n        if f-c <= 0:\n            if f == 0:\n                a[f][c] = contador\n                contador = contador +1\n            elif f%2 != 0:\n                a[f][c] = contador\n                contador = contador+1\n                a[f].sort(reverse = True)\n            else:\n                a[f][c] = contador\n                contador = contador +1\n        else:\n            a[f][c] = 0\n\nfor row in a:\n        print(' '.join([str(elem) for elem in row]))\n",
      "execution_count": 10,
      "outputs": [
        {
          "output_type": "stream",
          "text": "1 2 3 4 5\n9 8 7 6 0\n0 0 10 11 12\n14 13 0 0 0\n0 0 0 0 15\n",
          "name": "stdout"
        }
      ]
    },
    {
      "metadata": {
        "trusted": true
      },
      "cell_type": "code",
      "source": "n = 5\ncontador = 1\na = [[0] * n for i in range(n)]\nfor f in range(n):\n    for c in range(n):\n\n        if f == 0:\n            a[f][c] = contador\n            contador = contador +1\n        elif f%2 != 0:\n            a[f][c] = contador\n            contador = contador+1\n\n        else:\n            a[f][c] = contador\n            contador = contador +1\n\nfor row in a:\n        print(' '.join([str(elem) for elem in row]))",
      "execution_count": 11,
      "outputs": [
        {
          "output_type": "stream",
          "text": "1 2 3 4 5\n6 7 8 9 10\n11 12 13 14 15\n16 17 18 19 20\n21 22 23 24 25\n",
          "name": "stdout"
        }
      ]
    },
    {
      "metadata": {
        "trusted": true
      },
      "cell_type": "code",
      "source": "n = 5\ncontador = 1\na = [[0] * n for i in range(n)]\nfor f in range(n):\n    for c in range(n):\n\n        if f == 0:\n            a[f][c] = contador\n            contador = contador +1\n        elif f%2 != 0:\n            a[f][c] = contador\n            contador = contador+1\n            a[f].sort(reverse = True)\n        else:\n            a[f][c] = contador\n            contador = contador +1\nfor f in range(n):\n    for c in range(n):\n        if f-c > 0:\n            a[f][c] = 0\n        \nfor row in a:\n        print(' '.join([str(elem) for elem in row]))",
      "execution_count": 21,
      "outputs": [
        {
          "output_type": "stream",
          "text": "1 2 3 4 5\n0 9 8 7 6\n0 0 13 14 15\n0 0 0 17 16\n0 0 0 0 25\n",
          "name": "stdout"
        }
      ]
    },
    {
      "metadata": {
        "trusted": true
      },
      "cell_type": "code",
      "source": "n = 5\ncontador = 1\na = [[0] * n for i in range(n)]\nfor f in range(n):\n    for c in range(n):\n\n        if f == 0:\n            a[f][c] = contador\n            contador = contador +1\n        elif f%2 != 0:\n            a[f][c] = contador\n            contador = contador+1\n            a[f].sort(reverse = True)\n        else:\n            a[f][c] = contador\n            contador = contador +1\n\nfor row in a:\n        print(' '.join([str(elem) for elem in row]))",
      "execution_count": 23,
      "outputs": [
        {
          "output_type": "stream",
          "text": "1 2 3 4 5\n10 9 8 7 6\n11 12 13 14 15\n20 19 18 17 16\n21 22 23 24 25\n",
          "name": "stdout"
        }
      ]
    },
    {
      "metadata": {
        "trusted": true
      },
      "cell_type": "code",
      "source": "# TRANSPONER MATRICES\n\n# Intercambiar filas por columnas\n# Solo voy a admitir cambiar filas y columnas con el mismo indice\n\n#Funciones\ndef intercambiarFilaYColumna(matriz, x):\n    for i in range(len(matriz)): # matriz cuadrada\n        aux = matriz[x][i]\n        matriz[x][i] = matriz[i][x]\n        matriz[i][x] = aux\n        \n\nmatriz=[[1,2,3,4],[5,6,7,8],[9,10,11,12],[13,14,15,16]]\nintercambiarFilaYColumna(matriz, 1)\nprint(matriz)\n\n#Transponer matriz\nmatriz=[[1,2,3,4],\n        [5,6,7,8],\n        [9,10,11,12],\n        [13,14,15,16]]\n\nlong = len(matriz)\nfor i in range(long):\n    for j in range(i):\n        aux = matriz[i][j]\n        matriz[i][j] = matriz[j][i]\n        matriz[j][i] = aux\n\nfor i in range(long):\n    print(matriz[i])",
      "execution_count": 2,
      "outputs": [
        {
          "output_type": "stream",
          "text": "[[1, 5, 3, 4], [2, 6, 10, 14], [9, 7, 11, 12], [13, 8, 15, 16]]\n[1, 5, 9, 13]\n[2, 6, 10, 14]\n[3, 7, 11, 15]\n[4, 8, 12, 16]\n",
          "name": "stdout"
        }
      ]
    },
    {
      "metadata": {
        "trusted": true
      },
      "cell_type": "code",
      "source": "#INTERCAMBIAR FILAS\n\n#Intercambiar posicion 0 y 3 en una lista\nlista=[1,2,3,4,5,6]\naux = lista[0]\nlista[0] = lista[3]\nlista[3] = aux\nprint(lista)\n\n#Intercambiar Filas (Especifico de Python)\nmatriz=[[1,2,3,4],[5,6,7,8],[9,10,11,12],[13,14,15,16]]\naux = matriz[0]\nmatriz[0] = matriz[3]\nmatriz[3] = aux\nprint(matriz)\n\n#Intercambiar Columnas (General para la mayoria de los lenguajes)\nmatriz=[[1,2,3,4],[5,6,7,8],[9,10,11,12],[13,14,15,16]]\nfor fila in matriz:\n    aux = fila[0]\n    fila[0] = fila[3]\n    fila[3] = aux\nprint(matriz)\n\n#Intercambiar Filas (0 por 3, por ejemplo)\nlong=len(matriz)\nfor j in range(long):\n    aux=matriz[0][j]\n    matriz[0][j]=matriz[3][j]\n    matriz[3][j]=aux\nprint(matriz)",
      "execution_count": 3,
      "outputs": [
        {
          "output_type": "stream",
          "text": "[4, 2, 3, 1, 5, 6]\n[[13, 14, 15, 16], [5, 6, 7, 8], [9, 10, 11, 12], [1, 2, 3, 4]]\n[[4, 2, 3, 1], [8, 6, 7, 5], [12, 10, 11, 9], [16, 14, 15, 13]]\n[[16, 14, 15, 13], [8, 6, 7, 5], [12, 10, 11, 9], [4, 2, 3, 1]]\n",
          "name": "stdout"
        }
      ]
    },
    {
      "metadata": {
        "trusted": true
      },
      "cell_type": "code",
      "source": "",
      "execution_count": null,
      "outputs": []
    },
    {
      "metadata": {
        "trusted": true
      },
      "cell_type": "code",
      "source": "",
      "execution_count": null,
      "outputs": []
    }
  ],
  "metadata": {
    "kernelspec": {
      "name": "python36",
      "display_name": "Python 3.6",
      "language": "python"
    },
    "language_info": {
      "mimetype": "text/x-python",
      "nbconvert_exporter": "python",
      "name": "python",
      "pygments_lexer": "ipython3",
      "version": "3.6.6",
      "file_extension": ".py",
      "codemirror_mode": {
        "version": 3,
        "name": "ipython"
      }
    }
  },
  "nbformat": 4,
  "nbformat_minor": 2
}