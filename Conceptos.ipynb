{
  "cells": [
    {
      "metadata": {},
      "cell_type": "markdown",
      "source": "# Operaciones Generales"
    },
    {
      "metadata": {
        "trusted": true
      },
      "cell_type": "code",
      "source": "#INGRESOS\n\n\ndef genera():\n    lista = []\n    num = int(input(\"ingrese el valor entre 1 y 20: (o -1 para terminar)\"))\n    while num != -1:\n        if num < 1 or num > 20:\n            print(\"error: el num ingresado no es un valor entre 1 y 20: \")\n        else:\n            if num not in lista:\n                lista.append(num)\n        num = int(input(\"ingrese el valor entre 1 y 20: (o -1 para terminar)\"))\n    lista.sort()\n    return lista\n\nprint(genera())",
      "execution_count": 1,
      "outputs": [
        {
          "output_type": "error",
          "ename": "KeyboardInterrupt",
          "evalue": "",
          "traceback": [
            "\u001b[0;31m---------------------------------------------------------------------------\u001b[0m",
            "\u001b[0;31mKeyboardInterrupt\u001b[0m                         Traceback (most recent call last)",
            "\u001b[0;32m~/anaconda3_501/lib/python3.6/site-packages/ipykernel/kernelbase.py\u001b[0m in \u001b[0;36m_input_request\u001b[0;34m(self, prompt, ident, parent, password)\u001b[0m\n\u001b[1;32m    883\u001b[0m             \u001b[0;32mtry\u001b[0m\u001b[0;34m:\u001b[0m\u001b[0;34m\u001b[0m\u001b[0m\n\u001b[0;32m--> 884\u001b[0;31m                 \u001b[0mident\u001b[0m\u001b[0;34m,\u001b[0m \u001b[0mreply\u001b[0m \u001b[0;34m=\u001b[0m \u001b[0mself\u001b[0m\u001b[0;34m.\u001b[0m\u001b[0msession\u001b[0m\u001b[0;34m.\u001b[0m\u001b[0mrecv\u001b[0m\u001b[0;34m(\u001b[0m\u001b[0mself\u001b[0m\u001b[0;34m.\u001b[0m\u001b[0mstdin_socket\u001b[0m\u001b[0;34m,\u001b[0m \u001b[0;36m0\u001b[0m\u001b[0;34m)\u001b[0m\u001b[0;34m\u001b[0m\u001b[0m\n\u001b[0m\u001b[1;32m    885\u001b[0m             \u001b[0;32mexcept\u001b[0m \u001b[0mException\u001b[0m\u001b[0;34m:\u001b[0m\u001b[0;34m\u001b[0m\u001b[0m\n",
            "\u001b[0;32m~/anaconda3_501/lib/python3.6/site-packages/jupyter_client/session.py\u001b[0m in \u001b[0;36mrecv\u001b[0;34m(self, socket, mode, content, copy)\u001b[0m\n\u001b[1;32m    802\u001b[0m         \u001b[0;32mtry\u001b[0m\u001b[0;34m:\u001b[0m\u001b[0;34m\u001b[0m\u001b[0m\n\u001b[0;32m--> 803\u001b[0;31m             \u001b[0mmsg_list\u001b[0m \u001b[0;34m=\u001b[0m \u001b[0msocket\u001b[0m\u001b[0;34m.\u001b[0m\u001b[0mrecv_multipart\u001b[0m\u001b[0;34m(\u001b[0m\u001b[0mmode\u001b[0m\u001b[0;34m,\u001b[0m \u001b[0mcopy\u001b[0m\u001b[0;34m=\u001b[0m\u001b[0mcopy\u001b[0m\u001b[0;34m)\u001b[0m\u001b[0;34m\u001b[0m\u001b[0m\n\u001b[0m\u001b[1;32m    804\u001b[0m         \u001b[0;32mexcept\u001b[0m \u001b[0mzmq\u001b[0m\u001b[0;34m.\u001b[0m\u001b[0mZMQError\u001b[0m \u001b[0;32mas\u001b[0m \u001b[0me\u001b[0m\u001b[0;34m:\u001b[0m\u001b[0;34m\u001b[0m\u001b[0m\n",
            "\u001b[0;32m~/anaconda3_501/lib/python3.6/site-packages/zmq/sugar/socket.py\u001b[0m in \u001b[0;36mrecv_multipart\u001b[0;34m(self, flags, copy, track)\u001b[0m\n\u001b[1;32m    466\u001b[0m         \"\"\"\n\u001b[0;32m--> 467\u001b[0;31m         \u001b[0mparts\u001b[0m \u001b[0;34m=\u001b[0m \u001b[0;34m[\u001b[0m\u001b[0mself\u001b[0m\u001b[0;34m.\u001b[0m\u001b[0mrecv\u001b[0m\u001b[0;34m(\u001b[0m\u001b[0mflags\u001b[0m\u001b[0;34m,\u001b[0m \u001b[0mcopy\u001b[0m\u001b[0;34m=\u001b[0m\u001b[0mcopy\u001b[0m\u001b[0;34m,\u001b[0m \u001b[0mtrack\u001b[0m\u001b[0;34m=\u001b[0m\u001b[0mtrack\u001b[0m\u001b[0;34m)\u001b[0m\u001b[0;34m]\u001b[0m\u001b[0;34m\u001b[0m\u001b[0m\n\u001b[0m\u001b[1;32m    468\u001b[0m         \u001b[0;31m# have first part already, only loop while more to receive\u001b[0m\u001b[0;34m\u001b[0m\u001b[0;34m\u001b[0m\u001b[0m\n",
            "\u001b[0;32mzmq/backend/cython/socket.pyx\u001b[0m in \u001b[0;36mzmq.backend.cython.socket.Socket.recv\u001b[0;34m()\u001b[0m\n",
            "\u001b[0;32mzmq/backend/cython/socket.pyx\u001b[0m in \u001b[0;36mzmq.backend.cython.socket.Socket.recv\u001b[0;34m()\u001b[0m\n",
            "\u001b[0;32mzmq/backend/cython/socket.pyx\u001b[0m in \u001b[0;36mzmq.backend.cython.socket._recv_copy\u001b[0;34m()\u001b[0m\n",
            "\u001b[0;32m~/anaconda3_501/lib/python3.6/site-packages/zmq/backend/cython/checkrc.pxd\u001b[0m in \u001b[0;36mzmq.backend.cython.checkrc._check_rc\u001b[0;34m()\u001b[0m\n",
            "\u001b[0;31mKeyboardInterrupt\u001b[0m: ",
            "\nDuring handling of the above exception, another exception occurred:\n",
            "\u001b[0;31mKeyboardInterrupt\u001b[0m                         Traceback (most recent call last)",
            "\u001b[0;32m<ipython-input-1-5e7a0eee944f>\u001b[0m in \u001b[0;36m<module>\u001b[0;34m\u001b[0m\n\u001b[1;32m     15\u001b[0m     \u001b[0;32mreturn\u001b[0m \u001b[0mlista\u001b[0m\u001b[0;34m\u001b[0m\u001b[0m\n\u001b[1;32m     16\u001b[0m \u001b[0;34m\u001b[0m\u001b[0m\n\u001b[0;32m---> 17\u001b[0;31m \u001b[0mprint\u001b[0m\u001b[0;34m(\u001b[0m\u001b[0mgenera\u001b[0m\u001b[0;34m(\u001b[0m\u001b[0;34m)\u001b[0m\u001b[0;34m)\u001b[0m\u001b[0;34m\u001b[0m\u001b[0m\n\u001b[0m",
            "\u001b[0;32m<ipython-input-1-5e7a0eee944f>\u001b[0m in \u001b[0;36mgenera\u001b[0;34m()\u001b[0m\n\u001b[1;32m      4\u001b[0m \u001b[0;32mdef\u001b[0m \u001b[0mgenera\u001b[0m\u001b[0;34m(\u001b[0m\u001b[0;34m)\u001b[0m\u001b[0;34m:\u001b[0m\u001b[0;34m\u001b[0m\u001b[0m\n\u001b[1;32m      5\u001b[0m     \u001b[0mlista\u001b[0m \u001b[0;34m=\u001b[0m \u001b[0;34m[\u001b[0m\u001b[0;34m]\u001b[0m\u001b[0;34m\u001b[0m\u001b[0m\n\u001b[0;32m----> 6\u001b[0;31m     \u001b[0mnum\u001b[0m \u001b[0;34m=\u001b[0m \u001b[0mint\u001b[0m\u001b[0;34m(\u001b[0m\u001b[0minput\u001b[0m\u001b[0;34m(\u001b[0m\u001b[0;34m\"ingrese el valor entre 1 y 20: (o -1 para terminar)\"\u001b[0m\u001b[0;34m)\u001b[0m\u001b[0;34m)\u001b[0m\u001b[0;34m\u001b[0m\u001b[0m\n\u001b[0m\u001b[1;32m      7\u001b[0m     \u001b[0;32mwhile\u001b[0m \u001b[0mnum\u001b[0m \u001b[0;34m!=\u001b[0m \u001b[0;34m-\u001b[0m\u001b[0;36m1\u001b[0m\u001b[0;34m:\u001b[0m\u001b[0;34m\u001b[0m\u001b[0m\n\u001b[1;32m      8\u001b[0m         \u001b[0;32mif\u001b[0m \u001b[0mnum\u001b[0m \u001b[0;34m<\u001b[0m \u001b[0;36m1\u001b[0m \u001b[0;32mor\u001b[0m \u001b[0mnum\u001b[0m \u001b[0;34m>\u001b[0m \u001b[0;36m20\u001b[0m\u001b[0;34m:\u001b[0m\u001b[0;34m\u001b[0m\u001b[0m\n",
            "\u001b[0;32m~/anaconda3_501/lib/python3.6/site-packages/ipykernel/kernelbase.py\u001b[0m in \u001b[0;36mraw_input\u001b[0;34m(self, prompt)\u001b[0m\n\u001b[1;32m    857\u001b[0m             \u001b[0mself\u001b[0m\u001b[0;34m.\u001b[0m\u001b[0m_parent_ident\u001b[0m\u001b[0;34m,\u001b[0m\u001b[0;34m\u001b[0m\u001b[0m\n\u001b[1;32m    858\u001b[0m             \u001b[0mself\u001b[0m\u001b[0;34m.\u001b[0m\u001b[0m_parent_header\u001b[0m\u001b[0;34m,\u001b[0m\u001b[0;34m\u001b[0m\u001b[0m\n\u001b[0;32m--> 859\u001b[0;31m             \u001b[0mpassword\u001b[0m\u001b[0;34m=\u001b[0m\u001b[0;32mFalse\u001b[0m\u001b[0;34m,\u001b[0m\u001b[0;34m\u001b[0m\u001b[0m\n\u001b[0m\u001b[1;32m    860\u001b[0m         )\n\u001b[1;32m    861\u001b[0m \u001b[0;34m\u001b[0m\u001b[0m\n",
            "\u001b[0;32m~/anaconda3_501/lib/python3.6/site-packages/ipykernel/kernelbase.py\u001b[0m in \u001b[0;36m_input_request\u001b[0;34m(self, prompt, ident, parent, password)\u001b[0m\n\u001b[1;32m    887\u001b[0m             \u001b[0;32mexcept\u001b[0m \u001b[0mKeyboardInterrupt\u001b[0m\u001b[0;34m:\u001b[0m\u001b[0;34m\u001b[0m\u001b[0m\n\u001b[1;32m    888\u001b[0m                 \u001b[0;31m# re-raise KeyboardInterrupt, to truncate traceback\u001b[0m\u001b[0;34m\u001b[0m\u001b[0;34m\u001b[0m\u001b[0m\n\u001b[0;32m--> 889\u001b[0;31m                 \u001b[0;32mraise\u001b[0m \u001b[0mKeyboardInterrupt\u001b[0m\u001b[0;34m\u001b[0m\u001b[0m\n\u001b[0m\u001b[1;32m    890\u001b[0m             \u001b[0;32melse\u001b[0m\u001b[0;34m:\u001b[0m\u001b[0;34m\u001b[0m\u001b[0m\n\u001b[1;32m    891\u001b[0m                 \u001b[0;32mbreak\u001b[0m\u001b[0;34m\u001b[0m\u001b[0m\n",
            "\u001b[0;31mKeyboardInterrupt\u001b[0m: "
          ]
        }
      ]
    },
    {
      "metadata": {
        "trusted": true
      },
      "cell_type": "code",
      "source": "#OPERADOR CONDICIONAL\n\nb = -3\na = b if b >= 0 else -b \nprint(a)",
      "execution_count": 2,
      "outputs": [
        {
          "output_type": "stream",
          "text": "3\n",
          "name": "stdout"
        }
      ]
    },
    {
      "metadata": {
        "trusted": true
      },
      "cell_type": "code",
      "source": "#FOR EN RANGE CON INCREMENTO\n\nn = int(input(\"ingrese un numero:\"))\nfor i in range(1, n+1, 2):\n    print(i, end=\" \")",
      "execution_count": null,
      "outputs": []
    },
    {
      "metadata": {},
      "cell_type": "markdown",
      "source": "# FUNCIONES"
    },
    {
      "metadata": {
        "trusted": true
      },
      "cell_type": "code",
      "source": "# FUNCIONES LAMBDA PARA DOS PARAMETROS\n\nraiz = lambda x,y : x**(1/y)\nprint(raiz(9, 3))",
      "execution_count": 3,
      "outputs": [
        {
          "output_type": "stream",
          "text": "2.080083823051904\n",
          "name": "stdout"
        }
      ]
    },
    {
      "metadata": {},
      "cell_type": "markdown",
      "source": "# LISTAS"
    },
    {
      "metadata": {
        "trusted": true
      },
      "cell_type": "code",
      "source": "# DESEMPAQUETADO DE UNA LISTA\n\ndias = [\"lunes\", \"martes\"]\nd1, d2 = dias\nprint(d1)",
      "execution_count": 4,
      "outputs": [
        {
          "output_type": "stream",
          "text": "lunes\n",
          "name": "stdout"
        }
      ]
    },
    {
      "metadata": {},
      "cell_type": "markdown",
      "source": "# LIST SLICES"
    },
    {
      "metadata": {
        "trusted": true
      },
      "cell_type": "code",
      "source": "lista = [1,2,54,6,43,17,23,7,8,5,3,5,4,2,24]\n\nprint(\"Slice entre posicion 2 y 6, no incluye posicion 7:\",lista[2:7],\"\\n\")\n\nprint(\"Slice entre posicion 2 y 6, saltea de a uno, no incluye posicion 7:\",lista[2:7:2],\"\\n\")\n\nprint(\"Slice entre posicion 2 y 10, saltea de a dos y en de atras hacia adelante, no incluye posicion 7:\",lista[10:2:-2],\"\\n\")\n\n\nprint(\"Slice entre posicion 2 y el final:\",lista[2:],\"\\n\")\n\nprint(\"Slice entre posicion 0 y la definida, sin incluirla:\",lista[:5],\"\\n\")\n\nprint(\"Slice para invertir la lista:\",lista[::-1],\"\\n\")\n\nlista[3:12] =\"lunes\", \"martes\"\nprint(\"Slice para modificar la lista en un intervalo:\",lista,\"\\n\")\n\nlista[3:5] =[]\nprint(\"Slice para eliminar elementos de la lista en un intervalo:\",lista,\"\\n\")\n\na = 2\nb = 7\nprint(\"Las list slices son tambien variables\",lista[a:b])\nprint()\n\nlista[-5:-2]\nprint(\"Slice entre posiciones negativas, tambien forman un rango pero definido desde atras para adelante\", lista[-5:-2])",
      "execution_count": 6,
      "outputs": [
        {
          "output_type": "stream",
          "text": "Slice entre posicion 2 y 6, no incluye posicion 7: [54, 6, 43, 17, 23] \n\nSlice entre posicion 2 y 6, saltea de a uno, no incluye posicion 7: [54, 43, 23] \n\nSlice entre posicion 2 y 6, saltea de a uno, no incluye posicion 7: [3, 8, 23, 43] \n\nSlice entre posicion 2 y el final: [54, 6, 43, 17, 23, 7, 8, 5, 3, 5, 4, 2, 24] \n\nSlice entre posicion 0 y la definida, sin incluirla: [1, 2, 54, 6, 43] \n\nSlice para invertir la lista: [24, 2, 4, 5, 3, 5, 8, 7, 23, 17, 43, 6, 54, 2, 1] \n\nSlice para modificar la lista en un intervalo: [1, 2, 54, 'lunes', 'martes', 4, 2, 24] \n\nSlice para eliminar elementos de la lista en un intervalo: [1, 2, 54, 4, 2, 24] \n\nLas list slices son tambien variables [54, 4, 2, 24]\n\nSlice entre posiciones negativas, tambien forman un rango pero definido desde atras para adelante [2, 54, 4]\n",
          "name": "stdout"
        }
      ]
    },
    {
      "metadata": {
        "trusted": true
      },
      "cell_type": "code",
      "source": "# OPERACIONES\n\nlista = [3, 4, 5, 6]\n\nprint(\"SUMA:\",sum(lista)) # SUMA DE VALORES DE LA LISTA\n\nprint(\"MAXIMO:\",max(lista)) # MAXIMO DE VALORES DE LA LISTA\n\nprint(\"MINIMO:\",min(lista)) # MNINIMO DE VALORES DE LA LISTA\n\nprint(\"LARGO:\",len(lista)) # LARGO DE LA LISTA\n",
      "execution_count": 130,
      "outputs": [
        {
          "output_type": "stream",
          "text": "SUMA: 18\nMAXIMO: 6\nMINIMO: 3\nLARGO: 4\n",
          "name": "stdout"
        }
      ]
    },
    {
      "metadata": {
        "trusted": true
      },
      "cell_type": "code",
      "source": "# OPERACIONES para Crear Listas\nlista = list(range(5))\nprint(lista)",
      "execution_count": null,
      "outputs": []
    },
    {
      "metadata": {
        "trusted": true
      },
      "cell_type": "code",
      "source": "# IN / NOT IN EN LISTA\n\nlista = [3, 4, 5, 6]\nif 2 in lista:\n    print(\"El 2 esta en la lista\")\nif 2 not in lista:\n    print(\"El 2 no esta en la lista\")",
      "execution_count": 11,
      "outputs": [
        {
          "output_type": "stream",
          "text": "El 2 esta en la lista\n",
          "name": "stdout"
        }
      ]
    },
    {
      "metadata": {
        "trusted": true
      },
      "cell_type": "code",
      "source": "# METODOS que modifican la lista\n\nlista = [1,2,3,4,5]\n\nlista.append(7)\nprint(\"APPEND agrega el valor 7 al final:\", lista,\"\\n\")\n\nlista.insert(1,9) \nprint(\"INSERT agrega el valor 9 en la posicion 1:\", lista,\"\\n\")\n\nlista.pop(1)\nprint(\"POP elimina el valor ubicado en la posicion 1:\", lista,\"\\n\")\n\nlista.remove(1)\nprint(\"REMOVE elimina el valor 1 en la primera posicion encontrada:\", lista,\"\\n\")\n\nlista.clear()\nprint(\"CLEAR limpia la lista:\", lista,\"\\n\")\n",
      "execution_count": 3,
      "outputs": [
        {
          "output_type": "stream",
          "text": "APPEND agrega el valor 7 al final: [1, 2, 3, 4, 5, 7] \n\nINSERT agrega el valor 9 en la posicion 1: [1, 9, 2, 3, 4, 5, 7] \n\nPOP elimina el valor ubicado en la posicion 1: [1, 2, 3, 4, 5, 7] \n\nREMOVE elimina el valor 1 en la primera posicion encontrada: [2, 3, 4, 5, 7] \n\nCLEAR limpia la lista: [] \n\n",
          "name": "stdout"
        }
      ]
    },
    {
      "metadata": {
        "trusted": true
      },
      "cell_type": "code",
      "source": "# METODOS que copiar una la lista: lista.copy()\n\nlistaOriginal = [1,2,3,4,5]\n\nlistaCopia = listaOriginal.copy()\n\nlistaCopia.append(18)\n\nprint(listaOriginal)\nprint(listaCopia)\n\n",
      "execution_count": null,
      "outputs": []
    },
    {
      "metadata": {
        "trusted": true
      },
      "cell_type": "code",
      "source": "# METODOS que copiar una la lista: slices\n\nlistaOriginal = [1,2,3,4,5]\n\nlistaCopia = listaOriginal[:]\n\nlistaCopia.append(18)\n\nprint(listaOriginal)\nprint(listaCopia)",
      "execution_count": null,
      "outputs": []
    },
    {
      "metadata": {
        "trusted": true
      },
      "cell_type": "code",
      "source": "# Eliminar un valor con pop mediante funcion\n\ndef elimin(lista, valor):\n    i = len(lista)-1\n    while i >= 0:\n        if valor == lista[i]:\n            lista.pop(i)\n        i = i - 1\n        \nlis = [1, 2, 3, 4]\nval = 3\nelimin(lis,val)\nprint(lis)\n",
      "execution_count": null,
      "outputs": []
    },
    {
      "metadata": {
        "trusted": true
      },
      "cell_type": "code",
      "source": "#FUNCION DEL PARA LISTAS\n\nlista = [1,2,3,4,5]\n\ndel lista[1]\nprint(\"borra una posicion de la lista\",lista,\"\\n\")\n\ndel lista[3:8]\nprint(\"borra toda la lista o parte de la lista\",lista,\"\\n\")",
      "execution_count": 2,
      "outputs": [
        {
          "output_type": "stream",
          "text": "borra una posicion de la lista [1, 3, 4, 5] \n\nborra toda la lista o parte de la lista [1, 3, 4] \n\n",
          "name": "stdout"
        }
      ]
    },
    {
      "metadata": {
        "trusted": true
      },
      "cell_type": "code",
      "source": "# METODOS que navegan la lista\n\nlista = [1,2,3,4,5]\n\nprint(\"INDEX busca el valor 3 y devuelve su primera posicion encontrada:\", lista.index(3),\"\\n\")\n\nprint(\"INDEX puede buscar en un rango determinado:\", lista.index(3,0,4),\"\\n\")\n\nprint(\"COUNT devuelve la cantidad de veces de un valor:\", lista.count(3),\"\\n\")",
      "execution_count": 4,
      "outputs": [
        {
          "output_type": "stream",
          "text": "INDEX busca el valor 3 y devuelve su primera posicion encontrada: 2 \n\nINDEX puede buscar en un rango determinado: 2 \n\nCOUNT devuelve la cantidad de veces de un valor: 1 \n\n",
          "name": "stdout"
        }
      ]
    },
    {
      "metadata": {
        "trusted": true
      },
      "cell_type": "code",
      "source": "# ORDENAMIENTOS CON KEY y LAMBDA\n\nlista=[11,52,234,65,87,57,96,19,31]\n  \nlista.reverse()\nprint(\"REVERSE invierte el orden de la lista:\", lista,\"\\n\")\n\nlista.sort() \nprint(\"SORT ordena la lista:\", lista,\"\\n\")\n\nlista.sort(reverse = True) \nprint(\"SORT con REVERSE invierte el orden de la lista:\", lista,\"\\n\")\n\nlista.sort(key = lambda x:x%2)\nprint(\"LAMBDA ordena primero pares y luego impares : \",lista,\"\\n\")\n\nlista.sort(key=lambda x: x%10)\nprint(\"LAMBDA ordena por el ultimo valor : \",lista,\"\\n\")\n\nlista.sort(key=lambda x: x%10, reverse=True)\nprint(\"LAMBDA ordena por elh ultimo valor y ademas se puede agregar reverse : \",lista,\"\\n\")\n",
      "execution_count": 7,
      "outputs": [
        {
          "output_type": "stream",
          "text": "REVERSE invierte el orden de la lista: [31, 19, 96, 57, 87, 65, 234, 52, 11] \n\nSORT ordena la lista: [11, 19, 31, 52, 57, 65, 87, 96, 234] \n\nSORT con REVERSE invierte el orden de la lista: [234, 96, 87, 65, 57, 52, 31, 19, 11] \n\nLAMBDA ordena primero pares y luego impares :  [234, 96, 52, 87, 65, 57, 31, 19, 11] \n\nLAMBDA ordena por el ultimo valor :  [31, 11, 52, 234, 65, 96, 87, 57, 19] \n\nLAMBDA ordena por el ultimo valor y ademas se puede agregar reverse :  [19, 87, 57, 96, 65, 234, 52, 31, 11] \n\n",
          "name": "stdout"
        }
      ]
    },
    {
      "metadata": {
        "trusted": true
      },
      "cell_type": "code",
      "source": "# SORT CON KEY y LAMBDA para Listas de strings\n\nlista = [\"pipin\", \"gandalf\", \"aragorn\", \"saruman\", \"elf\"] \n\nlista.sort(key = len) \nprint (\"KEY=LEN ordena por largo del string : \",lista,\"\\n\")\n\nlista.sort(key=lambda x:(x[-2]))\nprint (\"LAMBDA para ordenar por anteultima letra del string : \",lista,\"\\n\")",
      "execution_count": 78,
      "outputs": [
        {
          "output_type": "stream",
          "text": "KEY=LEN ordena por largo del string :  ['elf', 'pipin', 'gandalf', 'aragorn', 'saruman'] \n\nLAMBDA para ordenar por anteultima letra del string :  ['saruman', 'pipin', 'elf', 'gandalf', 'aragorn'] \n\n",
          "name": "stdout"
        }
      ]
    },
    {
      "metadata": {
        "trusted": true
      },
      "cell_type": "code",
      "source": "#SORT CON KEY USANDO FUNCION\n\ndef sortSecond(valor): # funcion reada para devolver el elemento de ordenamiento deseado\n    return valor[0]  \n \nlista = [(1, 3), (3, 9), (1, 4)]\n\n\nlista.sort(key = sortSecond)\nprint(\"ordenando de acuerdo al elemento de la funcion\", lista,\"\\n\")\n\nlista.sort(key = sortSecond, reverse = True)\nprint(\"idem anterior y ademas invirtiendo\", lista,\"\\n\") \n\n\n",
      "execution_count": 3,
      "outputs": [
        {
          "output_type": "stream",
          "text": "ordenando de acuerdo al elemento de la funcion [(1, 3), (1, 4), (3, 9)] \n\nidem anterior y ademas invirtiendo [(3, 9), (1, 3), (1, 4)] \n\n",
          "name": "stdout"
        }
      ]
    },
    {
      "metadata": {},
      "cell_type": "markdown",
      "source": "# FOR CON SLICES"
    },
    {
      "metadata": {
        "trusted": true
      },
      "cell_type": "code",
      "source": "lista = [1,2,54,6,43,17,23,7,8,5,3,5,4,2,24]\n\nfor i in lista[3:7]:\n    print(i, end=\"\")",
      "execution_count": 147,
      "outputs": [
        {
          "output_type": "stream",
          "text": "6431723",
          "name": "stdout"
        }
      ]
    },
    {
      "metadata": {
        "trusted": true
      },
      "cell_type": "code",
      "source": "# enumerate agrega el indice antes del valor. Empieza en cero\nfor i in enumerate(lista):\n    print(i, end=\"\")",
      "execution_count": 148,
      "outputs": [
        {
          "output_type": "stream",
          "text": "(0, 1)(1, 2)(2, 54)(3, 6)(4, 43)(5, 17)(6, 23)(7, 7)(8, 8)(9, 5)(10, 3)(11, 5)(12, 4)(13, 2)(14, 24)",
          "name": "stdout"
        }
      ]
    },
    {
      "metadata": {
        "trusted": true
      },
      "cell_type": "code",
      "source": "# enumerate tambien puede empezar en otro valor , si se pasa como parametro\nfor i in enumerate(lista, 3):\n    print(i, end=\"\")",
      "execution_count": null,
      "outputs": []
    },
    {
      "metadata": {},
      "cell_type": "markdown",
      "source": "# MAP y FILTER"
    },
    {
      "metadata": {
        "trusted": true
      },
      "cell_type": "code",
      "source": "IMPORTANTE: NO METODOS, SON FUNCIONES.  HAY QUE USARLAS CON LIST SIEMPRE",
      "execution_count": null,
      "outputs": []
    },
    {
      "metadata": {
        "trusted": true
      },
      "cell_type": "code",
      "source": "# MAP APLICA LAMBDA PARA CALCULAR UNA NUEVA LISTA A PARTIR DE OTRA\n\ncuadrados = list(map(lambda x:x**(2), lista))\nprint(cuadrados)",
      "execution_count": 106,
      "outputs": [
        {
          "output_type": "stream",
          "text": "[1, 4, 2916, 36, 1849, 289, 529, 49, 64, 25, 9, 25, 16, 4, 576]\n",
          "name": "stdout"
        }
      ]
    },
    {
      "metadata": {
        "trusted": true
      },
      "cell_type": "code",
      "source": "# FILTRA LA LISTA POR UNA CONDICION\n\nraices_enteras = list( filter (lambda x:x**(1/2) == int(x**(1/2)), lista))\nprint(\"filtra por una condicion, en este caso que la raiz del numero sea numero entero:\",raices_enteras)",
      "execution_count": 110,
      "outputs": [
        {
          "output_type": "stream",
          "text": "filtrar por una condicion, en este caso que la raiz del numero sea numero entero: [1, 4]\n",
          "name": "stdout"
        }
      ]
    },
    {
      "metadata": {
        "slideshow": {
          "slide_type": "slide"
        }
      },
      "cell_type": "markdown",
      "source": "\n\n# LISTAS POR COMPRENSION"
    },
    {
      "metadata": {
        "trusted": true
      },
      "cell_type": "code",
      "source": "cuadrados = [i**2 for i in range(6)]\nprint(cuadrados)",
      "execution_count": 10,
      "outputs": [
        {
          "output_type": "stream",
          "text": "[0, 1, 4, 9, 16, 25]\n",
          "name": "stdout"
        }
      ]
    },
    {
      "metadata": {
        "trusted": true
      },
      "cell_type": "code",
      "source": "cubospares = [i**3 for i in range(20) if (i**3)%2 ==0]\nprint(cubospares)",
      "execution_count": 111,
      "outputs": [
        {
          "output_type": "stream",
          "text": "[0, 8, 64, 216, 512, 1000, 1728, 2744, 4096, 5832]\n",
          "name": "stdout"
        }
      ]
    },
    {
      "metadata": {},
      "cell_type": "markdown",
      "source": "# STRINGS"
    },
    {
      "metadata": {
        "trusted": true
      },
      "cell_type": "code",
      "source": "dia = \"lunes\"\nprint(\"Son iterables mediante subindice. Ejemplo 3ra letra:\",dia[2],\"\\n\")\n\nprint(\"Son iterables mediante slices. Ejemplo slice:\",dia[1:4],\"\\n\")",
      "execution_count": 123,
      "outputs": [
        {
          "output_type": "stream",
          "text": "Son iterables mediante subindice. Ejemplo 3ra letra: n \n\nSon iterables mediante slices. Ejemplo slice: une \n\n",
          "name": "stdout"
        }
      ]
    },
    {
      "metadata": {
        "trusted": true
      },
      "cell_type": "code",
      "source": "# IN / NOT IN EN STRING\n\ntexto = \"lunes\"\nif \"n\" in texto:\n    print(\"La n esta en el texto\")\nif \"n\" not in texto:\n    print(\"La n no esta en el texto\")",
      "execution_count": 122,
      "outputs": [
        {
          "output_type": "stream",
          "text": "La n esta en el texto\n",
          "name": "stdout"
        }
      ]
    },
    {
      "metadata": {},
      "cell_type": "markdown",
      "source": "# SLICES EN STRINGS "
    },
    {
      "metadata": {
        "trusted": true
      },
      "cell_type": "code",
      "source": "texto = \"Este es un texto\"\n\nprint(\"Slice entre posicion 2 y 6, no incluye posicion 7:\",texto[2:7],\"\\n\")\n\nprint(\"Slice entre posicion 2 y 6, saltea de a uno, no incluye posicion 7:\",texto[2:7:2],\"\\n\")\n\nprint(\"Slice entre posicion 2 y el final:\",texto[2:],\"\\n\")\n\nprint(\"Slice entre posicion 0 y la definida, sin incluirla:\",texto[:5],\"\\n\")\n\nprint(\"Slice para invertir la lista:\",texto[::-1],\"\\n\")\n\na = 2\nb = 7\nprint(\"Las list slices son tambien variables\",texto[a:b])",
      "execution_count": 128,
      "outputs": [
        {
          "output_type": "stream",
          "text": "Slice entre posicion 2 y 6, no incluye posicion 7: te es \n\nSlice entre posicion 2 y 6, saltea de a uno, no incluye posicion 7: t s \n\nSlice entre posicion 2 y el final: te es un texto \n\nSlice entre posicion 0 y la definida, sin incluirla: Este  \n\nSlice para invertir la lista: otxet nu se etsE \n\nLas list slices son tambien variables te es\n",
          "name": "stdout"
        }
      ]
    },
    {
      "metadata": {
        "trusted": true
      },
      "cell_type": "code",
      "source": "# OPERACIONES\n\ntexto = \"Este es un texto\"\n\nprint(\"MAXIMO:\",max(texto)) # MAXIMO DE VALORES DEL TEXTO\n\nprint(\"MINIMO:\",min(texto)) # MNINIMO DE VALORES DEL TEXTO\n\nprint(\"LARGO:\",len(texto)) # LARGO DEL TEXTO",
      "execution_count": 132,
      "outputs": [
        {
          "output_type": "stream",
          "text": "MAXIMO: x\nMINIMO:  \nLARGO: 16\n",
          "name": "stdout"
        }
      ]
    },
    {
      "metadata": {
        "trusted": true
      },
      "cell_type": "code",
      "source": "# METODOS que navegan el texto\n\ntexto = \"Este es un texto!\"\n\nprint(\"INDEX busca el valor t y devuelve su primera posicion encontrada:\", texto.index(\"E\"),\"\\n\")\n\nprint(\"COUNT devuelve la cantidad de veces de un valor:\", texto.count(\"t\"),\"\\n\")\n\nprint(\"FIND busca en el texto y devulve la primera posicion donde se encuentra:\", texto.find(\"E\"),\"\\n\")\n",
      "execution_count": 5,
      "outputs": [
        {
          "output_type": "stream",
          "text": "INDEX busca el valor t y devuelve su primera posicion encontrada: 0 \n\nCOUNT devuelve la cantidad de veces de un valor: 3 \n\nFIND busca en el texto y devulve la primera posicion donde se encuentra: 0 \n\n",
          "name": "stdout"
        }
      ]
    },
    {
      "metadata": {
        "trusted": true
      },
      "cell_type": "code",
      "source": "# Metodos para formato de Texto\n\nupper\nlower",
      "execution_count": null,
      "outputs": []
    },
    {
      "metadata": {
        "trusted": true
      },
      "cell_type": "code",
      "source": "# A un texto se le pueden aplicar varios metodos seguidos\nlista = [\"pipin\", \"gandalf\", \"aragorn\", \"saruman\", \"elf\"] \nfor nombre in lista:\n    if nombre.upper().find(\"GAN\")!=-1:\n        print(\"ENCONTRADO\")",
      "execution_count": 8,
      "outputs": []
    },
    {
      "metadata": {},
      "cell_type": "markdown",
      "source": "# FOR EN STRINGS"
    },
    {
      "metadata": {
        "trusted": true
      },
      "cell_type": "code",
      "source": "signos = \"!·$%&/()=?^*¨_:;,.-´ç+`\\|@\"\nnuevotexto = \"\"\nfor caracter in texto:\n    if caracter not in signos:\n        nuevotexto = nuevotexto + caracter\nprint(nuevotexto)",
      "execution_count": 182,
      "outputs": [
        {
          "output_type": "stream",
          "text": "Este es un texto\n",
          "name": "stdout"
        }
      ]
    },
    {
      "metadata": {},
      "cell_type": "markdown",
      "source": "# FOR CON SLICES EN STRINGS"
    },
    {
      "metadata": {
        "trusted": true
      },
      "cell_type": "code",
      "source": "texto = \"Este es un texto!\"\n\nfor i in texto[3:7]:\n    print(i, end=\"\")",
      "execution_count": 183,
      "outputs": [
        {
          "output_type": "stream",
          "text": "e es",
          "name": "stdout"
        }
      ]
    },
    {
      "metadata": {
        "trusted": true
      },
      "cell_type": "code",
      "source": "for i in enumerate(texto):\n    print(i, end=\"\")",
      "execution_count": 184,
      "outputs": [
        {
          "output_type": "stream",
          "text": "(0, 'E')(1, 's')(2, 't')(3, 'e')(4, ' ')(5, 'e')(6, 's')(7, ' ')(8, 'u')(9, 'n')(10, ' ')(11, 't')(12, 'e')(13, 'x')(14, 't')(15, 'o')(16, '!')",
          "name": "stdout"
        }
      ]
    },
    {
      "metadata": {},
      "cell_type": "markdown",
      "source": "# METODOS PARA STRINGS"
    },
    {
      "metadata": {
        "trusted": true
      },
      "cell_type": "code",
      "source": "# SPLIT\n\ntexto = '''Todo indica, que esta noche, el mundo volverá a hablar de Game of Thrones'''\n\nprint(\"SPLIT segmenta el texto segun un caracter\", texto.split(),\"\\n\")\n\nprint(\"SPLIT segmenta el texto segun un caracter\", texto.split(\",\"),\"\\n\")\n\nprint(\"SPLIT segmenta el texto segun un caracter y ademas se puede usar slices\", texto.split(\",\")[2:],\"\\n\")\n",
      "execution_count": 11,
      "outputs": [
        {
          "output_type": "stream",
          "text": "SPLIT segmenta el texto segun un caracter ['Todo', 'indica,', 'que', 'esta', 'noche,', 'el', 'mundo', 'volverá', 'a', 'hablar', 'de', 'Game', 'of', 'Thrones'] \n\nSPLIT segmenta el texto segun un caracter ['Todo indica', ' que esta noche', ' el mundo volverá a hablar de Game of Thrones'] \n\nSPLIT segmenta el texto segun un caracter [' el mundo volverá a hablar de Game of Thrones'] \n\n",
          "name": "stdout"
        }
      ]
    },
    {
      "metadata": {
        "trusted": true
      },
      "cell_type": "code",
      "source": "# JOIN\n\nseparador = \" \"\nprint(\"JOIN segmenta el texto segun un separador:\", separador.join(texto),\"\\n\")\n\nprint(\"JOIN segmenta el texto segun un separador:\", \"!\".join(texto),\"\\n\")\n\nprint(\"JOIN segmenta el texto segun un separador y ademas slices:\", \"!\".join(texto)[32:],\"\\n\")",
      "execution_count": 18,
      "outputs": [
        {
          "output_type": "stream",
          "text": "JOIN segmenta el texto segun un separador: T o d o   i n d i c a ,   q u e   e s t a   n o c h e ,   e l   m u n d o   v o l v e r á   a   h a b l a r   d e   G a m e   o f   T h r o n e s \n\nJOIN segmenta el texto segun un separador: T!o!d!o! !i!n!d!i!c!a!,! !q!u!e! !e!s!t!a! !n!o!c!h!e!,! !e!l! !m!u!n!d!o! !v!o!l!v!e!r!á! !a! !h!a!b!l!a!r! !d!e! !G!a!m!e! !o!f! !T!h!r!o!n!e!s \n\nJOIN segmenta el texto segun un separador y ademas slices:  !e!s!t!a! !n!o!c!h!e!,! !e!l! !m!u!n!d!o! !v!o!l!v!e!r!á! !a! !h!a!b!l!a!r! !d!e! !G!a!m!e! !o!f! !T!h!r!o!n!e!s \n\n",
          "name": "stdout"
        }
      ]
    },
    {
      "metadata": {
        "trusted": true
      },
      "cell_type": "code",
      "source": "reemplazo = \"Game of Thrones\"\nnuevo = \"Rompeportones\"\nprint(\"REPLACE cambia el contenido:\", texto.replace(reemplazo, nuevo),\"\\n\")\n\nprint(\"REPLACE cambia el contenido:\", texto.replace(\"Game of Thrones\",\"Rompeportones\"),\"\\n\")\n\nprint(\"REPLACE cambia el contenido solo dos veces:\", texto.replace(\"a\",\"b\",2),\"\\n\") ",
      "execution_count": 187,
      "outputs": [
        {
          "output_type": "stream",
          "text": "REPLACE cambia el contenido: Todo indica, que esta noche, el mundo volverá a hablar de Rompeportones \n\nREPLACE cambia el contenido: Todo indica, que esta noche, el mundo volverá a hablar de Rompeportones \n\nREPLACE cambia el contenido solo dos veces: Todo indicb, que estb noche, el mundo volverá a hablar de Game of Thrones \n\n",
          "name": "stdout"
        }
      ]
    },
    {
      "metadata": {
        "trusted": true
      },
      "cell_type": "code",
      "source": "#SPLIT TRANSFORMA EL TEXTO EN LISTA\n\nlista = texto.split()\nprint(lista,\"\\n\")\n\nlista.reverse()\nprint(\"REVERSE invierte el orden de la lista:\", lista,\"\\n\")\n\nlista.sort() \nprint(\"SORT ordena la lista:\", lista,\"\\n\") #Ojo primero las mayusculas\n\nlista.sort(reverse = True) \nprint(\"SORT con REVERSE invierte el orden de la lista:\", lista,\"\\n\") #Ojo las mayusculas al final\n\ntexto2 = \" \".join(lista)\nprint(\"JOIN quita el formato de lista y une el texto:\", texto2,\"\\n\") ",
      "execution_count": 21,
      "outputs": [
        {
          "output_type": "stream",
          "text": "['Todo', 'indica,', 'que', 'esta', 'noche,', 'el', 'mundo', 'volverá', 'a', 'hablar', 'de', 'Game', 'of', 'Thrones'] \n\nREVERSE invierte el orden de la lista: ['Thrones', 'of', 'Game', 'de', 'hablar', 'a', 'volverá', 'mundo', 'el', 'noche,', 'esta', 'que', 'indica,', 'Todo'] \n\nSORT ordena la lista: ['Game', 'Thrones', 'Todo', 'a', 'de', 'el', 'esta', 'hablar', 'indica,', 'mundo', 'noche,', 'of', 'que', 'volverá'] \n\nSORT con REVERSE invierte el orden de la lista: ['volverá', 'que', 'of', 'noche,', 'mundo', 'indica,', 'hablar', 'esta', 'el', 'de', 'a', 'Todo', 'Thrones', 'Game'] \n\nJOIN quita el formato de lista y une el texto: volverá que of noche, mundo indica, hablar esta el de a Todo Thrones Game \n\n",
          "name": "stdout"
        }
      ]
    },
    {
      "metadata": {},
      "cell_type": "markdown",
      "source": "# TUPLAS"
    },
    {
      "metadata": {
        "trusted": true
      },
      "cell_type": "code",
      "source": "perro = \"caniche\",\"dalmata\", \"doberman\" #Puede ir con o sin parentesis\nprint(perro)\nperro = perro + (\"yorkshire\",) #PAra concatenar es obligatorio el parentesis y la como para que sea una tupla\nprint(perro)\nprint(perro[0])\nprint(perro[1:3])",
      "execution_count": 7,
      "outputs": [
        {
          "output_type": "stream",
          "text": "('caniche', 'dalmata', 'doberman')\n('caniche', 'dalmata', 'doberman', 'yorkshire')\ncaniche\n('dalmata', 'doberman')\n",
          "name": "stdout"
        }
      ]
    },
    {
      "metadata": {
        "trusted": true
      },
      "cell_type": "code",
      "source": "for i in range(len(perro)):\n    print(perro[i])",
      "execution_count": 11,
      "outputs": [
        {
          "output_type": "stream",
          "text": "caniche\ndalmata\ndoberman\nyorkshire\n",
          "name": "stdout"
        }
      ]
    },
    {
      "metadata": {},
      "cell_type": "markdown",
      "source": "# CONJUNTOS"
    },
    {
      "metadata": {
        "trusted": true
      },
      "cell_type": "code",
      "source": "# OPERACIONES ENTRE CONJUNTOS\n\nprimos = {1,2,3,5,7,11}\npares = {2,4,6,8,10}\n\nunion = primos|pares\nprint (union)\ninterseccion = primos&pares\nprint (interseccion)\nresta = primos - pares\nprint (resta)\nrestasimetrica = primos ^ pares #se saca solo el valor que es interseccion, pero dejo todo el resto de ambos\nprint (restasimetrica)",
      "execution_count": 191,
      "outputs": [
        {
          "output_type": "stream",
          "text": "{1, 2, 3, 4, 5, 6, 7, 8, 10, 11}\n{2}\n{1, 3, 5, 7, 11}\n{1, 3, 4, 5, 6, 7, 8, 10, 11}\n",
          "name": "stdout"
        }
      ]
    },
    {
      "metadata": {
        "trusted": true
      },
      "cell_type": "code",
      "source": "# METODOS PARA MODIFICAR CONJUNTOS\nprimos = {1,2,3,5}\nprimos.add(7)\nprint(primos)\nprimos.discard(1)\nprint(primos)",
      "execution_count": 22,
      "outputs": [
        {
          "output_type": "stream",
          "text": "{1, 2, 3, 5, 7}\n{2, 3, 5, 7}\n",
          "name": "stdout"
        }
      ]
    },
    {
      "metadata": {
        "trusted": true
      },
      "cell_type": "code",
      "source": "# METODOS PARA BUSCAR EN CONJUNTOS: para ver si un set esta incluido en otro\n\nprimos = {2,3,5}\n\nif primos.issubset({1,2,3,5,7,11}):\n\n    print(\"inluido\")\nelse:\n    print(\"no inluido\")",
      "execution_count": 11,
      "outputs": [
        {
          "output_type": "stream",
          "text": "inluido\n",
          "name": "stdout"
        }
      ]
    },
    {
      "metadata": {},
      "cell_type": "markdown",
      "source": "# DICCIONARIOS"
    },
    {
      "metadata": {
        "trusted": true
      },
      "cell_type": "code",
      "source": "# PAR CONVERTIR EN DICCIONARIO\n\ntexto = \"enero, febrero, marzo , abril , mayo , junio\"\n\nlista = [\"enero\",\"febrero\",\"marzo\",\"abril\",\"mayo\",\"junio\"]\n\ntupla = \"enero\",\"febrero\",\"marzo\",\"abril\",\"mayo\",\"junio\"\n\nconjunto = {\"enero\",\"febrero\",\"marzo\",\"abril\",\"mayo\",\"junio\"}\n\n#para generar el diccionario\n\nprint(dict.fromkeys(texto))\nprint(dict.fromkeys(lista))\nprint(dict.fromkeys(tupla))\nprint(dict.fromkeys(conjunto))\n\n# Para obtener las claves del diccionario\nprint()\n\nprint(dict.keys(dict.fromkeys(texto)))\nprint(dict.keys(dict.fromkeys(lista)))\nprint(dict.keys(dict.fromkeys(tupla)))\nprint(dict.keys(dict.fromkeys(conjunto)))\n\n# Para obtener las elementos del diccionario\nprint()\n\nprint(dict.items(dict.fromkeys(texto)))\nprint(dict.items(dict.fromkeys(lista)))\nprint(dict.items(dict.fromkeys(tupla)))\nprint(dict.items(dict.fromkeys(conjunto)))",
      "execution_count": 234,
      "outputs": [
        {
          "output_type": "stream",
          "text": "{'e': None, 'n': None, 'r': None, 'o': None, ',': None, ' ': None, 'f': None, 'b': None, 'm': None, 'a': None, 'z': None, 'i': None, 'l': None, 'y': None, 'j': None, 'u': None}\n{'enero': None, 'febrero': None, 'marzo': None, 'abril': None, 'mayo': None, 'junio': None}\n{'enero': None, 'febrero': None, 'marzo': None, 'abril': None, 'mayo': None, 'junio': None}\n{'marzo': None, 'mayo': None, 'abril': None, 'junio': None, 'enero': None, 'febrero': None}\n\ndict_keys(['e', 'n', 'r', 'o', ',', ' ', 'f', 'b', 'm', 'a', 'z', 'i', 'l', 'y', 'j', 'u'])\ndict_keys(['enero', 'febrero', 'marzo', 'abril', 'mayo', 'junio'])\ndict_keys(['enero', 'febrero', 'marzo', 'abril', 'mayo', 'junio'])\ndict_keys(['marzo', 'mayo', 'abril', 'junio', 'enero', 'febrero'])\n\ndict_items([('e', None), ('n', None), ('r', None), ('o', None), (',', None), (' ', None), ('f', None), ('b', None), ('m', None), ('a', None), ('z', None), ('i', None), ('l', None), ('y', None), ('j', None), ('u', None)])\ndict_items([('enero', None), ('febrero', None), ('marzo', None), ('abril', None), ('mayo', None), ('junio', None)])\ndict_items([('enero', None), ('febrero', None), ('marzo', None), ('abril', None), ('mayo', None), ('junio', None)])\ndict_items([('marzo', None), ('mayo', None), ('abril', None), ('junio', None), ('enero', None), ('febrero', None)])\n",
          "name": "stdout"
        }
      ]
    },
    {
      "metadata": {
        "trusted": true
      },
      "cell_type": "code",
      "source": "texto = \"enero, febrero, marzo , abril , mayo , junio\"\n\nlista = list(texto)\nprint(\"TEXTO CONVIERTE EN LISTA:\", lista,\"\\n\")\n\ntupla = tuple(texto)\nprint(\"TEXTO CONVIERTE EN TUPLA:\", tupla,\"\\n\")\n\nconjunto = set(texto)\nprint(\"TEXTO CONVIERTE EN CONJUNTO:\", conjunto,\"\\n\")\n\ndiccionario = dict.fromkeys(conjunto)\nprint(\"DICT con Fromkeys CONVIERTE EN DICCIONARIO:\", diccionario,\"\\n\")",
      "execution_count": 14,
      "outputs": [
        {
          "output_type": "stream",
          "text": "TEXTO CONVIERTE EN LISTA: ['e', 'n', 'e', 'r', 'o', ',', ' ', 'f', 'e', 'b', 'r', 'e', 'r', 'o', ',', ' ', 'm', 'a', 'r', 'z', 'o', ' ', ',', ' ', 'a', 'b', 'r', 'i', 'l', ' ', ',', ' ', 'm', 'a', 'y', 'o', ' ', ',', ' ', 'j', 'u', 'n', 'i', 'o'] \n\nTEXTO CONVIERTE EN TUPLA: ('e', 'n', 'e', 'r', 'o', ',', ' ', 'f', 'e', 'b', 'r', 'e', 'r', 'o', ',', ' ', 'm', 'a', 'r', 'z', 'o', ' ', ',', ' ', 'a', 'b', 'r', 'i', 'l', ' ', ',', ' ', 'm', 'a', 'y', 'o', ' ', ',', ' ', 'j', 'u', 'n', 'i', 'o') \n\nTEXTO CONVIERTE EN CONJUNTO: {'j', ',', 'r', 'a', 'b', 'z', ' ', 'y', 'u', 'e', 'n', 'f', 'm', 'i', 'l', 'o'} \n\nDICT con Fromkeys CONVIERTE EN DICCIONARIO: {'j': None, ',': None, 'r': None, 'a': None, 'b': None, 'z': None, ' ': None, 'y': None, 'u': None, 'e': None, 'n': None, 'f': None, 'm': None, 'i': None, 'l': None, 'o': None} \n\n",
          "name": "stdout"
        }
      ]
    },
    {
      "metadata": {
        "trusted": true
      },
      "cell_type": "code",
      "source": "lista = [\"enero\",\"febrero\",\"marzo\",\"abril\",\"mayo\",\"junio\"]\n\ntupla = tuple(lista)\nprint(\"LISTA SE CONVIERTE EN TUPLA:\", tupla,\"\\n\")\n\nconjunto = set(lista)\nprint(\"LISTA CONVIERTE EN CONJUNTO:\", conjunto,\"\\n\")\n\ndiccionario = dict.fromkeys(conjunto)\nprint(\"DICT con Fromkeys CONVIERTE EN DICCIONARIO:\", diccionario,\"\\n\")",
      "execution_count": 23,
      "outputs": [
        {
          "output_type": "stream",
          "text": "LISTA SE CONVIERTE EN TUPLA: ('enero', 'febrero', 'marzo', 'abril', 'mayo', 'junio') \n\nLSTA CONVIERTE EN CONJUNTO: {'abril', 'junio', 'mayo', 'enero', 'febrero', 'marzo'} \n\nDICT con Fromkeys CONVIERTE EN DICCIONARIO: {'abril': None, 'junio': None, 'mayo': None, 'enero': None, 'febrero': None, 'marzo': None} \n\n",
          "name": "stdout"
        }
      ]
    },
    {
      "metadata": {
        "trusted": true
      },
      "cell_type": "code",
      "source": "lista = list(conjunto)\nprint(\"CONJUNTO SE CONVIERTE EN LISTA:\", lista,\"\\n\")",
      "execution_count": 223,
      "outputs": [
        {
          "output_type": "stream",
          "text": "LIST CONVIERTE EN lISTA: ['marzo', 'mayo', 'abril', 'junio', 'enero', 'febrero'] \n\n",
          "name": "stdout"
        }
      ]
    },
    {
      "metadata": {
        "trusted": true
      },
      "cell_type": "code",
      "source": "#Procesando entre LISTA Y DICCIONARIO\n\nprint(\"Genero una lista\")\nseries = [\"BigbangTheory\",\"SiliconValley\",\"TheOffice\",\"ITGuys\"]\nprint(series)\nprint(\"Se conviente la lista en diccionario\")\ntemporadas = (dict.fromkeys(series))\nprint(temporadas)\n\nprint(\"Asigno valores a los items de las keys\")\ntemporadas[\"BigbangTheory\"] = 12\ntemporadas[\"SiliconValley\"] = 6\ntemporadas[\"TheOffice\"] = 19\ntemporadas[\"ITGuys\"] = 3\n\nprint(temporadas)\n\nprint(\"Genero el diccinario con items\")\niterable = dict.items(temporadas)\nprint(iterable)\n\nprint(\"Convierto el diccionario con items a lista\")\nlistaiterable = list(iterable)\nprint(listaiterable)\n\nprint(\"Ordeno la lista por los items en forma decreciente\")\nlistaiterable.sort(key = lambda x: x[1], reverse = True)\nprint(listaiterable)\n",
      "execution_count": 2,
      "outputs": [
        {
          "output_type": "stream",
          "text": "Genero una lista\n['BigbangTheory', 'SiliconValley', 'TheOffice', 'ITGuys']\nSe conviente la lista en diccionario\n{'BigbangTheory': None, 'SiliconValley': None, 'TheOffice': None, 'ITGuys': None}\nAsigno valores a los items de las keys\n{'BigbangTheory': 12, 'SiliconValley': 6, 'TheOffice': 19, 'ITGuys': 3}\nGenero el diccinario con items\ndict_items([('BigbangTheory', 12), ('SiliconValley', 6), ('TheOffice', 19), ('ITGuys', 3)])\nConvierto el diccionario con items a lista\n[('BigbangTheory', 12), ('SiliconValley', 6), ('TheOffice', 19), ('ITGuys', 3)]\nOrdeno la lista por los items en forma decreciente\n[('TheOffice', 19), ('BigbangTheory', 12), ('SiliconValley', 6), ('ITGuys', 3)]\n",
          "name": "stdout"
        }
      ]
    },
    {
      "metadata": {},
      "cell_type": "markdown",
      "source": "# IMPORTANTE: Funcion para Sumar Agrupado por Nombre"
    },
    {
      "metadata": {
        "trusted": true
      },
      "cell_type": "code",
      "source": "def sumaxname(lis):\n    \n    larg = len(lis)\n    dictionar = { }\n    \n    for i in range(0,larg-1,2):\n        if lis[i] in dictionar:          \n            continue\n        dictionar[lis[i]] = lis[i+1]\n        for j in range(i+2, larg,2):\n            \n            if lis[i] == lis[j]:\n                dictionar[lis[i]] = dictionar[lis[i]]+lis[j+1]\n               \n    return dictionar\n\nlista = [\"Carlos\", 1100, \"Ernesto\",1200, \"Carlos\",-100, \"Carlos\", 300,\"Ernesto\",200,\"Ernesto\",100,\"Ernesto\",50,\"Fabian\",1200, \"Carlos\",-100]\n\nprint(sumaxname(lista))\n",
      "execution_count": 15,
      "outputs": [
        {
          "output_type": "stream",
          "text": "{'Carlos': 1200, 'Ernesto': 1550, 'Fabian': 1200}\n",
          "name": "stdout"
        }
      ]
    },
    {
      "metadata": {},
      "cell_type": "markdown",
      "source": "Para Sumar elementos de una lista e incorporarlos a un diccionario"
    },
    {
      "metadata": {
        "trusted": true
      },
      "cell_type": "code",
      "source": "dictionar = { }\n\nlis=[\"Pablo\",12,\"Juan\",13, \"Pablo\",21]\n\ndictionar[lis[0]] = lis[1]+lis[5]\n\nprint(dictionar)",
      "execution_count": 1,
      "outputs": [
        {
          "output_type": "stream",
          "text": "{'Pablo': 33}\n",
          "name": "stdout"
        }
      ]
    },
    {
      "metadata": {},
      "cell_type": "markdown",
      "source": "# Conversiones"
    },
    {
      "metadata": {
        "trusted": true
      },
      "cell_type": "code",
      "source": "tupla = (1, 2, 3, 4)\nprint(tupla)\n\n''' ((1, 2), (3, 4)) '''\n\ntupla1=tupla[0:2]\ntupla2=tupla[2:4]\ntuplaTupla = tupla1, tupla2\nprint(tuplaTupla)\n\n\n''' [(1, 2), (3, 4)] '''\n\ntupla =(tupla1, tupla2)\nlistaTupla = list(tupla)\nprint(listaTupla)\n\n''' {(1, 2), (3, 4)} '''\n\nconjuntoTupla = set(tupla)\nprint(conjuntoTupla)\n\n\n''' {'a': (1, 2), 'b': (3, 4)} '''\n\nconjunto = {'a','b'}\ndiccionario = dict.fromkeys(conjunto)\ndiccionario['a'] = tupla1\ndiccionario['b'] = tupla2\nprint(diccionario)\n\n''' ({'a': (1, 2)}, {'b': (3, 4)}) '''\n\nd1 = dict(list(diccionario.items())[len(diccionario)//2:])\nd2 = dict(list(diccionario.items())[:len(diccionario)//2])\ntuplaDic = (d1, d2)\nprint(tuplaDic)",
      "execution_count": null,
      "outputs": []
    },
    {
      "metadata": {
        "trusted": true
      },
      "cell_type": "code",
      "source": "tupla = (1, 2, 3, 4)\nprint(tupla)\n\n''' [1, 2, 3, 4] '''\n\nlista = list(tupla)\nprint(lista)\n\n''' ([1, 2], [3, 4]) '''\n\nlista1=list(tupla[0:2])\nlista2=list(tupla[2:4])\ntuplaLista = (lista1,lista2)\nprint(tuplaLista)\n\n''' [[1, 2], [3, 4]] '''\n\nlistaLista = [lista1,lista2]\nprint(listaLista)\n\n''' {'a': [1, 2], 'b': [3, 4]} '''\n\nconjunto = {'a','b'}\ndiccionario = dict.fromkeys(conjunto)\ndiccionario['a'] = lista1\ndiccionario['b'] = lista2\nprint(diccionario)\n\n''' [{'a': [1, 2]}, {'b': [3, 4]}] '''\n\nd1 = dict(list(diccionario.items())[len(diccionario)//2:])\nd2 = dict(list(diccionario.items())[:len(diccionario)//2])\nlistaDic = [d1, d2]\nprint(listaDic)",
      "execution_count": null,
      "outputs": []
    },
    {
      "metadata": {
        "trusted": true
      },
      "cell_type": "markdown",
      "source": "# Excepciones"
    },
    {
      "metadata": {
        "trusted": true
      },
      "cell_type": "code",
      "source": "#RAISE y CLASS para ERRORES PERSONALIZADOS\n#Para crear un tipo de error propio\nclass MiPropioError(Exception):\n    pass\n\nwhile True:\n    try:\n        palabra = input(\"ingrese la palabra Hola:\")\n        if palabra == \"Hola\":\n            break\n        else:\n#Uso raise para invocar al error que cree\n            raise MiPropioError\n    except MiPropioError:\n        print(\"Error, no pusiste la palabra que te pedi\")\n    \n    ",
      "execution_count": 3,
      "outputs": [
        {
          "output_type": "stream",
          "name": "stdout",
          "text": "ingrese la palabra Hola:no\nError, no pusiste la palabra que te pedi\ningrese la palabra Hola:Hola\n"
        }
      ]
    },
    {
      "metadata": {
        "trusted": true,
        "scrolled": true
      },
      "cell_type": "code",
      "source": "while True:\n    palabra = input(\"ingrese la palabra Hola:\")\n    if palabra == \"Hola\":\n        break\n    else:\n#Uso raise para invocar al error que cree, pero interrumpiendo el programa\n        raise Exception(\"Error, no pusiste la palabra que te pedi\")",
      "execution_count": 7,
      "outputs": [
        {
          "output_type": "stream",
          "name": "stdout",
          "text": "ingrese la palabra Hola:d\n"
        },
        {
          "output_type": "error",
          "ename": "Exception",
          "evalue": "Error, no pusiste la palabra que te pedi",
          "traceback": [
            "\u001b[0;31m---------------------------------------------------------------------------\u001b[0m",
            "\u001b[0;31mException\u001b[0m                                 Traceback (most recent call last)",
            "\u001b[0;32m<ipython-input-7-8bc12591068c>\u001b[0m in \u001b[0;36m<module>\u001b[0;34m\u001b[0m\n\u001b[1;32m      5\u001b[0m     \u001b[0;32melse\u001b[0m\u001b[0;34m:\u001b[0m\u001b[0;34m\u001b[0m\u001b[0m\n\u001b[1;32m      6\u001b[0m \u001b[0;31m#Uso raise para invocar al error que cree, pero interrumpiendo el programa\u001b[0m\u001b[0;34m\u001b[0m\u001b[0;34m\u001b[0m\u001b[0m\n\u001b[0;32m----> 7\u001b[0;31m         \u001b[0;32mraise\u001b[0m \u001b[0mException\u001b[0m\u001b[0;34m(\u001b[0m\u001b[0;34m\"Error, no pusiste la palabra que te pedi\"\u001b[0m\u001b[0;34m)\u001b[0m\u001b[0;34m\u001b[0m\u001b[0m\n\u001b[0m",
            "\u001b[0;31mException\u001b[0m: Error, no pusiste la palabra que te pedi"
          ]
        }
      ]
    },
    {
      "metadata": {
        "trusted": true
      },
      "cell_type": "code",
      "source": "# ASSERTION: para diferenciar mensajes de error por condiciones en el lugar donde pongo la condicion\n\ndef ingresarnatural(msj):\n    while True:\n        try:\n            valorreal = float(input(msj))\n            valor = int(valorreal)\n            assert(valor == valorreal), \"Error debe ingresar un valor entero\"\n            assert(valor > 0), \"Error, debe ingresar un valor positivo\"\n        except AssertionError as error:\n            print(error)\n        except (ValueError):\n            print(\"Ha ingresado un valor que no es numerico\")\n        else:\n            break\n    return valor\n\n#programa principal\ningresarnatural(2)\n            \n            ",
      "execution_count": null,
      "outputs": []
    },
    {
      "metadata": {
        "trusted": true
      },
      "cell_type": "code",
      "source": "",
      "execution_count": null,
      "outputs": []
    },
    {
      "metadata": {
        "trusted": true
      },
      "cell_type": "code",
      "source": "",
      "execution_count": null,
      "outputs": []
    }
  ],
  "metadata": {
    "kernelspec": {
      "name": "python36",
      "display_name": "Python 3.6",
      "language": "python"
    },
    "language_info": {
      "mimetype": "text/x-python",
      "nbconvert_exporter": "python",
      "name": "python",
      "pygments_lexer": "ipython3",
      "version": "3.6.6",
      "file_extension": ".py",
      "codemirror_mode": {
        "version": 3,
        "name": "ipython"
      }
    }
  },
  "nbformat": 4,
  "nbformat_minor": 2
}