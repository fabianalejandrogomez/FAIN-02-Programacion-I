{
  "cells": [
    {
      "metadata": {
        "trusted": true
      },
      "cell_type": "code",
      "source": "# JuNo - 1er Parcial Tema 1, ejercicio 2 - CADENA DE CARACTERES - REDUCCION DE TEXTO\n\ndef reducir(cadena, largo):\n    if len(cadena)<=largo:\n        return cadena\n    longmitades = (largo - 3) // 2  # Calculamos el largo que le corresponde a cada mitad\n    if longmitades*2+3<largo:  # Compensación por si las mitades no deben ser iguales, agregando un carácter más del lado izquierdo\n        izq = 1\n    else:\n        izq = 0\n    nueva = cadena[:longmitades+izq] + \"...\" + cadena[-longmitades:]\n    return nueva\n\n# Programa principal\nruta = r\"C:\\Usuarios\\UADE\\Mis Imágenes\\Imágenes Publicas\\paisaje.jpg\"\nprint(reducir(ruta, 25))  # C:\\Usuarios...paisaje.jpg",
      "execution_count": 1,
      "outputs": [
        {
          "output_type": "stream",
          "text": "C:\\Usuarios...paisaje.jpg\n",
          "name": "stdout"
        }
      ]
    },
    {
      "metadata": {
        "trusted": true
      },
      "cell_type": "code",
      "source": "# JuTa - Tema 2, ejercicio 2 - CADENA DE CARACTERES - VALIDACION DE TEXTO\n\ndef validartarjeta(num):\n    esvalido = True\n    lista = num.split(\"-\")\n    # Verificamos la cantidad de guiones / dash count verification\n    if len(lista)!=3:\n        esvalido = False\n    # Verificamos que cada grupo de números tenga 4 dígitos y que sean todos números\n    # Verifiying length and content of each group of numbers \n    for grupo in lista:\n        if len(grupo)!=4:\n            esvalido = False\n        for digito in grupo:\n            if not (\"0\"<=digito<=\"9\"):\n                esvalido = False\n    # Primer punto de salida / First checkpoint\n    if not esvalido:\n        return False\n    # Continuamos validación / Further checking\n    # Ahora sabemos que son todos números / Now we know all characters are numbers\n    primerdigito = int(num[0])\n    cuartodigito = int(num[3])\n    quintodigito = int(num[5])\n    if primerdigito!=4 or cuartodigito!=quintodigito+1:\n        esvalido = False\n    # Calculamos la suma de todos los dígitos / Performing all digit addition\n    suma = 0\n    for caracter in num:\n        if \"0\"<=caracter<=\"9\":  # Para evitar los guiones / Dash avoidance\n            suma = suma + int(caracter)\n    if suma%4!=0:\n        esvalido = False\n    primeroysegundo = int(num[:2])\n    septimoyoctavo = int(num[7:9])\n    if primeroysegundo + septimoyoctavo != 100:\n        esvalido = False\n    return esvalido\n\n# Programa principal / Main program\n# Ejemplo de número válido: 4324-3157-1231 / Valid credit card number\nn = input(\"Número de tarjeta? \")\nif validartarjeta(n):\n    print(\"El número de tarjeta es válido\")\nelse:\n    print(\"El número de tarjeta es inválido\")  ",
      "execution_count": 2,
      "outputs": [
        {
          "output_type": "stream",
          "name": "stdout",
          "text": "Número de tarjeta? 4534-2122-2322-3211\nEl número de tarjeta es inválido\n"
        }
      ]
    },
    {
      "metadata": {
        "trusted": true
      },
      "cell_type": "code",
      "source": "'''SIMULACRO 2do PARCIAL - RECURSIVIDAD - NUMERO PRIMO\nEjercicio 1\n\nDesarrollar una funcion recursiva para determinar su un numero entero es primo o no, devolviendo True or False.\nEscribir tambien un programa para ingresar el numero, invocar a la funcion e imprimir el resultado.'''\n\n# Programación I - Simulacro segundo parcial\n\ndef esprimo(n, divisor=2):\n    if n==divisor:\n        return True\n    else:\n        return False if n%divisor==0 else esprimo(n, divisor+1)\n\n# Programa principal\nn = int(input(\"Ingrese un número entero: \"))\nif esprimo(n):\n    print(n,\"es primo\")\nelse:\n    print(n,\"no es primo\")",
      "execution_count": 3,
      "outputs": [
        {
          "output_type": "stream",
          "name": "stdout",
          "text": "Ingrese un número entero: 23\n23 es primo\n"
        }
      ]
    },
    {
      "metadata": {
        "trusted": true
      },
      "cell_type": "code",
      "source": "# recurivo, menos elegante - RECURSIVIDAD - NUMERO PRIMO\n\ndef esprimo(n, divisor=2):\n    if n==divisor:\n        primo = True\n    else:\n        if n%divisor==0:\n            primo = False\n        else:\n            primo = esprimo(n, divisor+1)\n    return primo\n\n# Programa principal\nm = int(input(\"Ingrese un número entero: \"))\nprint(esprimo(m))",
      "execution_count": 4,
      "outputs": [
        {
          "output_type": "stream",
          "name": "stdout",
          "text": "Ingrese un número entero: 23\nTrue\n"
        }
      ]
    },
    {
      "metadata": {
        "trusted": true
      },
      "cell_type": "code",
      "source": "# Metodo no recurivo - RECURSIVIDAD - NUMERO PRIMO\n#Metodo tradicional\ndef esprimo(n):\n    divisor = n\n    count = 0\n    while divisor > 0:\n        if n%divisor == 0:\n            count = count + 1\n        divisor = divisor - 1\n    \n    if count == 2:\n        primo = True\n    else:\n        primo = False\n    \n    return primo\n\nnum = int(input(\"ingrese un numero entero\"))\nprint(esprimo(num))",
      "execution_count": 5,
      "outputs": [
        {
          "output_type": "stream",
          "name": "stdout",
          "text": "ingrese un numero entero23\nTrue\n"
        }
      ]
    },
    {
      "metadata": {
        "trusted": true
      },
      "cell_type": "code",
      "source": "'''SIMULACRO 2do PARCIAL - ARCHIVOS - CADENA DE CARACTERES - BUSCAR PALABRA Y REEMPLAZAR\nEjercicio 2\n\nDesarrollar un programa que permita ingresar una palabra a traves del teclado\ny la busque en un archivo de texto cualquiera, reemplazando todas sus apariciones\npor otra palabra ingresada por el usuario.\nDeben evitarse los falsos positivos , por ejemplo buscar \"venta\" y encontrar \"inventario\"'''\n\n# Programacion I - Simulacro segundo parcial\n\ntry:\n    buscar = input(\"Palabra a buscar? \")\n    reemplazar = input(\"Reemplazarla por? \")\n    entrada = open(\"notas.txt\",\"rt\")\n    salida = open(\"notas2.txt\",\"wt\")\n    cambios = 0\n    for linea in entrada:\n        # Se busca sobre una lista y se reemplaza sobre la cadena mediante rebanadas.\n        # Esto se hace para evitar falsos positivos (detectar \"venta\" en \"inventario\" )\n        lista = linea.split()\n        while buscar in lista:\n            inicio = linea.find(buscar)\n            final = inicio+len(buscar)\n            linea = linea[:inicio]+reemplazar+linea[final:]\n            cambios = cambios + 1\n            # Borramos de la lista la palabra eliminada buscar mas repeticiones\n            lista.remove(buscar)\n        salida.write(linea)\nexcept FileNotFoundError as error:\n    print(\"Error al abrir los archivos:\", error)\nexcept OSError as error:\n    print(\"Error fatal:\", error)\nelse:\n    print()\n    print(\"Proceso finalizado.\")\n    print(\"La palabra '\", buscar, \"' fue reemplazada \", cambios, \" veces.\", sep=\"\")\nfinally:\n    try:\n        entrada.close()\n        salida.close()\n    except NameError:\n        pass",
      "execution_count": 6,
      "outputs": [
        {
          "output_type": "stream",
          "name": "stdout",
          "text": "Palabra a buscar? Hola\nReemplazarla por? busca\nError al abrir los archivos: [Errno 2] No such file or directory: 'notas.txt'\n"
        }
      ]
    },
    {
      "metadata": {
        "trusted": true
      },
      "cell_type": "code",
      "source": "# Programacion I - Segundo Parcial ARCHIVOS - DICCIONARIOS - CALCULO DE VARIABLES - TIEMPO \n\n# formato del archivo a leer:dia; numemp; nombre; he; hs  \n#(Numero de dia;Numero de Empleado;Nombre;Hora y Minutos de Entrada; Hora y Minutos de Salida)\n#Ejemplo: 30;121;Mario Pergolini;1445;1930\n\ndef hhmm2min(hora):\n    \"\"\" Convierte un horario hhmm en minutos \"\"\"\n    hh = int(hora[:2])\n    mm = int(hora[2:])\n    return hh*60 + mm\n\ndef min2hhmm(minutos):\n    \"\"\" Convierte minutos en horas y minutos \"\"\"\n    horas = minutos // 60\n    min = minutos % 60\n    return f\"{horas:02} horas {min:02} minutos\"\n    \n\n# Programa principal\ntry:\n    diccionario = dict.fromkeys(range(1,32), 0)    # Diccionario de acumuladores por día. Se acumulará todo convertido a minutos.\n    arch = open(\"mensuales.txt\")\n    k = 0\n    for linea in arch:\n        linea = linea.rstrip(\"\\n\") #elimina caracteres desde la derecha\n # que elegante como importa las variables!!:\n        dia, numemp, nombre, he, hs = linea.split(\";\")\n        entrada = hhmm2min(he)\n        salida = hhmm2min(hs)\n        tiempotrabajado = salida - entrada\n        if tiempotrabajado<0:  # Turno noche, hora salida < hora entrada\n            tiempotrabajado = 1440+tiempotrabajado\n        diccionario[int(dia)] += tiempotrabajado\n        k += 1\n    print(\"Registros procesados:\", k)\n    print()\n    lista = list(diccionario.items())  # Convertimos el diccionario en una lista para poder ordenarlo\n    lista.sort(key=lambda x:x[1], reverse= True)      # Odenamos la lista por el segundo elemento de cada tupla\n    for tupla in lista:\n        print(f\"Día {tupla[0]:2}: {min2hhmm(tupla[1])} trabajados\")\nexcept (FileNotFoundError, OSError) as error:\n    print(\"ERROR:\", error)\nfinally:\n    try:\n        arch.close()\n    except NameError:\n        pass\n    ",
      "execution_count": null,
      "outputs": []
    },
    {
      "metadata": {
        "trusted": true
      },
      "cell_type": "code",
      "source": "# PROGRAMACION I - RECUPERATORIO 2 PARCIAL - ARCHIVOS - DICCIONARIOS - CALCULO DE VARIABLES - SALDOS\n\n# formato del archivo a leer: nombre; importe (positivo o negativo)\n#Ejemplo: Mario Pergolini;-1445\n\n'''Un banco quiere conocer de sus clientes el saldo por cliente. En el archivo de Base de datos se incluye por cada registo el \nnombre y monto del importe que opero durante el mes. \nCuando el monto es cero, corresponde a consultas y no debe considerarse operaciones.\nCuando el monto es negativo corresponde a extracciones\nCuando el monto es positivo correspondo a depositos.\nSi el nombre tiene mas de un registro, significa que realizo varias operaciones.\nSe solicita: \nUn resumen del saldo por cliente ordendano por la cantidad de operaciones que realizo.\nDeterminar cual es el cliente con el mayor saldo negativo'''\n\ndef sumaxname(lis): #Crea un diccionario con nombre y saldo acumulado   \n    larg = len(lis)\n    dictionar = { }\n    for i in range(0,larg-1,2):\n        if lis[i] in dictionar:          \n            continue\n        dictionar[lis[i]] = lis[i+1]\n        for j in range(i+2, larg,2):          \n            if lis[i] == lis[j]:\n                dictionar[lis[i]] = dictionar[lis[i]]+lis[j+1]\n    return dictionar\n\ndef cuentaxname(lis): #Crea un diccionario con nombre y q de operaciones acumuladas\n    diccionar = {}\n    for i in lis:\n        diccionar[i] = lis.count(i)\n    return diccionar\n\ndef dic2list(diccionar): #Crea una lista ordenada a partir de un diccinario\n    lis = list(dict.items(diccionar))\n    lis.sort(key = lambda x: x[0], reverse = False)\n    return lis\n\ndef integra(lis1,lis2): #integra la lista de saldo y la de operaciones con el nombre como clave, y las ordena decreciente por operaciones\n    largo = len(lis1)\n    lprim = []\n    lult = []\n    i = 0\n    j = 0\n    count = 0\n    for i in range(largo):\n        lprim.append(lis1[i][j])\n        lprim.append(lis1[i][j+1])\n        lprim.append(lis2[i][j+1])        \n        lult.append([lprim[i+count] for i in range(3)])\n        count = count+3\n    lult.sort(key = lambda x: x[2], reverse = True)    \n    return lult\n\n#programa principal\ndata = open(\"recuperatorio2.csv\")\nsaldos =[]\noperaciones = []\n\nfor linea in data:\n    linea = linea.rstrip(\"\\n\")\n    nombre, monto = linea.split(\";\") # Genera los campos a partir de la linea del csv\n    monto = int(monto)\n \n    #crea la lista saldo filtrando los nombres que tuvieron operaciones con valor cero\n    if monto != 0:     \n        saldos.append(nombre)\n        saldos.append(monto) \n    \n    #crea la lista operaciones filtrando los nombres que tuvieron operaciones con valor cero\n    if monto != 0:\n        operaciones.append(nombre)\n\na = dic2list(sumaxname(saldos))\nb = dic2list(cuentaxname(operaciones))\n\nprint(integra(a,b))\n",
      "execution_count": null,
      "outputs": []
    },
    {
      "metadata": {
        "trusted": true
      },
      "cell_type": "code",
      "source": "# DICCIONARIOS - ARCHIVOS - DICCIONARIOS - CALCULO DE VARIABLES - PRECIOS\n\n'''El INDEC desea realizar un informe sobre los precios de articulos de librerias de las localidades de argentina.\nPara ello cuenta con un archivo csv que contiene los siguientes campos:\n    \n    Codigo de Articulo\n    Descripcion del articulo\n    Precio\n    Localidad\n    Provincia\n    \nSe solicita realizar informes con los siguientes puntos:\n    1- Cantidad de articulos por Localidad ordenada por cantidad en forma decreciente\n    2- por cada localidad informar el articulo con el precio maximo y su descripcion, ordenado las localidades por  el punto 1'''\n\n\ndef var_q(lis): #Crea un diccionario por que argupa por una variable y cuenta su frecuencia   \n    dictionar = { }\n    for var in lis:\n        if var in dictionar:\n            dictionar[var] = dictionar[var] +1\n        else:\n            dictionar[var] =1\n    return dictionar\n\ndef dic2list(diccionar): #Crea una lista ordenada a partir de un diccinario\n    lis = list(dict.items(diccionar))\n    lis.sort(key = lambda x: x[1], reverse = True)\n    return lis\n\ndef var_max(lis): #Crea un diccionario por una variable clave e informe el maximo de una variable cuantitativa   \n    larg = len(lis)\n    dictionar = { }\n    for i in range(0,larg-1,2):\n        if lis[i] in dictionar:          \n            continue\n        dictionar[lis[i]] = lis[i+1]\n        for j in range(i+2, larg,2):          \n            if lis[i] == lis[j]:\n                if lis[j+1] > lis[i+1]: \n                    dictionar[lis[i]] = lis[j+1]\n    return dictionar\n\ndef var_desc_max(lis): #Crea un diccionario por una variable clave e informe el maximo de una variable cuantitativa y su descripcion   \n    larg = len(lis)\n    dictionar = { }\n    for i in range(0,larg-2,3):\n        if lis[i] in dictionar:          \n            continue\n        dictionar[lis[i]] = lis[i+3]\n        for j in range(i+3, larg,3):          \n            if lis[i] == lis[j]:\n                if lis[j+2] > lis[i+2]: \n                    dictionar[lis[i]] = [lis[j+1],lis[j+2]] \n    return dictionar\n\ndef une_dic_comp(dict1,dict2): #integra dos diccionarios usando el orden del primero, utiliza metodo por comprension\n    finaldict = {key:(dict1[key], dict2[key]) for key in dict1}\n    return finaldict\n\ndef une_dic(dict1,dict2):#integra dos diccionarios usando el orden del primero, utiliza metodo tradicional\n    finaldict = {}\n    for key in dict1:\n        finaldict[key] = [dict1[key], dict2[key]]\n    return finaldict\n\n#programa principal\narch = open(\"ejercicio_indec.csv\", encoding=\"utf-8\")\nlocalidades =[]\nlocalidad_precio = []\nlocalidad_producto_precio = []\n\nlinea = arch.readline()\n#while linea:\nfor linea in arch:\n    linea = linea.rstrip(\"\\n\")\n    codigo,producto,precio,localidad,provincia = linea.split(\";\") # Genera los campos a partir de la linea del csv\n    if precio.isalpha(): #reviso que el formato sea numerico en precio\n        continue\n    precio = int(precio)\n    \n    localidades.append(localidad)\n    \n    localidad_precio.append(localidad)\n    localidad_precio.append(precio)\n    \n    localidad_producto_precio.append(localidad)\n    localidad_producto_precio.append(producto)\n    localidad_producto_precio.append(precio)\n    \n#    linea = arch.readline()\n    \nlocalidad_q = var_q(localidades)\nprint(\"El diccionario de cantidad de productos por localidad es: \")\nprint(localidad_q)\nprint()\nprint(\"El listado de cantidad de productos por localidad es (orden Q de productos decreciente): \")\nlist_localidad_q_dec = dic2list(localidad_q)\nprint(list_localidad_q_dec)\nprint()\nprint(\"El diccionario de cantidad de productos por localidad es (orden Q de productos decreciente): \")\ndict_localidad_q_dec = dict(list_localidad_q_dec)\nprint(dict_localidad_q_dec)\nprint()\nprint(\"El diccionario de precios maximos por localidad es: \")\nlocalidad_precio_max=var_max(localidad_precio)\nprint(localidad_precio_max)\nprint()\nprint(\"El diccionario de precios maximos por localidad, ordenando por cantidad es: \")\ndic_localidad_precio_max_dec=une_dic_comp(dict_localidad_q_dec,localidad_precio_max)\nprint(dic_localidad_precio_max_dec)\nprint()\nprint(\"El diccionario de precios maximos y producto por localidad es: \")\nlocalidad_producto_precio_max=var_desc_max(localidad_producto_precio)\nprint(localidad_producto_precio_max)\nprint()\nprint(\"El diccionario de precios maximos y producto por localidad, ordenado por cantidad decreciente es: \")\ndic_localidad_producto_precio_max_dec=une_dic(dict_localidad_q_dec,localidad_producto_precio_max)\nprint(dic_localidad_producto_precio_max_dec)\nprint()\n\narch.close",
      "execution_count": null,
      "outputs": []
    },
    {
      "metadata": {
        "trusted": true
      },
      "cell_type": "code",
      "source": "# CADENA DE CARACTERES - ARCHIVOS - MANEJO DE EXCEPCIONES - PARA SELECCION DE PALABRAS\n'''\nSimulacro 2do Parcial 1er cuatrimestre 2020 \nEjercicio 1: \n\nSe solicita leer el archivo de frases “frases.txt” y crear uno nuevo que contenga una palabra por registro, \ndebe ser la palabra más larga pero sin considerar letras repetidas en la cuenta. \nSi alguna frase tiene más de una palabra más larga, es suficiente con guardar sólo una de ellas. \nNo se permite cargar por completo el archivo de frases en memoria. Por ejemplo:\n\nRegistro: “Bello es mejor que feo” Palabra más larga: mejor\n\nResolver utilizando excepciones y creando al menos dos funciones. \nNo se aceptan funciones que sólo cumplen una acción o instrucción, debe resolver correctametne un sub-problema.'''\n\ndef mascaracteres(cad):\n    '''Retorna la palabra que tiene mayor cantidad de letras diferentes'''\n    cad = quitarSimbolo(cad)\n    lista = cad.split()\n    \n#Atencion aca: calcula el largo de cada palabra de cada frase y grnera una lista por frase del largo de cada palabra\n\n    cantletras = [len(set(palabra.lower())) for palabra in lista]\n#Imprimo las listas de cantidad de letras para que se entienda que hace\"\n    print(cantletras)\n#Arama una nueva lista donde usa el maximo para buscar la posicion de la palabra e incluirle en el listado\n    mayor = lista[cantletras.index(max(cantletras))]\n\n    return mayor\n\ndef quitarSimbolo(cad):\n    nuevacad = \"\"\n    for letra in cad:\n        if letra.isalpha():\n            nuevacad += letra\n        elif letra == \" \":\n            nuevacad += letra\n    return nuevacad\n            \n    \ndef main():\n    try:\n        archOrig = open(\"frases.txt\", \"rt\")\n        archNuevo = open(\"palabras.txt\", \"wt\")\n        \n        for registro in archOrig:\n            registro = registro.rstrip(\"\\n\")\n            #obtener la palabra con mayor cantidad de letras\n            palabra = mascaracteres(registro)\n            archNuevo.write(palabra+\"\\n\")\n        print()\n        print(\"Archivo Creado\")\n    except IOError:\n        print(\"No se pudo abrir el archivo\")\n    finally:\n        try:\n            archOrig.close()\n            archNuevo.close()\n        except:\n            pass\nmain()",
      "execution_count": null,
      "outputs": []
    },
    {
      "metadata": {
        "trusted": true
      },
      "cell_type": "code",
      "source": "# MANEJO DE EXCEPCIONES - -RECURSIVIDAD - VALIDACION DE TEXTOS\n\n'''\nSimulacro 2do Parcial 1er cuatrimestre 2020\nEjercicio 2: \n\nContraseñas! En general las contraseñas a crear deben cumplir reglas por seguridad para que sean válidas. Desarrolle un programa que ingrese contraseñas hasta ingresar una contraseña vacía. \nA medida que se ingresan verifique e informe si cumple con las reglas:\n\na.       No puede comenzar con número.\n\nb.      Debe contener al menos dos números. Contar la cantidad de numeros de una cadena mediante una función recursiva.\n\nResolver utilizando exclusivamente manejo de excepciones y estructura While-True, creando una nueva excepción \no generando una existente (ValueError) cuando no cumpla alguno de las dos reglas, \nmostrar mensaje aclaratorio correspondiente en cada caso'''\n\ndef cantNum(cad):\n    '''Retorna la cantidad de numeros que tiene un cadena'''\n    if len(cad) == 0:\n        return 0\n    else:\n        caracter = cad[0]\n        if caracter.isdigit():\n            return 1 + cantNum(cad[1:])\n        else:\n            return 0 + cantNum(cad[1:])\ndef main():\n    while True:\n        try:\n            password = input(\"ingrese contraseña:\")\n            if password == \"\":\n                break\n            assert not password[0].isdigit(), \"La contraseña comienza con un numero\"\n            cant = cantNum(password)    \n            assert (cant > 1), \"La contraseña contiene menos de dos numeros\"\n        except AssertionError as mensaje:\n            print(\"la contraseña no es valida\")\n            print(mensaje)\n        else:\n            print(\"la contraseña es valida\")\nmain()",
      "execution_count": null,
      "outputs": []
    },
    {
      "metadata": {
        "trusted": true
      },
      "cell_type": "code",
      "source": "# CADENA DE CARACTERES - DICCIONARIO - FRECUENCIA DE PALABRAS\n\n'''\nSimulacro 2do Parcial 1er cuatrimestre 2020\nEjercicio 3: \n\nDesarrollar una función que reciba una cadena e informe para cada palabra sus repeticiones, teniendo en cuenta: \n\n1. Todas las claves deben estar en minúsuculas (es decir, ‘Hola’ y ‘hola’ deberían sumar al mismo contador). \n\n2. Se deben ignorar los signos de puntuación y los números (es decir, “ ‘(),.;:?¡¿[]{}-’ ”). \n\nDesarrollar un programa principal para ingresar una frase y \nluego mostrar por pantalla el listado de palabras y sus repeticiones ordenado alfabeticamente.\n'''\ndef quitarSimbolo(cad):\n    nuevacad = \"\"\n    for letra in cad:\n        if letra.isalpha():\n            nuevacad += letra\n        elif letra == \" \":\n            nuevacad += letra\n    return nuevacad\n\ndef cantidadPalabras(cad):\n    '''Retorna un diccionario de palabras y la cantidad de veces que aparece'''\n    cad = quitarSimbolo(cad)\n    lista = cad.lower().split()\n    dic = {}\n    for palabra in lista:\n        dic[palabra] = lista.count(palabra)\n    return dic\n    \ndef main():\n    cad = input(\"ingrese una frase: \")\n    dic = cantidadPalabras(cad)\n    #ATENCION AL CONVERTIR EL DICCIONARIO A LISTADO, SE QUEDA SOLO CON LAS CLAVES\n    claves =list(dic)\n    #ENTONCES ORDENA LAS CLAVES DEL DICCIONARIO CONVERTIDO A LISTA\n    claves.sort()\n#IMPORTANTE AHORA PARA CADA CLAVE, LA IMPRIME BUSCANDO EL VALOR QUE TIENE EN EL DICCIONARIO\n    for clave in claves:\n        print(clave, dic[clave])\n    \nmain()",
      "execution_count": null,
      "outputs": []
    },
    {
      "metadata": {
        "trusted": true
      },
      "cell_type": "code",
      "source": "#OTRA FORMA SIN USAR DICCIONARIO\n\ndef quitarSimbolo(cad):\n#OTRA FORMA SIN USAR DICCIONARIO\n\ndef quitarSimbolo(cad):\n    nuevacad = \"\"\n    for letra in cad:\n        if letra.isalpha():\n            nuevacad += letra\n        elif letra == \" \":\n            nuevacad += letra\n    return nuevacad\n\ndef cantidadPalabras(cad):\n    '''Retorna un diccionario de palabras y la cantidad de veces que aparece'''\n    cad = quitarSimbolo(cad)\n    lista = cad.lower().split()\n    lista.sort\n    lis_palabras = []\n    lis_cantidad = []\n    for i in range(len(lista)):\n        if lista[i] not in lis_palabras:\n            lis_palabras.append(lista[i])\n            lis_cantidad.append(1)\n        else:\n#           incrementar en 1 lis_cantidad en el lugar donde se encuentra la palabra\n\n            lis_cantidad[i]+=1\n       \n    return lis_palabras, lis_cantidad\n    \ndef main():\n    cad = input(\"ingrese una frase: \")\n    dic = cantidadPalabras(cad)\n    \n    claves =list(dic)\n\n    claves.sort()\n\n    for clave in sorted(claves):\n        print(f\"la palabra {clave} aparece en el {diccionario[clave]} veces\")\n    \nmain()",
      "execution_count": null,
      "outputs": []
    },
    {
      "metadata": {
        "trusted": true
      },
      "cell_type": "code",
      "source": "'''\nSimulacro 2do Parcial 1er cuatrimestre 2020 - MANEJO DE EXEPCIONES - ANALISIS DE LETRAS\nEjercicio 4: \n\nDesarrollar un programa principal para ingresar dos palabras por teclado e informar las letras poseen en común. \nPermitir ingresar varias veces dos palabras hasta que la primera que se ingrese sea vacía. \nPara el ingreso de palabras, generar y gestionar una excepcion si se ingresan numeros, espacios o símbolos, \naceptar solo palabras con caracteres alfabeticos.\n'''",
      "execution_count": null,
      "outputs": []
    },
    {
      "metadata": {
        "trusted": true
      },
      "cell_type": "code",
      "source": "#Utilizando Conjuntos\n\ndef ingresarPal(texto):\n    while True:\n        try:\n            pal = input(texto)\n            assert (pal.isalpha() or pal ==\"\"), \"Se deben ingresar solo caracteres alfanumericos\"\n            break\n        except AssertionError as mensaje:\n            print(mensaje)\n            print(\"Vuelva a ingresar\")\n    return pal\n\n\n\ndef main():\n    while True:\n        pal1 = ingresarPal(\"ingrese la palabra 1: \")\n\n        pal2 = ingresarPal(\"ingrese la palabra 2: \")\n        \n        pal1 = set(pal1.lower())\n        pal2 = set(pal2.lower())        \n        \n        comun = pal1 & pal2\n        \n        if len(comun) == 0:\n            print(\"no hay letras en comun\")\n            break\n        print(comun)\n        break\n    return comun\n\nmain()",
      "execution_count": null,
      "outputs": []
    },
    {
      "metadata": {
        "trusted": true
      },
      "cell_type": "code",
      "source": "#Utilizando For y Listas\n\ndef ingresarPal(texto):\n    while True:\n        try:\n            pal = input(texto)\n            assert (pal.isalpha() or pal ==\"\"), \"Se deben ingresar solo caracteres alfanumericos\"\n            break\n        except AssertionError as mensaje:\n            print(mensaje)\n            print(\"Vuelva a ingresar\")\n    return pal\n\n\ndef main():\n    while True:\n        pal1 = ingresarPal(\"ingrese la palabra 1: \")\n        if pal1 == \"\":\n            break\n        pal2 = ingresarPal(\"ingrese la palabra 2: \")\n        \n        pal1 = pal1.lower()\n        pal2 = pal2.lower()        \n        \n        comun = []\n        for letra in pal1:\n            if letra in pal2 and letra not in comun:\n                comun.append(letra)\n        \n        if len(comun) == 0:\n            print(\"no hay letras en comun\")\n            break\n        print(comun)\n        break\n    return comun\n\nmain()",
      "execution_count": null,
      "outputs": []
    },
    {
      "metadata": {
        "trusted": true
      },
      "cell_type": "code",
      "source": "'''Ejercicio 1)\nDirecciones de mail:\n\nSe solicita un programa para ingresar cadenas de caracteres hasta ingresar una cadena vacía.\nResolver utilizando while-true y creando o generando una excepción para rechazar las cadenas que no corresponden a una dirección de mail.\n\nUn mail válido tiene un solo @ y al menos un “punto” luego del @, y como máximo dos “puntos” (luego del arroba).\nTener en cuenta que no siempre tiene una extensión referenciando al código del país. Ejemplo: usuario@yahoo.com.ar,\notro_usuario@gmail.com, nombre.apellido@yahoo.com\n\nAl finalizar el ingreso informar:\nListado de dominios que aparecen más de una vez ordenado alfabéticamente, indicando cuantas veces se ingresaron.\nRecorda que el dominio se refiere al tipo de organizacion y país, segun el ejemplo seria:\n\nDominio     Cantidad\ncom                2\ncom.ar             1\n\nInformar también la cantidad de mails no válidos.'''\n\ndef revisaArroba(cad):   \n    arroba = False\n    if cad.find(\"@\") >0:\n        arroba = True\n    return arroba\n\ndef revisa2Punto(cad):\n    punto = False\n    if revisaArroba(cad) == True:       \n        nom,dire = cad.split(\"@\")\n        if dire.count(\".\") >= 1 and dire.count(\".\") <= 2:\n            punto = True\n    return punto\n\ndef var_q(lis): #Crea un diccionario por que agrupa por una variable y cuenta su frecuencia   \n    dictionar = { }\n    for var in lis:\n        if var in dictionar:\n            dictionar[var] = dictionar[var] +1\n        else:\n            dictionar[var] =1\n    return dictionar\n\ndef ingreso():\n    emailerror = 0\n    lisdire = []\n    while True:\n        try:\n            data = input(\"Ingrese la direccion de e-mail: \")\n            if data == \"\":\n                break\n\n            assert revisaArroba(data) == True, \"El mail debe tener por lo menos un @ y no ser @ el primer caracter.\"\n            assert revisa2Punto(data) == True, \"El mail debe tener 1 o 2 puntos luego del @.\"\n            \n            nom,dire = data.split(\"@\")\n            lisdire.append(dire)\n    \n        except ValueError:\n            print(\"El valor es incorrecto.\")\n            print(\"Intente nuevamente.\")\n        except AssertionError as error:\n            print(\"la email no es valido\")\n            print(error)          \n            print(\"Intente nuevamente.\")\n            emailerror = emailerror + 1\n    print(\"la cantidad de errores fue: \",emailerror)\n\n    return lisdire\n\n#programa principal\na = ingreso()\nprint(var_q(a))\n",
      "execution_count": 1,
      "outputs": [
        {
          "output_type": "stream",
          "name": "stdout",
          "text": "Ingrese la direccion de e-mail: faba@gmail.com\nIngrese la direccion de e-mail: fabi@gmail.se\nIngrese la direccion de e-mail: fabi@gmail.se\nIngrese la direccion de e-mail: \nla cantidad de errores fue:  0\n{'gmail.com': 1, 'gmail.se': 2}\n"
        }
      ]
    },
    {
      "metadata": {
        "trusted": true
      },
      "cell_type": "code",
      "source": "'''Ejercicio 2)\n\nLeer las frases del archivo frases.txt y\ncrear un nuevo archivo con las palabras de cada registro sin repetirlas e invertidas.\nNo considerar caracteres no alfabéticos para invertir cada palabra, ej hola queda aloh\nAl finalizar mostrar por pantalla un listado de las palabras en orden alfabético y cuantas veces aparece en todo el archivo.\nRecorda no cargar todo el archivo en memoria para resolver.'''\n\ndef proc_palabras(cad):\n    '''Retorna las palabras de cada registro sin repetirlas e invertidas'''\n    cad = quitarSimbolo(cad)\n    nuevalis = []\n    lista = cad.lower().split()\n    for palabra in lista:\n        nuevalis.append(palabra[::-1])\n    nuevalis= list(set(nuevalis))\n    return nuevalis\n\ndef quitarSimbolo(cad):\n    '''Retorna la cadena de texto sin caracteres de puntuacion o no alfabeticos'''\n    nuevacad = \"\"\n    for letra in cad:\n        if letra.isalpha():\n            nuevacad += letra\n        elif letra == \" \":\n            nuevacad += letra\n    return nuevacad\n\ndef var_q(lis):\n    '''Crea un diccionario por que agrupa por una palabra y cuenta su frecuencia''' \n    dictionar = { }\n    for var in lis:\n        if var in dictionar:\n            dictionar[var] = dictionar[var] +1\n        else:\n            dictionar[var] =1\n    return dictionar\n\ndef dic2list(diccionar):\n    '''Crea una lista ordenada a partir de un diccinario'''\n    lis = list(dict.items(diccionar))\n    lis.sort(key = lambda x: x[0], reverse = False)\n    return lis\n    \ndef main():\n    try:\n        archOrig = open(\"frases.txt\", \"rt\")\n        archNuevo = open(\"palabras.txt\", \"wt\")\n        listado_total = []\n        registro = archOrig.readline()\n        while registro:\n            registro = registro.rstrip(\"\\n\")\n\n            lis_palabras = proc_palabras(registro)\n            listado_total += lis_palabras\n            \n            archNuevo.write(str(lis_palabras))\n            registro = archOrig.readline()\n\n        print(\"Archivo Creado :) !!!\")\n        print()        \n        print(\"Se muestran por pantalla un listado de las palabras en orden alfabético y cuantas veces aparece en todo el archivo!!!\")\n        print(dic2list(var_q(listado_total)))      \n    except FileNotFoundError:\n        print(\"No se encontró el archivo\")\n    except IOError:\n        print(\"No se pudo abrir el archivo\")\n    finally:\n        try:\n            archOrig.close()\n            archNuevo.close()\n        except:\n            pass\n#Progrma principal\nmain()\n",
      "execution_count": 2,
      "outputs": [
        {
          "output_type": "stream",
          "text": "Archivo Creado :) !!!\n\nSe muestran por pantalla un listado de las palabras en orden alfabético y cuantas veces aparece en todo el archivo!!!\n[('a', 5), ('acnun', 3), ('aedi', 3), ('aes', 2), ('aivbo', 2), ('al', 5), ('alam', 1), ('anag', 1), ('aneub', 1), ('anu', 4), ('arap', 1), ('arenam', 2), ('aroha', 2), ('ase', 1), ('azerup', 1), ('aírebed', 1), ('dadeügibma', 1), ('dadicitcarp', 1), ('dadilibigel', 1), ('ed', 7), ('edeup', 1), ('el', 1), ('elpmis', 1), ('es', 1), ('etnatropmi', 1), ('etnemasoicnelis', 1), ('etnematicílpxe', 1), ('etnemelbireferp', 1), ('etnemetneicifus', 1), ('etnerf', 1), ('euq', 11), ('is', 2), ('licáf', 1), ('licífid', 1), ('narg', 1), ('naírebed', 1), ('neicnelis', 1), ('nis', 1), ('nos', 2), ('nóicatnemelpmi', 2), ('nóicatnet', 1), ('odacilpmoc', 1), ('odadina', 1), ('odaicapse', 1), ('oef', 1), ('ograbme', 1), ('ojelpmoc', 2), ('ol', 1), ('olleb', 1), ('olos', 1), ('olrecah', 1), ('omoc', 1), ('omsim', 1), ('on', 2), ('onalp', 1), ('osned', 1), ('oticílpmi', 1), ('oticílpxe', 1), ('racilpxe', 2), ('ranivida', 1), ('rasap', 1), ('rasep', 2), ('rative', 1), ('rebah', 1), ('repmor', 1), ('rojem', 8), ('saes', 1), ('sahcum', 1), ('sal', 1), ('salger', 1), ('se', 11), ('secev', 1), ('selaicepse', 1), ('serbmon', 1), ('serorre', 1), ('soicapse', 1), ('sol', 3), ('somagnet', 1), ('sonem', 2), ('sosac', 1), ('sose', 1), ('sám', 1), ('sédnaloh', 1), ('y', 1)]\n",
          "name": "stdout"
        }
      ]
    },
    {
      "metadata": {
        "trusted": true
      },
      "cell_type": "code",
      "source": "",
      "execution_count": null,
      "outputs": []
    }
  ],
  "metadata": {
    "kernelspec": {
      "name": "python36",
      "display_name": "Python 3.6",
      "language": "python"
    },
    "language_info": {
      "mimetype": "text/x-python",
      "nbconvert_exporter": "python",
      "name": "python",
      "pygments_lexer": "ipython3",
      "version": "3.6.6",
      "file_extension": ".py",
      "codemirror_mode": {
        "version": 3,
        "name": "ipython"
      }
    }
  },
  "nbformat": 4,
  "nbformat_minor": 2
}