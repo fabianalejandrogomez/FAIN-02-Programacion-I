{
  "cells": [
    {
      "metadata": {
        "collapsed": true
      },
      "cell_type": "raw",
      "source": "SIMULACRO 1er PARCIAL\n1 - Escribir un programa para rellenar e imprimir una matriz de enteros de NxN con los numeros del 1 al 4, respetando el patron por cuadrantes detallado\nEl programa debe servir para cualquier valor par de N, el que se ingresa por teclado\n\nN=8\n\n1 1 1 1 2 2 2 2\n1 1 1 1 2 2 2 2\n1 1 1 1 2 2 2 2\n1 1 1 1 2 2 2 2\n3 3 3 3 4 4 4 4\n3 3 3 3 4 4 4 4\n3 3 3 3 4 4 4 4\n3 3 3 3 4 4 4 4\n"
    },
    {
      "metadata": {
        "trusted": true
      },
      "cell_type": "code",
      "source": "# Simulacro primer parcial, ejercicio 1\n\ndef rellenarmatriz1(m):\n    \"\"\" Estrategia 1: Recorrer los n**2 elementos y asignar lo que corresponde a cada uno \"\"\"\n    n = len(m)\n    mitad = n // 2\n    for f in range(n):\n        for c in range(n):\n            if f<mitad and c<mitad:\n                relleno = 1\n            elif f<mitad and c>=mitad:\n                relleno = 2\n            elif f>=mitad and c<mitad:\n                relleno = 3\n            else:\n                relleno = 4\n            m[f][c] = relleno\n\ndef rellenarmatriz2(m):\n    \"\"\" Estrategia 2: Recorrer un cuarto de la matriz y realizar cuatro asignaciones por iteración \"\"\"\n    n = len(m)\n    mitad = n // 2\n    for f in range(mitad):\n        for c in range(mitad):\n            # Primer cuadrante\n            m[f][c] = 1\n            # Segundo cuadrante\n            m[f][c+mitad] = 2\n            # Tercer cuadrante\n            m[f+mitad][c] = 3\n            # Cuarto cuadrante\n            m[f+mitad][c+mitad] = 4\n\ndef imprimirmatriz(m):\n    for f in m:\n        for c in f:\n            print(\"%3d\" %c, end=\"\")\n        print()\n        \nn = int(input(\"Tamaño de la matriz? \"))\nwhile n<=0 or n%2!=0:\n    print(\"El tamaño debe ser par y mayor que 0\")\n    n = int(input(\"Tamaño de la matriz? \"))\nmat = [[0] * n for i in range(n)]\nrellenarmatriz1(mat)\nimprimirmatriz(mat)\nprint()\n# Borramos la matriz anterior para usar una nueva estrategia de relleno\ndel mat\nmat = [[0] * n for i in range(n)]\nrellenarmatriz2(mat)\nimprimirmatriz(mat)\n",
      "execution_count": 1,
      "outputs": [
        {
          "output_type": "stream",
          "name": "stdout",
          "text": "Tamaño de la matriz? 8\n  1  1  1  1  2  2  2  2\n  1  1  1  1  2  2  2  2\n  1  1  1  1  2  2  2  2\n  1  1  1  1  2  2  2  2\n  3  3  3  3  4  4  4  4\n  3  3  3  3  4  4  4  4\n  3  3  3  3  4  4  4  4\n  3  3  3  3  4  4  4  4\n\n  1  1  1  1  2  2  2  2\n  1  1  1  1  2  2  2  2\n  1  1  1  1  2  2  2  2\n  1  1  1  1  2  2  2  2\n  3  3  3  3  4  4  4  4\n  3  3  3  3  4  4  4  4\n  3  3  3  3  4  4  4  4\n  3  3  3  3  4  4  4  4\n"
        }
      ]
    },
    {
      "metadata": {},
      "cell_type": "raw",
      "source": "SIMULACRO 1er PARCIAL\n2 - Realizar un programa que genere una lista con numeros enteros al azar entre 0 y 999, finalizando la carga al generarse un 0, el que no debera cargarse en la lista. Luego se solicita:\n\na - Mostrar la lista por pantalla\nb - Ordenar la lista de menor a mayor. El criterio de ordenamiento sera solamente el ultimo digito de cada numero. Ejemplo [461, 23, 396, 8]\nc - Mostrar todos los divisores del mayor valor\nd - Mostrar la suma de los digitos del mayor valor\n"
    },
    {
      "metadata": {
        "trusted": true
      },
      "cell_type": "code",
      "source": "# Simulacro primer parcial, ejercicio 2\n\nimport random\n\nlista = []\nn = random.randint(0, 999)\nwhile n!=0:\n    lista.append(n)\n    n = random.randint(0, 999)\n    \n# Punto A\nprint(\"Lista sin ordenar\")\nprint(lista)\n\n# Punto B\nlista.sort(key=lambda x:x%10)\nprint()\nprint(\"Lista ordenada\")\nprint(lista)\n\n# Punto C\nmaximo = max(lista)\nprint()\nprint(\"El máximo es\", maximo, \"y sus divisores son\", end=\" \")\nfor i in range(1, maximo+1):\n    if maximo%i==0:\n        print(i, end=\" \")\nprint()\n\n# Punto D\nsuma = 0\nwhile maximo!=0:\n    digito = maximo%10\n    maximo = maximo // 10\n    suma+=digito\nprint(\"La suma de los dígitos del máximo es\", suma)",
      "execution_count": 2,
      "outputs": [
        {
          "output_type": "stream",
          "text": "Lista sin ordenar\n[672, 198, 288, 682, 650, 878, 418, 803, 224, 557, 544, 650, 837, 962, 648, 253, 774, 642, 745, 969, 396, 219, 752, 90, 175, 935, 547, 591, 528, 664, 898, 300, 759, 109, 163, 922, 307, 189, 184, 256, 275, 346, 855, 68, 751, 256, 801, 447, 530, 561, 303, 410, 829, 55, 497, 628, 619, 192, 405, 329, 139, 461, 197, 613, 584, 953, 591, 745, 818, 287, 204, 706, 8, 475, 117, 969, 329, 648, 962, 249, 65, 581, 664, 680, 103, 972, 909, 248, 179, 787, 554, 505, 611, 84, 348, 891, 522, 483, 192, 990, 724, 154, 815, 216, 262, 985, 455, 76, 624, 914, 750, 890, 976, 362, 648, 521, 817, 37, 256, 660, 728, 885, 595, 125, 584, 645, 783, 880, 867, 503, 952, 237, 485, 446, 646, 25, 87, 151, 905, 464, 153, 409, 966, 36, 205, 404, 358, 833, 221, 381, 538, 656, 249, 347, 661, 315, 694, 817, 568, 13, 743, 796, 790, 465, 331, 88, 636, 762, 87, 621, 626, 822, 461, 207, 254, 823, 164, 788, 871, 533, 515, 888, 739, 743, 227, 737, 394, 888, 973, 453, 674, 981, 305, 389, 602, 10, 696, 820, 591, 203, 677, 448, 7, 476, 590, 390, 319, 899, 618, 192, 382, 36, 105, 442, 535, 237, 544, 710, 381, 177, 404, 846, 825, 654, 208, 992, 138, 970, 616, 724, 491, 780, 141, 957, 30, 639, 909, 207, 113, 375, 846, 255, 627, 613, 927, 519, 200, 138, 46, 833, 514, 190, 838, 450, 652, 87, 849, 837, 268, 924, 959, 373, 984, 807, 367, 17, 216, 876, 850, 19, 590, 171, 325, 813, 853, 145, 439, 147, 325, 599, 215, 102, 892, 188, 129, 189, 822, 290, 762, 137, 247, 790, 485, 447, 979, 225, 104, 959, 783, 869, 105, 258, 425, 470, 36, 884, 342, 555, 655, 653, 114, 211, 27, 903, 681, 246, 35, 924, 660, 693, 228, 848, 19, 595, 417, 86, 700, 343, 944, 294, 306, 773, 489, 470, 48, 377, 168, 840, 403, 336, 603, 465, 907, 689, 975, 217, 611, 936, 753, 88, 53, 399, 647, 917, 65, 914, 658, 928, 656, 189, 936, 548, 237, 6, 561, 163, 787, 949, 614, 571, 418, 975, 346, 165, 156, 383, 780, 849, 350, 455, 717, 118, 961, 622, 115, 375, 665, 363, 982, 65, 154, 899, 649, 891, 105, 339, 10, 247, 698, 467, 315, 610, 311, 295, 666, 810, 685, 3, 210, 833, 903, 676, 865, 93, 350, 762, 707, 984, 411, 437, 369, 998, 518, 751, 562, 399, 418, 406, 623, 772, 337, 596, 232, 958, 953, 897, 104, 818, 55, 425, 406, 122, 919, 522, 234, 29, 284, 939, 112, 135, 94, 53, 516, 245, 997, 749, 457, 715, 315, 468, 511, 576, 624, 978, 776, 757, 221, 576, 910, 831, 185, 377, 416, 116, 592, 419, 161, 735, 927, 135, 493, 340, 443, 152, 762, 814, 92, 41, 145, 358, 682, 964, 138, 66, 178, 382, 946, 592, 151, 769, 505, 698, 363, 218, 578, 190, 953, 62]\n\nLista ordenada\n[650, 650, 90, 300, 530, 410, 680, 990, 750, 890, 660, 880, 790, 10, 820, 590, 390, 710, 970, 780, 30, 200, 190, 450, 850, 590, 290, 790, 470, 660, 700, 470, 840, 780, 350, 10, 610, 810, 210, 350, 910, 340, 190, 591, 751, 801, 561, 461, 591, 581, 611, 891, 521, 151, 221, 381, 661, 331, 621, 461, 871, 981, 591, 381, 491, 141, 171, 211, 681, 611, 561, 571, 961, 891, 311, 411, 751, 511, 221, 831, 161, 41, 151, 672, 682, 962, 642, 752, 922, 192, 962, 972, 522, 192, 262, 362, 952, 762, 822, 602, 192, 382, 442, 992, 652, 102, 892, 822, 762, 342, 622, 982, 762, 562, 772, 232, 122, 522, 112, 592, 152, 762, 92, 682, 382, 592, 62, 803, 253, 163, 303, 613, 953, 103, 483, 783, 503, 153, 833, 13, 743, 823, 533, 743, 973, 453, 203, 113, 613, 833, 373, 813, 853, 783, 653, 903, 693, 343, 773, 403, 603, 753, 53, 163, 383, 363, 3, 833, 903, 93, 623, 953, 53, 493, 443, 363, 953, 224, 544, 774, 664, 184, 584, 204, 664, 554, 84, 724, 154, 624, 914, 584, 464, 404, 694, 254, 164, 394, 674, 544, 404, 654, 724, 514, 924, 984, 104, 884, 114, 924, 944, 294, 914, 614, 154, 984, 104, 234, 284, 94, 624, 814, 964, 745, 175, 935, 275, 855, 55, 405, 745, 475, 65, 505, 815, 985, 455, 885, 595, 125, 645, 485, 25, 905, 205, 315, 465, 515, 305, 105, 535, 825, 375, 255, 325, 145, 325, 215, 485, 225, 105, 425, 555, 655, 35, 595, 465, 975, 65, 975, 165, 455, 115, 375, 665, 65, 105, 315, 295, 685, 865, 55, 425, 135, 245, 715, 315, 185, 735, 135, 145, 505, 396, 256, 346, 256, 706, 216, 76, 976, 256, 446, 646, 966, 36, 656, 796, 636, 626, 696, 476, 36, 846, 616, 846, 46, 216, 876, 36, 246, 86, 306, 336, 936, 656, 936, 6, 346, 156, 666, 676, 406, 596, 406, 516, 576, 776, 576, 416, 116, 66, 946, 557, 837, 547, 307, 447, 497, 197, 287, 117, 787, 817, 37, 867, 237, 87, 347, 817, 87, 207, 227, 737, 677, 7, 237, 177, 957, 207, 627, 927, 87, 837, 807, 367, 17, 147, 137, 247, 447, 27, 417, 377, 907, 217, 647, 917, 237, 787, 717, 247, 467, 707, 437, 337, 897, 997, 457, 757, 377, 927, 198, 288, 878, 418, 648, 528, 898, 68, 628, 818, 8, 648, 248, 348, 648, 728, 358, 538, 568, 88, 788, 888, 888, 448, 618, 208, 138, 138, 838, 268, 188, 258, 228, 848, 48, 168, 88, 658, 928, 548, 418, 118, 698, 998, 518, 418, 958, 818, 468, 978, 358, 138, 178, 698, 218, 578, 969, 219, 759, 109, 189, 829, 619, 329, 139, 969, 329, 249, 909, 179, 409, 249, 739, 389, 319, 899, 639, 909, 519, 849, 959, 19, 439, 599, 129, 189, 979, 959, 869, 19, 489, 689, 399, 189, 949, 849, 899, 649, 339, 369, 399, 919, 29, 939, 749, 419, 769]\n\nEl máximo es 998 y sus divisores son 1 2 499 998 \nLa suma de los dígitos del máximo es 26\n",
          "name": "stdout"
        }
      ]
    },
    {
      "metadata": {
        "trusted": true
      },
      "cell_type": "code",
      "source": "# JuNo - 1er Parcial Tema 1, ejercicio 1\n# Versión 1: Resolución por mitades\n\nn = int(input(\"Ingrese el tamaño del rombo: \"))\nwhile n<3 or n%2==0:\n    print(\"Valor invalido. Debe ser par y mayor que 2.\")\n    n = int(input(\"Ingrese el tamaño del rombo: \"))\nprint()\n# Mitad superior\nespaciosizq = n//2 + 1  # Cantidad de espacios a la izquierda del primer asterisco\nasteriscos = -1     # Cantidad de asteriscos por fila\nfor fila in range(n//2+1):\n    asteriscos = asteriscos + 2          # Aumentamos la cantidad de asteriscos\n    espaciosizq = espaciosizq - 1        # Reducimos la cantidad de espacios a la izquierda por cada nueva fila\n    print(\" \" * espaciosizq, end=\"\")     # Imprimimos esa cantidad de espacios\n    print(\"*\" * asteriscos)              # Imprimimos los asteriscos de la fila\n# Mitad inferior\nfor fila in range(n//2):\n    asteriscos = asteriscos - 2          # Reducimos la cantidad de asteriscos\n    espaciosizq = espaciosizq + 1        # Aumentamos la cantidad de espacios a la izquierda por cada nueva fila\n    print(\" \" * espaciosizq, end=\"\")     # Imprimimos esa cantidad de espacis\n    print(\"*\" * asteriscos)              # Imprimimos esa cantidad de asteriscos",
      "execution_count": 1,
      "outputs": [
        {
          "output_type": "stream",
          "name": "stdout",
          "text": "Ingrese el tamaño del rombo: 5\n\n  *\n ***\n*****\n ***\n  *\n"
        }
      ]
    },
    {
      "metadata": {
        "trusted": true
      },
      "cell_type": "code",
      "source": "# JuNo - 1er Parcial Tema 1, ejercicio 1\n# Versión 2: Resolución optimizada sin dividir al rombo en mitades\n\nwhile True:\n    n = int(input(\"Ingrese un número entero positivo e impar: \"))\n    if n<0 or n%2==0:\n        print(\"Número inválido. Intente nuevamente.\")\n        continue\n    break\nprint()\nmitad = n//2 + 1\nespaciosizq = n-1\nasteriscos = 1\nfor i in range(n):\n    # El siguiente operador condicional reduce el valor de espaciosizq\n    # en la mitad superior y lo incrementa en la mitad inferior.\n    espaciosizq = espaciosizq - 1 if i<mitad else espaciosizq + 1 \n    print(\" \" * espaciosizq, end=\"\")\n    print(\"*\" * asteriscos)\n    # Similar al comentario anterior, ahora referido a la cantidad de asteriscos\n    asteriscos = asteriscos + 2 if i<mitad-1 else asteriscos - 2",
      "execution_count": 2,
      "outputs": [
        {
          "output_type": "stream",
          "name": "stdout",
          "text": "Ingrese un número entero positivo e impar: 7\n\n     *\n    ***\n   *****\n  *******\n   *****\n    ***\n     *\n"
        }
      ]
    },
    {
      "metadata": {
        "trusted": true
      },
      "cell_type": "code",
      "source": "# JuNo - 1er Parcial Tema 1, ejercicio 2\n\ndef reducir(cadena, largo):\n    if len(cadena)<=largo:\n        return cadena\n    longmitades = (largo - 3) // 2  # Calculamos el largo que le corresponde a cada mitad\n    if longmitades*2+3<largo:  # Compensación por si las mitades no deben ser iguales, agregando un carácter más del lado izquierdo\n        izq = 1\n    else:\n        izq = 0\n    nueva = cadena[:longmitades+izq] + \"...\" + cadena[-longmitades:]\n    return nueva\n\n# Programa principal\nruta = r\"C:\\Usuarios\\UADE\\Mis Imágenes\\Imágenes Publicas\\paisaje.jpg\"\nprint(reducir(ruta, 25))  # C:\\Usuarios...paisaje.jpg",
      "execution_count": 3,
      "outputs": [
        {
          "output_type": "stream",
          "text": "C:\\Usuarios...paisaje.jpg\n",
          "name": "stdout"
        }
      ]
    },
    {
      "metadata": {
        "trusted": true
      },
      "cell_type": "code",
      "source": "# JuTa - 1er Parcial Tema 2, ejercicio 1\n\nn = int(input(\"Cantidad de filas? \"))\nprint(\"*\")                   # Imprimimos la primera fila\nfor fila in range(n-2):      # Descontamos la primera y última filas\n    print(\"*\"+\" \"*fila+\"*\")  # Imprimimos las filas restantes, con separación creciente\nprint(\"*\"*n)                 # e imprimimos la última fila\n    ",
      "execution_count": 2,
      "outputs": [
        {
          "output_type": "stream",
          "name": "stdout",
          "text": "Cantidad de filas? 9\n*\n**\n* *\n*  *\n*   *\n*    *\n*     *\n*      *\n*********\n"
        }
      ]
    },
    {
      "metadata": {
        "trusted": true
      },
      "cell_type": "code",
      "source": "# JuTa - Tema 2, ejercicio 2\n\ndef validartarjeta(num):\n    esvalido = True\n    lista = num.split(\"-\")\n    # Verificamos la cantidad de guiones / dash count verification\n    if len(lista)!=3:\n        esvalido = False\n    # Verificamos que cada grupo de números tenga 4 dígitos y que sean todos números\n    # Verifiying length and content of each group of numbers \n    for grupo in lista:\n        if len(grupo)!=4:\n            esvalido = False\n        for digito in grupo:\n            if not (\"0\"<=digito<=\"9\"):\n                esvalido = False\n    # Primer punto de salida / First checkpoint\n    if not esvalido:\n        return False\n    # Continuamos validación / Further checking\n    # Ahora sabemos que son todos números / Now we know all characters are numbers\n    primerdigito = int(num[0])\n    cuartodigito = int(num[3])\n    quintodigito = int(num[5])\n    if primerdigito!=4 or cuartodigito!=quintodigito+1:\n        esvalido = False\n    # Calculamos la suma de todos los dígitos / Performing all digit addition\n    suma = 0\n    for caracter in num:\n        if \"0\"<=caracter<=\"9\":  # Para evitar los guiones / Dash avoidance\n            suma = suma + int(caracter)\n    if suma%4!=0:\n        esvalido = False\n    primeroysegundo = int(num[:2])\n    septimoyoctavo = int(num[7:9])\n    if primeroysegundo + septimoyoctavo != 100:\n        esvalido = False\n    return esvalido\n\n# Programa principal / Main program\n# Ejemplo de número válido: 4324-3157-1231 / Valid credit card number\nn = input(\"Número de tarjeta? \")\nif validartarjeta(n):\n    print(\"El número de tarjeta es válido\")\nelse:\n    print(\"El número de tarjeta es inválido\")   ",
      "execution_count": 8,
      "outputs": [
        {
          "output_type": "stream",
          "name": "stdout",
          "text": "Número de tarjeta? 4324-3157-1231\nEl número de tarjeta es válido\n"
        }
      ]
    },
    {
      "metadata": {
        "trusted": true
      },
      "cell_type": "raw",
      "source": "SIMULACRO 2do PARCIAL\nEjercicio 1\n\nDesarrollar una funcion recursiva para determinar su un numero entero es primo o no, devolviendo True or False.\nEscribir tambien un programa para ingresar el numero, invocar a la funcion e imprimir el resultado."
    },
    {
      "metadata": {
        "trusted": true
      },
      "cell_type": "code",
      "source": "# Programación I - Simulacro segundo parcial\n\ndef esprimo(n, divisor=2):\n    if n==divisor:\n        return True\n    else:\n        return False if n%divisor==0 else esprimo(n, divisor+1)\n\n# Programa principal\nn = int(input(\"Ingrese un número entero: \"))\nif esprimo(n):\n    print(n,\"es primo\")\nelse:\n    print(n,\"no es primo\")0",
      "execution_count": null,
      "outputs": []
    },
    {
      "metadata": {
        "trusted": true
      },
      "cell_type": "code",
      "source": "# recurivo, menos elegante\n\ndef esprimo(n, divisor=2):\n    if n==divisor:\n        primo = True\n    else:\n        if n%divisor==0:\n            primo = False\n        else:\n            primo = esprimo(n, divisor+1)\n    return primo\n\n# Programa principal\nm = int(input(\"Ingrese un número entero: \"))\nprint(esprimo(m))",
      "execution_count": null,
      "outputs": []
    },
    {
      "metadata": {
        "trusted": true
      },
      "cell_type": "code",
      "source": "# Metodo no recurivo\n#Metodo tradicional\ndef esprimo(n):\n    divisor = n\n    count = 0\n    while divisor > 0:\n        if n%divisor == 0:\n            count = count + 1\n        divisor = divisor - 1\n    \n    if count == 2:\n        primo = True\n    else:\n        primo = False\n    \n    return primo\n\nnum = int(input(\"ingrese un numero entero\"))\nprint(esprimo(num))",
      "execution_count": null,
      "outputs": []
    },
    {
      "metadata": {},
      "cell_type": "raw",
      "source": "SIMULACRO 2do PARCIAL\nEjercicio 2\n\nDesarrollar un programa que permita ingresar una palabra a traves del teclado\ny la busque en un archivo de texto cualquiera, reemplazando todas sus apariciones\npor otra palabra ingresada por el usuario.\nDeben evitarse los falsos positivos , por ejemplo buscar \"venta\" y encontrar \"inventario\""
    },
    {
      "metadata": {
        "trusted": true
      },
      "cell_type": "code",
      "source": "# Programacion I - Simulacro segundo parcial\n\ntry:\n    buscar = input(\"Palabra a buscar? \")\n    reemplazar = input(\"Reemplazarla por? \")\n    entrada = open(\"notas.txt\",\"rt\")\n    salida = open(\"notas2.txt\",\"wt\")\n    cambios = 0\n    for linea in entrada:\n        # Se busca sobre una lista y se reemplaza sobre la cadena mediante rebanadas.\n        # Esto se hace para evitar falsos positivos (detectar \"venta\" en \"inventario\" )\n        lista = linea.split()\n        while buscar in lista:\n            inicio = linea.find(buscar)\n            final = inicio+len(buscar)\n            linea = linea[:inicio]+reemplazar+linea[final:]\n            cambios = cambios + 1\n            # Borramos de la lista la palabra eliminada buscar mas repeticiones\n            lista.remove(buscar)\n        salida.write(linea)\nexcept FileNotFoundError as error:\n    print(\"Error al abrir los archivos:\", error)\nexcept OSError as error:\n    print(\"Error fatal:\", error)\nelse:\n    print()\n    print(\"Proceso finalizado.\")\n    print(\"La palabra '\", buscar, \"' fue reemplazada \", cambios, \" veces.\", sep=\"\")\nfinally:\n    try:\n        entrada.close()\n        salida.close()\n    except NameError:\n        pass",
      "execution_count": null,
      "outputs": []
    },
    {
      "metadata": {
        "trusted": true
      },
      "cell_type": "code",
      "source": "# Programacion I - Segundo Parcial\n\n# formato del archivo a leer:dia; numemp; nombre; he; hs  \n#(Numero de dia;Numero de Empleado;Nombre;Hora y Minutos de Entrada; Hora y Minutos de Salida)\n#Ejemplo: 30;121;Mario Pergolini;1445;1930\n\ndef hhmm2min(hora):\n    \"\"\" Convierte un horario hhmm en minutos \"\"\"\n    hh = int(hora[:2])\n    mm = int(hora[2:])\n    return hh*60 + mm\n\ndef min2hhmm(minutos):\n    \"\"\" Convierte minutos en horas y minutos \"\"\"\n    horas = minutos // 60\n    min = minutos % 60\n    return f\"{horas:02} horas {min:02} minutos\"\n    \n\n# Programa principal\ntry:\n    diccionario = dict.fromkeys(range(1,32), 0)    # Diccionario de acumuladores por día. Se acumulará todo convertido a minutos.\n    arch = open(\"mensuales.txt\")\n    k = 0\n    for linea in arch:\n        linea = linea.rstrip(\"\\n\") #elimina caracteres desde la derecha\n # que elegante como importa las variables!!:\n        dia, numemp, nombre, he, hs = linea.split(\";\")\n        entrada = hhmm2min(he)\n        salida = hhmm2min(hs)\n        tiempotrabajado = salida - entrada\n        if tiempotrabajado<0:  # Turno noche, hora salida < hora entrada\n            tiempotrabajado = 1440+tiempotrabajado\n        diccionario[int(dia)] += tiempotrabajado\n        k += 1\n    print(\"Registros procesados:\", k)\n    print()\n    lista = list(diccionario.items())  # Convertimos el diccionario en una lista para poder ordenarlo\n    lista.sort(key=lambda x:x[1], reverse= True)      # Odenamos la lista por el segundo elemento de cada tupla\n    for tupla in lista:\n        print(f\"Día {tupla[0]:2}: {min2hhmm(tupla[1])} trabajados\")\nexcept (FileNotFoundError, OSError) as error:\n    print(\"ERROR:\", error)\nfinally:\n    try:\n        arch.close()\n    except NameError:\n        pass\n    \n        \n    ",
      "execution_count": null,
      "outputs": []
    },
    {
      "metadata": {
        "trusted": true
      },
      "cell_type": "code",
      "source": "# PROGRAMACION I - RECUPERATORIO 2 PARCIAL\n\n# formato del archivo a leer: nombre; importe (positivo o negativo)\n#Ejemplo: Mario Pergolini;-1445\n\nUn banco quiere conocer de sus clientes el saldo por cliente. En el archivo de Base de datos se incluye por cada registo el \nnombre y monto del importe que opero durante el mes. \nCuando el monto es cero, corresponde a consultas y no debe considerarse operaciones.\nCuando el monto es negativo corresponde a extracciones\nCuando el monto es positivo correspondo a depositos.\nSi el nombre tiene mas de un registro, significa que realizo varias operaciones.\nSe solicita: \nUn resumen del saldo por cliente ordendano por la cantidad de operaciones que realizo.\nDeterminar cual es el cliente con el mayor saldo negativo\n",
      "execution_count": null,
      "outputs": []
    },
    {
      "metadata": {
        "trusted": true
      },
      "cell_type": "code",
      "source": "def sumaxname(lis): #Crea un diccionario con nombre y saldo acumulado   \n    larg = len(lis)\n    dictionar = { }\n    for i in range(0,larg-1,2):\n        if lis[i] in dictionar:          \n            continue\n        dictionar[lis[i]] = lis[i+1]\n        for j in range(i+2, larg,2):          \n            if lis[i] == lis[j]:\n                dictionar[lis[i]] = dictionar[lis[i]]+lis[j+1]\n    return dictionar\n\ndef cuentaxname(lis): #Crea un diccionario con nombre y q de operaciones acumuladas\n    diccionar = {}\n    for i in lis:\n        diccionar[i] = lis.count(i)\n    return diccionar\n\ndef dic2list(diccionar): #Crea una lista ordenada a partir de un diccinario\n    lis = list(dict.items(diccionar))\n    lis.sort(key = lambda x: x[0], reverse = False)\n    return lis\n\ndef integra(lis1,lis2): #integra la lista de saldo y la de operaciones con el nombre como clave, y las ordena decreciente por operaciones\n    largo = len(lis1)\n    lprim = []\n    lult = []\n    i = 0\n    j = 0\n    count = 0\n    for i in range(largo):\n        lprim.append(lis1[i][j])\n        lprim.append(lis1[i][j+1])\n        lprim.append(lis2[i][j+1])        \n        lult.append([lprim[i+count] for i in range(3)])\n        count = count+3\n    lult.sort(key = lambda x: x[2], reverse = True)    \n    return lult\n\n#programa principal\ndata = open(\"recuperatorio2.csv\")\nsaldos =[]\noperaciones = []\n\nfor linea in data:\n    linea = linea.rstrip(\"\\n\")\n    nombre, monto = linea.split(\";\") # Genera los campos a partir de la linea del csv\n    monto = int(monto)\n \n    #crea la lista saldo filtrando los nombres que tuvieron operaciones con valor cero\n    if monto != 0:     \n        saldos.append(nombre)\n        saldos.append(monto) \n    \n    #crea la lista operaciones filtrando los nombres que tuvieron operaciones con valor cero\n    if monto != 0:\n        operaciones.append(nombre)\n\na = dic2list(sumaxname(saldos))\nb = dic2list(cuentaxname(operaciones))\n\nprint(integra(a,b))",
      "execution_count": null,
      "outputs": []
    },
    {
      "metadata": {},
      "cell_type": "markdown",
      "source": "El INDEC desea realizar un informe sobre los precios de articulos de librerias de las localidades de argentina.\nPara ello cuenta con un archivo csv que contiene los siguientes campos:\n    \n    Codigo de Articulo\n    Descripcion del articulo\n    Precio\n    Localidad\n    Provincia\n    \nSe solicita realizar informes con los siguientes puntos:\n    1- Cantidad de articulos por Localidad ordenada por cantidad en forma decreciente\n    2- por cada localidad informar el articulo con el precio maximo y su descripcion, ordenado las localidades por  el punto 1\n    "
    },
    {
      "metadata": {
        "trusted": true
      },
      "cell_type": "code",
      "source": "def var_q(lis): #Crea un diccionario por que argupa por una variable y cuenta su frecuencia   \n    dictionar = { }\n    for var in lis:\n        if var in dictionar:\n            dictionar[var] = dictionar[var] +1\n        else:\n            dictionar[var] =1\n    return dictionar\n\ndef dic2list(diccionar): #Crea una lista ordenada a partir de un diccinario\n    lis = list(dict.items(diccionar))\n    lis.sort(key = lambda x: x[1], reverse = True)\n    return lis\n\ndef var_max(lis): #Crea un diccionario por una variable clave e informe el maximo de una variable cuantitativa   \n    larg = len(lis)\n    dictionar = { }\n    for i in range(0,larg-1,2):\n        if lis[i] in dictionar:          \n            continue\n        dictionar[lis[i]] = lis[i+1]\n        for j in range(i+2, larg,2):          \n            if lis[i] == lis[j]:\n                if lis[j+1] > lis[i+1]: \n                    dictionar[lis[i]] = lis[j+1]\n    return dictionar\n\ndef var_desc_max(lis): #Crea un diccionario por una variable clave e informe el maximo de una variable cuantitativa y su descripcion   \n    larg = len(lis)\n    dictionar = { }\n    for i in range(0,larg-2,3):\n        if lis[i] in dictionar:          \n            continue\n        dictionar[lis[i]] = lis[i+3]\n        for j in range(i+3, larg,3):          \n            if lis[i] == lis[j]:\n                if lis[j+2] > lis[i+2]: \n                    dictionar[lis[i]] = [lis[j+1],lis[j+2]] \n    return dictionar\n\ndef une_dic_comp(dict1,dict2): #integra dos diccionarios usando el orden del primero, utiliza metodo por comprension\n    finaldict = {key:(dict1[key], dict2[key]) for key in dict1}\n    return finaldict\n\ndef une_dic(dict1,dict2):#integra dos diccionarios usando el orden del primero, utiliza metodo tradicional\n    finaldict = {}\n    for key in dict1:\n        finaldict[key] = [dict1[key], dict2[key]]\n    return finaldict\n\n#programa principal\narch = open(\"ejercicio_indec.csv\", encoding=\"utf-8\")\nlocalidades =[]\nlocalidad_precio = []\nlocalidad_producto_precio = []\n\nlinea = arch.readline()\nwhile linea:\n#for linea in arch:\n    linea = linea.rstrip(\"\\n\")\n    codigo,producto,precio,localidad,provincia = linea.split(\";\") # Genera los campos a partir de la linea del csv\n    if precio.isalpha(): #reviso que el formato sea numerico en precio\n        continue\n    precio = int(precio)\n    \n    localidades.append(localidad)\n    \n    localidad_precio.append(localidad)\n    localidad_precio.append(precio)\n    \n    localidad_producto_precio.append(localidad)\n    localidad_producto_precio.append(producto)\n    localidad_producto_precio.append(precio)\n    \n    linea = arch.readline()\n    \nlocalidad_q = var_q(localidades)\nprint(\"El diccionario de cantidad de productos por localidad es: \")\nprint(localidad_q)\nprint()\nprint(\"El listado de cantidad de productos por localidad es (orden Q de productos decreciente): \")\nlist_localidad_q_dec = dic2list(localidad_q)\nprint(list_localidad_q_dec)\nprint()\nprint(\"El diccionario de cantidad de productos por localidad es (orden Q de productos decreciente): \")\ndict_localidad_q_dec = dict(list_localidad_q_dec)\nprint(dict_localidad_q_dec)\nprint()\nprint(\"El diccionario de precios maximos por localidad es: \")\nlocalidad_precio_max=var_max(localidad_precio)\nprint(localidad_precio_max)\nprint()\nprint(\"El diccionario de precios maximos por localidad, ordenando por cantidad es: \")\ndic_localidad_precio_max_dec=une_dic_comp(dict_localidad_q_dec,localidad_precio_max)\nprint(dic_localidad_precio_max_dec)\nprint()\nprint(\"El diccionario de precios maximos y producto por localidad es: \")\nlocalidad_producto_precio_max=var_desc_max(localidad_producto_precio)\nprint(localidad_producto_precio_max)\nprint()\nprint(\"El diccionario de precios maximos y producto por localidad, ordenado por cantidad decreciente es: \")\ndic_localidad_producto_precio_max_dec=une_dic(dict_localidad_q_dec,localidad_producto_precio_max)\nprint(dic_localidad_producto_precio_max_dec)\nprint()\n\narch.close()",
      "execution_count": null,
      "outputs": []
    },
    {
      "metadata": {
        "trusted": true
      },
      "cell_type": "raw",
      "source": "FINAL - PUBLICADO WEBCAMPUS\n\nUtilizar el Block de notas o el editor del Visual Studio para crear un archivo de texto cuyas líneas pueden tener indistintamente\ncualquiera de los siguientes formatos:\n\nFormato 1: Compra de mercaderías\nDD MM AAAA DDDDDDDDDDDDDDDDDDDD NNN PPP.PP\nFormato 2: Venta de mercaderías\nDD MM AAAA NNN DDDDDDDDDDDDDDDDDDDD PPP.PP\n\nDonde:\nDD =       Número de día, en dos posiciones. (01 a 31, comienza en columna 0)\nMM =       Número de mes, en dos posiciones. (01 a 12, comienza en columna 3)\nAAAA =     Número de año, en cuatro posiciones. (comienza en columna 6)\nDDD... =   Nombre del producto (20 posiciones, rellenado con espacios si la longitud es menor que 20. Comienza en columna 11 o 16 según el tipo de registro)\nNNN =      Cantidad de unidades compradas o vendidas. (001 a 999, comienza en columna 32 u 11)\nPPP.PP =   Precio por unidad. Número real (tres dígitos y dos decimales, comienza en columna 36)\n\nEjemplo:\n12 08 2009 035 RESMA PAPEL OBRA 70G 101.15 <– Venta de mercaderías\n08 10 2009 TIJERA ESCOLAR PLAST 150 064.21 <– Compra de mercaderías\n\nEl mismo archivo contiene registros de ambos formatos intercalados sin ningún criterio particular.\n\nSe solicita imprimir un listado con la cantidad en stock para cada producto, la que se obtiene sumando las compras y\nrestando las ventas de cada uno de ellos. El listado debe mostrarse ordenado en forma descendente según la cantidad\nen stock. Imprimir también el resultado del ejercicio para el año 2009, el que se obtiene restando el total obtenido\npor ventas menos el total invertido en compras, considerando solamente aquellas operaciones del año 2009.\n\nNo se conoce la cantidad de productos. Tampoco es posible estimar una cantidad para este valor."
    },
    {
      "metadata": {
        "trusted": true
      },
      "cell_type": "code",
      "source": "\"\"\"\nEjercicio Simulacro Listas por comprension - 1er Parcial 2020\n\nInstrucciones\nUtilizar la técnica de listas por comprensión para construir una lista con el doble del valor de los numeros impares de un \nrango de números entre M y N inclusive.   \nEl valor de M y N se ingresa por teclado asegurando que exista un rango entre ellos.   \nmostrar la lista creada por comprension pantalla\n\n\"\"\"\n\nm = int(input(\"ingrese el menor valor\"))\nn = int(input(\"ingrese el mayor valor\"))\nwhile n-m <=0:\n    print(\"Debe ingresar dos valores que tengan un rango entre ellos \")\n    m = int(input(\"ingrese el menor valor\"))\n    n = int(input(\"ingrese el mayor valor\"))\n\n\nlistado = [i*2 for i in range(m, n) if (i)%2 !=0]\nprint(listado)\n",
      "execution_count": 1,
      "outputs": [
        {
          "output_type": "stream",
          "name": "stdout",
          "text": "ingrese el menor valor3\ningrese el mayor valor6\n[6, 10]\n"
        }
      ]
    },
    {
      "metadata": {
        "trusted": true
      },
      "cell_type": "code",
      "source": "# SIMULACRO 2020 Primer Parcial - Ej 1\n\n# a) Desarrollar una función para crear una lista con N elementos al azar.\n# Se debe recibir por parámetro en valor N y el rango en el que puede estar cado uno de esos elementos (desde y hasta).\n# Aclaración: en caso de no recibir N por parámetro, se debe crear la lista con 20 elementos;\n# y en caso de no recibir el rango, se deben tomar los valores de 1 a 100.\n\n# b) Utilizando la función anterior, realizar un programa que cree una lista con N elementos al azar entre 1 y 100.\n# Mostrar el promedio de la misma y aquellos elementos que sean mayores al promedio, ordenados de menor a mayor. \n# Aclaración: se requiere utilizar la función sum para calcular el promedio, y que la creación\n# de la lista de los elementos que superan el promedio se realice por comprensión.\n\n# Funciones:\nimport random\n\ndef elementosAzar(cant=20, desde=1, hasta=100):\n    '''Crear una lista con N elementos al azar\n    '''\n    lista = [random.randint(desde, hasta) for i in range(cant)]\n    return lista\n    \ndef main():\n    '''Programa Principal\n    '''\n#   Ingreso cantidad de elementos\n    cant = int(input(\"Ingresar la cantidad de elementos de la lista: \"))    \n    while (cant < 1):\n        cant = int(input(\"Ingresó un número inválido, pruebe con uno positivo: \"))\n    lista = elementosAzar(cant)\n    print(\"Lista creada: \", lista)\n\n#   Muestro el promedio\n    prom = sum(lista)/len(lista)\n    print(\"El promedio de valores de la lista creada es: \", prom)\n    \n#   Muestro elementos mayores al promedio, ordenados\n    lista2 = [i for i in lista if (i > prom)]\n    lista2.sort()\n    print(\"Elementos mayores al promedio: \", lista2)\n    \n# Programa Principal:\nmain()",
      "execution_count": null,
      "outputs": []
    },
    {
      "metadata": {
        "trusted": true
      },
      "cell_type": "code",
      "source": "# SIMULACRO 2020 Primer Parcial - Ej 2\n\n# a) Desarrollar una función lambda que indique si un número es par o impar.\n\n# b) Realizar un programa que solicite por teclado números al azar entre 1 y 50.\n# Dichos números deben ser separados en 2 listas, una para los pares y otra para los impares.\n# Aclaración: se finaliza la carga de valores al ingresar el cero, los valores deben ir siendo\n# agregados a una lista o a la otra al momento de ser ingresados, utilizando la función del inciso a).\n\n# Funciones:\nesPar = lambda nro : (nro%2 == 0)\n'Indica si un número es par o impar'\n    \ndef main():\n    '''Programa Principal\n    '''\n    pares = []\n    impares = []\n    nro = int(input(\"Ingrese un número entre el 1 y el 50: \"))\n    while (nro != 0):\n        while (nro < 1) or (nro > 50):\n            nro = int(input(\"Número erróneo - ingrese un número entre el 1 y el 50: \"))\n        if esPar(nro):\n            pares.append(nro)\n        else:\n            impares.append(nro)\n        nro = int(input(\"Ingrese un número entre el 1 y el 50: \"))\n    print(\"Números pares: \", pares)\n    print(\"Números impares: \", impares)\n    \n# Programa Principal:\nmain()",
      "execution_count": null,
      "outputs": []
    },
    {
      "metadata": {
        "trusted": true
      },
      "cell_type": "code",
      "source": " \"\"\"\nEjercicio Simulacro - 2020\n\n3) Desarrollar un programaque resuelva la siguiente situación problemática (no olvidarse de modularizar):\n“Un productor de naranjas desea contabilizar sus cajones de naranjas según el peso para poder cargar luego los camiones de reparto. \nEn un cajón entran 100 naranjas con un peso entre  200  y  300  gramos  cada  una,  \nsi  la  naranja  supera  o  es  menor  al  rango  del  peso indicado, se clasifica para procesar como jugo. \n\nSe necesita un programa que al ingresar la cantidad  de  naranjas  producidas: \n\n-le  informe  cuántos  cajones se llenan, \n-el  peso  de  cada cajón  (para  luego  cargar  los  camiones  de  reparto), \n-cuántas  naranjas  son  para  jugo  \n-y el peso de las naranjas sobrante que se debe considerar para el siguiente reparto.\n\nSimular el peso de cada naranja con un número al azar entre 150 y 350\n\n\"\"\"\n\n# Funciones:\nimport random\n\ndef main():\n    '''Programa Principal\n    '''\n#   Cosecha\n    cant = int(input(\"Ingrese la cantidad de naranjas producidas: \"))\n    naranjas = [random.randint(150, 350) for i in range(cant)]\n#   print(naranjas)\n    \n#   Clasificación\n    cantPorCajon = 0 #cantidad acumulada de naranjas en el cajón actual\n    pesoPorCajon = 0 #peso acumulado de naranjas en el cajón actual\n    cantJugo = 0 #cantidad total de naranjas para jugo\n    listaCajones = [] #lista de pesos de cada cajón\n\n    for i in naranjas:\n        if i<200 or i>300:\n            cantJugo += 1\n        else:\n            pesoPorCajon += i\n            cantPorCajon += 1\n            if cantPorCajon==100:\n                listaCajones.append(pesoPorCajon)\n                pesoPorCajon = 0\n                cantPorCajon = 0         \n        \n#   Informes\n    print(\"Se llenan \", len(listaCajones), \" cajones\")\n    print(\"Pesos de cada cajón: \", listaCajones)\n    print(\"Cantidad de naranjas para jugo: \", cantJugo)\n    print(\"Peso de las naranjas sobrantes: \", pesoPorCajon)\n\n# Programa Principal:\nmain()",
      "execution_count": null,
      "outputs": []
    },
    {
      "metadata": {
        "trusted": true
      },
      "cell_type": "code",
      "source": "# Programcion I - 2020-04-24-Progra I-1erParcial\n\n\"\"\"\nEnunciado\n\nEjercicio a Resolver:\n\n \nDesarrollar una función para crear una matriz de NxN (por omisión 4) con números al azar positivos (por omisión entre 100 y 999) sin repetidos. (25%)\n\nCrear un programa principal para crear una matriz de NxN, N se solicita del teclado y se debe validar que sea positivo y menor a 20.\n\nMediante la creación de funciones, resuelva lo siguiente:\n\n \n\n1.      El mayor número de la diagonal principal y cuantas veces aparece en la matriz. (25%)\n\n2.      Crear una lista con todos los elementos de la triangular superior (considerando la diagonal principal). (25%)\n\n3.      Luego modificar la lista para filtrar elementos quedandose  con los valores cuyo digito central es impar.\n(La funcion a crear para determinar si el digito central es impar debe ser genérica, o sea, debe funcionar para cualquier cantidad de dígitos,\ntanto valores positivos como negativos. (25%)\n \n\nAdjunto tiene una imagen para visualizar cuáles son los elementos de la triangular superior a considerar.\n\n421 256 521 321\n124-126 288 823\n516 840-478 901\n732 654 333-127\n\n\"\"\"\n#2020-05-25-Actividad-1er Parcial-Gomez Fabian Legajo 1112842\n\nimport random\n\n'''Se crea una lista al azar donde no se incluyen repetidos, se incluyen parametros por omision'''\ndef listazar(n=4, inicio=100, final=999):\n    lista =[]\n    count = 0\n    while count < n*n:\n        azar = random.randint(inicio,final)\n        if azar not in lista:\n            lista.append(azar)\n            count += 1\n    return lista\n\n'''Se crea una matriz mediante comprension y se llena mediante la lista de aletorios no repetidos. Se imprime con formato'''\ndef crea(n=4, inicio=100, final=999):\n    matriz = [[0]*n for i in range(n)]\n    listaleat = listazar(n,inicio,final)\n    count = 0\n    for i in range(len(matriz)):\n        for j in range(len(matriz)):\n            matriz[i][j] = listaleat[count]\n            count +=1\n    print()\n    print(\"La matriz aleatoria sin numeros repetidos entre \", inicio, \" y \", final, \" es: \")\n    print()\n    for f in matriz:\n        print(f)\n    return matriz\n\n'''Se crea una lista por comprensión con los elementos de la diagonal principal'''\ndef diagonalprin(matrix):\n    diagonal=[]\n    diago =[[matrix[i][j]] for i in range(len(matrix)) for j in range(len(matrix)) if i==j ]\n    for i in diago:\n        for j in i:\n            diagonal.append(j)\n    return diagonal\n\n'''Se utiliza una técnica con For e If, para obtener la triangular superior'''\ndef triansup(matrix):\n    n = len(matrix)\n    triangsup =[]\n    for i in range(n):\n        for j in range(n):\n            if i<=j:\n                triangsup.append(matrix[i][j])                \n    return triangsup\n\n'''Funcion para contar la cantidad de apariciones del maximo de la diagonal, en la matriz'''\ndef cuenta(num, lista):\n    cuentamax = 0\n    for i in lista:\n        for j in i:\n            if j == num:\n                cuentamax += 1           \n    return cuentamax\n\n'''Funcion para filtrar los digitos centrales impar, utilizando filter y lambda'''\ndef filtrartriansup(lista):\n    listanew =[]\n    for i in lista:\n        #if para aplicar solo a los elementos que tengan q de digitos impares, para que tengan digito central\n        if (int(len(str(i)))%2) != 0:\n            listanew.append(i)\n    listafinal = list( filter (lambda x: x%10**((len(str(x)))-(len(str(x))//2))//10**(len(str(x))//2)%2 == 0, listanew))\n    filtrado = list( filter (lambda x: x%10**((len(str(x)))-(len(str(x))//2))//10**(len(str(x))//2)%2 != 0, listanew))\n    print(\"se filtro a los numeros con digito impar central: \", filtrado)\n    return listafinal\n\n\n     \n'''Funcion para evaluar la validez del tamaño de la matriz, ingresada por el usuario'''\ndef matrizsize():\n    num = int(input(\"ingrese el numero o -1 para terminar: \"))\n    nuevo = num\n    if num > 0 and num < 20:\n        nuevo = num\n        print(\"el numero elegido es: \",nuevo)\n    elif num == -1:\n        nuevo = -1               \n    else: \n        print(\"ingreso un numero no valido\")\n        #Utilizo recursividad que es mas practico\n        nuevo = matrizsize()\n    return nuevo\n\n'''Funcion para evaluar la validez del rango, ingresado por el usuario'''\ndef rango():\n    num = int(input(\"ingrese el numero o -1 para terminar: \"))\n    nuevo = num\n    if num >= 100 and num <= 999:\n        nuevo = num\n        print(\"el numero elegido es: \",nuevo)\n    elif num == -1:\n        nuevo = -1\n    else: \n        print(\"ingreso un numero no valido\")\n        #Utilizo recursividad que es mas practico\n        nuevo = rango()\n    return nuevo\n\n\ndef main():\n    final = False\n    print(\"Debe ingresar el tamaño de la matriz\")\n    a = matrizsize()\n    if a != -1:\n        print(\"Debe ingresar el inicio del rango aleatorio\")    \n        b = rango()\n        if b != -1:\n            print(\"Debe ingresar el final del rango aleatorio\")\n            c = rango()\n            if c != -1:\n                if c >= b+(a*a):\n                    matriz = crea(a, b, c )\n                else:\n                    print(\"La distancia entre el inicio y el final no es suficiente, comienze nuevamente\")\n                    final = True\n            else:\n                print(\"Ha seleccionado terminar el programa\")\n                final = True\n        else:\n            print(\"Ha seleccionado terminar el programa\")\n            final = True\n    else:\n        print(\"Ha seleccionado terminar el programa\")\n        final = True\n\n    if final == True:\n        return final\n    else:\n        return matriz\n\n                  \n#programa principal\nmatriz = main()\nif matriz == True:\n    print(\"El programa ha terminado\")\nelse:    \n    print()\n    print(\"La diagonal principal es: \", diagonalprin(matriz) )\n    print()\n    print(\"La triangular superior es: \", triansup(matriz))\n    print()\n    print(\"El numero maximo de la diagonal principal es: \", max(diagonalprin(matriz)))\n    print(\"El numero maximo de la diagonal aparece: \", cuenta(max(diagonalprin(matriz)), matriz),\" vez en la matriz\")\n    print()\n    print(\"Ademas,se filtran los elementos con digito central impar\")\n    print()\n    print(\"El resultado es final: \", filtrartriansup(triansup(matriz)))\n\n\n",
      "execution_count": 16,
      "outputs": [
        {
          "output_type": "stream",
          "text": "Debe ingresar el tamaño de la matriz\ningrese el numero o -1 para terminar: 5\nel numero elegido es:  5\nDebe ingresar el inicio del rango aleatorio\ningrese el numero o -1 para terminar: 100\nel numero elegido es:  100\nDebe ingresar el final del rango aleatorio\ningrese el numero o -1 para terminar: 200\nel numero elegido es:  200\n\nLa matriz aleatoria sin numeros repetidos entre  100  y  200  es: \n\n[171, 144, 137, 129, 178]\n[184, 180, 153, 186, 119]\n[140, 189, 173, 159, 123]\n[146, 200, 193, 145, 190]\n[149, 150, 195, 101, 156]\n\nLa diagonal principal es:  [171, 180, 173, 145, 156]\n\nLa triangular superior es:  [171, 144, 137, 129, 178, 180, 153, 186, 119, 173, 159, 123, 145, 190, 156]\n\nEl numero maximo de la diagonal principal es:  180\nEl numero maximo de la diagonal aparece:  1  vez en la matriz\n\nAdemas,se filtran los elementos con digito central impar\n\nse filtro a los numeros con digito impar central:  [171, 137, 178, 153, 119, 173, 159, 190, 156]\nEl resultado es final:  [144, 129, 180, 186, 123, 145]\n",
          "name": "stdout"
        }
      ]
    },
    {
      "metadata": {
        "trusted": true
      },
      "cell_type": "code",
      "source": "'''\nEjercicio a Resolver:\n \n1.     Desarrollar un programa para crear una matriz de NxN con números al azar de tres dígitos positivos (100 y 999) sin repetidos. \n        N se solicita del teclado y se debe validar que sea positivo y menor a 20. Mostrar por pantalla la matriz creada con \n        formato de matriz.\n        La funcion para crear y/o rellenar la matriz debe ser genérica y poder crear matrices de cualquier dimensión y rango \n        de elementos. \n        Utilizar los parámetros por omisión para el rango indicado del programa.\n \nInformar:\na.  Crear una lista con los números impares de la matriz triangular superior (considerando los números que se encuentran en \n    la diagonal principal)\n    Adjunto tiene una imagen donde se indica cuál es la triangular superior con la diagonal principal incluída.\n    Desarrollar y utilizar una función lambda para determinar si un número es impar. Utilizar técnica de rebanadas para cada \n    fila para obtener los valores solicitados.\n \nb.  Crear otra lista por comprensión con los elementos de la diagonal principal e informar el menor número. \n Cuántas veces aparece el menor número en la triángular superior?\n \nc.   Concatenar ambas listas, ordenarlas y luego quitar de la lista los elementos con digito central en cero utilizando \nla función filter para resolverlo.\n\n\n421 256 521 321\n124-126 288 823\n516 840-478 901\n732 654 333-127\n\nLos elementos que se deben seleccionar son los inluidos por triangulo superior que forma la diagonal 421-126-478-127\n\n'''\n\n#2020-05-25-Actividad-1er Parcial-Actividad para el Oral\n\nimport random\n\n'''Se crea una lista al azar donde no se incluyen repetidos, se incluyen parametros por omision'''\ndef listazar(n=4, inicio=100, final=999):\n    lista =[]\n    count = 0\n    while count < n*n:\n        azar = random.randint(inicio,final)\n        if azar not in lista:\n            lista.append(azar)\n            count += 1\n    return lista\n\n'''Se crea una matriz mediante comprension y se llena mediante la lista de aletorios no repetidos. Se imprime con formato'''\ndef crea(n=4, inicio=100, final=999):\n    matriz = [[0]*n for i in range(n)]\n    listaleat = listazar(n,inicio,final)\n    count = 0\n    for i in range(len(matriz)):\n        for j in range(len(matriz)):\n            matriz[i][j] = listaleat[count]\n            count +=1\n    print()\n    print(\"La matriz aleatoria sin numeros repetidos entre \", inicio, \" y \", final, \" es: \")\n    print()\n    for f in matriz:\n        print(f)\n    return matriz\n\n'''Se crea una lista por comprensión con los elementos de la diagonal principal'''\ndef diagonalprin(matrix):\n    diagonal=[]\n    diago =[[matrix[i][j]] for i in range(len(matrix)) for j in range(len(matrix)) if i==j ]\n    for i in diago:\n        for j in i:\n            diagonal.append(j)\n    return diagonal\n\n'''Se utiliza una técnica de rebanadas para cada fila para obtener la triangular superior'''\ndef reba_triansup(matrix):\n    n = len(matrix)\n    triangsup =[]\n    count = 0\n    for i in matrix:\n        sel =i[count:]\n        count += 1\n        triangsup.append(sel)    \n    return triangsup\n\n'''Adicionalmente se utiliza una técnica con For e If, para obtener la triangular superior'''\ndef triansup(matrix):\n    n = len(matrix)\n    triangsup =[]\n    for i in range(n):\n        for j in range(n):\n            if i<=j:\n                triangsup.append(matrix[i][j])                \n    return triangsup\n\n'''Funcion para contar la cantidad de apariciones del minimo de la diagonal, en la triangular superior'''\ndef cuenta(num, lista):\n    cuentamin = 0\n    for i in lista:\n        if i == num:\n            cuentamin += 1           \n    return cuentamin\n\n'''Funcion para filtrar los digitos centrales cero, utilizando filter y lambda'''\ndef filtrartriansup(lista):\n    listanew =[]\n    for i in lista:\n        #if para aplicar solo a los elementos que tengan q de digitos impares, para que tengan digito central\n        if (int(len(str(i)))%2) != 0:\n            listanew.append(i)\n    listafinal = list( filter (lambda x: x%10**((len(str(x)))-(len(str(x))//2))//10**(len(str(x))//2) != 0, listanew))\n    filtrado = list( filter (lambda x: x%10**((len(str(x)))-(len(str(x))//2))//10**(len(str(x))//2) == 0, listanew))\n    print(\"se filtro a los numeros con digito cero central: \", filtrado)\n    return listafinal\n\n'''Se concatena la lista con los números impares de la matriz triangular superior con la\nlista de los elementos de la diagonal principal. Se llama a la funcion que filtra los ceros\nen el digito central y se ordena la lista final'''\ndef concate(lista1, lista2):\n    nuevalista = lista1+lista2\n    nuevalista.sort()\n    print(\"la lista concatenada y ordenada es: \", nuevalista)\n    sinceros = filtrartriansup(nuevalista)\n    return sinceros\n     \n'''Funcion para evaluar la validez del tamaño de la matriz, ingresada por el usuario'''\ndef matrizsize():\n    num = int(input(\"ingrese el numero o -1 para terminar: \"))\n    nuevo = num\n    if num > 0 and num < 20:\n        nuevo = num\n        print(\"el numero elegido es: \",nuevo)\n    elif num == -1:\n        nuevo = -1               \n    else: \n        print(\"ingreso un numero no valido\")\n        #Utilizo recursividad que es mas practico\n        nuevo = matrizsize()\n    return nuevo\n\n'''Funcion para evaluar la validez del rango, ingresado por el usuario'''\ndef rango():\n    num = int(input(\"ingrese el numero o -1 para terminar: \"))\n    nuevo = num\n    if num >= 100 and num <= 999:\n        nuevo = num\n        print(\"el numero elegido es: \",nuevo)\n    elif num == -1:\n        nuevo = -1\n    else: \n        print(\"ingreso un numero no valido\")\n        #Utilizo recursividad que es mas practico\n        nuevo = rango()\n    return nuevo\n\n\ndef main():\n    final = False\n    print(\"Debe ingresar el tamaño de la matriz\")\n    a = matrizsize()\n    if a != -1:\n        print(\"Debe ingresar el inicio del rango aleatorio\")    \n        b = rango()\n        if b != -1:\n            print(\"Debe ingresar el final del rango aleatorio\")\n            c = rango()\n            if c != -1:\n                if c >= b+(a*a):\n                    matriz = crea(a, b, c )\n                else:\n                    print(\"La distancia entre el inicio y el final no es suficiente, comienze nuevamente\")\n                    final = True\n            else:\n                print(\"Ha seleccionado terminar el programa\")\n                final = True\n        else:\n            print(\"Ha seleccionado terminar el programa\")\n            final = True\n    else:\n        print(\"Ha seleccionado terminar el programa\")\n        final = True\n\n    if final == True:\n        return final\n    else:\n        return matriz\n\n                  \n#programa principal\nmatriz = main()\nif matriz == True:\n    print(\"El programa ha terminado\")\nelse:    \n    print()\n    print(\"La diagonal principal es: \", diagonalprin(matriz) )\n    print()\n    print(\"La triangular superior (mediante rebanadas) es: \", reba_triansup(matriz) )\n    print()\n\n    '''Se aplica la funcion lambda para filtrar los numero pares de la Triangular Superior'''\n\n    triansup_imp = list(filter(lambda x:x%2, triansup(matriz)))\n    print(\"Los numeros impares de la triangular superior son: \", triansup_imp )\n    print()\n    print(\"El numero minimo de la diagonal principal es: \", min(diagonalprin(matriz)))\n    print(\"El numero minimo de la diagonal aparece: \", cuenta(min(diagonalprin(matriz)),triansup(matriz)),\" vez en la triangular superior\")\n    print()\n    print(\"Se solicito concatenar la lista de números impares de la matriz triangular superior,\")\n    print(\"con la lista de los elementos de la diagonal principal\")\n    print(\"Ademas, ordenar la lista y filtrar los elementos con digito central cero\")\n    print()\n    print(\"El resultado es final: \", concate(triansup_imp, diagonalprin(matriz)))\n",
      "execution_count": 1,
      "outputs": [
        {
          "output_type": "stream",
          "text": "Debe ingresar el tamaño de la matriz\ningrese el numero o -1 para terminar: 5\nel numero elegido es:  5\nDebe ingresar el inicio del rango aleatorio\ningrese el numero o -1 para terminar: 100\nel numero elegido es:  100\nDebe ingresar el final del rango aleatorio\ningrese el numero o -1 para terminar: 200\nel numero elegido es:  200\n\nLa matriz aleatoria sin numeros repetidos entre  100  y  200  es: \n\n[157, 195, 171, 134, 158]\n[138, 162, 153, 191, 180]\n[142, 102, 106, 117, 154]\n[139, 190, 198, 146, 188]\n[147, 163, 150, 168, 115]\n\nLa diagonal principal es:  [157, 162, 106, 146, 115]\n\nLa triangular superior (mediante rebanadas) es:  [[157, 195, 171, 134, 158], [162, 153, 191, 180], [106, 117, 154], [146, 188], [115]]\n\nLos numeros impares de la triangular superior son:  [157, 195, 171, 153, 191, 117, 115]\n\nEl numero minimo de la diagonal principal es:  106\nEl numero minimo de la diagonal aparece:  1  vez en la triangular superior\n\nSe solicito concatenar la lista de números impares de la matriz triangular superior,\ncon la lista de los elementos de la diagonal principal\nAdemas, ordenar la lista y filtrar los elementos con digito central cero\n\nla lista concatenada y ordenada es:  [106, 115, 115, 117, 146, 153, 157, 157, 162, 171, 191, 195]\nse filtro a los numeros con digito cero central:  [106]\nEl resultado es final:  [115, 115, 117, 146, 153, 157, 157, 162, 171, 191, 195]\n",
          "name": "stdout"
        }
      ]
    },
    {
      "metadata": {
        "trusted": true
      },
      "cell_type": "code",
      "source": "# Otra variante de la carga de datos\n\ndef revisa(num):\n    if num > 0 and num < 20:\n        enrango = True\n    else:\n        enrango = False\n    return enrango\n\na = int(input(\"ingrese el numero, o -1 para finalizar: \"))\nwhile a != -1 and revisa(a) != True:\n    a = int(input(\"ingrese el numero, o -1 para finalizar: \"))\nif a == -1:\n    print(\"programa terminado\")\nelse:\n    print(\"el numero es\", a)",
      "execution_count": 2,
      "outputs": [
        {
          "output_type": "stream",
          "name": "stdout",
          "text": "ingrese el numero, o -1 para finalizar: 23\ningrese el numero, o -1 para finalizar: 20\ningrese el numero, o -1 para finalizar: 19\nel numero es 19\n"
        }
      ]
    },
    {
      "metadata": {
        "trusted": true
      },
      "cell_type": "code",
      "source": "'''\nSimulacro 2do Parcial 1er cuatrimestre 2020 \nEjercicio 1: \n\nSe solicita leer el archivo de frases “frases.txt” y crear uno nuevo que contenga una palabra por registro, \ndebe ser la palabra más larga pero sin considerar letras repetidas en la cuenta. \nSi alguna frase tiene más de una palabra más larga, es suficiente con guardar sólo una de ellas. \nNo se permite cargar por completo el archivo de frases en memoria. Por ejemplo:\n\nRegistro: “Bello es mejor que feo” Palabra más larga: mejor\n\nResolver utilizando excepciones y creando al menos dos funciones. \nNo se aceptan funciones que sólo cumplen una acción o instrucción, debe resolver correctametne un sub-problema.'''",
      "execution_count": null,
      "outputs": []
    },
    {
      "metadata": {
        "trusted": true
      },
      "cell_type": "code",
      "source": "def mascaracteres(cad):\n    '''Retorna la palabra que tiene mayor cantidad de letras diferentes'''\n    cad = quitarSimbolo(cad)\n    lista = cad.split()\n    \n#Atencion aca: calcula el largo de cada palabra de cada frase y grnera una lista por frase del largo de cada palabra\n\n    cantletras = [len(set(palabra.lower())) for palabra in lista]\n#Imprimo las listas de cantidad de letras para que se entienda que hace\"\n    print(cantletras)\n#Arama una nueva lista donde usa el maximo para buscar la posicion de la palabra e incluirle en el listado\n    mayor = lista[cantletras.index(max(cantletras))]\n\n    return mayor\n\ndef quitarSimbolo(cad):\n    nuevacad = \"\"\n    for letra in cad:\n        if letra.isalpha():\n            nuevacad += letra\n        elif letra == \" \":\n            nuevacad += letra\n    return nuevacad\n            \n    \ndef main():\n    try:\n        archOrig = open(\"frases.txt\", \"rt\")\n        archNuevo = open(\"palabras.txt\", \"wt\")\n        \n        for registro in archOrig:\n            registro = registro.rstrip(\"\\n\")\n            #obtener la palabra con mayor cantidad de letras\n            palabra = mascaracteres(registro)\n            archNuevo.write(palabra+\"\\n\")\n        print()\n        print(\"Archivo Creado\")\n    except IOError:\n        print(\"No se pudo abrir el archivo\")\n    finally:\n        try:\n            archOrig.close()\n            archNuevo.close()\n        except:\n            pass\nmain()",
      "execution_count": 6,
      "outputs": [
        {
          "output_type": "stream",
          "text": "[4, 2, 5, 3, 3]\n[9, 2, 5, 3, 8]\n[6, 2, 5, 3, 7]\n[7, 2, 5, 3, 8]\n[5, 2, 5, 3, 5]\n[8, 2, 5, 3, 5]\n[2, 7, 2, 9]\n[3, 4, 7, 2, 3, 2, 9, 7, 3, 3, 5, 3, 6]\n[3, 7, 2, 7, 2, 3, 1, 2, 6]\n[3, 4, 4, 7, 4, 10]\n[1, 5, 3, 2, 6, 11]\n[5, 1, 2, 8, 6, 2, 7, 2, 6]\n[6, 5, 3, 1, 10, 3, 3, 5, 5, 2, 7]\n[1, 5, 2, 3, 3, 5, 2, 3, 5, 1, 5, 3, 3, 8]\n[4, 2, 5, 3, 4]\n[1, 5, 2, 3, 4, 2, 6, 4, 5, 3, 4, 4]\n[2, 2, 10, 2, 6, 2, 8, 2, 3, 3, 4]\n[2, 2, 10, 2, 5, 2, 8, 4, 3, 3, 3, 5, 4]\n[3, 7, 2, 7, 3, 3, 4, 4, 8, 3, 2, 3]\n\nArchivo Creado\n",
          "name": "stdout"
        }
      ]
    },
    {
      "metadata": {
        "trusted": true
      },
      "cell_type": "code",
      "source": "'''\nSimulacro 2do Parcial 1er cuatrimestre 2020\nEjercicio 2: \n\nContraseñas! En general las contraseñas a crear deben cumplir reglas por seguridad para que sean válidas. Desarrolle un programa que ingrese contraseñas hasta ingresar una contraseña vacía. \nA medida que se ingresan verifique e informe si cumple con las reglas:\n\na.       No puede comenzar con número.\n\nb.      Debe contener al menos dos números. Contar la cantidad de numeros de una cadena mediante una función recursiva.\n\nResolver utilizando exclusivamente manejo de excepciones y estructura While-True, creando una nueva excepción \no generando una existente (ValueError) cuando no cumpla alguno de las dos reglas, \nmostrar mensaje aclaratorio correspondiente en cada caso'''",
      "execution_count": null,
      "outputs": []
    },
    {
      "metadata": {
        "trusted": true
      },
      "cell_type": "code",
      "source": "def cantNum(cad):\n    '''Retorna la cantidad de numeros que tiene un cadena'''\n    if len(cad) == 0:\n        return 0\n    else:\n        caracter = cad[0]\n        if caracter.isdigit():\n            return 1 + cantNum(cad[1:])\n        else:\n            return 0 + cantNum(cad[1:])\ndef main():\n    while True:\n        try:\n            password = input(\"ingrese contraseña:\")\n            if password == \"\":\n                break\n            assert not password[0].isdigit(), \"La contraseña comienza con un numero\"\n            cant = cantNum(password)    \n            assert (cant > 1), \"La contraseña contiene menos de dos numeros\"\n        except AssertionError as mensaje:\n            print(\"la contraseña no es valida\")\n            print(mensaje)\n        else:\n            print(\"la contraseña es valida\")\nmain()",
      "execution_count": null,
      "outputs": []
    },
    {
      "metadata": {
        "trusted": true
      },
      "cell_type": "code",
      "source": "'''\nSimulacro 2do Parcial 1er cuatrimestre 2020\nEjercicio 3: \n\nDesarrollar una función que reciba una cadena e informe para cada palabra sus repeticiones, teniendo en cuenta: \n\n1. Todas las claves deben estar en minúsuculas (es decir, ‘Hola’ y ‘hola’ deberían sumar al mismo contador). \n\n2. Se deben ignorar los signos de puntuación y los números (es decir, “ ‘(),.;:?¡¿[]{}-’ ”). \n\nDesarrollar un programa principal para ingresar una frase y \nluego mostrar por pantalla el listado de palabras y sus repeticiones ordenado alfabeticamente.\n'''",
      "execution_count": null,
      "outputs": []
    },
    {
      "metadata": {
        "trusted": true
      },
      "cell_type": "code",
      "source": "def quitarSimbolo(cad):\n    nuevacad = \"\"\n    for letra in cad:\n        if letra.isalpha():\n            nuevacad += letra\n        elif letra == \" \":\n            nuevacad += letra\n    return nuevacad\n\ndef cantidadPalabras(cad):\n    '''Retorna un diccionario de palabras y la cantidad de veces que aparece'''\n    cad = quitarSimbolo(cad)\n    lista = cad.lower().split()\n    dic = {}\n    for palabra in lista:\n        dic[palabra] = lista.count(palabra)\n    return dic\n    \ndef main():\n    cad = input(\"ingrese una frase: \")\n    dic = cantidadPalabras(cad)\n    #ATENCION AL CONVERTIR EL DICCIONARIO A LISTADO, SE QUEDA SOLO CON LAS CLAVES\n    claves =list(dic)\n    #ENTONCES ORDENA LAS CLAVES DEL DICCIONARIO CONVERTIDO A LISTA\n    claves.sort()\n#IMPORTANTE AHORA PARA CADA CLAVE, LA IMPRIME BUSCANDO EL VALOR QUE TIENE EN EL DICCIONARIO\n    for clave in claves:\n        print(clave, dic[clave])\n    \nmain()",
      "execution_count": 8,
      "outputs": [
        {
          "output_type": "stream",
          "name": "stdout",
          "text": "ingrese una frase: El primer ministro de Australia, Scott Morrison, indicó en la mañana del viernes (hora local) que el país es víctima de un amplio ciberataque de un “actor estatal” extranjero que actuó contra los sistemas informáticos del gobierno, administraciones y empresas.  “Actualmente, hay organizaciones australianas que están siendo blanco [de un ataque] de un actor estatal sofisticado”, declaró Scott Morrison en una rueda de prensa en Canberra, precisando que el ataque afectaba a “organizaciones australianas de toda una gama de sectores, a todos los niveles del gobierno, de la economía, de organizaciones políticas, de los servicios de salud y de otros operadores de infraestructuras estratégicas”.\na 2\nactor 2\nactualmente 1\nactuó 1\nadministraciones 1\nafectaba 1\namplio 1\nataque 2\naustralia 1\naustralianas 2\nblanco 1\ncanberra 1\nciberataque 1\ncontra 1\nde 14\ndeclaró 1\ndel 3\neconomía 1\nel 3\nempresas 1\nen 3\nes 1\nestatal 2\nestratégicas 1\nestán 1\nextranjero 1\ngama 1\ngobierno 2\nhay 1\nhora 1\nindicó 1\ninformáticos 1\ninfraestructuras 1\nla 2\nlocal 1\nlos 3\nmañana 1\nministro 1\nmorrison 2\nniveles 1\noperadores 1\norganizaciones 3\notros 1\npaís 1\npolíticas 1\nprecisando 1\nprensa 1\nprimer 1\nque 4\nrueda 1\nsalud 1\nscott 2\nsectores 1\nservicios 1\nsiendo 1\nsistemas 1\nsofisticado 1\ntoda 1\ntodos 1\nun 4\nuna 2\nviernes 1\nvíctima 1\ny 2\n"
        }
      ]
    },
    {
      "metadata": {
        "trusted": true
      },
      "cell_type": "code",
      "source": "#OTRA FORMA SIN USAR DICCIONARIO\n\ndef quitarSimbolo(cad):\n#OTRA FORMA SIN USAR DICCIONARIO\n\ndef quitarSimbolo(cad):\n    nuevacad = \"\"\n    for letra in cad:\n        if letra.isalpha():\n            nuevacad += letra\n        elif letra == \" \":\n            nuevacad += letra\n    return nuevacad\n\ndef cantidadPalabras(cad):\n    '''Retorna un diccionario de palabras y la cantidad de veces que aparece'''\n    cad = quitarSimbolo(cad)\n    lista = cad.lower().split()\n    lista.sort\n    lis_palabras = []\n    lis_cantidad = []\n    for i in range(len(lista)):\n        if lista[i] not in lis_palabras:\n            lis_palabras.append(lista[i])\n            lis_cantidad.append(1)\n        else:\n#           incrementar en 1 lis_cantidad en el lugar donde se encuentra la palabra\n\n            lis_cantidad[i]+=1\n       \n    return lis_palabras, lis_cantidad\n    \ndef main():\n    cad = input(\"ingrese una frase: \")\n    dic = cantidadPalabras(cad)\n    \n    claves =list(dic)\n\n    claves.sort()\n\n    for clave in sorted(claves):\n        print(f\"la palabra {clave} aparece en el {diccionario[clave]} veces\")\n    \nmain()",
      "execution_count": null,
      "outputs": []
    },
    {
      "metadata": {
        "trusted": true
      },
      "cell_type": "code",
      "source": "'''\nSimulacro 2do Parcial 1er cuatrimestre 2020\nEjercicio 4: \n\nDesarrollar un programa principal para ingresar dos palabras por teclado e informar las letras poseen en común. \nPermitir ingresar varias veces dos palabras hasta que la primera que se ingrese sea vacía. \nPara el ingreso de palabras, generar y gestionar una excepcion si se ingresan numeros, espacios o símbolos, \naceptar solo palabras con caracteres alfabeticos.\n'''",
      "execution_count": null,
      "outputs": []
    },
    {
      "metadata": {
        "trusted": true
      },
      "cell_type": "code",
      "source": "#Utilizando Conjuntos\n\ndef ingresarPal(texto):\n    while True:\n        try:\n            pal = input(texto)\n            assert (pal.isalpha() or pal ==\"\"), \"Se deben ingresar solo caracteres alfanumericos\"\n            break\n        except AssertionError as mensaje:\n            print(mensaje)\n            print(\"Vuelva a ingresar\")\n    return pal\n\n\n\ndef main():\n    while True:\n        pal1 = ingresarPal(\"ingrese la palabra 1: \")\n\n        pal2 = ingresarPal(\"ingrese la palabra 2: \")\n        \n        pal1 = set(pal1.lower())\n        pal2 = set(pal2.lower())        \n        \n        comun = pal1 & pal2\n        \n        if len(comun) == 0:\n            print(\"no hay letras en comun\")\n            break\n        print(comun)\n        break\n    return comun\n\nmain()",
      "execution_count": null,
      "outputs": []
    },
    {
      "metadata": {
        "trusted": true
      },
      "cell_type": "code",
      "source": "#Utilizando For y Listas\n\ndef ingresarPal(texto):\n    while True:\n        try:\n            pal = input(texto)\n            assert (pal.isalpha() or pal ==\"\"), \"Se deben ingresar solo caracteres alfanumericos\"\n            break\n        except AssertionError as mensaje:\n            print(mensaje)\n            print(\"Vuelva a ingresar\")\n    return pal\n\n\ndef main():\n    while True:\n        pal1 = ingresarPal(\"ingrese la palabra 1: \")\n        if pal1 == \"\":\n            break\n        pal2 = ingresarPal(\"ingrese la palabra 2: \")\n        \n        pal1 = pal1.lower()\n        pal2 = pal2.lower()        \n        \n        comun = []\n        for letra in pal1:\n            if letra in pal2 and letra not in comun:\n                comun.append(letra)\n        \n        if len(comun) == 0:\n            print(\"no hay letras en comun\")\n            break\n        print(comun)\n        break\n    return comun\n\nmain()",
      "execution_count": null,
      "outputs": []
    },
    {
      "metadata": {
        "trusted": true
      },
      "cell_type": "code",
      "source": "\n'''\nFINAL Regular 2020.07.10 Galati\nEjercicio 1:\nPara la siguiente matriz, desarrollar una función que la genere y escribir un programa que invoque y muestre por pantalla la\nmatriz obtenida. El tamaño de las matriz debe establecerse como N x N, y la funcion debe servir aunque este valor se modifique.\nVer diseño de matriz adjunto.\n\n4000\n3300\n2220\n1111\n'''\n\n'''funcion que genera la matriz en funcion al tamaño n ingresado'''\ndef creaMatriz(n):\n    a = [[0] * n for i in range(n)]\n    for i in range(n):\n        for j in range(n):\n            if i>=j:\n                a[i][j] = n-i\n            else:\n                a[i][j] = 0\n    for row in a:\n        print(' '.join([str(elem) for elem in row]))\n\n'''funcion para ingresar un número, capturando excepciones cuando el numero no es entero positivo'''  \ndef ingresa():\n    while True:\n        cad = input(\"\\nIngrese un número mayor a 0: \")\n        try:\n            n =float(cad)\n            assert n>=0, \"El número debe ser positivo.\"\n            assert n==int(n), \"El número debe ser entero.\"\n            break\n        except ValueError:\n            print(\"Sólo se permiten números.\")\n            print(\"Intente nuevamente.\")\n        except AssertionError as error:\n            print(error)\n            print(\"Intente nuevamente.\")\n    return int(n)\n\n# Programa principal\na = ingresa()\nprint(\"El número ingresado es\", a)\nif a >= 0:\n    creaMatriz(a)\n    ",
      "execution_count": null,
      "outputs": []
    },
    {
      "metadata": {
        "trusted": true
      },
      "cell_type": "code",
      "source": "'''\nFINAL Regular 2020.07.10 Galati\nEjercicio 2:\nCrear una función recursiva para sumar los primeros N números pares.  \nEjemplo:\n-   Si recibe un 5, debe sumar 6 ya que sólo debe tener en cuenta 2 y 4 \n-   Si recibe un 8, debe sumar 20, ya que solo debe tener en cuenta los numeros 2 + 4 + 6 + 8\n\nDesarrollar un programa principal para permitir ingresar numeros del teclado y mostrar la suma calculada mediante la funcion recursiva.\nFinalizar cuando no se ingresa un número capturando una excepción\n'''\n\n''' Funcion para revisar si un numero es par'''\ndef revisaPar(n):\n    par = False\n    if n%2 == 0:\n        par = True\n    else:\n        par = False\n    return par\n\n'''funcion recursiva para sumar los primeros n números pares'''\ndef sumaRec(n):\n    if n <2:\n        return 0\n    elif n == 2:\n        return 2\n    else:\n        if revisaPar(n) == True:\n            return n + sumaRec(n-1)\n        else:\n            return sumaRec(n-1)\n\n'''funcion para ingresar un número, capturando excepciones cuando el numero no es entero positivo'''  \ndef ingresa():\n    while True:\n        cad = input(\"\\nIngrese un número mayor a 0: \")\n        try:\n            n =float(cad)\n            assert n>=0, \"El número debe ser positivo.\"\n            assert n==int(n), \"El número debe ser entero.\"\n            break\n        except ValueError:\n            print(\"Sólo se permiten números.\")\n            print(\"Intente nuevamente.\")\n        except AssertionError as error:\n            print(error)\n            print(\"Intente nuevamente.\")\n    return int(n)\n\n# Programa principal\na = ingresa()\nprint(\"El número ingresado es:\", a)\nprint(\"La suma de los numeros pares menores o iguales a \",a, \"es \",sumaRec(a), \" :) !!!\")",
      "execution_count": null,
      "outputs": []
    }
  ],
  "metadata": {
    "kernelspec": {
      "name": "python36",
      "display_name": "Python 3.6",
      "language": "python"
    },
    "language_info": {
      "mimetype": "text/x-python",
      "nbconvert_exporter": "python",
      "name": "python",
      "pygments_lexer": "ipython3",
      "version": "3.6.6",
      "file_extension": ".py",
      "codemirror_mode": {
        "version": 3,
        "name": "ipython"
      }
    }
  },
  "nbformat": 4,
  "nbformat_minor": 2
}