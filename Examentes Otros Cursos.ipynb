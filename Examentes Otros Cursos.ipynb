{
  "cells": [
    {
      "metadata": {
        "trusted": true
      },
      "cell_type": "code",
      "source": "''' \nExamen Facebook - Primer Parcial\n\nEscribir un programa que tenga una función que devuelva un número al azar entre A y B cuyos dígitos no se repitan \n(ej: 121 no es válido porque se repite el 1). \nA y B deben ingresarse por teclado y A siempre debe ser menor que B, en caso contrario invertir los números.\n\n'''\n",
      "execution_count": 4,
      "outputs": [
        {
          "output_type": "execute_result",
          "execution_count": 4,
          "data": {
            "text/plain": "' \\nExamen Facebook - Primer Parcial\\n\\nEscribir un programa que tenga una función que devuelva un número al azar entre A y B cuyos dígitos no se repitan \\n(ej: 121 no es válido porque se repite el 1). \\nA y B deben ingresarse por teclado y A siempre debe ser menor que B, en caso contrario invertir los números.\\n\\n'"
          },
          "metadata": {}
        }
      ]
    },
    {
      "metadata": {
        "trusted": true
      },
      "cell_type": "code",
      "source": "''' \nGenerar una matriz de NxN con N ingresado por teclado. Cargarla con números al azar o por teclado (elegir solo un método) \ny luego hacer funciones que:\na. Informen el mayor y el menor valor de cada fila y columna así como su posición.\nb. Informen el menor valor de la diagonal principal.\n\n'''\n",
      "execution_count": null,
      "outputs": []
    },
    {
      "metadata": {
        "trusted": true
      },
      "cell_type": "code",
      "source": "'''\nProgramacion 1 - Thompson - 1er parcial \nEjercicio 1\nHacer una matriz nxn que al ingresar un numero quede como se muestra en el dibujo. Por ejemplo al ingresar \"5\":\n\n1 2 3 4 5\n5 1 2 3 4\n4 5 1 2 3\n3 4 5 1 2\n2 3 4 5 1\nLa diagonal de la matriz siempre queda en \"1\" y los demas numeros correlativos.\n\n'''",
      "execution_count": null,
      "outputs": []
    },
    {
      "metadata": {
        "trusted": true
      },
      "cell_type": "code",
      "source": "def rellenarmatriz(n, matriz):\n    contador = n-(n-1)\n    for f in range(n):\n        for c in range(n):\n            if contador == n:\n                matriz[f][c] = contador\n                contador = 1\n            else:\n                matriz[f][c] = contador\n                contador = contador + 1\n        contador = contador - 1\n        if contador == 0:\n            contador = n\n            \ndef prinmat(matriz):\n    for fila in matriz:\n        print(\" \".join([str(elem) for elem in fila]))\n            \nn = int(input(\"ingrese numero de matriz: \"))\n\nmatriz = [[0]*n for i in range(n)]\n\nrellenarmatriz(n, matriz)\nprinmat(matriz)\n                ",
      "execution_count": 4,
      "outputs": [
        {
          "output_type": "stream",
          "name": "stdout",
          "text": "ingrese numero de matriz: 7\n1 2 3 4 5 6 7\n7 1 2 3 4 5 6\n6 7 1 2 3 4 5\n5 6 7 1 2 3 4\n4 5 6 7 1 2 3\n3 4 5 6 7 1 2\n2 3 4 5 6 7 1\n"
        }
      ]
    },
    {
      "metadata": {
        "trusted": true
      },
      "cell_type": "code",
      "source": "'''\nProgramacion 1 - Thompson - 1er parcial \nEjercicio 2\nHacer un programa para que al ingresar un numero decimal lo convierta en hexadecimal. Para convertirlo se debe dividir siempre por \"16\" hasta llegar a \"0\" guardando los restos, los restos se leen inversamente y cada uno corresponde a un valor hexadecimal.\nPor ejemplo al ingresar \"65029\" debe dar como resultado \"FE05\".\n65029 dividido16 =4064 Resto =5\n4064 dividido16 =254 Resto= 0\n254 dividido16 = 15 Resto=14\n15 dividido 16 = 0 Resto=15\nConversiones:\nDecimal= 1 2 3 4 5 6 7 8 9 10 11 12 13 14 15\nHexa= 1 2 3 4 5 6 7 8 9 A B C D E F\n\n'''",
      "execution_count": 10,
      "outputs": [
        {
          "output_type": "execute_result",
          "execution_count": 10,
          "data": {
            "text/plain": "'\\nProgramacion 1 - Thompson - 1er parcial \\nEjercicio 2\\nHacer un programa para que al ingresar un numero decimal lo convierta en hexadecimal. Para convertirlo se debe dividir siempre por \"16\" hasta llegar a \"0\" guardando los restos, los restos se leen inversamente y cada uno corresponde a un valor hexadecimal.\\nPor ejemplo al ingresar \"65029\" debe dar como resultado \"FE05\".\\n65029 dividido16 =4064 Resto =5\\n4064 dividido16 =254 Resto= 0\\n254 dividido16 = 15 Resto=14\\n15 dividido 16 = 0 Resto=15\\nConversiones:\\nDecimal= 1 2 3 4 5 6 7 8 9 10 11 12 13 14 15\\nHexa= 1 2 3 4 5 6 7 8 9 A B C D E F\\n\\n'"
          },
          "metadata": {}
        }
      ]
    },
    {
      "metadata": {
        "trusted": true
      },
      "cell_type": "code",
      "source": "\"\"\"\nLa Organizacion metereologia internacional desea realizar una analisis estadistico sobre tormentas y \nhuracanes ocurridos durante los ultimos años. Para ello necesita un programa que permita ingresar la velocidad \ndel viento en km/h que se registro en cada situacion de mal tiempo, convertir dicha velocidad a metros por segundo\ne indicar a que tipo de ciclon corresponde, de acuerdo con la siguiente tabla\n\nDepresion tropical: 0 a 17 m/s\nTormenta Tropical:  18 a 32 m/s\nHuracan Categoria 1: 33 a 42 m/s\nHuracan Categoria 2: 43 a 49 m/s\nHuracan Categoria 3: 50 a 58 m/s\nHuracan Categoria 4: 59 a 69 m/s\nHuracan Categoria 5: >70 m/s\n\nLa velocidad en km/h se ingresa como numero entero, Para convertir km/h en m/s debe multiplicarse por 5/18. \nel programa debe repetir el proceso hasta que se ingrese un 0 (cero) como velocidad del viento, y en ese momento\ndebera informarse cuantas mediciones se efecturon, cual fue la maxima velocidad registrada y la velocidad promedio \nen toda la muestra. La conversionde km/h a m/s debera realizarse mediante una funcion\nObservese que total las mediciones deben ambas unidades. \n\nEjemplo\n\n>Velocidad del viento? 32\n8.89 m/s Depresion Tropical\n>Velocidad del viento? 145\n40.28 m/s Huracan Categoria 1\n>Velocidad del viento? 210\n58.33 m/s Huracan Categoria 4\n>Velocidad del viento? 0\n\nMediciones: 3\nMaxima velocidad de viento: 210 Km/h (58.33 m/s)\nVelocidad promedio: 129 Km/h (35.83 m/s)\n\n\"\"\"",
      "execution_count": null,
      "outputs": []
    },
    {
      "metadata": {
        "trusted": true
      },
      "cell_type": "code",
      "source": "\"\"\"\nEn 1976 en la universidad de Nottingham (Inglaterra) Graham Rawlinson realizo una seria de pruebas que demostraron que la alteracion\ndel orden de las palabras no afecta la capacidad de las personas para entender un texto. \nEl cientifico concluyó que para evitar problemas de lectura, basta conserva la primera y ultima letra de cada palabra. \nEl siguiente parrafo ilustra las conclusiones del estudio.\n\ncopiar el resto\n\n\n\"\"\"",
      "execution_count": null,
      "outputs": []
    },
    {
      "metadata": {
        "trusted": true
      },
      "cell_type": "code",
      "source": "\"\"\"\nPrimer Parcial de Programacion I 2014. 24/09/2014\nProfesor: Thompson, Ricardo\n\n1) Crear una matriz con objetos random del 0 al 99 de N*N (N definida con #define). \nLa matriz corresponde a manzanas (calles) y el número indica la cantidad de habitantes en esa manzana. \nEl programa debe indicar cual es la manzana con mas habitante a sus alrededor.\nEn el ejemplo de abajo, sería la de la columna 3, fila 2;\n20+30+40+20+10+20+30+40.\n10 20 30 40\n25 20 30 10\n10 20 30 40\n25 20 30 10\nEj Resultado: La manzana con mas habitantes alrededor es la de la columna 3 y fila 2 con 210 habitantes.\n______________________________\nResolucion en Python A REHACER:\n______________________________\n\n\nimport random\nfila = 6\ncolumna = 6\na = [[random.randint(0,99) for i in range (fila)]for j in range (columna)]\nfor f in a:\n    print(f)\n\nlargo = len(a)\nqzonas = len(a)**2\ninicio = 0\nfin = inicio+3\n\nfor x in range(qzonas):    \n    lista = []\n\n    for f in range(inicio,fin):\n        for c in range(inicio,fin):        \n            lista.append(a[f][c])\n            while fin <= largo-1:\n                inicio = inicio + 1\n                fin = fin + 1\n                \n    print(lista)\n    lista.pop(len(lista)//2)\n    suma = sum(lista)\n    print(suma)\n\n_________________\nResolucion en C\n________________\n\n#include <stdio.h>\n#include <time.h>\n#define MAX 4\n#define MAXV 16\n\nvoid cargarmatriz (int mat[MAX][MAX]);\nvoid manzanas (int mat[MAX][MAX]);\nvoid imprimir (int mat[MAX][MAX]);\n\nint main (){\n\tint matriz[MAX][MAX];\n\tcargarmatriz (matriz);\n\timprimir(matriz);\n\tmanzanas (matriz);\n\treturn 0;\n}\n\nvoid cargarmatriz (int mat[MAX][MAX]){\n\tint i,j;\n\tsrand(time(NULL));\n\tfor (i=0;i<MAX;i++){\n\t\tfor (j=0;j<MAX;j++){\n\t\t\tmat[i][j]=rand()%((10-1+1)+1);\n\t\t}\n\t}\n}\nvoid imprimir (int mat[MAX][MAX]){\n\tint i,j;\n\tfor (i=0;i<MAX;i++){\n\t\tfor (j=0;j<MAX;j++){\n\t\t\tprintf (\"%2d  \",mat[i][j]);\n\t\t}\n\t\tputs (\"\");\n\t}\n}\n\nvoid manzanas (int mat[MAX][MAX]){\n\tint i,j,suma=0,vec[MAXV],contador=0,mayor=0,posicion=0, ifinal=0,jfinal=0;\n\n\t\n\tfor (i=0;i<MAX;i++){\n\t\tfor (j=0;j<MAX;j++){\n\t\t\t\t\n\t\t\tif (i-1>=0){\n\t\t\t\tsuma=suma + mat[i-1][j];\n\t\t\t\t\tif(j-1>=0){\n\t\t\t\t\t\t\tsuma=suma+ mat[i-1][j-1];\n\t\t\t\t\t\t\tsuma=suma+ mat[i][j-1];\t\n\t\t\t\t\t\t\t\tif (i+1<MAX){\n\t\t\t\t\t\t\t\t\tsuma=suma+ mat[i+1][j-1];\n\t\t\t\t\t\t\t\t}\n\t\t\t\t\t}\n\t\t\t}else{\n\t\t\t\tif (i+1<MAX){\n\t\t\t\t\tif (j-1>=0){\n\t\t\t\t\tsuma=suma+mat[i][j-1];\n\t\t\t\t\tsuma=suma+mat[i+1][j-1];\n\t\t\t\t\t}\n\t\t\t\t}\n\t\t\t}\n\t\t\tif(i+1<MAX){\n\t\t\t\t\tsuma=suma + mat[i+1][j];\n\t\t\t\t\tif (j+1<MAX){\n\t\t\t\t\t\tsuma=suma+ mat[i+1][j+1];\n\t\t\t\t\t\t}\n\t\t\t\t\t}\n\t\t\tif (j+1<MAX){\n\t\t\t\t\tsuma=suma+ mat[i][j+1];\n\t\t\t\t\tif (i-1>=0){\n\t\t\t\t\t\tsuma=suma+mat[i-1][j+1];\n\t\t\t\t\t}\n\t\t\t}\n\t\tvec[contador]=suma;\n\t\tcontador++;\n\t\tsuma=0;\n\t\t}\n\t\t\n\tsuma=0;\n\t}\n\nfor (i=0;i<MAXV;i++){\n\tprintf (\"%2d  \\n\",vec[i]);\n}\n\ni=0;\nposicion=i;\nmayor=vec[i];\n\nfor (i=0;i<MAXV;i++){\n\tif (vec[i]>mayor){\n\t\tmayor=vec[i];\n\t\tposicion=i;\n\t}\n}\n\nfor (i=0;i<MAX;i++){\n\tfor (j=0;j<MAX;j++){\n\t\tif (posicion==0){\n\t\t\tifinal=i;\n\t\t\tjfinal=j;\n\t\t}\n\t\tposicion--;\n\t}\n}\n\n\nprintf (\"La manzana de la fila %d columna %d con %d vecinos es la ganadora \\n\",ifinal,jfinal,mayor);\n}\n\n\n\"\"\"",
      "execution_count": null,
      "outputs": []
    },
    {
      "metadata": {
        "trusted": true
      },
      "cell_type": "code",
      "source": "\"\"\"\n\nPrimer Parcial de Programacion I 2014. 24/09/2014\nProfesor: Thompson, Ricardo\n\n2) Hacer una función que pase un numero decimal entero a hexadecimal, haciendo dividiendo por 16 y tomando los restos.\nEj Resultado: 2242 -> 8C2.\nNota: cantidad de digitos decimales posibles = 10\n\n\"\"\"",
      "execution_count": null,
      "outputs": []
    },
    {
      "metadata": {
        "trusted": true
      },
      "cell_type": "code",
      "source": "\"\"\"\nUna universidad necesita un archivo binario con las calificacines obtenidas por sus alumnos en el ultimo cuatrimestre\nEste archivo tendra la siguiente estructura:\n\n- Codigo de materia: (1 a 20)\n- Legajo del alumno:(numero entero)\n- Calificacion (Numero real de 0 a 10)\n\nSe solicita un programa para desarrollar las siguientes tareas:\n\n1. Generar un archivo binario con datosingresados por teclado\n\nTrabajando exclusivamente con los datos del archivo se solicita:\n\n2. Calcular el promedio de cad materia\n3. Imprimir el listado de materias ordenado por numero de materia. Mostrar el codicgo de materia y el promerio de la misma\n4. Mostrar el codigo de materia que tenga el mejor promedio. si hay mas de una bastará mostrar una sóla.\n\nTener en cuenta que pueden haber materias que no se hayan dicatado ese cuatrimestre por lo que tendran 0 inscriptos.\n\n\n\"\"\"",
      "execution_count": null,
      "outputs": []
    },
    {
      "metadata": {
        "trusted": true
      },
      "cell_type": "code",
      "source": "\"\"\"\nFinal regular de Programación 1 con Thompson:\n\nRealizar un programa que lea de un archivo del cual se ingresa el nombre por pantalla, el cual lea un texto de varias líneas \ndel archivo y las copie en forma \"justificada\" en un nuevo archivo.\nEl proceso anteriormente mencionado debe utilizar al menos una función recursiva.\nPara que un texto este justificado, todas las lineas de texto deben tener su último carácter en la misma posición \nde tal manera que se pueda trazar una linea recta que cruce ambos margenes derecho e izquierdo.\nJustificar solo las líneas que tengan mas del 75% de caracteres que el ancho máximo.\n\nAl finalizar la tarea el programa debe mostrar un informe que contenga:\n-Cantidad de caracteres del archivo de salida.\n-Cantidad de palabras.\n-Un listado de las palabras y sus respectivos anchos(cantidad de caracteres), ordenada por la cantidad de caracteres.\n\n\"\"\"",
      "execution_count": null,
      "outputs": []
    },
    {
      "metadata": {
        "trusted": true
      },
      "cell_type": "code",
      "source": "\"\"\"\nSegundo parcial - programación 1 - Thompson\n\nTema 1:\nEj 1: Escribir un programa que permita eliminar de un archivo una palabra ingresada por el usuario.\nEj2: Escribir una función recursiva que permita determinar si un número es primo e imprimir el resultado por pantalla.\nTema 2:\nEj 1: Escribir un programa que permita buscar una palabra en un archivo y reemplazarla por otra, ambas ingresadas por el usuario.\nEj 2: Una secuencia hailstone es una secuencia terminada en 1 que se genera a partir de un número cualquiera en el que el siguiente se divide por dos si es par y se multiplica por tres y se le suma uno si es impar.\nEj: 5; 16, 8, 4, 2, 1\nEscribir una función recursiva para generar al secuencia e imprimirla por pantalla.\n\n\"\"\"",
      "execution_count": null,
      "outputs": []
    },
    {
      "metadata": {
        "trusted": true
      },
      "cell_type": "code",
      "source": "\"\"\"\nExamnen Thompson\n\n(1) leer un número hexadecimal y lo pase a binario \n(2) leer numeros hasta -1 y devolver la lista sin numeros repetidos: sin usar if para verificar la lista\n\n\"\"\"",
      "execution_count": null,
      "outputs": []
    },
    {
      "metadata": {
        "trusted": true
      },
      "cell_type": "code",
      "source": "\"\"\"\nParcial progra 1- Lunes noche,tema 2\n\n1)Dada una cadena de caracteres ,transformarlo en un int sin utilizar funciones de libreria.Desde 0.\n\n\"\"\"",
      "execution_count": null,
      "outputs": []
    },
    {
      "metadata": {
        "trusted": true
      },
      "cell_type": "code",
      "source": "\"\"\"\nParcial progra 1- Lunes noche,tema 2\n\n2)Realizar una funcion que muestre por pantalla una matriz cuadrada de N*M, donde tanto N como M sean impares y mayores a 3.\nEl tamanio de N y M se declara con un define.\n\n1   2   3    4   5 \n0   9   8    7   6\n0   0   10  11  12\n0   0   0   14  13\n0   0   0    0  15\n\n\"\"\"\n\nn = 5\na = [[0] * n for i in range(n)]\ncontador = 1\nfor f in range(n):\n    if (f%2):\n        for c in range(n-1, -1, -1):\n            if (f>c):\n                a[f][c] = 0\n            else:\n                a[f][c] = contador\n                contador = contador +1\n    else:\n        for c in range(n):\n            if (f>c):\n                a[f][c] = 0\n            else:\n                a[f][c] = contador\n                contador = contador +1\n                \nfor row in a:\n    print(' '.join([str(elem) for elem in row]))",
      "execution_count": 3,
      "outputs": [
        {
          "output_type": "stream",
          "text": "1 2 3 4 5\n0 9 8 7 6\n0 0 10 11 12\n0 0 0 14 13\n0 0 0 0 15\n",
          "name": "stdout"
        }
      ]
    },
    {
      "metadata": {
        "trusted": true
      },
      "cell_type": "code",
      "source": "\"\"\"\nEjercicio Programacion I - \n/*Levantar un texto, y a las palabras que tengan mas del 50% de vocales en esa palabra las tenias que encerrar en parentesis \nen un archivo nuevo. Respetando el formato. \nImprimir por pantalla todas las palabras sin el parentesis, en orden de longitud y las que tienen la misma longitud \nhacerlo en orden alfabetico*/\n\nResolcion en C\n\n#include<stdlib.h>\n#include<stdio.h>\n#include<string.h>\n#define MAX 100\n#pragma warning (disable:4996)\n\ntypedef struct n{\n\tstruct n*psig;\n\tchar palabra[MAX];\n}nodo, *pnodo;\n\nvoid insertaAlfinal(pnodo *cabLista, char aux[MAX]);\nvoid muestraLista(pnodo cabLista);\n\t\n\nint main(){\n\tpnodo cabLista=NULL;\n\tFILE*arch1;\n\tFILE*arch2;\n\tchar c;\n\tchar aux[MAX];\n\tint i=0;\n\tint k;\n\tint j;\n\tint cont =0;\n\tint a=0;\n\n\tarch1=fopen(\"texto.txt\", \"rt\");\n\t\t\n\tif(arch1==NULL){\n\t\tprintf(\"No se pudo abrir el archivo\");\n\t}\n\n\tarch2=fopen(\"parentesis.txt\", \"wt\");\n\tif(arch2==NULL){\n\t\tprintf(\"No se pudo crear el archivo\");\n\t}\n\n\n\twhile(!feof(arch1)){\n\t\ti=0;\n\t\tc=fgetc(arch1);\n\n\t\twhile(!feof(arch1) && c!= ' '){\n\t\t\taux[i]=c;\n\t\t\ti++;\n\t\t\tc=fgetc(arch1);\n\t\t}\n\t\taux[i]='\\0';\n\t\t\n\t\tk=strlen(aux);\n\t\t\n\t\tfor(j=0; j<k; j++){\n\t\t\tif(aux[j]=='a' || aux[j]=='e' || aux[j]=='i'|| aux[j]=='o'|| aux[j]=='u'){\n\t\t\t\tcont++;\n\t\t\t}\n\t\t}\n\n\t\ta=(50*k)/100;\n\n\t\tif(cont>a){\n\t\t\tfprintf(arch2, \"(%s)\", &aux);\n\t\t\tfputc(' ', arch2);\n\t\t\tcont=0;\n\t\t\tinsertaAlfinal(&cabLista, aux); //coloco la palabra sin parentesis en una lista.\n\t\t}else\n\t\t\tfputs(aux, arch2);\n\t\t\tfputc(' ', arch2);\n\t}\n\n\tprintf(\"Las palabras con mas de 50 porciento de vocales fueron encerradas entre parentesis. Lea el archivo 'parentensis' \\n\\n\\n\");\n\n\tprintf(\"La lista de palabras que contienen mas del 50 porciento de vocales es: \");\n\tmuestraLista(cabLista);\n\n\tfclose(arch1);\n\tfclose(arch2);\n\n\n\tsystem(\"pause\");\n\treturn 0;\n}\nvoid insertaAlfinal(pnodo *cabLista, char aux[MAX]){\n\tpnodo aux1, nuevo, aux2;\n\taux1=*cabLista;\n\taux2=NULL;\n\n\twhile(aux1!=NULL){\n\t\taux2=aux1;\n\t\taux1=aux1->psig;\n\t}\n\n\tnuevo=(pnodo)malloc(sizeof(nodo));\n\tstrcpy(aux1->palabra, aux);\n\tnuevo->psig=NULL;\n\n\tif(aux2!=NULL){\n\t\taux2->psig=nuevo;\n\t}else\n\t\t*cabLista=nuevo;\n\n\t\n}//Fin funcion\n\n\n\nvoid muestraLista(pnodo cabLista){\n\t\n\tpnodo aux1;\n\taux1=cabLista;\n\n\twhile(aux1!=NULL){\n\t\tprintf(\"%s\", aux1->palabra);\n\t\tprintf(\"\\n\");\n\t\taux1=aux1->psig;\n\t\t}\n}//Fin funcion\n\n\n\n\"\"\"",
      "execution_count": null,
      "outputs": []
    },
    {
      "metadata": {
        "trusted": true
      },
      "cell_type": "code",
      "source": "\n\"\"\"\nProgramcion I - 1er Parcial\n\n\n1) Hacer una matriz (5x) que genere y muestre los siguientes numeros: \n   5 4 3 2 1 \n   4 3 2 1 0\n   3 2 1 0 0\n   2 1 0 0 0\n   1 0 0 0 0\n\n\"\"\"\ndef rellenarmatriz(mat):\n\n    n = len(mat)\n    mitad = n // 2\n    for f in range(n):\n        for c in range(n):\n            if f+c < n:\n                mat[f][c] = n - (f+c)\n            else: 0\n            \ndef imprimirmatriz(mat):\n    for row in mat:\n        print(' '.join([str(elem) for elem in row]))\n\n\nn = int(input(\"ingrese la cantidad de columnas: \"))\nwhile n <= 0:\n    n = int(input(\"ingrese la cantidad de columnas: \"))\nprint(\"La matriz tiene %d columnas\" %n)\n\nmatrix = [[0] * n for i in range(n)]\nrellenarmatriz(matrix)\nimprimirmatriz(matrix)",
      "execution_count": 3,
      "outputs": [
        {
          "output_type": "stream",
          "name": "stdout",
          "text": "ingrese la cantidad de columnas: 7\nLa matriz tiene 7 columnas\n7 6 5 4 3 2 1\n6 5 4 3 2 1 0\n5 4 3 2 1 0 0\n4 3 2 1 0 0 0\n3 2 1 0 0 0 0\n2 1 0 0 0 0 0\n1 0 0 0 0 0 0\n"
        }
      ]
    },
    {
      "metadata": {
        "trusted": true
      },
      "cell_type": "code",
      "source": "\"\"\"\nProgramacion I - Parcial\n\n2) Cargar un archivo y mostrar los nombres por pantalla y cuanto tiempo estuvieron en un edificio. \nLas personas no podian estar mas de 24 horas pero si podia pasar que entraran un dia y salieran el otro \n(como en el tercer ejemplo). \nEl formato del archivo es el siguiente (puede ser cargado por un editor de texto, no es necesario que el programa \nse guarde en el archivo):\n\nPerez, Juan   #10:45#18:00\nSanchez,Maria #08:00#13:50\nSarasa, Pedro #20:00#11:30\n\n\"\"\"",
      "execution_count": 2,
      "outputs": [
        {
          "output_type": "execute_result",
          "execution_count": 2,
          "data": {
            "text/plain": "'\\nProgramacion I - Parcial\\n\\n2) Cargar un archivo y mostrar los nombres por pantalla y cuanto tiempo estuvieron en un edificio. \\nLas personas no podian estar mas de 24 horas pero si podia pasar que entraran un dia y salieran el otro \\n(como en el tercer ejemplo). \\nEl formato del archivo es el siguiente (puede ser cargado por un editor de texto, no es necesario que el programa \\nse guarde en el archivo):\\n\\nPerez, Juan   #10:45#18:00\\nSanchez,Maria #08:00#13:50\\nSarasa, Pedro #20:00#11:30\\n\\n'"
          },
          "metadata": {}
        }
      ]
    },
    {
      "metadata": {
        "trusted": true
      },
      "cell_type": "code",
      "source": "\"\"\"\nel Banco Interamericao Unido del Sur, ha almcenado en una archivo binario todos los movimientos monetario de sus clientes\ndesde el comienzo de sus operaciones en el pais.\nCada registro del archivo corresponde a la informacion de un solo movimiento de caja y la informacion tiene la siguiente estructura:\n\nstruct smovto{\n    int cuenta;\n    float importe;\n    char fecha[9];\n    char nombre[40];\n};\n\n\nLos importes pueden ser positivos (depositos) o negativos (extracciones). Se solicita desarrollar un \nprograma para realizar las siguientes tareas:\n\n1-Ordenar el archivo segun la fecha del movimiento, utilizando cualquier metodo de ordenamiento. El formato de la misma es DDMMAAAA.\ny la clasificacion realizada debe respetar el orden coronologico\n\n2-Imprimir un listado mostrando mes por mes y año por año la cantidad de movimientos realizados y el saldo \nresultante (depositos-extracciones). Mostrar la misma informacion en forma de total general de todo el archivo\n\n3-Imprimir un listado de saldos, incluyendo el nombre y apellido del cliente, el numero de cuenta, el saldo de la misma, y \nla fecha de ultimo movimiento. Dicho listado debera estar ordenado de mayor a menor, segun el saldo del Cliente.\n\n\"\"\"",
      "execution_count": null,
      "outputs": []
    },
    {
      "metadata": {
        "trusted": true
      },
      "cell_type": "code",
      "source": "\"\"\"\nExamen final Programacion I 2012\n\nEjercicio 1\n\nSe tiene un archivo de texto con los nombres y calificaciones de un grupo de alumnos,\ndel que no se conoce el tamaño. Cada línea del archivo de texto puede contener un\nnombre de alumno o una calificación, en este último caso dicha calificación pertenece al\núltimo nombre leído. La cantidad de calificaciones puede variar entre alumnos, debido a\nlos recuperatorios y trabajos prácticos que cada uno realizó.\nSe solicita imprimir un listado de alumnos con su respectivo promedio, ordenado en\nforma descendente por promedio.\nEjemplo del archivo de entrada:\nBERMUDEZ, Julián Marcelo\n8\n4\n7\nCERQUETTI, Micaela Valeria\n2\n7\n5\n4\nCABRERA, Lautaro Hernán\n9\n6\n[......]\n\n\"\"\"",
      "execution_count": null,
      "outputs": []
    },
    {
      "metadata": {
        "trusted": true
      },
      "cell_type": "code",
      "source": "\"\"\"\nExamen final Programacion I 2012\n\nEjercicio 2. Escribir un programa que rellene una matriz de enteros de MAX x MAX con números al\nazar comprendidos entre 12 y 95, tal que ningún número esté repetido. El valor de MAX\ndebe declararse con una directiva #define, y el programa debe funcionar aunque este\nvalor se modifique. Imprimir por pantalla la matriz obtenida.\n\n\"\"\"\n\n",
      "execution_count": null,
      "outputs": []
    },
    {
      "metadata": {
        "trusted": true
      },
      "cell_type": "code",
      "source": "##Una secuencia hailstone es una secuencia terminada en 1 que se genera a partir de un número cualquiera en el que el siguiente se\n##divide por dos si es par y se multiplica por tres y se le suma uno si es impar.\n##Ej: 5; 16, 8, 4, 2, 1\n##Escribir una función recursiva para generar al secuencia e imprimirla por pantalla.\n\ndef hailstone(num):\n    if num == 1:\n        print(num)\n        return 1\n    elif num % 2 != 0:\n        print(num,end=\" \")\n        return(hailstone(num*3+1))\n    elif num % 2 == 0:\n        print(num,end=\" \")\n        return(hailstone(num//2))\n\n#Programa principal\nwhile True:\n    try:\n        num=int(input(\"Ingrese un número entero mayor a 1: \"))\n        assert (num>1), \"El número debe ser mayor a 1.\"\n        hailstone(num)\n        break\n    except ValueError:\n        print(\"El número debe ser entero.\")\n    except AssertionError as mensaje:\n        print (mensaje)\n",
      "execution_count": 15,
      "outputs": [
        {
          "output_type": "stream",
          "name": "stdout",
          "text": "Ingrese un número entero mayor a 1: 5\n5 16 8 4 2 1\n"
        }
      ]
    },
    {
      "metadata": {
        "trusted": true
      },
      "cell_type": "code",
      "source": "#Simulacro - Sin Enunciado\n\ndef leer_arch(pal):\n    try:\n        arch=open(\"texto.txt\",\"rt\")\n        reserva=\"\"\n        lectura=arch.read(1000)\n        while lectura:\n            lectura.rstrip(\"\\n\")\n            lectura=reserva+lectura\n            oraciones=lectura.split(\".\")\n            reserva=oraciones[-1]\n            for i in range(len(oraciones)):\n                if pal in oraciones[i]:\n                    print(i, oraciones[i])\n            lectura=arch.read(1000)  \n    except IOError:\n        print(\"No se pudo procesar el archivo\")\n    finally:\n        arch.close()\n\n#Programa principal\npalabra=input(\"Ingrese una palabra a buscar: \")\nleer_arch(palabra)",
      "execution_count": null,
      "outputs": []
    },
    {
      "metadata": {
        "trusted": true
      },
      "cell_type": "code",
      "source": "# Simulacro - Sin Enunciado\n\ndef numero_lista(clave_junta):\n    lista_original=[]\n    for i in range(8): #15263748\n        num=clave_junta%10\n        clave_junta=clave_junta//10\n        lista_original.append(num)\n    lista_original.reverse( )\n    return lista_original\n\ndef dividir(lista):\n    clave1=[]\n    clave2=[]\n    for i in range(8):\n        if i%2!=0:\n            clave1.append(lista[i])\n        else:\n            clave2.append(lista[i])\n    return (clave1,clave2)\n\n#Programa principal\nclave=int(input(\"Ingrese la clave: \"))\nlista=numero_lista(clave)\nclave1, clave2=dividir(lista)\nprint(\"Clave original:\", lista)\nprint(\"Clave1: \",clave1)\nprint(\"Clave2: \",clave2)",
      "execution_count": 16,
      "outputs": [
        {
          "output_type": "stream",
          "name": "stdout",
          "text": "Ingrese la clave: 6\nClave original: [0, 0, 0, 0, 0, 0, 0, 6]\nClave1:  [0, 0, 0, 6]\nClave2:  [0, 0, 0, 0]\n"
        }
      ]
    },
    {
      "metadata": {
        "trusted": true
      },
      "cell_type": "code",
      "source": "# Simulacro\n\n#Para cualquier valor de N debe imprimirse un triángulo centrado. Ej n=5\n#    *\n#   * *\n#  *   *\n# *     *\n#*********\n\ndef triangulo(n):\n    ctrl_izq=n-2\n    ctrl_der=1\n    for j in range(n-1):\n        if j==0:\n            for i in range(n-1):\n                print(\" \",end=\"\")\n            print(\"*\")\n        else:\n            for i in range(ctrl_izq):\n                print(\" \",end=\"\")\n            ctrl_izq-=1\n            print(\"*\",end=\"\")\n            for k in range(ctrl_der):\n                print(\" \",end=\"\")\n            ctrl_der+=2\n            print(\"*\")\n    ctrl_der+=2    \n    for m in range (ctrl_der):\n        print(\"*\",end=\"\")\n            \n\n#Programa principal\nn=int(input(\"Ingrese la cantidad de filas (entero impar mayor a 2): \"))\nwhile n < 3 or n%2 == 0:\n    print(\"Incorrecto. Revise el ingreso.\")\n    n=int(input(\"Ingrese la cantidad de filas (entero impar mayor a 2): \"))\ntriangulo(n)\n",
      "execution_count": null,
      "outputs": []
    },
    {
      "metadata": {
        "trusted": true
      },
      "cell_type": "code",
      "source": "#Simulcro - Matriz Triangulo\n\ndef crear_matriz(n):\n    matriz=[]\n    for f in range (n):\n        matriz.append([\" \"]*(n+2*(n//2)))\n    return matriz\n\ndef cargar_matriz(n,matriz):\n    for f in range(n-1):\n        matriz[f][n-f-1]=\"*\"\n        matriz[f][n+f-1]=\"*\"\n    for c in range (n+2*(n//2)):\n        matriz[n-1][c]=\"*\"\n    return matriz\n        \n\ndef imprimir_matriz(n,matriz):\n    for f in range(n):\n        for c in range(n+2*(n//2)):\n            print(matriz[f][c],end=\"\")\n        print ( )\n\n#Programa principal\nn=int(input(\"Ingrese un numero entero impar mayor a 2: \"))\nwhile n < 2 or n %2==0:\n    print(\"Incorrecto. Reingrese el numero.\")\n    n=int(input(\"Ingrese un numero: \"))\nmatriz=crear_matriz(n)\nmatriz=cargar_matriz(n,matriz)\nimprimir_matriz(n,matriz)        \n",
      "execution_count": 17,
      "outputs": [
        {
          "output_type": "stream",
          "name": "stdout",
          "text": "Ingrese un numero entero impar mayor a 2: 6\nIncorrecto. Reingrese el numero.\nIngrese un numero: 5\n    *    \n   * *   \n  *   *  \n *     * \n*********\n"
        }
      ]
    },
    {
      "metadata": {
        "trusted": true
      },
      "cell_type": "code",
      "source": "# Simulacro - Matriz triangulo\n\ndef crear_matriz(n):\n    matriz=[]\n    for f in range (n):\n        matriz.append([\" \"]*(n+2*(n//2)))\n    return matriz\n\ndef cargar_matriz(n,matriz):\n    col=(n+2*(n//2))//2\n    print(col)\n    for i in range(n-1):\n        matriz[i][col+i]=\"*\"\n        matriz[i][col-i]=\"*\"\n    for g in range (n+2*(n//2)):\n        matriz[n-1][g]=\"*\"\n    \n    return matriz\n        \n\ndef imprimir_matriz(n,matriz):\n    for f in range(n):\n        for c in range(n+2*(n//2)):\n            print(matriz[f][c],end=\"\")\n        print ( )\n\n#Programa principal\nn=int(input(\"Ingrese un numero entero impar mayor a 2: \"))\nwhile n < 2 or n %2==0:\n    print(\"Incorrecto. Reingrese el numero.\")\n    n=int(input(\"Ingrese un numero: \"))\nmatriz=crear_matriz(n)\nmatriz=cargar_matriz(n,matriz)\nimprimir_matriz(n,matriz)        \n",
      "execution_count": 25,
      "outputs": [
        {
          "output_type": "stream",
          "name": "stdout",
          "text": "Ingrese un numero entero impar mayor a 2: 9\n8\n        *        \n       * *       \n      *   *      \n     *     *     \n    *       *    \n   *         *   \n  *           *  \n *             * \n*****************\n"
        }
      ]
    },
    {
      "metadata": {
        "trusted": true
      },
      "cell_type": "code",
      "source": "# Simulacro -  Sin Enunciado\n\nimport random\n\ndef listanumeros():\n    lista=[]\n    azar=random.randint(0,10)\n    while azar!=0:\n        lista.append(azar)\n        azar=random.randint(0,10)\n    return lista\ndef promedio(a):\n    acum=0\n    maximo=1\n    for i in range(0,len(a)):\n        acum=acum+a[i]\n        if a[i]>maximo:\n            maximo=a[i]\n    if len(a)>1:\n        promedio=acum/len(a)\n    return promedio    \n\ndef mayoresalpromedio(a,b):\n    listamayores=[]\n    for i in range(0,len(b)):\n        if b[i]>a:\n            listamayores.append(b[i])\n    return listamayores      \n\ndef sacarimpares(a):\n    contsacados=0\n    largo=len(a)-1\n    i=0\n    while i<len(a):\n        if a[i]%2!=0:\n            a.pop(i)\n            contsacados=contsacados+1\n        else:\n            i=i+1    \n    return contsacados        \n\nlistafinal=listanumeros()\nprint(listafinal)\npromedio=promedio(listafinal)\nprint(\"el promedio entre los elementos es de: %.2f \" %promedio)\nmayor=mayoresalpromedio(promedio,listafinal)\nprint(\"los elementos mayores al promedio son:\",mayor)\ncantidad=sacarimpares(listafinal)\nprint(listafinal)\nprint(\"la cantidad de impares eliminados fueron:\",cantidad)\n",
      "execution_count": 26,
      "outputs": [
        {
          "output_type": "stream",
          "text": "[5, 9, 1, 8, 6, 10, 3, 10, 9, 1, 4, 2, 6, 1, 9, 3, 4, 3, 6, 9, 7, 1, 3, 5, 5, 5, 1, 9, 7]\nel promedio entre los elementos es de: 5.24 \nlos elementos mayores al promedio son: [9, 8, 6, 10, 10, 9, 6, 9, 6, 9, 7, 9, 7]\n[8, 6, 10, 10, 4, 2, 6, 4, 6]\nla cantidad de impares eliminados fueron: 20\n",
          "name": "stdout"
        }
      ]
    },
    {
      "metadata": {
        "trusted": true
      },
      "cell_type": "code",
      "source": "# Simulacro -  Sin Enunciado\n\ndef hospital():\n    listaurgencias=[]\n    listaturnos=[]\n    numerosocio=0\n    while numerosocio!=-1:\n        numerosocio=int(input(\"ingrese el numero de socio: \"))\n        while (numerosocio<1000 or numerosocio>9999) and numerosocio!=-1:\n            numerosocio=int(input(\"dato invalido,ingrese el numero de socio: \"))\n        \n        if numerosocio!=-1:\n            estado=int(input(\" si entra en urgencia (1), si es turno(0): \"))\n            if estado==1:\n                listaurgencias.append(numerosocio)\n            if estado==0:\n                listaturnos.append(numerosocio)\n         \n            \n    return listaurgencias,listaturnos\n\ndef buscarsocio(a,b,c):\n    conturgencias=0\n    conturnos=0\n    for i in range(0,len(a)):\n        if c==a[i]:\n            conturgencias=conturgencias+1\n    for i in range(0,len(b)):\n        if c==b[i]:\n            conturnos=conturnos+1\n    return conturgencias,conturnos        \n        \n\n\nlistadourgencias,listadoturnos=hospital()\nprint(\"los socios atendidos por urgencia fueron:\",listadourgencias)\nprint(\"los socios atendidos por turno fueron:\",listadoturnos)\nnumeroabuscar=int(input(\"ingrese el numero de socio que desea buscar: \"))\nwhile numeroabuscar>9999 and numeroabuscar<1000:\n    numeroabuscar=int(input(\"ingrese el numero de socio que desea buscar: \"))\n\n    \nbuscador1,buscador2=buscarsocio(listadourgencias,listadoturnos,numeroabuscar)\nprint(\"la cantidad de veces que se atendio fueron:\",(buscador1+buscador2))\nprint(buscador1,\"fueron por urgencias y\",buscador2,\"fueron por turnos\")\n",
      "execution_count": 21,
      "outputs": [
        {
          "output_type": "stream",
          "name": "stdout",
          "text": "ingrese el numero de socio: 1234\n si entra en urgencia (1), si es turno(0): 1\ningrese el numero de socio: 1234\n si entra en urgencia (1), si es turno(0): 1\ningrese el numero de socio: 2344\n si entra en urgencia (1), si es turno(0): 1\ningrese el numero de socio: 3455\n si entra en urgencia (1), si es turno(0): 0\ningrese el numero de socio: 8765\n si entra en urgencia (1), si es turno(0): 1\ningrese el numero de socio: -1\nlos socios atendidos por urgencia fueron: [1234, 1234, 2344, 8765]\nlos socios atendidos por turno fueron: [3455]\ningrese el numero de socio que desea buscar: 1234\nla cantidad de veces que se atendio fueron: 2\n2 fueron por urgencias y 0 fueron por turnos\n"
        }
      ]
    },
    {
      "metadata": {
        "trusted": true
      },
      "cell_type": "code",
      "source": "\"\"\"\nSimulacro 1 (no se permite el uso de elementos no tratados en clase)\n\n1 - Escriba un programa que utilice una funcion para devolver la suma de los\n    primeros digitos  de cada numero almacenado en una lista de enteros.\n    Los valores se ingresan a traves del teclado, finalizando la carga con -1.\n    Los numeros de la lista pueden ser positivos o negrativos, pero el digito a\n    sumar siempre sera positivo. Imprimir la lista y la suma obtenida\n\nEjemplo -> [22, -15, 7, 456] -> 2 + 1 + 7 + 4 = 14\n\n\"\"\"\n\n## ejercicio 1\ndef sum_first_number_for_list(list_number):\n    result = 0\n    for number in list_number:\n\n        number = str(number)\n        if number[0] == \"-\":\n            number = number[1]\n        else:\n            number = number[0]\n        result += int(number)\n\n    return result\n\nnumero = 0\nlist_number = []\nwhile numero != -1:\n    numero = int(input(\"Ingrese un numero, para finalizar ingrese -1\"))\n    if numero != -1:\n        list_number.append(numero)\n\nprint(sum_first_number_for_list(list_number))\nprint(list_number)\n",
      "execution_count": 22,
      "outputs": [
        {
          "output_type": "stream",
          "name": "stdout",
          "text": "Ingrese un numero, para finalizar ingrese -16\nIngrese un numero, para finalizar ingrese -14\nIngrese un numero, para finalizar ingrese -13\nIngrese un numero, para finalizar ingrese -12\nIngrese un numero, para finalizar ingrese -1-1\n15\n[6, 4, 3, 2]\n"
        }
      ]
    },
    {
      "metadata": {
        "trusted": true
      },
      "cell_type": "code",
      "source": "\"\"\"\nSimulacro 1 (no se permite el uso de elementos no tratados en clase)\n\n\n2 - Desarrollar un programa para ingresar un numero entero N, impar y no menos que 3.\n    Rechazar el numero y volverlo a ingresar en caso de no satisfacer estas condiciones.\n    Luego se solicita imprimir el borde de un triangulo centrado de N filas, tal como se muestra\n    a continuacion\n\nEjemplo -> N = 5\n\n            *\n           * *\n          *   *\n         *     *\n        * * * * *\n\"\"\"\n\n#Ejercicio 2\ndef input_valid_number():\n    flag = True\n    numero = 0\n    while flag:\n        numero = int(input(\"ingrese un N entero, N > 3, N = impar\"))\n\n        if numero > 3 and (numero % 2) != 0:\n            flag = False\n\n    return numero\n\n\ndef print_pyramid(rows):\n    for i in range(rows):\n        if i == 0 or i == (rows - 1):\n            print(' ' * (rows - i - 1) + '*' * (2 * i + 1))\n        elif i != 0 and i != (rows - 1):\n            print(' ' * (rows - i - 1) + '*' + ' ' * (2 * i - 1) + '*')\n\n\nprint_pyramid(input_valid_number())\n",
      "execution_count": 23,
      "outputs": [
        {
          "output_type": "stream",
          "name": "stdout",
          "text": "ingrese un N entero, N > 3, N = impar7\n      *\n     * *\n    *   *\n   *     *\n  *       *\n *         *\n*************\n"
        }
      ]
    },
    {
      "metadata": {
        "trusted": true
      },
      "cell_type": "code",
      "source": "\"\"\"\nSIMULACRO DE PARCIAL\n\nDesarrolle un programa que solicite al usuario el ingreso de una\npalabra y la busque en un archivo de texto cualquiera imprimiendo\ntodas las oraciones donde se encuentre.\nTener encuenta que:\n1- el archivo de texto puede ser cualquiera\n2- se considera oracion a una serie de una o mas palabras termiandas con un punto\n3- no se permite cargar el archivo completo en memoria\n\"\"\"\n\n",
      "execution_count": null,
      "outputs": []
    },
    {
      "metadata": {
        "trusted": true
      },
      "cell_type": "code",
      "source": "#Simulacro - Sin enunciado\n\nimport random\n\ndef listanumeros():\n    lista=[]\n    azar=random.randint(0,10)\n    while azar!=0:\n        lista.append(azar)\n        azar=random.randint(0,10)\n    return lista\ndef promedio(a):\n    acum=0\n    maximo=1\n    for i in range(0,len(a)):\n        acum=acum+a[i]\n        if a[i]>maximo:\n            maximo=a[i]\n    if len(a)>1:\n        promedio=acum/len(a)\n    return promedio    \n\ndef mayoresalpromedio(a,b):\n    listamayores=[]\n    for i in range(0,len(b)):\n        if b[i]>a:\n            listamayores.append(b[i])\n    return listamayores      \n\ndef sacarimpares(a):\n    contsacados=0\n    largo=len(a)-1\n    i=0\n    while i<len(a):\n        if a[i]%2!=0:\n            a.pop(i)\n            contsacados=contsacados+1\n        else:\n            i=i+1    \n    return contsacados        \n\nlistafinal=listanumeros()\nprint(listafinal)\npromedio=promedio(listafinal)\nprint(\"el promedio entre los elementos es de: %.2f \" %promedio)\nmayor=mayoresalpromedio(promedio,listafinal)\nprint(\"los elementos mayores al promedio son:\",mayor)\ncantidad=sacarimpares(listafinal)\nprint(listafinal)\nprint(\"la cantidad de impares eliminados fueron:\",cantidad)\n\n",
      "execution_count": null,
      "outputs": []
    },
    {
      "metadata": {
        "trusted": true
      },
      "cell_type": "code",
      "source": "# Ejercicio Adicional\n\nimport random\ndef genListaproductos():\n    listaproductos = []\n    stock=[]\n    repetido=0\n    producto = int(input(\"Ingrese el codigo del producto \"))\n    while producto<1000 or producto>9999:\n        producto = int(input(\"codigo invalido,reingrese codigo del producto \"))\n    while producto!=-1:\n        while producto<1000 or producto>9999:\n            producto = int(input(\"codigo invalido, reingreselo \"))\n        \n        for i in range(0,len(listaproductos)):\n            if listaproductos[i]==producto:\n                repetido=1\n        if repetido==1:\n            print(\"el codigo ya fue ingresado \")\n        else:\n            listaproductos.append(producto)\n            nrostock=random.randint(0,20)\n            stock.append(nrostock)\n        \n        producto = int(input(\"Ingrese el codigo del producto \"))\n        repetido=0\n    return listaproductos,stock\n\ndef minimostock(a):\n    contminimo=0\n    for i in range(0,len(a)):\n        if a[i]<5:\n            contminimo=contminimo+1\n    return contminimo        \n        \ndef maximolista(a):\n    maximo=0\n    for i in range(0,len(a)):\n        if a[i]>maximo:\n            maximo=a[i]\n    return maximo        \n\n\ndef maximocodigo(a,b,c):\n    listamaximos=[]\n    for i in range(0,len(a)):\n        if a[i]==b:\n            listamaximos.append(c[i])\n    return listamaximos        \n        \ndef validezenlalista(a,b):\n    cont=0\n    for i in range(0,len(a)):\n        if b==a[i]:\n            cont=cont+1\n        \n    return cont       \n\ndef renovarstock(a,b,c,d):\n    for i in range(0,len(a)):\n        if b==a[i]:\n            posicion=i\n    for j in range(0,len(c)):\n         if j==posicion:\n             auxiliar=c[posicion]\n             c[posicion]=(c[posicion])-d\n             requerimiento=c[posicion]\n             if requerimiento<0:\n                 stockrenovado=c[j]\n                 print(\"no hay stock suficiente\")\n                 c[posicion]=auxiliar\n             \n             if requerimiento>=0:\n                 stockrenovado=c[j]\n                 print(\"el stock renovado queda en:\",stockrenovado)\n         \n             \n    \n    return stockrenovado             \n             \n#programa principal        \nlistacod,listastock=genListaproductos()\nprint(listacod)\nprint(listastock)\nfor i in range(0,len(listacod)):\n    print(listacod[i],\":\",listastock[i])\nstockminimo=minimostock(listastock)\nprint(\"la cantidad de productos que no cumplen con el stock minimo es:\",stockminimo)\nmaximo=maximolista(listastock)\nlistamaximo=maximocodigo(listastock,maximo,listacod)\nprint(\"el maximo de stock es de:\",maximo,\". y los productos con dicho stock son:\",listamaximo)\n\nnroproducto=int(input(\"ingrese el codigo de producto \"))\nwhile nroproducto!=-1:\n    while nroproducto<1000 or nroproducto>9999:\n        nroproducto=int(input(\"dato invalido,reingrese el codigo de producto \"))\n    siesvalido=validezenlalista(listacod,nroproducto)\n    if siesvalido==0:\n        listacod.append(nroproducto)\n        nrostock=random.randint(0,20)\n        listastock.append(nrostock)\n        \n        print(\"la lista actualizada con sus respectivos stocks es:\")\n        for i in range(0,len(listacod)):\n            print(listacod[i],\":\",listastock[i])        \n            \n    \n    if siesvalido>=1:\n        nroventa=int(input(\"ingrese la cantidad vendida \"))\n        cuentafinal=renovarstock(listacod,nroproducto,listastock,nroventa)\n        if cuentafinal>=0:\n            print(\"lista con sus stocks ACTUALIZADOS:\")\n            for i in range(0,len(listacod)):\n                print(listacod[i],\":\",listastock[i])  \n        \n    nroproducto=int(input(\"ingrese el codigo de producto \"))\n           \nprint(\"ha finalizado el programa\")    \n",
      "execution_count": 24,
      "outputs": [
        {
          "output_type": "stream",
          "name": "stdout",
          "text": "Ingrese el codigo del producto 4323\nIngrese el codigo del producto 2312\nIngrese el codigo del producto 3232\nIngrese el codigo del producto 4224\nIngrese el codigo del producto 1331\nIngrese el codigo del producto 1441\nIngrese el codigo del producto -1\n[4323, 2312, 3232, 4224, 1331, 1441]\n[1, 8, 12, 20, 9, 14]\n4323 : 1\n2312 : 8\n3232 : 12\n4224 : 20\n1331 : 9\n1441 : 14\nla cantidad de productos que no cumplen con el stock minimo es: 1\nel maximo de stock es de: 20 . y los productos con dicho stock son: [4224]\ningrese el codigo de producto 4323\ningrese la cantidad vendida 40\nno hay stock suficiente\ningrese el codigo de producto 1212\nla lista actualizada con sus respectivos stocks es:\n4323 : 1\n2312 : 8\n3232 : 12\n4224 : 20\n1331 : 9\n1441 : 14\n1212 : 13\ningrese el codigo de producto 1414\nla lista actualizada con sus respectivos stocks es:\n4323 : 1\n2312 : 8\n3232 : 12\n4224 : 20\n1331 : 9\n1441 : 14\n1212 : 13\n1414 : 16\ningrese el codigo de producto 1441\ningrese la cantidad vendida 31\nno hay stock suficiente\ningrese el codigo de producto -1\nha finalizado el programa\n"
        }
      ]
    },
    {
      "metadata": {
        "trusted": true
      },
      "cell_type": "code",
      "source": "'''\nDesarrollar un prograa que lea un archivo de texto cualquiera y muestr un listado con las palabras que contiene teniendo en cuenta que:\n-El listado debe mostrarse ordenado en forma descendente por cantidad de repeticiones de cada palabra, es decir que la palabra mas repetida debe ser laprimera de la lista\ncada palabra debe aparecer una sola vez en el listado seguida de la cantidad de apariciones que tuvo\n-No deben diferenciarse las mayusculas de las minusculas\n-Las palabras solo pueden contener letras. Los numeros, espacios o signos de puntuacion, no se consideran parte de las mismas\n-Dado que el programa debe servir para cualquier archivo de texto, no se consider aceptable un arreglo como soporte de las palabras del archivo'''",
      "execution_count": null,
      "outputs": []
    },
    {
      "metadata": {
        "trusted": true
      },
      "cell_type": "code",
      "source": "",
      "execution_count": null,
      "outputs": []
    }
  ],
  "metadata": {
    "kernelspec": {
      "name": "python36",
      "display_name": "Python 3.6",
      "language": "python"
    },
    "language_info": {
      "mimetype": "text/x-python",
      "nbconvert_exporter": "python",
      "name": "python",
      "pygments_lexer": "ipython3",
      "version": "3.6.6",
      "file_extension": ".py",
      "codemirror_mode": {
        "version": 3,
        "name": "ipython"
      }
    }
  },
  "nbformat": 4,
  "nbformat_minor": 2
}