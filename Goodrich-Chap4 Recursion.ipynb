{
  "cells": [
    {
      "metadata": {},
      "cell_type": "markdown",
      "source": "### Chap4 Recursion"
    },
    {
      "metadata": {
        "ExecuteTime": {
          "end_time": "2019-07-01T15:41:50.212552Z",
          "start_time": "2019-07-01T15:41:50.207201Z"
        },
        "trusted": false
      },
      "cell_type": "code",
      "source": "from typing import List, TypeVar, Tuple, Any\nfrom functools import lru_cache\nNum = TypeVar('Num', int, float)",
      "execution_count": 2,
      "outputs": []
    },
    {
      "metadata": {},
      "cell_type": "markdown",
      "source": "#### Reinforcement"
    },
    {
      "metadata": {},
      "cell_type": "markdown",
      "source": "##### R-4.1 \nDescribe a recursive algorithm for finding the maximum element in a sequence, S, of n elements. What is your running time and space usage?"
    },
    {
      "metadata": {
        "ExecuteTime": {
          "end_time": "2019-07-01T09:21:11.59384Z",
          "start_time": "2019-07-01T09:21:11.579774Z"
        },
        "trusted": false
      },
      "cell_type": "code",
      "source": "def max_recursion(nums: List[Num], n: int) -> Num:\n    if n == 1:\n        return nums[0]\n    return max(nums[n-1], n-1)",
      "execution_count": 2,
      "outputs": []
    },
    {
      "metadata": {
        "ExecuteTime": {
          "end_time": "2019-07-01T09:21:28.921761Z",
          "start_time": "2019-07-01T09:21:28.90332Z"
        },
        "trusted": false
      },
      "cell_type": "code",
      "source": "max_recursion([1, 3, 2, 6, 10], 5)",
      "execution_count": 4,
      "outputs": [
        {
          "data": {
            "text/plain": "10"
          },
          "execution_count": 4,
          "metadata": {},
          "output_type": "execute_result"
        }
      ]
    },
    {
      "metadata": {},
      "cell_type": "markdown",
      "source": "时间复杂度为$O(n)$, 因为没有用到额外的空间，所以空间复杂度为$O(1)$."
    },
    {
      "metadata": {},
      "cell_type": "markdown",
      "source": "##### R-4.6\nDescribe a recursive function for computing the n th Harmonic number, $H_n = \\sum_{i=1}^{n} \\frac{1}{n}$."
    },
    {
      "metadata": {
        "ExecuteTime": {
          "end_time": "2019-07-01T09:25:45.166709Z",
          "start_time": "2019-07-01T09:25:45.156759Z"
        },
        "trusted": false
      },
      "cell_type": "code",
      "source": "def harmonic_recursion_1(n: int) -> Num:\n    if n == 1:\n        return n\n    return 1/n + harmonic_recursion_1(n-1)\n\n# python doesn't support tail-call optimization\ndef harmonic_recursion_2(n: int, acc = 0) -> Num:\n    if n == 0:\n        return acc\n    return harmonic_recursion_2(n-1, acc + 1/n)\n\n@lru_cache(maxsize=None)\ndef harmonic_recursion_3(n: int) -> Num:\n    if n == 1:\n        return n\n    return 1/n + harmonic_recursion_1(n-1)",
      "execution_count": 5,
      "outputs": []
    },
    {
      "metadata": {},
      "cell_type": "markdown",
      "source": "第一个是普通版本；第二个是采用了尾递归的写法（但是Python并没有进行尾递归优化）；第三个是采用了内建的`lru_cache`。Benchmerking结果如下：\n```\nIn [49]: %timeit harmonic_recursion_1(50)                                                                                                                      \n9.01 µs ± 104 ns per loop (mean ± std. dev. of 7 runs, 100000 loops each)\n\nIn [50]: %timeit harmonic_recursion_2(50)                                                                                                                      \n11.3 µs ± 62.6 ns per loop (mean ± std. dev. of 7 runs, 100000 loops each)\n\nIn [51]: %timeit harmonic_recursion_3(50)                                                                                                                      \n111 ns ± 0.657 ns per loop (mean ± std. dev. of 7 runs, 10000000 loops each)\n```\n\n前两个差别不大，这里*并没有*搞清楚为什么第三个写法会比较快。因为按照文档所说，这里的cache,应该仅仅在应用DP算法的时候可以作为备查表，但是这里不同的参数值仅仅是调用了一次，所以理应不会有什么优化才对..."
    },
    {
      "metadata": {},
      "cell_type": "markdown",
      "source": "##### R-4.7 \nDescribe a recursive function for converting a string of digits into the in-\nteger it represents. For example, '13531' represents the integer 13, 531."
    },
    {
      "metadata": {
        "ExecuteTime": {
          "end_time": "2019-07-01T09:30:18.288236Z",
          "start_time": "2019-07-01T09:30:18.274795Z"
        },
        "trusted": false
      },
      "cell_type": "code",
      "source": "def char_to_int(char: str) -> int:\n    \"\"\"\n    convert the single number with str type to number type\n    \"\"\"\n    return ord(char) - ord('0')\n\ndef str_to_int(string: str, n: int) -> int:\n    if n == 1:\n        return char_to_int(string[0])\n    return char_to_int(string[n-1]) * (10 ** (n-1)) \\\n            + str_to_int(string, n-1)",
      "execution_count": 6,
      "outputs": []
    },
    {
      "metadata": {
        "ExecuteTime": {
          "end_time": "2019-07-01T09:30:42.002551Z",
          "start_time": "2019-07-01T09:30:41.983427Z"
        },
        "trusted": false
      },
      "cell_type": "code",
      "source": "str_to_int('13531', 5)",
      "execution_count": 8,
      "outputs": [
        {
          "data": {
            "text/plain": "13531"
          },
          "execution_count": 8,
          "metadata": {},
          "output_type": "execute_result"
        }
      ]
    },
    {
      "metadata": {},
      "cell_type": "markdown",
      "source": "##### R-4.8 \nIsabel has an interesting way of summing up the values in a sequence A of\nn integers, where n is a power of two. She creates a new sequence B of half\nthe size of A and sets B[i] = A[2i] + A[2i + 1], for i = 0, 1, . . . , (n/2) − 1. If\nB has size 1, then she outputs B[0]. Otherwise, she replaces A with B, and\nrepeats the process. What is the running time of her algorithm?"
    },
    {
      "metadata": {},
      "cell_type": "markdown",
      "source": "solution:\n\n首先，不妨设$n = 2^m, m\\in \\mathbb{N^+}$.那么，必须经过$\\log n = m$次操作才能完成。将每次的运算次数加总，\n$$\\frac{n}{2^1} + \\frac{n}{2^2} + \\cdots + \\frac{n}{2^m} = n \\cdot [1-(\\frac{1}{2})^m]\n= n \\cdot (1 - \\frac{1}{n}) = n - 1 => O(n)$$\n其中，\n$$(\\frac{1}{2})^m = (\\frac{1}{2})^{\\log n} = 2^{- \\log n} = \\frac{1}{n}$$"
    },
    {
      "metadata": {},
      "cell_type": "markdown",
      "source": "#### Creativity"
    },
    {
      "metadata": {},
      "cell_type": "markdown",
      "source": "##### C-4.9\nWrite a short recursive Python function that finds the minimum and max-\nimum values in a sequence without using any loops."
    },
    {
      "metadata": {
        "ExecuteTime": {
          "end_time": "2019-07-01T15:41:53.773237Z",
          "start_time": "2019-07-01T15:41:53.754415Z"
        },
        "trusted": false
      },
      "cell_type": "code",
      "source": "def my_min(n1: Num, n2: Num) -> Num:\n    if n1 >= n2:\n        return n2\n    else:\n        return n1\n\ndef my_max(n1: Num, n2: Num) -> Num:\n    if n1 >= n2:\n        return n1\n    else:\n        return n2\n\ndef min_max_num(nums: List[Num], n: int) -> Tuple[Num, Num]:\n    if n == 1:\n        return (nums[0], nums[0])\n    return (\n            my_min(nums[n-1], min_max_num(nums, n-1)[0]),\n            my_max(nums[n-1], min_max_num(nums, n-1)[1]),\n            )",
      "execution_count": 3,
      "outputs": []
    },
    {
      "metadata": {
        "ExecuteTime": {
          "end_time": "2019-07-01T15:43:16.969961Z",
          "start_time": "2019-07-01T15:43:16.960688Z"
        }
      },
      "cell_type": "markdown",
      "source": "注意这里，我们默认是不适用Python的内建求最值的函数的，不然也太无趣了>.<"
    },
    {
      "metadata": {
        "ExecuteTime": {
          "end_time": "2019-07-01T15:42:21.379422Z",
          "start_time": "2019-07-01T15:42:21.359888Z"
        },
        "trusted": false
      },
      "cell_type": "code",
      "source": "min_max_num([1, 3, 2, 4, 7], 5)",
      "execution_count": 4,
      "outputs": [
        {
          "data": {
            "text/plain": "(1, 7)"
          },
          "execution_count": 4,
          "metadata": {},
          "output_type": "execute_result"
        }
      ]
    },
    {
      "metadata": {},
      "cell_type": "markdown",
      "source": "##### C-4.10 \nDescribe a recursive algorithm to compute the integer part of the base-two\nlogarithm of n using only addition and integer division."
    },
    {
      "metadata": {
        "ExecuteTime": {
          "end_time": "2019-07-01T15:44:06.320511Z",
          "start_time": "2019-07-01T15:44:06.310539Z"
        },
        "trusted": false
      },
      "cell_type": "code",
      "source": "def get_log_int(n: Num) -> int:\n    assert n > 0\n    if n < 2:\n        return 0\n    return 1 + get_log_int(n // 2)",
      "execution_count": 6,
      "outputs": []
    },
    {
      "metadata": {
        "ExecuteTime": {
          "end_time": "2019-07-01T15:44:19.550008Z",
          "start_time": "2019-07-01T15:44:19.542937Z"
        },
        "trusted": false
      },
      "cell_type": "code",
      "source": "get_log_int(16), get_log_int(15)",
      "execution_count": 7,
      "outputs": [
        {
          "data": {
            "text/plain": "(4, 3)"
          },
          "execution_count": 7,
          "metadata": {},
          "output_type": "execute_result"
        }
      ]
    },
    {
      "metadata": {},
      "cell_type": "markdown",
      "source": "##### C-4.11\nDescribe an efficient recursive function for solving the element unique-\nness problem, which runs in time that is at most $O(n^2)$ in the worst case\nwithout using sorting."
    },
    {
      "metadata": {
        "ExecuteTime": {
          "end_time": "2019-07-01T15:44:56.190343Z",
          "start_time": "2019-07-01T15:44:56.174108Z"
        },
        "trusted": false
      },
      "cell_type": "code",
      "source": "def one_diff_all(element:Any, seq: List[Any], length: int) -> bool:\n    for i in range(length):\n        if element == seq[i]:\n            return False\n    return True\n\ndef is_unique(seq: List[Any], n: int) -> bool:\n    if n == 1:\n        return True\n    return is_unique(seq, n-1) and one_diff_all(seq[n-1], seq, n-1)",
      "execution_count": 8,
      "outputs": []
    },
    {
      "metadata": {
        "ExecuteTime": {
          "end_time": "2019-07-01T15:45:20.629982Z",
          "start_time": "2019-07-01T15:45:20.616485Z"
        },
        "trusted": false
      },
      "cell_type": "code",
      "source": "is_unique([1, 2, 3, 4], 4), is_unique([1, 2, 3, 3, 4], 5)",
      "execution_count": 9,
      "outputs": [
        {
          "data": {
            "text/plain": "(True, False)"
          },
          "execution_count": 9,
          "metadata": {},
          "output_type": "execute_result"
        }
      ]
    },
    {
      "metadata": {},
      "cell_type": "markdown",
      "source": "其实这里的思路还是很简单的，不过这里我们要注意不能创建或者复制太多的列表元素，其会占用很多空间，且复制会加大时间成本。此外，我们在Haskell可以更加清晰地看出算法的逻辑：\n```Haskell\nallDifferent :: (Eq a) => [a] -> Bool\nallDifferent list = case list of\n    []      -> True\n    (x:xs)  -> x `notElem` xs && allDifferent xs\n```"
    },
    {
      "metadata": {},
      "cell_type": "markdown",
      "source": "##### C-4.12\nGive a recursive algorithm to compute the product of two positive integers,\nm and n, using only addition and subtraction."
    },
    {
      "metadata": {
        "ExecuteTime": {
          "end_time": "2019-07-01T15:47:45.696771Z",
          "start_time": "2019-07-01T15:47:45.686597Z"
        },
        "trusted": false
      },
      "cell_type": "code",
      "source": "def multiply(m: int, n: int) -> int:\n    if n == 1:\n        return m\n    return m + multiply(m, n-1)",
      "execution_count": 10,
      "outputs": []
    },
    {
      "metadata": {
        "ExecuteTime": {
          "end_time": "2019-07-01T15:47:50.228521Z",
          "start_time": "2019-07-01T15:47:50.222404Z"
        },
        "trusted": false
      },
      "cell_type": "code",
      "source": "multiply(3, 4)",
      "execution_count": 11,
      "outputs": [
        {
          "data": {
            "text/plain": "12"
          },
          "execution_count": 11,
          "metadata": {},
          "output_type": "execute_result"
        }
      ]
    },
    {
      "metadata": {},
      "cell_type": "markdown",
      "source": "##### C-4.15\nWrite a recursive function that will output all the subsets of a set of n\nelements (without repeating any subsets)."
    },
    {
      "metadata": {
        "ExecuteTime": {
          "end_time": "2019-07-01T15:48:33.733675Z",
          "start_time": "2019-07-01T15:48:33.716985Z"
        },
        "trusted": false
      },
      "cell_type": "code",
      "source": "def get_subsets(s: List[Any], n: int) -> List[Any]:\n    if n == 0:\n        return [[]]\n    return [[s[n-1]] + i for i in get_subsets(s, n-1)] + get_subsets(s, n-1)",
      "execution_count": 12,
      "outputs": []
    },
    {
      "metadata": {
        "ExecuteTime": {
          "end_time": "2019-07-01T15:49:03.013223Z",
          "start_time": "2019-07-01T15:49:02.999075Z"
        },
        "trusted": false
      },
      "cell_type": "code",
      "source": "get_subsets(['a', 'b', 'c'], 3)",
      "execution_count": 15,
      "outputs": [
        {
          "data": {
            "text/plain": "[['c', 'b', 'a'], ['c', 'b'], ['c', 'a'], ['c'], ['b', 'a'], ['b'], ['a'], []]"
          },
          "execution_count": 15,
          "metadata": {},
          "output_type": "execute_result"
        }
      ]
    },
    {
      "metadata": {},
      "cell_type": "markdown",
      "source": "##### C-4.16\nWrite a short recursive Python function that takes a character string s and\noutputs its reverse. For example, the reverse of 'pots&pans' would be\n'snap&stop'."
    },
    {
      "metadata": {
        "ExecuteTime": {
          "end_time": "2019-07-01T15:49:48.207761Z",
          "start_time": "2019-07-01T15:49:48.197219Z"
        },
        "trusted": false
      },
      "cell_type": "code",
      "source": "def reverse_str(s: str, n: int) -> str:\n    if n == 1:\n        return s[0]\n    return s[n-1] + reverse_str(s, n-1)",
      "execution_count": 16,
      "outputs": []
    },
    {
      "metadata": {
        "ExecuteTime": {
          "end_time": "2019-07-01T15:50:08.92238Z",
          "start_time": "2019-07-01T15:50:08.909699Z"
        },
        "trusted": false
      },
      "cell_type": "code",
      "source": "reverse_str('pots&pans', 9)",
      "execution_count": 17,
      "outputs": [
        {
          "data": {
            "text/plain": "'snap&stop'"
          },
          "execution_count": 17,
          "metadata": {},
          "output_type": "execute_result"
        }
      ]
    },
    {
      "metadata": {},
      "cell_type": "markdown",
      "source": "##### C-4.17\nWrite a short recursive Python function that determines if a string s is a\npalindrome, that is, it is equal to its reverse. For example, 'racecar' and\n'gohangasalamiimalasagnahog' are palindromes."
    },
    {
      "metadata": {
        "ExecuteTime": {
          "end_time": "2019-07-01T15:50:57.212175Z",
          "start_time": "2019-07-01T15:50:57.205246Z"
        },
        "trusted": false
      },
      "cell_type": "code",
      "source": "def is_palindrome(s: str) -> bool:\n    def judge(s: str, start: int, end: int) -> bool:\n        n = end - start + 1\n        if n <= 1:\n            return True\n        return (s[start] == s[end]) and judge(s, start+1, end-1)\n    return judge(s, 0, len(s)-1)",
      "execution_count": 18,
      "outputs": []
    },
    {
      "metadata": {
        "ExecuteTime": {
          "end_time": "2019-07-01T15:51:21.23468Z",
          "start_time": "2019-07-01T15:51:21.222623Z"
        },
        "trusted": false
      },
      "cell_type": "code",
      "source": "is_palindrome('racecar'), is_palindrome('racecarss')",
      "execution_count": 20,
      "outputs": [
        {
          "data": {
            "text/plain": "(True, False)"
          },
          "execution_count": 20,
          "metadata": {},
          "output_type": "execute_result"
        }
      ]
    },
    {
      "metadata": {},
      "cell_type": "markdown",
      "source": "##### C-4.18\nUse recursion to write a Python function for determining if a string s has\nmore vowels than consonants."
    },
    {
      "metadata": {
        "ExecuteTime": {
          "end_time": "2019-07-01T15:51:55.648015Z",
          "start_time": "2019-07-01T15:51:55.638326Z"
        },
        "trusted": false
      },
      "cell_type": "code",
      "source": "def count_vowels(s: str, n: int) -> int:\n    vowels = 'aeiouAEIOU'\n    if n == 0:\n        return 0\n    if s[n-1] in vowels:\n        return 1 + count_vowels(s, n-1)\n    else:\n        return count_vowels(s, n-1)\n\ndef is_more_vowel(s: str) -> bool:\n    num_vowel = count_vowels(s, len(s))\n    num_consonants = len(s) - num_vowel\n    if num_vowel > num_consonants:\n        return True\n    else:\n        return False",
      "execution_count": 21,
      "outputs": []
    },
    {
      "metadata": {
        "ExecuteTime": {
          "end_time": "2019-07-01T15:52:05.16397Z",
          "start_time": "2019-07-01T15:52:05.157753Z"
        },
        "trusted": false
      },
      "cell_type": "code",
      "source": "is_more_vowel('hello')",
      "execution_count": 22,
      "outputs": [
        {
          "data": {
            "text/plain": "False"
          },
          "execution_count": 22,
          "metadata": {},
          "output_type": "execute_result"
        }
      ]
    },
    {
      "metadata": {},
      "cell_type": "markdown",
      "source": "##### C-4.19\nWrite a short recursive Python function that rearranges a sequence of integer values so that all the even values appear before all the odd values."
    },
    {
      "metadata": {
        "ExecuteTime": {
          "end_time": "2019-07-01T15:52:40.418402Z",
          "start_time": "2019-07-01T15:52:40.411899Z"
        },
        "trusted": false
      },
      "cell_type": "code",
      "source": "def even_before_odd(nums: List[int]) -> List[int]:\n    if not nums:\n        return []\n    if nums[0] % 2 == 0:\n        return [nums[0]] + even_before_odd(nums[1:])\n    else:\n        return even_before_odd(nums[1:]) + [nums[0]]",
      "execution_count": 23,
      "outputs": []
    },
    {
      "metadata": {
        "ExecuteTime": {
          "end_time": "2019-07-01T15:52:49.523025Z",
          "start_time": "2019-07-01T15:52:49.517802Z"
        },
        "trusted": false
      },
      "cell_type": "code",
      "source": "even_before_odd([1, 2, 3, 4])",
      "execution_count": 24,
      "outputs": [
        {
          "data": {
            "text/plain": "[2, 4, 3, 1]"
          },
          "execution_count": 24,
          "metadata": {},
          "output_type": "execute_result"
        }
      ]
    },
    {
      "metadata": {},
      "cell_type": "markdown",
      "source": "##### C-4.20\nGiven an unsorted sequence, S, of integers and an integer k, describe a\nrecursive algorithm for rearranging the elements in S so that all elements\nless than or equal to k come before any elements larger than k. What is\nthe running time of your algorithm on a sequence of n values?"
    },
    {
      "metadata": {
        "ExecuteTime": {
          "end_time": "2019-07-01T15:53:19.926412Z",
          "start_time": "2019-07-01T15:53:19.916814Z"
        },
        "trusted": false
      },
      "cell_type": "code",
      "source": "def seperate_by_k(nums: List[int], k: int) -> List[int]:\n    if not nums:\n        return []\n    if nums[0] <= k:\n        return [nums[0]] + seperate_by_k(nums[1:], k)\n    else:\n        return seperate_by_k(nums[1:], k) + [nums[0]]",
      "execution_count": 25,
      "outputs": []
    },
    {
      "metadata": {
        "ExecuteTime": {
          "end_time": "2019-07-01T15:53:35.023319Z",
          "start_time": "2019-07-01T15:53:35.009684Z"
        },
        "trusted": false
      },
      "cell_type": "code",
      "source": "seperate_by_k([1, 2, 3, 7, 5, 3], 4)",
      "execution_count": 26,
      "outputs": [
        {
          "data": {
            "text/plain": "[1, 2, 3, 3, 5, 7]"
          },
          "execution_count": 26,
          "metadata": {},
          "output_type": "execute_result"
        }
      ]
    },
    {
      "metadata": {},
      "cell_type": "markdown",
      "source": "##### C-4.21\nSuppose you are given an n-element sequence, S, containing distinct in-\ntegers that are listed in increasing order. Given a number k, describe a\nrecursive algorithm to find two integers in S that sum to k, if such a pair\nexists. What is the running time of your algorithm?\n\n>hint:The beginning and the end of a range of indices in S can be used\nas arguments to your recursive function."
    },
    {
      "metadata": {
        "ExecuteTime": {
          "end_time": "2019-07-01T15:54:38.3159Z",
          "start_time": "2019-07-01T15:54:38.308183Z"
        },
        "trusted": false
      },
      "cell_type": "code",
      "source": "def sum_to_k(nums: List[int], k: int, start: int, end: int) -> List[int]:\n    assert len(nums) > 2\n    if start == end:\n        return []\n    if nums[start] + nums[end] == k:\n        return [nums[start], nums[end]]\n    elif nums[start] + nums[end] < k:\n        return sum_to_k(nums, k, start+1, end)\n    else:\n        return sum_to_k(nums, k, start, end-1)",
      "execution_count": 27,
      "outputs": []
    },
    {
      "metadata": {
        "ExecuteTime": {
          "end_time": "2019-07-01T15:54:56.797354Z",
          "start_time": "2019-07-01T15:54:56.790064Z"
        },
        "trusted": false
      },
      "cell_type": "code",
      "source": "sum_to_k([1, 2, 3, 4], 5, 0, 3)",
      "execution_count": 28,
      "outputs": [
        {
          "data": {
            "text/plain": "[1, 4]"
          },
          "execution_count": 28,
          "metadata": {},
          "output_type": "execute_result"
        }
      ]
    },
    {
      "metadata": {},
      "cell_type": "markdown",
      "source": "##### C-4.22\nDevelop a nonrecursive implementation of the version of power from\nCode Fragment 4.12 that uses repeated squaring.\n\n参考[stackoverflow](https://stackoverflow.com/questions/23079443/c-x-to-the-power-n-using-repeated-squaring-without-recursive-function)"
    },
    {
      "metadata": {
        "ExecuteTime": {
          "end_time": "2019-07-01T15:55:44.094884Z",
          "start_time": "2019-07-01T15:55:44.090679Z"
        },
        "trusted": false
      },
      "cell_type": "code",
      "source": "def power(x: int, n: int):\n    result = 1\n    while n > 0:\n        while n & 1 == 0:\n            n //= 2\n            result *= result\n        result *= x\n        n -= 1\n    return result",
      "execution_count": 29,
      "outputs": []
    },
    {
      "metadata": {
        "ExecuteTime": {
          "end_time": "2019-07-01T15:55:51.265543Z",
          "start_time": "2019-07-01T15:55:51.259729Z"
        },
        "trusted": false
      },
      "cell_type": "code",
      "source": "power(2, 5)",
      "execution_count": 30,
      "outputs": [
        {
          "data": {
            "text/plain": "32"
          },
          "execution_count": 30,
          "metadata": {},
          "output_type": "execute_result"
        }
      ]
    }
  ],
  "metadata": {
    "kernelspec": {
      "name": "python3",
      "display_name": "Python 3",
      "language": "python"
    },
    "language_info": {
      "mimetype": "text/x-python",
      "nbconvert_exporter": "python",
      "name": "python",
      "pygments_lexer": "ipython3",
      "version": "3.5.4",
      "file_extension": ".py",
      "codemirror_mode": {
        "version": 3,
        "name": "ipython"
      }
    },
    "toc": {
      "nav_menu": {},
      "number_sections": false,
      "sideBar": true,
      "skip_h1_title": false,
      "title_cell": "Table of Contents",
      "title_sidebar": "Contents",
      "toc_cell": false,
      "toc_position": {
        "height": "calc(100% - 180px)",
        "left": "10px",
        "top": "150px",
        "width": "273.2px"
      },
      "toc_section_display": true,
      "toc_window_display": true
    }
  },
  "nbformat": 4,
  "nbformat_minor": 2
}