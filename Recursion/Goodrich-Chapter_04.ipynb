{
  "cells": [
    {
      "metadata": {
        "pycharm": {
          "metadata": false
        }
      },
      "cell_type": "markdown",
      "source": "# Chapter 04: Recursion"
    },
    {
      "metadata": {
        "pycharm": {
          "metadata": false
        }
      },
      "cell_type": "markdown",
      "source": "## Modules"
    },
    {
      "metadata": {
        "pycharm": {
          "metadata": false,
          "name": "#%%\n",
          "is_executing": false
        },
        "trusted": true
      },
      "cell_type": "code",
      "source": "import numpy as np\nimport matplotlib.pyplot as plt\n%matplotlib inline",
      "execution_count": 1,
      "outputs": []
    },
    {
      "metadata": {
        "pycharm": {
          "metadata": false
        }
      },
      "cell_type": "markdown",
      "source": "## Exercises\n### R-4.1\nDescribe a recursive algorithm for finding the maximum element in a sequence $S$, of $n$ elements. What is your running time and space usage?"
    },
    {
      "metadata": {
        "pycharm": {
          "metadata": false,
          "name": "#%% md\n"
        }
      },
      "cell_type": "markdown",
      "source": "#### Solution"
    },
    {
      "metadata": {
        "pycharm": {
          "metadata": false,
          "name": "#%%\n",
          "is_executing": false
        },
        "trusted": true
      },
      "cell_type": "code",
      "source": "def max_recursive(seq, start):\n    \n    if len(seq) == 1:\n        return seq[0]\n\n    if seq[start] <= seq[start + 1]:\n        del seq[start]\n    \n    elif seq[start] > seq[start + 1]:\n        del seq[start + 1]\n    else:\n        return KeyError()\n    \n    return max_recursive(seq, start)\n\n    ",
      "execution_count": 2,
      "outputs": []
    },
    {
      "metadata": {
        "pycharm": {
          "metadata": false,
          "name": "#%%\n",
          "is_executing": false
        },
        "trusted": true
      },
      "cell_type": "code",
      "source": "seq1 = np.random.randint(0, 10, size=(10,)).tolist()\nprint(\"maximum of seq1 should be \", max(seq1))\nseq2 = np.random.randint(0, 100, size=(100,)).tolist()\nprint(\"maximum of seq1 should be \", max(seq2))\nseq3 = np.random.randint(0, 1000, size=(1000,)).tolist()\nprint(\"maximum of seq1 should be \", max(seq3))\n\nprint(\"seq1: \", max_recursive(seq1, 0))\nprint(\"seq2: \", max_recursive(seq2, 0))\nprint(\"seq3: \", max_recursive(seq3, 0))\n",
      "execution_count": 3,
      "outputs": [
        {
          "output_type": "stream",
          "text": "maximum of seq1 should be  9\nmaximum of seq1 should be  99\nmaximum of seq1 should be  999\nseq1:  9\nseq2:  99\nseq3:  999\n",
          "name": "stdout"
        }
      ]
    },
    {
      "metadata": {
        "pycharm": {
          "metadata": false,
          "name": "#%% md\n"
        }
      },
      "cell_type": "markdown",
      "source": "### R-4.6\nDescribe a recursive function for computing the $n^\\text{th}$ **Harmonic number** , $H_n = \\sum_{i=1}^n 1/i$"
    },
    {
      "metadata": {
        "pycharm": {
          "metadata": false,
          "name": "#%% md\n"
        }
      },
      "cell_type": "markdown",
      "source": "#### Solution"
    },
    {
      "metadata": {
        "pycharm": {
          "metadata": false,
          "name": "#%% \n",
          "is_executing": false
        },
        "trusted": true
      },
      "cell_type": "code",
      "source": "def get_harmonic(n):\n    if n == 1:\n        return 1\n    return (1 / n) + get_harmonic(n-1)",
      "execution_count": 4,
      "outputs": []
    },
    {
      "metadata": {
        "pycharm": {
          "metadata": false,
          "name": "#%%\n",
          "is_executing": false
        },
        "trusted": true
      },
      "cell_type": "code",
      "source": "harmonic_series = [get_harmonic(i) for i in range(1, 100)]\nplt.plot(harmonic_series)\nplt.grid()\n",
      "execution_count": 5,
      "outputs": [
        {
          "output_type": "display_data",
          "data": {
            "image/png": "[encoded data removed]",
            "text/plain": "<Figure size 432x288 with 1 Axes>"
          },
          "metadata": {
            "needs_background": "light"
          }
        }
      ]
    },
    {
      "metadata": {
        "pycharm": {}
      },
      "cell_type": "markdown",
      "source": "### C-4.14\nIn the ***Towers of Hanoi*** puzzle, we are given a platform with three pegs, $a, b,$ and $c$, \nsticking out of it. On peg $a$ is a stack of $n$ disks, each larger than the next, so that the smallest is on the top and the largest is on the bottom. The puzzle is to move all the disk from peg $a$ to peg $c$, moving one disk at a time, so that we never place a larger disk on top of a smaller one. Describe a recursive algorithm for solving the Towers of Hanoi puzzle for arbitrary $n$."
    },
    {
      "metadata": {
        "pycharm": {
          "metadata": false,
          "name": "#%% md\n"
        }
      },
      "cell_type": "markdown",
      "source": "#### Solution"
    },
    {
      "metadata": {
        "pycharm": {
          "metadata": false,
          "name": "#%%\n",
          "is_executing": false
        },
        "trusted": true
      },
      "cell_type": "code",
      "source": "def move_disk(from_peg, to_peg):\n    to_peg.append(from_peg.pop())\n    print(\"=============[Status]=============\")\n    print(\"[a]: \", a)\n    print(\"[b]: \", b)\n    print(\"[c]: \", c)\n\ndef hanoi(n, from_peg, help_peg, to_peg):\n    if n == 1:\n        move_disk(from_peg, to_peg)\n    else:\n        hanoi(n-1, from_peg, to_peg, help_peg)\n        move_disk(from_peg, to_peg)\n        hanoi(n-1, help_peg, from_peg, to_peg)\n",
      "execution_count": 6,
      "outputs": []
    },
    {
      "metadata": {
        "pycharm": {
          "is_executing": false
        },
        "trusted": true
      },
      "cell_type": "code",
      "source": "n = 4\na = list(reversed(range(1,int(n)+1)))\nb = [];\nc = [];\n\nprint(\"[a]: \", a)\nprint(\"[b]: \", b)\nprint(\"[c]: \", c)",
      "execution_count": 7,
      "outputs": [
        {
          "output_type": "stream",
          "text": "[a]:  [4, 3, 2, 1]\n[b]:  []\n[c]:  []\n",
          "name": "stdout"
        }
      ]
    },
    {
      "metadata": {
        "scrolled": false,
        "pycharm": {
          "is_executing": false
        },
        "trusted": true
      },
      "cell_type": "code",
      "source": "hanoi(4, a, b, c)",
      "execution_count": 8,
      "outputs": [
        {
          "output_type": "stream",
          "text": "=============[Status]=============\n[a]:  [4, 3, 2]\n[b]:  [1]\n[c]:  []\n=============[Status]=============\n[a]:  [4, 3]\n[b]:  [1]\n[c]:  [2]\n=============[Status]=============\n[a]:  [4, 3]\n[b]:  []\n[c]:  [2, 1]\n=============[Status]=============\n[a]:  [4]\n[b]:  [3]\n[c]:  [2, 1]\n=============[Status]=============\n[a]:  [4, 1]\n[b]:  [3]\n[c]:  [2]\n=============[Status]=============\n[a]:  [4, 1]\n[b]:  [3, 2]\n[c]:  []\n=============[Status]=============\n[a]:  [4]\n[b]:  [3, 2, 1]\n[c]:  []\n=============[Status]=============\n[a]:  []\n[b]:  [3, 2, 1]\n[c]:  [4]\n=============[Status]=============\n[a]:  []\n[b]:  [3, 2]\n[c]:  [4, 1]\n=============[Status]=============\n[a]:  [2]\n[b]:  [3]\n[c]:  [4, 1]\n=============[Status]=============\n[a]:  [2, 1]\n[b]:  [3]\n[c]:  [4]\n=============[Status]=============\n[a]:  [2, 1]\n[b]:  []\n[c]:  [4, 3]\n=============[Status]=============\n[a]:  [2]\n[b]:  [1]\n[c]:  [4, 3]\n=============[Status]=============\n[a]:  []\n[b]:  [1]\n[c]:  [4, 3, 2]\n=============[Status]=============\n[a]:  []\n[b]:  []\n[c]:  [4, 3, 2, 1]\n",
          "name": "stdout"
        }
      ]
    },
    {
      "metadata": {
        "pycharm": {}
      },
      "cell_type": "markdown",
      "source": "### C-4.18\nUse recursion to write a Python function for determining if a string $s$ has more vowels than consonants."
    },
    {
      "metadata": {
        "pycharm": {
          "metadata": false,
          "name": "#%% md\n"
        }
      },
      "cell_type": "markdown",
      "source": "#### Solution"
    },
    {
      "metadata": {
        "pycharm": {
          "metadata": false,
          "name": "#%%\n",
          "is_executing": false
        },
        "trusted": true
      },
      "cell_type": "code",
      "source": "VOWEL = ['a','e','i','o','u']\nVOWEL",
      "execution_count": 9,
      "outputs": [
        {
          "output_type": "execute_result",
          "execution_count": 9,
          "data": {
            "text/plain": "['a', 'e', 'i', 'o', 'u']"
          },
          "metadata": {}
        }
      ]
    },
    {
      "metadata": {
        "pycharm": {
          "is_executing": false,
          "name": "#%%\n"
        },
        "trusted": true
      },
      "cell_type": "code",
      "source": "def more_vowels(s, vowels, consonants):\n    if not s:\n        vowel_count = len(vowels)\n        consonant_count = len(consonants)\n        return True if vowel_count > consonant_count else False\n    \n    if s[-1] in VOWEL:\n        vowels.append(s.pop())\n        return more_vowels(s, vowels, consonants)\n    else:\n        consonants.append(s.pop())\n        return more_vowels(s, vowels, consonants)\n",
      "execution_count": 10,
      "outputs": []
    },
    {
      "metadata": {
        "pycharm": {
          "is_executing": false
        },
        "trusted": true
      },
      "cell_type": "code",
      "source": "string1_vowels = []\nstring1_consonants = []\nstring1 = list('apple')\nprint(more_vowels(string1, string1_vowels, string1_consonants))\nprint(string1_vowels)\nprint(string1_consonants)",
      "execution_count": 11,
      "outputs": [
        {
          "output_type": "stream",
          "text": "False\n['e', 'a']\n['l', 'p', 'p']\n",
          "name": "stdout"
        }
      ]
    },
    {
      "metadata": {
        "pycharm": {
          "metadata": false,
          "name": "#%%\n",
          "is_executing": false
        },
        "trusted": true
      },
      "cell_type": "code",
      "source": "string2_vowels = []\nstring2_consonants = []\nstring2 = list('aero')\nprint(more_vowels(string2, string2_vowels, string2_consonants))\nprint(string2_vowels)\nprint(string2_consonants)\n",
      "execution_count": 12,
      "outputs": [
        {
          "output_type": "stream",
          "text": "True\n['o', 'e', 'a']\n['r']\n",
          "name": "stdout"
        }
      ]
    }
  ],
  "metadata": {
    "kernelspec": {
      "name": "python36",
      "display_name": "Python 3.6",
      "language": "python"
    },
    "language_info": {
      "mimetype": "text/x-python",
      "nbconvert_exporter": "python",
      "name": "python",
      "pygments_lexer": "ipython3",
      "version": "3.6.6",
      "file_extension": ".py",
      "codemirror_mode": {
        "version": 3,
        "name": "ipython"
      }
    },
    "stem_cell": {
      "cell_type": "raw",
      "source": "",
      "metadata": {
        "pycharm": {
          "metadata": false
        }
      }
    }
  },
  "nbformat": 4,
  "nbformat_minor": 2
}