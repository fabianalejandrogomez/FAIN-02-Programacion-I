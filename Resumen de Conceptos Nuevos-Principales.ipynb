{
  "cells": [
    {
      "metadata": {},
      "cell_type": "markdown",
      "source": "# Operador Condicional"
    },
    {
      "metadata": {
        "trusted": true
      },
      "cell_type": "code",
      "source": "b = -3\na = b if b >= 0 else -b \nprint(a)",
      "execution_count": 23,
      "outputs": [
        {
          "output_type": "stream",
          "text": "3\n",
          "name": "stdout"
        }
      ]
    },
    {
      "metadata": {},
      "cell_type": "markdown",
      "source": "# Funciones Lambda"
    },
    {
      "metadata": {
        "trusted": true
      },
      "cell_type": "code",
      "source": "cuadrado = lambda x : x**2\nprint(cuadrado(3))",
      "execution_count": 18,
      "outputs": [
        {
          "output_type": "stream",
          "text": "9\n",
          "name": "stdout"
        }
      ]
    },
    {
      "metadata": {
        "trusted": true
      },
      "cell_type": "code",
      "source": "# Utilizando lambda con dos parametros\nraiz = lambda x,y : x**(1/y)\nprint(raiz(9, 3))",
      "execution_count": 25,
      "outputs": [
        {
          "output_type": "stream",
          "text": "2.080083823051904\n",
          "name": "stdout"
        }
      ]
    },
    {
      "metadata": {
        "trusted": true
      },
      "cell_type": "code",
      "source": "# Utilizando lambda con valores por omision en el parametro y, por ejemplo y=3\nraiz = lambda x,y=3 : x**(1/y)\nprint(raiz(9))",
      "execution_count": 26,
      "outputs": [
        {
          "output_type": "stream",
          "text": "2.080083823051904\n",
          "name": "stdout"
        }
      ]
    },
    {
      "metadata": {},
      "cell_type": "markdown",
      "source": "# Listas"
    },
    {
      "metadata": {},
      "cell_type": "markdown",
      "source": "# Operaciones con Listas"
    },
    {
      "metadata": {
        "trusted": true
      },
      "cell_type": "code",
      "source": "lista = [3, 4, 5, 6]\nprint(sum(lista))",
      "execution_count": 21,
      "outputs": [
        {
          "output_type": "stream",
          "text": "18\n",
          "name": "stdout"
        }
      ]
    },
    {
      "metadata": {
        "trusted": true
      },
      "cell_type": "code",
      "source": "lista = [3, 4, 5, 6]\nprint(max(lista))",
      "execution_count": 22,
      "outputs": [
        {
          "output_type": "stream",
          "text": "6\n",
          "name": "stdout"
        }
      ]
    },
    {
      "metadata": {
        "trusted": true
      },
      "cell_type": "code",
      "source": "lista = [3, 4, 5, 6]\nprint(min(lista))",
      "execution_count": 23,
      "outputs": [
        {
          "output_type": "stream",
          "text": "3\n",
          "name": "stdout"
        }
      ]
    },
    {
      "metadata": {
        "trusted": true
      },
      "cell_type": "code",
      "source": "#list funcion para convertir una secuencia en lista\nlista = list(range(1,6))\nprint(lista)",
      "execution_count": 24,
      "outputs": [
        {
          "output_type": "stream",
          "text": "[1, 2, 3, 4, 5]\n",
          "name": "stdout"
        }
      ]
    },
    {
      "metadata": {
        "trusted": true
      },
      "cell_type": "code",
      "source": "#in para verificar la presencia de un elemento en una lista\nlista = [1, 2, 3, 4]\nif 2 in lista:\n    print(\"ok\")",
      "execution_count": 25,
      "outputs": [
        {
          "output_type": "stream",
          "text": "ok\n",
          "name": "stdout"
        }
      ]
    },
    {
      "metadata": {
        "trusted": true
      },
      "cell_type": "code",
      "source": "#not in para verificar la ausencia de un elemento en una lista\nlista = [1, 3, 4]\nif 2 not in lista:\n    print(\"ok\")",
      "execution_count": 34,
      "outputs": [
        {
          "output_type": "stream",
          "text": "ok\n",
          "name": "stdout"
        }
      ]
    },
    {
      "metadata": {},
      "cell_type": "markdown",
      "source": "# Metodos"
    },
    {
      "metadata": {
        "trusted": true
      },
      "cell_type": "code",
      "source": "#insert inserta un elemento en una lista en una poscion determinada\nlista = [1,2,3,4,5]\nlista.insert(1,3)\nprint(lista)",
      "execution_count": 10,
      "outputs": [
        {
          "output_type": "stream",
          "text": "[1, 3, 2, 3, 4, 5]\n",
          "name": "stdout"
        }
      ]
    },
    {
      "metadata": {
        "trusted": true
      },
      "cell_type": "code",
      "source": "#pop elimina un elemento en una lista de una poscion determinada\nlista = [1,2,3,4,5]\nlista.pop(3)\nprint(lista)",
      "execution_count": 40,
      "outputs": [
        {
          "output_type": "stream",
          "text": "[1, 2, 3, 5]\n",
          "name": "stdout"
        }
      ]
    },
    {
      "metadata": {
        "trusted": true
      },
      "cell_type": "code",
      "source": "#remove elimina un elemento en una lista en la primera posicion encontrada del elemento\nlista = [1,2,3,4,5,1]\nlista.remove(1)\nprint(lista)",
      "execution_count": 41,
      "outputs": [
        {
          "output_type": "stream",
          "text": "[2, 3, 4, 5, 1]\n",
          "name": "stdout"
        }
      ]
    },
    {
      "metadata": {
        "trusted": true
      },
      "cell_type": "code",
      "source": "#index busca un elemento en una lista y devuelve su posicion\nlista = [1,2,3,4,5,1]\nprint(lista.index(5))",
      "execution_count": 42,
      "outputs": [
        {
          "output_type": "stream",
          "text": "4\n",
          "name": "stdout"
        }
      ]
    },
    {
      "metadata": {
        "trusted": true
      },
      "cell_type": "code",
      "source": "#index puede buscar el elemento dentro de un intervalo de posicones (el valor final del intervalo no esta inluido en la busqueda)\nlista = [9,1,2,9,4,5,1]\nprint(lista.index(9,1,4))",
      "execution_count": 46,
      "outputs": [
        {
          "output_type": "stream",
          "text": "3\n",
          "name": "stdout"
        }
      ]
    },
    {
      "metadata": {
        "trusted": true
      },
      "cell_type": "code",
      "source": "#count puede buscar la cantidad de repeticiones de un elemento\nlista = [9,1,2,9,4,5,1]\nprint(lista.count(9))",
      "execution_count": 7,
      "outputs": [
        {
          "output_type": "stream",
          "text": "2\n",
          "name": "stdout"
        }
      ]
    },
    {
      "metadata": {
        "trusted": true
      },
      "cell_type": "code",
      "source": "#reverse invierte el orden de los elementos de una lista\nlist1 = [1, 2, 3, 4, 1, 2, 6]  \nlist1.reverse()  \nprint(list1)  ",
      "execution_count": 58,
      "outputs": [
        {
          "output_type": "stream",
          "text": "[6, 2, 1, 4, 3, 2, 1]\n",
          "name": "stdout"
        }
      ]
    },
    {
      "metadata": {
        "trusted": true
      },
      "cell_type": "code",
      "source": "#clear elimina los elementos de una lista, sin crear una nueva (in situ)\n\nlist1 = [1, 2, 3] \n  \n# Printing list1 before deleting  \nprint (\"List1 before deleting is : \",list1) \n  \n# deleting list using clear() \nlist1.clear() \nprint (\"List1 after deleting is : \",list1) ",
      "execution_count": 65,
      "outputs": [
        {
          "output_type": "stream",
          "text": "List1 before deleting is :  [1, 2, 3]\nList1 after deleting is :  []\n",
          "name": "stdout"
        }
      ]
    },
    {
      "metadata": {
        "trusted": true
      },
      "cell_type": "code",
      "source": "#sort ordena los elementos de una lista, sin crear una nueva (in situ)\n\nlist1 = [4, 3, 1] \n  \n# Printing list1 before sort  \nprint (\"List1 was : \",list1) \n  \n# Printing list with sort() \nlist1.sort() \nprint (\"List1 now is : \",list1) ",
      "execution_count": 66,
      "outputs": [
        {
          "output_type": "stream",
          "text": "List1 was :  [4, 3, 1]\nList1 now is :  [1, 3, 4]\n",
          "name": "stdout"
        }
      ]
    },
    {
      "metadata": {
        "trusted": true
      },
      "cell_type": "code",
      "source": "#sort de mayor a menor\n\nlist1 = [4, 3, 9] \n  \n# Printing list1 before sort  \nprint (\"List1 was : \",list1) \n  \n# Printing list with sort() \nlist1.sort(reverse = True) \nprint (\"List1 now is : \",list1) ",
      "execution_count": 67,
      "outputs": [
        {
          "output_type": "stream",
          "text": "List1 was :  [4, 3, 9]\nList1 now is :  [9, 4, 3]\n",
          "name": "stdout"
        }
      ]
    },
    {
      "metadata": {
        "trusted": true
      },
      "cell_type": "code",
      "source": "#sort con criterio de ordenamiento mediante funciones lambda\n\nlist1 = [4, 3, 9, 6, 4, 8, 6, 9, 0, 4] \n  \n# Printing list1 before sort  \nprint (\"List1 was : \",list1) \n  \n# En este caso labda hace que se ordenen primer los pares y luego los impares\nlist1.sort( key = lambda x:x%2) \nprint (\"List1 now is : \",list1) \n\n# Tambien se puede combinar con reverse\nlist1.sort(key = lambda x:x%2, reverse = True) \nprint (\"List1 now is : \",list1) ",
      "execution_count": 1,
      "outputs": [
        {
          "output_type": "stream",
          "text": "List1 was :  [4, 3, 9, 6, 4, 8, 6, 9, 0, 4]\nList1 now is :  [4, 6, 4, 8, 6, 0, 4, 3, 9, 9]\nList1 now is :  [3, 9, 9, 4, 6, 4, 8, 6, 0, 4]\n",
          "name": "stdout"
        }
      ]
    },
    {
      "metadata": {
        "trusted": true
      },
      "cell_type": "code",
      "source": "#funciona solo para texto\nlista = ['asdf143', 'asdf1234', 'asdf111', 'asdf124']\nlista.sort(key=lambda x:(int(x[-2])))\nprint(lista)",
      "execution_count": 12,
      "outputs": [
        {
          "output_type": "stream",
          "text": "['asdf111', 'asdf124', 'asdf1234', 'asdf143']\n",
          "name": "stdout"
        }
      ]
    },
    {
      "metadata": {
        "trusted": true
      },
      "cell_type": "code",
      "source": "##### sort con criterio de ordenamiento mediante funcion len \n\nnombres = [\"pipin\", \"gandalf\", \"aragorn\", \"saruman\", \"elf\"] \n  \n# Printing list1 before sort  \nprint (\"List1 was : \",nombres) \n  \n# En este caso llen hace que se ordenen por el largo de la palabra\n\nnombres.sort(key = len) \nprint (\"List1 now is : \",nombres) ",
      "execution_count": 13,
      "outputs": [
        {
          "output_type": "stream",
          "text": "List1 was :  ['pipin', 'gandalf', 'aragorn', 'saruman', 'elf']\nList1 now is :  ['elf', 'pipin', 'gandalf', 'aragorn', 'saruman']\n",
          "name": "stdout"
        }
      ]
    },
    {
      "metadata": {
        "trusted": true
      },
      "cell_type": "code",
      "source": "#Ordenando por el ultimo digito\ninp=[1,52,234,65,87,57,96,0,3]\ninp.sort(key=lambda x: x%10)\nprint(inp)",
      "execution_count": 46,
      "outputs": [
        {
          "output_type": "stream",
          "text": "[0, 1, 52, 3, 234, 65, 96, 87, 57]\n",
          "name": "stdout"
        }
      ]
    },
    {
      "metadata": {
        "trusted": true
      },
      "cell_type": "code",
      "source": "#Ordenando por el ultimo digito, se puede usar reerse\ninp=[1,52,234,65,87,57,96,0,3]\ninp.sort(key=lambda x: x%10, reverse=True)\nprint(inp)",
      "execution_count": 18,
      "outputs": [
        {
          "output_type": "stream",
          "text": "[87, 57, 96, 65, 234, 3, 52, 1, 0]\n",
          "name": "stdout"
        }
      ]
    },
    {
      "metadata": {
        "trusted": true
      },
      "cell_type": "code",
      "source": "##### sort con criterio de ordenamiento mediante funcion\n  \n# funcion reada para devolver el elemento de ordenamiento deseado\ndef sortSecond(valor): \n    return valor[1]  \n  \nlist1 = [(1, 9), (3, 3), (1, 4)] \n  \n# ordenando de acuerdo al elemento de la funcion\nlist1.sort(key = sortSecond)  \nprint(list1) \n  \n# ordenando de acuerdo al elemento de la funcion, y ademas invirtiendo\nlist1.sort(key = sortSecond, reverse = True) \nprint(list1) \n",
      "execution_count": 128,
      "outputs": [
        {
          "output_type": "stream",
          "text": "[(3, 3), (1, 4), (1, 9)]\n[(1, 9), (1, 4), (3, 3)]\n",
          "name": "stdout"
        }
      ]
    },
    {
      "metadata": {
        "trusted": true
      },
      "cell_type": "code",
      "source": "# Ordenando por la ultima letra, funciona solo para texto\ndef ordenaultimaletra(lista): \n    lista.sort(key = lambda x: x[-1]) \n    return lista\n  \n# Driver Code \napellidos =[\"gomez\", \"gancedo\", \"miranda\"] \nprint(ordenaultimaletra(apellidos)) ",
      "execution_count": 145,
      "outputs": [
        {
          "output_type": "stream",
          "text": "['miranda', 'gancedo', 'gomez']\n",
          "name": "stdout"
        }
      ]
    },
    {
      "metadata": {
        "trusted": true
      },
      "cell_type": "code",
      "source": "# Ordenando por la ultima letra, no se porque no anda....\n\napellidos =[\"gomez\", \"gancedo\", \"miranda\"] \napellidosord = apellidos.sort(key = lambda x: x[-1])\nprint(apellidosord)",
      "execution_count": 13,
      "outputs": [
        {
          "output_type": "stream",
          "text": "None\n",
          "name": "stdout"
        }
      ]
    },
    {
      "metadata": {},
      "cell_type": "markdown",
      "source": "# List Slice"
    },
    {
      "metadata": {
        "trusted": true
      },
      "cell_type": "code",
      "source": "#Realiza una seleccion de un intevalo sin incluir la ultima posicion\nlista = [1,2,4,6,3,7,3,7,8,5,3,5,4,2,24]\nprint(lista[2:7])",
      "execution_count": 150,
      "outputs": [
        {
          "output_type": "stream",
          "text": "[4, 6, 3, 7, 3]\n",
          "name": "stdout"
        }
      ]
    },
    {
      "metadata": {
        "trusted": true
      },
      "cell_type": "code",
      "source": "#Realiza una seleccion de un intevalo,  salteando de a un elemento,  sin incluir la ultima posicion\nlista = [1,2,4,6,3,7,3,7,8,5,3,5,4,2,24]\nprint(lista[2:9:2])",
      "execution_count": 16,
      "outputs": [
        {
          "output_type": "stream",
          "text": "[4, 3, 3, 8]\n",
          "name": "stdout"
        }
      ]
    },
    {
      "metadata": {
        "trusted": true
      },
      "cell_type": "code",
      "source": "#Realiza una seleccion de un intevalo hasta el final\nlista = [1,2,4,6,3,7,3,7,8,5,3,5,4,2,24]\nprint(lista[2:])",
      "execution_count": 153,
      "outputs": [
        {
          "output_type": "stream",
          "text": "[4, 6, 3, 7, 3, 7, 8, 5, 3, 5, 4, 2, 24]\n",
          "name": "stdout"
        }
      ]
    },
    {
      "metadata": {
        "trusted": true
      },
      "cell_type": "code",
      "source": "#Realiza una seleccion de un intevalo desde el principio\nlista = [1,2,4,6,3,7,3,7,8,5,3,5,4,2,24]\nprint(lista[:7])",
      "execution_count": 154,
      "outputs": [
        {
          "output_type": "stream",
          "text": "[1, 2, 4, 6, 3, 7, 3]\n",
          "name": "stdout"
        }
      ]
    },
    {
      "metadata": {
        "trusted": true
      },
      "cell_type": "code",
      "source": "#Un incremento negativo toma los elementos de atras hacia adelante\nlista = [1,2,4,6,3,7,3,7,8,5,3,5,4,2,24]\nprint(lista[::-1])",
      "execution_count": 155,
      "outputs": [
        {
          "output_type": "stream",
          "text": "[24, 2, 4, 5, 3, 5, 8, 7, 3, 7, 3, 6, 4, 2, 1]\n",
          "name": "stdout"
        }
      ]
    },
    {
      "metadata": {
        "trusted": true
      },
      "cell_type": "code",
      "source": "#Se pueden reemplazar elementos mediante list slice. (puede ser una cantidad de elementos diferente de la original)\nlista = [1,2,4,6,3,7,3,7,8,5,3,5,4,2,24]\nlista[3:12] =\"lunes\", \"martes\"\nprint(lista)",
      "execution_count": 158,
      "outputs": [
        {
          "output_type": "stream",
          "text": "[1, 2, 4, 'lunes', 'martes', 4, 2, 24]\n",
          "name": "stdout"
        }
      ]
    },
    {
      "metadata": {
        "trusted": true
      },
      "cell_type": "code",
      "source": "#Se pueden elimnar elementos mediante list slice. (puede ser una cantidad de elementos diferente de la original)\nlista = [1,2,4,6,3,7,3,7,8,5,3,5,4,2,24]\nlista[3:12] =[]\nprint(lista)",
      "execution_count": 159,
      "outputs": [
        {
          "output_type": "stream",
          "text": "[1, 2, 4, 4, 2, 24]\n",
          "name": "stdout"
        }
      ]
    },
    {
      "metadata": {
        "trusted": true
      },
      "cell_type": "code",
      "source": "#Las list slices son tambien variables\nlista = [1,2,4,6,3,7,3,7,8,5,3,5,4,2,24]\na = 2\nb = 7\nprint(lista[a:b])",
      "execution_count": 160,
      "outputs": [
        {
          "output_type": "stream",
          "text": "[4, 6, 3, 7, 3]\n",
          "name": "stdout"
        }
      ]
    },
    {
      "metadata": {},
      "cell_type": "markdown",
      "source": "# Copia de listas"
    },
    {
      "metadata": {
        "trusted": true
      },
      "cell_type": "code",
      "source": "lista =[1,2,3]\nlista2 = lista.copy()\nlista2.append(4)\nprint(lista)\nprint(lista2)",
      "execution_count": 162,
      "outputs": [
        {
          "output_type": "stream",
          "text": "[1, 2, 3]\n[1, 2, 3, 4]\n",
          "name": "stdout"
        }
      ]
    },
    {
      "metadata": {},
      "cell_type": "markdown",
      "source": "# For"
    },
    {
      "metadata": {
        "trusted": true
      },
      "cell_type": "code",
      "source": "#uso de for con slices\nlista = [\"a\",\"b\",\"c\",\"d\",\"e\",\"f\",\"g\",\"h\"]\nfor i in lista[3:7]:\n    print(i, end=\"\")\n    \n",
      "execution_count": 166,
      "outputs": [
        {
          "output_type": "stream",
          "text": "defg",
          "name": "stdout"
        }
      ]
    },
    {
      "metadata": {
        "trusted": true
      },
      "cell_type": "code",
      "source": "#uso de for con slices\nlista = [\"a\",\"b\",\"c\",\"d\",\"e\",\"f\",\"g\",\"h\"]\nfor i in enumerate(lista):\n    print(i, end=\"\")\n    ",
      "execution_count": 167,
      "outputs": [
        {
          "output_type": "stream",
          "text": "(0, 'a')(1, 'b')(2, 'c')(3, 'd')(4, 'e')(5, 'f')(6, 'g')(7, 'h')",
          "name": "stdout"
        }
      ]
    },
    {
      "metadata": {},
      "cell_type": "markdown",
      "source": "# Delete list"
    },
    {
      "metadata": {
        "trusted": true
      },
      "cell_type": "code",
      "source": "#borra un elemento de la lista\nlista = [\"a\",\"b\",\"c\",\"d\",\"e\",\"f\",\"g\",\"h\"]\ndel lista[1]\nprint(lista)",
      "execution_count": 170,
      "outputs": [
        {
          "output_type": "stream",
          "text": "['a', 'c', 'd', 'e', 'f', 'g', 'h']\n",
          "name": "stdout"
        }
      ]
    },
    {
      "metadata": {
        "trusted": true
      },
      "cell_type": "code",
      "source": "#borra toda la lista o parte de la lista\nlista = [\"a\",\"b\",\"c\",\"d\",\"e\",\"f\",\"g\",\"h\"]\ndel lista[3:5]\nprint(lista)",
      "execution_count": 172,
      "outputs": [
        {
          "output_type": "stream",
          "text": "['a', 'b', 'c', 'f', 'g', 'h']\n",
          "name": "stdout"
        }
      ]
    },
    {
      "metadata": {},
      "cell_type": "markdown",
      "source": "# Funcion map (dentro de list)"
    },
    {
      "metadata": {
        "trusted": true
      },
      "cell_type": "code",
      "source": "numeros = [1,2,3,4,5,6,7,8,9]\ncuadrados = list(map(lambda x:x**(2), numeros[3:5]))\nprint(numeros)\nprint(cuadrados)",
      "execution_count": 5,
      "outputs": [
        {
          "output_type": "stream",
          "text": "[1, 2, 3, 4, 5, 6, 7, 8, 9]\n[16, 25]\n",
          "name": "stdout"
        }
      ]
    },
    {
      "metadata": {
        "trusted": true
      },
      "cell_type": "code",
      "source": "#es equivalente a\nnumeros = [1,2,3,4]\ncuadrados =[]\nfor i in numeros:\n    cuadrados.append(i*(2))\nprint(numeros)\nprint(cuadrados)   ",
      "execution_count": 19,
      "outputs": [
        {
          "output_type": "stream",
          "text": "[1, 2, 3, 4]\n[2, 4, 6, 8]\n",
          "name": "stdout"
        }
      ]
    },
    {
      "metadata": {},
      "cell_type": "markdown",
      "source": "# Funcion filter"
    },
    {
      "metadata": {
        "trusted": true
      },
      "cell_type": "code",
      "source": "# filter permite filtrar cuando se da una condicion en los elementos de una lista\nnumeros = [1,2,3,4,5]\nraices_enteras = list( filter (lambda x:x**(1/2) == int(x**(1/2)), numeros))\nprint(raices_enteras)",
      "execution_count": 179,
      "outputs": [
        {
          "output_type": "stream",
          "text": "[1, 4]\n",
          "name": "stdout"
        }
      ]
    },
    {
      "metadata": {
        "trusted": true
      },
      "cell_type": "code",
      "source": "# otro ejemplo\nnumeros = [2, 5, 10, 23, 50, 33]\nlista = list( filter(lambda numero: numero%5 == 0, numeros) )\nprint(lista)",
      "execution_count": 10,
      "outputs": [
        {
          "output_type": "stream",
          "text": "[5, 10, 50]\n",
          "name": "stdout"
        }
      ]
    },
    {
      "metadata": {},
      "cell_type": "markdown",
      "source": "# Listas por Comprension"
    },
    {
      "metadata": {
        "trusted": true
      },
      "cell_type": "code",
      "source": "cuadrados = [i**2 for i in range(6)]\nprint(cuadrados)",
      "execution_count": 180,
      "outputs": [
        {
          "output_type": "stream",
          "text": "[0, 1, 4, 9, 16, 25]\n",
          "name": "stdout"
        }
      ]
    },
    {
      "metadata": {
        "trusted": true
      },
      "cell_type": "code",
      "source": "cubospares = [i**3 for i in range(20) if (i**3)%2 ==0]\nprint(cubospares)",
      "execution_count": 183,
      "outputs": [
        {
          "output_type": "stream",
          "text": "[0, 8, 64, 216, 512, 1000, 1728, 2744, 4096, 5832]\n",
          "name": "stdout"
        }
      ]
    },
    {
      "metadata": {},
      "cell_type": "markdown",
      "source": "# Matrices: Creacion"
    },
    {
      "metadata": {},
      "cell_type": "raw",
      "source": "Creacion de Matrices: metodo 1"
    },
    {
      "metadata": {
        "trusted": true
      },
      "cell_type": "code",
      "source": "filas = 3\ncolumnas = 4\nmatriz = []\nfor f in range(filas):\n    matriz.append([])\n    for c in range(columnas):\n        matriz[f].append(0)\nprint(matriz)",
      "execution_count": 185,
      "outputs": [
        {
          "output_type": "stream",
          "text": "[[0, 0, 0, 0], [0, 0, 0, 0], [0, 0, 0, 0]]\n",
          "name": "stdout"
        }
      ]
    },
    {
      "metadata": {},
      "cell_type": "raw",
      "source": "Creacion de Matrices: metodo 2"
    },
    {
      "metadata": {
        "trusted": true
      },
      "cell_type": "code",
      "source": "filas = 3\ncolumnas = 4\nmatriz = []\nfor f in range(filas):\n    matriz.append([0]* columnas)\nprint(matriz)",
      "execution_count": 186,
      "outputs": [
        {
          "output_type": "stream",
          "text": "[[0, 0, 0, 0], [0, 0, 0, 0], [0, 0, 0, 0]]\n",
          "name": "stdout"
        }
      ]
    },
    {
      "metadata": {},
      "cell_type": "raw",
      "source": "Creacion de Matrices: metodo 2 mediante listas por comprension"
    },
    {
      "metadata": {
        "trusted": true
      },
      "cell_type": "code",
      "source": "filas = 3\ncolumnas = 4\nmatriz = [[0]*columnas for i in range(filas)]\nprint(matriz)",
      "execution_count": 193,
      "outputs": [
        {
          "output_type": "stream",
          "text": "[[0, 0, 0, 0], [0, 0, 0, 0], [0, 0, 0, 0]]\n",
          "name": "stdout"
        }
      ]
    },
    {
      "metadata": {},
      "cell_type": "markdown",
      "source": "# Matrices: Operaciones"
    },
    {
      "metadata": {
        "trusted": true
      },
      "cell_type": "code",
      "source": "def rellenarmatriz(matrix):\n    filas = len(matrix)\n    columnas = len(matrix[0])\n    for f in range(filas):\n        for c in range(columnas):\n            n = int(input(\"ingrese el valor de la celda\"))\n            matrix[f][c] = n\n    return matrix\n\n#programa principal\nmatriz = [[0]*5 for i in range(5)]\nprint(rellenarmatriz(matriz))\n",
      "execution_count": 9,
      "outputs": [
        {
          "output_type": "stream",
          "name": "stdout",
          "text": "ingrese el valor de la celda4\ningrese el valor de la celda3\ningrese el valor de la celda2\ningrese el valor de la celda1\ningrese el valor de la celda3\ningrese el valor de la celda4\ningrese el valor de la celda5\ningrese el valor de la celda4\ningrese el valor de la celda3\ningrese el valor de la celda2\ningrese el valor de la celda1\ningrese el valor de la celda2\ningrese el valor de la celda2\ningrese el valor de la celda2\ningrese el valor de la celda2\ningrese el valor de la celda2\ningrese el valor de la celda2\ningrese el valor de la celda2\ningrese el valor de la celda2\ningrese el valor de la celda3\ningrese el valor de la celda3\ningrese el valor de la celda3\ningrese el valor de la celda3\ningrese el valor de la celda3\ningrese el valor de la celda3\n[[4, 3, 2, 1, 3], [4, 5, 4, 3, 2], [1, 2, 2, 2, 2], [2, 2, 2, 2, 3], [3, 3, 3, 3, 3]]\n"
        }
      ]
    },
    {
      "metadata": {
        "trusted": true
      },
      "cell_type": "code",
      "source": "def imprimirmatriz(matrix):\n    filas = len(matrix)\n    columnas = len(matrix[0])\n    for f in range(filas):\n        for c in range(columnas):\n            print(\"%3d\" %matrix[f][c], end=\"\")\n        print()\n\n#programa principal\nimprimirmatriz(matriz)",
      "execution_count": 11,
      "outputs": [
        {
          "output_type": "stream",
          "text": "  4  3  2  1  3\n  4  5  4  3  2\n  1  2  2  2  2\n  2  2  2  2  3\n  3  3  3  3  3\n",
          "name": "stdout"
        }
      ]
    },
    {
      "metadata": {
        "trusted": true
      },
      "cell_type": "code",
      "source": "#generar una matriz de ceros e imprimirla\nn = 4\nlista = [[0] * n for i in range(n)]\n\nfor fila in lista:\n    print(' '.join([str(elem) for elem in fila]))",
      "execution_count": 4,
      "outputs": [
        {
          "output_type": "stream",
          "text": "0 0 0 0\n0 0 0 0\n0 0 0 0\n0 0 0 0\n",
          "name": "stdout"
        }
      ]
    },
    {
      "metadata": {},
      "cell_type": "markdown",
      "source": "# Cadena de Caracteres"
    },
    {
      "metadata": {
        "trusted": true
      },
      "cell_type": "code",
      "source": "# Uso de las comillas: Se pueden combinar\nfrase = 'Me dijo: \"podes irte tranquilo\", y se quedo mirando'\nprint(frase)",
      "execution_count": 205,
      "outputs": [
        {
          "output_type": "stream",
          "text": "Me dijo: \"podes irte tranquilo\", y se quedo mirando\n",
          "name": "stdout"
        }
      ]
    },
    {
      "metadata": {
        "trusted": true
      },
      "cell_type": "code",
      "source": "# Uso de las barra invertida \\ \nfrase = 'Me dijo: \"podes irte \\\ntranquilo\", y se quedo mirando'\nprint(frase)",
      "execution_count": 208,
      "outputs": [
        {
          "output_type": "stream",
          "text": "Me dijo: \"podes irte tranquilo\", y se quedo mirando\n",
          "name": "stdout"
        }
      ]
    },
    {
      "metadata": {
        "trusted": true
      },
      "cell_type": "code",
      "source": "# Para mantener el formato: Triple comilla\n\nEmmy = '''Todo indica que esta noche el mundo volverá a hablar de Game of Thrones,\ncomo lo hizo cada domingo durante la emisión de sus ocho temporadas. \nHoy, a las 20, por TNT y TNT series se verá la 71a. entrega de los premios Emmy.\nSe trata de una ceremonia en la que la ficción de HBO tiene todas las de ganar.'''\n\nprint(Emmy)",
      "execution_count": 210,
      "outputs": [
        {
          "output_type": "stream",
          "text": "Todo indica que esta noche el mundo volverá a hablar de Game of Thrones,\ncomo lo hizo cada domingo durante la emisión de sus ocho temporadas. \nHoy, a las 20, por TNT y TNT series se verá la 71a. entrega de los premios Emmy.\nSe trata de una ceremonia en la que la ficción de HBO tiene todas las de ganar.\n",
          "name": "stdout"
        }
      ]
    },
    {
      "metadata": {
        "trusted": true
      },
      "cell_type": "code",
      "source": "#Ejemplos \\n\n\nprint(\"Lunes\\nMartes\\nMiercoles\")",
      "execution_count": 214,
      "outputs": [
        {
          "output_type": "stream",
          "text": "Lunes\nMartes\nMiercoles\n",
          "name": "stdout"
        }
      ]
    },
    {
      "metadata": {},
      "cell_type": "raw",
      "source": "Raw Strings"
    },
    {
      "metadata": {
        "trusted": true
      },
      "cell_type": "code",
      "source": "#PAra evitar errores con las secuencias de escape ocasinados por el uso de la barra \\:\n# Se utilizan Raw Strings marcados por la letra rseguida de comillas r\"\n\nruta = r\"c:\\nuevo\\datostxt\"\n",
      "execution_count": null,
      "outputs": []
    },
    {
      "metadata": {},
      "cell_type": "raw",
      "source": "Caracteristicas de las Cadenas de Caracteres"
    },
    {
      "metadata": {},
      "cell_type": "raw",
      "source": "Las cadenas de caracteres, al igual que las listas son iterables mediante subindice"
    },
    {
      "metadata": {
        "trusted": true
      },
      "cell_type": "code",
      "source": "dia = \"lunes\"\nprint(dia[2])\n",
      "execution_count": 216,
      "outputs": [
        {
          "output_type": "stream",
          "text": "n\n",
          "name": "stdout"
        }
      ]
    },
    {
      "metadata": {},
      "cell_type": "raw",
      "source": "Las cadenas de caracteres, al igual que las listas son iterables mediante slices"
    },
    {
      "metadata": {
        "trusted": true
      },
      "cell_type": "code",
      "source": "dia = \"lunes\"\nprint(dia[1:4])\n",
      "execution_count": 221,
      "outputs": [
        {
          "output_type": "stream",
          "text": "une\n",
          "name": "stdout"
        }
      ]
    },
    {
      "metadata": {},
      "cell_type": "raw",
      "source": "Replicas de Strings"
    },
    {
      "metadata": {
        "trusted": true
      },
      "cell_type": "code",
      "source": "dia = \"lunes\"\nprint(dia*5)\n",
      "execution_count": 222,
      "outputs": [
        {
          "output_type": "stream",
          "text": "lunesluneslunesluneslunes\n",
          "name": "stdout"
        }
      ]
    },
    {
      "metadata": {},
      "cell_type": "raw",
      "source": "Metodos y Funciones"
    },
    {
      "metadata": {
        "trusted": true
      },
      "cell_type": "code",
      "source": "dia = \"lunes\"\nprint(len(dia))",
      "execution_count": 223,
      "outputs": [
        {
          "output_type": "stream",
          "text": "5\n",
          "name": "stdout"
        }
      ]
    },
    {
      "metadata": {
        "trusted": true
      },
      "cell_type": "code",
      "source": "dia = \"lunes\"\nif \"n\" in dia:\n    print(\"ok\")",
      "execution_count": 225,
      "outputs": [
        {
          "output_type": "stream",
          "text": "ok\n",
          "name": "stdout"
        }
      ]
    },
    {
      "metadata": {
        "trusted": true
      },
      "cell_type": "code",
      "source": "dia = \"lunes\"\nif \"h\" not in dia:\n    print(\"ok\")",
      "execution_count": 226,
      "outputs": [
        {
          "output_type": "stream",
          "text": "ok\n",
          "name": "stdout"
        }
      ]
    },
    {
      "metadata": {
        "trusted": true
      },
      "cell_type": "code",
      "source": "dia = \"lunes\"\nprint(max(dia))",
      "execution_count": 227,
      "outputs": [
        {
          "output_type": "stream",
          "text": "u\n",
          "name": "stdout"
        }
      ]
    },
    {
      "metadata": {
        "trusted": true
      },
      "cell_type": "code",
      "source": "dia = \"lunes\"\nprint(min(dia))",
      "execution_count": 228,
      "outputs": [
        {
          "output_type": "stream",
          "text": "e\n",
          "name": "stdout"
        }
      ]
    },
    {
      "metadata": {
        "trusted": true
      },
      "cell_type": "code",
      "source": "dia = \"lunes\"\nprint(dia.index(\"e\"))",
      "execution_count": 233,
      "outputs": [
        {
          "output_type": "stream",
          "text": "3\n",
          "name": "stdout"
        }
      ]
    },
    {
      "metadata": {
        "trusted": true
      },
      "cell_type": "code",
      "source": "dia = \"Viernes\"\nprint(dia.count(\"e\"))",
      "execution_count": 234,
      "outputs": [
        {
          "output_type": "stream",
          "text": "2\n",
          "name": "stdout"
        }
      ]
    },
    {
      "metadata": {},
      "cell_type": "raw",
      "source": "Invertir una cadena mediante slices"
    },
    {
      "metadata": {
        "trusted": true
      },
      "cell_type": "code",
      "source": "dia = \"Viernes\"\nprint(dia[::-1])",
      "execution_count": 243,
      "outputs": [
        {
          "output_type": "stream",
          "text": "senreiV\n",
          "name": "stdout"
        }
      ]
    },
    {
      "metadata": {},
      "cell_type": "raw",
      "source": "Ejemplo: Eliminar signos de puntuacion de un texto\n"
    },
    {
      "metadata": {
        "trusted": true
      },
      "cell_type": "code",
      "source": "signos = \"!·$%&/()=?^*¨_:;,.-´ç+`\\|@\"\nparrafo = '''Todo indica que esta noche el mundo volverá a hablar de Game of Thrones como lo hizo cada domingo durante la emisión de sus ocho temporadas.\nHoy, a las 20, por TNT y TNT series se verá la 71a. entrega de los premios Emmy, una ceremonia en la que la ficción de HBO tiene todas las de ganar.\nEs que no solo fue la serie más nominada con 32 menciones -de las que ya ganó 10 en la premiación de los rubros técnicos realizada la semana pasada-, \nsino que el hecho de que ya se haya terminado implica que esta será la última oportunidad que tendrán los integrantes de la Academia de televisión de reconocer \na la épica adaptación de las novelas de George R.R. Martin que se transformó en fenómeno global. Pero claro, lo cierto es que anticipar con algún nivel de certeza \nlo que pueda suceder en una entrega de premios en Hollywood no es una ciencia exacta. Lejos de eso, las influencias cruzadas de las campañas de promoción de los \ncanales y plataformas de streaming además de la composición lamentablemente homogénea de los votantes pueden aportar alguna sorpresa cuando se abran los sobres y \nmás de un disgusto para los seguidores de esas series que se queden con las manos vacías.'''\nnuevotexto = \"\"\nfor caracter in parrafo:\n    if caracter not in signos:\n        nuevotexto = nuevotexto + caracter\nprint(nuevotexto)",
      "execution_count": 251,
      "outputs": [
        {
          "output_type": "stream",
          "text": "Todo indica que esta noche el mundo volverá a hablar de Game of Thrones como lo hizo cada domingo durante la emisión de sus ocho temporadas\nHoy a las 20 por TNT y TNT series se verá la 71a entrega de los premios Emmy una ceremonia en la que la ficción de HBO tiene todas las de ganar\nEs que no solo fue la serie más nominada con 32 menciones de las que ya ganó 10 en la premiación de los rubros técnicos realizada la semana pasada \nsino que el hecho de que ya se haya terminado implica que esta será la última oportunidad que tendrán los integrantes de la Academia de televisión de reconocer \na la épica adaptación de las novelas de George RR Martin que se transformó en fenómeno global Pero claro lo cierto es que anticipar con algún nivel de certeza \nlo que pueda suceder en una entrega de premios en Hollywood no es una ciencia exacta Lejos de eso las influencias cruzadas de las campañas de promoción de los \ncanales y plataformas de streaming además de la composición lamentablemente homogénea de los votantes pueden aportar alguna sorpresa cuando se abran los sobres y \nmás de un disgusto para los seguidores de esas series que se queden con las manos vacías\n",
          "name": "stdout"
        }
      ]
    },
    {
      "metadata": {},
      "cell_type": "markdown",
      "source": "# Metodos para cadenas"
    },
    {
      "metadata": {
        "trusted": true
      },
      "cell_type": "code",
      "source": "#split\ntexto = '''Todo indica que esta noche el mundo volverá a hablar de Game of Thrones'''\ntexto2 = texto.split()\nprint(texto2)",
      "execution_count": 253,
      "outputs": [
        {
          "output_type": "stream",
          "text": "['Todo', 'indica', 'que', 'esta', 'noche', 'el', 'mundo', 'volverá', 'a', 'hablar', 'de', 'Game', 'of', 'Thrones']\n",
          "name": "stdout"
        }
      ]
    },
    {
      "metadata": {
        "trusted": true
      },
      "cell_type": "code",
      "source": "#split\ntexto = '''Todo indica que esta noche el mundo volverá a hablar de Game of Thrones'''\ntexto2 = texto.split(\"a\")\nprint(texto2)",
      "execution_count": 257,
      "outputs": [
        {
          "output_type": "stream",
          "text": "['Todo indic', ' que est', ' noche el mundo volverá ', ' h', 'bl', 'r de G', 'me of Thrones']\n",
          "name": "stdout"
        }
      ]
    },
    {
      "metadata": {
        "trusted": true
      },
      "cell_type": "code",
      "source": "#join\ntexto = '''Todo indica que esta noche el mundo volverá a hablar de Game of Thrones'''\nseparador = \" \"\ntexto2 = separador.join(texto)\nprint(texto2)",
      "execution_count": 265,
      "outputs": [
        {
          "output_type": "stream",
          "text": "T o d o   i n d i c a   q u e   e s t a   n o c h e   e l   m u n d o   v o l v e r á   a   h a b l a r   d e   G a m e   o f   T h r o n e s\n",
          "name": "stdout"
        }
      ]
    },
    {
      "metadata": {
        "trusted": true
      },
      "cell_type": "code",
      "source": "#replace\ntexto = '''Todo indica que esta noche el mundo volverá a hablar de Game of Thrones'''\nreemplazo = \"Game of Thrones\"\nnuevo = \"Rompeportones\"\ntexto2 = texto.replace(reemplazo, nuevo)\nprint(texto2)",
      "execution_count": 268,
      "outputs": [
        {
          "output_type": "stream",
          "text": "Todo indica que esta noche el mundo volverá a hablar de Rompeportones\n",
          "name": "stdout"
        }
      ]
    },
    {
      "metadata": {
        "trusted": true
      },
      "cell_type": "code",
      "source": "#replace\ntexto = '''Todo indica que esta noche el mundo volverá a hablar de Game of Thrones'''\nreemplazo = \" \"\nnuevo = \"-\"\ncantidad = 5\ntexto2 = texto.replace(reemplazo, nuevo,cantidad)\nprint(texto2)",
      "execution_count": 270,
      "outputs": [
        {
          "output_type": "stream",
          "text": "Todo-indica-que-esta-noche-el mundo volverá a hablar de Game of Thrones\n",
          "name": "stdout"
        }
      ]
    },
    {
      "metadata": {},
      "cell_type": "raw",
      "source": "Ejemplo\nLeer una frase invertir las palabras sin invertir las letras"
    },
    {
      "metadata": {
        "trusted": true
      },
      "cell_type": "code",
      "source": "parrafo = '''Todo indica que esta noche el mundo volverá a hablar de Game of Thrones como lo hizo cada domingo durante la emisión de sus ocho temporadas.\nHoy, a las 20, por TNT y TNT series se verá la 71a. entrega de los premios Emmy, una ceremonia en la que la ficción de HBO tiene todas las de ganar.\nEs que no solo fue la serie más nominada con 32 menciones -de las que ya ganó 10 en la premiación de los rubros técnicos realizada la semana pasada-, \nsino que el hecho de que ya se haya terminado implica que esta será la última oportunidad que tendrán los integrantes de la Academia de televisión de reconocer \na la épica adaptación de las novelas de George R.R. Martin que se transformó en fenómeno global. Pero claro, lo cierto es que anticipar con algún nivel de certeza \nlo que pueda suceder en una entrega de premios en Hollywood no es una ciencia exacta. Lejos de eso, las influencias cruzadas de las campañas de promoción de los \ncanales y plataformas de streaming además de la composición lamentablemente homogénea de los votantes pueden aportar alguna sorpresa cuando se abran los sobres y \nmás de un disgusto para los seguidores de esas series que se queden con las manos vacías.'''\npalabras = parrafo.split()\npalabras.reverse()\nparrafo = \" \".join(palabras)\nprint(parrafo)",
      "execution_count": 1,
      "outputs": [
        {
          "output_type": "stream",
          "text": "vacías. manos las con queden se que series esas de seguidores los para disgusto un de más y sobres los abran se cuando sorpresa alguna aportar pueden votantes los de homogénea lamentablemente composición la de además streaming de plataformas y canales los de promoción de campañas las de cruzadas influencias las eso, de Lejos exacta. ciencia una es no Hollywood en premios de entrega una en suceder pueda que lo certeza de nivel algún con anticipar que es cierto lo claro, Pero global. fenómeno en transformó se que Martin R.R. George de novelas las de adaptación épica la a reconocer de televisión de Academia la de integrantes los tendrán que oportunidad última la será esta que implica terminado haya se ya que de hecho el que sino pasada-, semana la realizada técnicos rubros los de premiación la en 10 ganó ya que las -de menciones 32 con nominada más serie la fue solo no que Es ganar. de las todas tiene HBO de ficción la que la en ceremonia una Emmy, premios los de entrega 71a. la verá se series TNT y TNT por 20, las a Hoy, temporadas. ocho sus de emisión la durante domingo cada hizo lo como Thrones of Game de hablar a volverá mundo el noche esta que indica Todo\n",
          "name": "stdout"
        }
      ]
    },
    {
      "metadata": {
        "trusted": true
      },
      "cell_type": "raw",
      "source": "Para crear un clon de una String, es necesario usar un metodo especial"
    },
    {
      "metadata": {
        "trusted": true
      },
      "cell_type": "code",
      "source": "texto = \"Hola\"\nnuevotexto = \"\".join(texto)\nprint(id(texto))\nprint(id(nuevotexto))",
      "execution_count": 2,
      "outputs": [
        {
          "output_type": "stream",
          "text": "139779175144000\n139779175298640\n",
          "name": "stdout"
        }
      ]
    }
  ],
  "metadata": {
    "kernelspec": {
      "name": "python36",
      "display_name": "Python 3.6",
      "language": "python"
    },
    "language_info": {
      "mimetype": "text/x-python",
      "nbconvert_exporter": "python",
      "name": "python",
      "pygments_lexer": "ipython3",
      "version": "3.6.6",
      "file_extension": ".py",
      "codemirror_mode": {
        "version": 3,
        "name": "ipython"
      }
    }
  },
  "nbformat": 4,
  "nbformat_minor": 2
}