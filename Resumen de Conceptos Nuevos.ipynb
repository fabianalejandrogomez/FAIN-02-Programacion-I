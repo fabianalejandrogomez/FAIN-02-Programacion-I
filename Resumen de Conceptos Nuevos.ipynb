{
  "cells": [
    {
      "metadata": {
        "collapsed": true
      },
      "cell_type": "markdown",
      "source": "# Asignacion Extedida"
    },
    {
      "metadata": {},
      "cell_type": "raw",
      "source": "Atencion el orden de los simbolos es importante, el = va segundo"
    },
    {
      "metadata": {
        "trusted": true
      },
      "cell_type": "code",
      "source": "r = 5\nr += 10\nprint(r)",
      "execution_count": 1,
      "outputs": [
        {
          "output_type": "stream",
          "text": "15\n",
          "name": "stdout"
        }
      ]
    },
    {
      "metadata": {
        "trusted": true
      },
      "cell_type": "code",
      "source": "r = 5\nr -= 10\nprint(r)",
      "execution_count": 4,
      "outputs": [
        {
          "output_type": "stream",
          "text": "-5\n",
          "name": "stdout"
        }
      ]
    },
    {
      "metadata": {
        "trusted": true
      },
      "cell_type": "code",
      "source": "r = 5\nr *= 10\nprint(r)",
      "execution_count": 5,
      "outputs": [
        {
          "output_type": "stream",
          "text": "50\n",
          "name": "stdout"
        }
      ]
    },
    {
      "metadata": {
        "trusted": true
      },
      "cell_type": "code",
      "source": "r = 5\nr /= 10\nprint(r)",
      "execution_count": 6,
      "outputs": [
        {
          "output_type": "stream",
          "text": "0.5\n",
          "name": "stdout"
        }
      ]
    },
    {
      "metadata": {
        "trusted": true
      },
      "cell_type": "code",
      "source": "r = 5\nr **= 2\nprint(r)",
      "execution_count": 8,
      "outputs": [
        {
          "output_type": "stream",
          "text": "25\n",
          "name": "stdout"
        }
      ]
    },
    {
      "metadata": {
        "trusted": true
      },
      "cell_type": "code",
      "source": "r = 5\nr //= 10\nprint(r)",
      "execution_count": 10,
      "outputs": [
        {
          "output_type": "stream",
          "text": "0\n",
          "name": "stdout"
        }
      ]
    },
    {
      "metadata": {
        "trusted": true
      },
      "cell_type": "code",
      "source": "r = 5\nr %= 2\nprint(r)",
      "execution_count": 11,
      "outputs": [
        {
          "output_type": "stream",
          "text": "1\n",
          "name": "stdout"
        }
      ]
    },
    {
      "metadata": {
        "trusted": true
      },
      "cell_type": "code",
      "source": "a, b, c = 21, 10, 0\n\nprint(\"Valor de variable 'a':\", a)\nprint(\"Valor de variable 'b':\", b)\n\nc = a + b\nprint(\"Operador = | El valor de variable 'c' es \", c)\n\nc += a\nprint(\"Operador += | El valor de variable 'c' es \", c)\n\nc *= a\nprint(\"Operador *= | El valor de variable 'c' es \", c)\n\nc /= a \nprint(\"Operador /= | El valor de variable 'c' es \", c)\n\nc = 2\nc %= a\nprint(\"Operador %= | El valor de variable 'c' es \", c)\n\nc **= a\nprint(\"Operador **= | El valor de variable 'c' es \", c)\n\nc //= a\nprint(\"Operador //= | El valor de variable 'c' es \", c)",
      "execution_count": 15,
      "outputs": [
        {
          "output_type": "stream",
          "text": "Valor de variable 'a': 21\nValor de variable 'b': 10\nOperador = | El valor de variable 'c' es  31\nOperador += | El valor de variable 'c' es  52\nOperador *= | El valor de variable 'c' es  1092\nOperador /= | El valor de variable 'c' es  52.0\nOperador %= | El valor de variable 'c' es  2\nOperador **= | El valor de variable 'c' es  2097152\nOperador //= | El valor de variable 'c' es  99864\n",
          "name": "stdout"
        }
      ]
    },
    {
      "metadata": {},
      "cell_type": "markdown",
      "source": "# Condiciones encadenadas"
    },
    {
      "metadata": {
        "trusted": true
      },
      "cell_type": "code",
      "source": "a, b, c = 21, 10, 0\n\n#La variable a analizar va en el medio de la expresion\"\nif a > b > c:\n    print(\"b es un valor entre a y c\")",
      "execution_count": 21,
      "outputs": [
        {
          "output_type": "stream",
          "text": "La variable a analizar va en el medio de la expresion\nb es un valor entre a y c\n",
          "name": "stdout"
        }
      ]
    },
    {
      "metadata": {},
      "cell_type": "markdown",
      "source": "# Operador Condicional"
    },
    {
      "metadata": {
        "trusted": true
      },
      "cell_type": "code",
      "source": "b = -3\na = b if b >= 0 else -b \nprint(a)",
      "execution_count": 23,
      "outputs": [
        {
          "output_type": "stream",
          "text": "3\n",
          "name": "stdout"
        }
      ]
    },
    {
      "metadata": {},
      "cell_type": "markdown",
      "source": "# Formatos de Salida en Print"
    },
    {
      "metadata": {
        "trusted": true
      },
      "cell_type": "code",
      "source": "name = \"Faby\"\nprint(\"Hello, %s!\" % name)",
      "execution_count": 4,
      "outputs": [
        {
          "output_type": "stream",
          "text": "Hello, Faby!\n",
          "name": "stdout"
        }
      ]
    },
    {
      "metadata": {
        "trusted": true
      },
      "cell_type": "code",
      "source": "name = \"Faby\"\nage = 32\nprint(\"%s is %d years old.\" % (name, age))",
      "execution_count": 2,
      "outputs": [
        {
          "output_type": "stream",
          "text": "Faby is 32 years old.\n",
          "name": "stdout"
        }
      ]
    },
    {
      "metadata": {
        "trusted": true
      },
      "cell_type": "code",
      "source": "mylist = [1,2,3]\nprint(\"A list: %s\" % mylist)",
      "execution_count": 3,
      "outputs": [
        {
          "output_type": "stream",
          "text": "A list: [1, 2, 3]\n",
          "name": "stdout"
        }
      ]
    },
    {
      "metadata": {
        "trusted": true
      },
      "cell_type": "code",
      "source": "a = 3.14167323\nprint(\"el numero es: %.3f\" %a)",
      "execution_count": 6,
      "outputs": [
        {
          "output_type": "stream",
          "text": "el numero es: 3.142\n",
          "name": "stdout"
        }
      ]
    },
    {
      "metadata": {
        "trusted": true
      },
      "cell_type": "code",
      "source": "nombre = \"Trump\"\nvotos = 543232\nporcentaje = votos/134343\nprint(porcentaje)\n\nprint(\"Candidato %s: %d votos (%.2f%%)\" %(nombre, votos, porcentaje))",
      "execution_count": 5,
      "outputs": [
        {
          "output_type": "stream",
          "text": "4.043619689898246\nCandidato Trump: 543232 votos (4.04%)\n",
          "name": "stdout"
        }
      ]
    },
    {
      "metadata": {},
      "cell_type": "markdown",
      "source": "# Estructura iterativa: uso de while, break, else"
    },
    {
      "metadata": {
        "trusted": true
      },
      "cell_type": "code",
      "source": "n = int(input(\"ingrese un numero\"))\ndivisor = 2\nwhile divisor < n:\n    if n%divisor == 0:\n        print(\"n no es un numero primo\")\n        break\n    divisor = divisor + 1\nelse:\n    print(n, \" es un numero primo\")",
      "execution_count": 25,
      "outputs": [
        {
          "output_type": "stream",
          "name": "stdout",
          "text": "ingrese un numero5\n5  es un numero primo\n"
        }
      ]
    },
    {
      "metadata": {},
      "cell_type": "markdown",
      "source": "# Estructura iterativa: uso de while y continue"
    },
    {
      "metadata": {
        "trusted": true
      },
      "cell_type": "code",
      "source": "# en este caso continue permite saltear el valor 0 y seguir con el resto del while. En este caso continue hace saltar el print y vuelve a while\n\nx = -6\nwhile x < 5:\n    x = x + 1\n    if x == 0:\n        continue\n    print(\"%2d: %5.2f\" %(x,1/x))",
      "execution_count": 27,
      "outputs": [
        {
          "output_type": "stream",
          "text": "-5: -0.20\n-4: -0.25\n-3: -0.33\n-2: -0.50\n-1: -1.00\n 1:  1.00\n 2:  0.50\n 3:  0.33\n 4:  0.25\n 5:  0.20\n",
          "name": "stdout"
        }
      ]
    },
    {
      "metadata": {
        "trusted": true
      },
      "cell_type": "markdown",
      "source": "# Estructura iterativa: uso de for en range con incremento "
    },
    {
      "metadata": {
        "trusted": true
      },
      "cell_type": "code",
      "source": "n = int(input(\"ingrese un numero:\"))\nfor i in range(1, n+1, 2):\n    print(i, end=\" \")",
      "execution_count": 2,
      "outputs": [
        {
          "output_type": "stream",
          "name": "stdout",
          "text": "ingrese un numero:4\n1 3 "
        }
      ]
    },
    {
      "metadata": {},
      "cell_type": "markdown",
      "source": "# Funciones"
    },
    {
      "metadata": {},
      "cell_type": "raw",
      "source": "Uso del i del for para calculo"
    },
    {
      "metadata": {
        "trusted": true
      },
      "cell_type": "code",
      "source": "def calculafactorial(x):\n    fact = 1\n    for i in range(1, n+1):\n        fact = fact * i\n    return fact\n\n#programa principal con variables locales\na = int(input(\"ingrese un numero entero: \"))\nb = calculafactorial(a)\nprint(\"el factorial de\", a, \"es:\", b)",
      "execution_count": 5,
      "outputs": [
        {
          "output_type": "stream",
          "name": "stdout",
          "text": "ingrese un numero entero: 4\nel factorial de 4 es: 24\n"
        }
      ]
    },
    {
      "metadata": {},
      "cell_type": "raw",
      "source": "Python permite que una funcion devuelva varios resultados luego del return"
    },
    {
      "metadata": {
        "trusted": true
      },
      "cell_type": "code",
      "source": "def leerfecha():\n    dia = int(input(\"ingrese el dia: \"))\n    mes = int(input(\"ingrese el mes: \"))\n    año = int(input(\"ingrese el año: \"))\n    return dia, mes, año\n\nd, m, a = leerfecha()\nprint(\"la fecha es: \", d,\"/\",m,\"/\",a,)",
      "execution_count": 6,
      "outputs": [
        {
          "output_type": "stream",
          "name": "stdout",
          "text": "ingrese el dia30\ningrese el mes04\ningrese el año1970\nla fecha es:  30 / 4 / 1970\n"
        }
      ]
    },
    {
      "metadata": {},
      "cell_type": "raw",
      "source": "Funciones: Uso de parametro por omision. por ejemplo al poner en el parametro de la funcion indice = 2, le digo cual es parametro por omision (en este caso cuadada), por si no viene definido en el parametro real. En la raiz cubica ya viene definido el parametro real: 3"
    },
    {
      "metadata": {
        "trusted": true
      },
      "cell_type": "code",
      "source": "def calcularaiz(radicando,indice = 2):\n    return radicando**(1/indice)\n#programa principal\na = float(input(\"ingrese el radicando: \"))\nr2 = calcularaiz(a)\nr3 = calcularaiz(a, 3)\nprint(\"la raiz cuadrada es:\", r2)\nprint(\"la raiz cubica es:\", r3)\n",
      "execution_count": 7,
      "outputs": [
        {
          "output_type": "stream",
          "name": "stdout",
          "text": "ingrese el radicando: 4\nla raiz cuadrada es: 2.0\nla raiz cubica es: 1.5874010519681994\n"
        }
      ]
    },
    {
      "metadata": {},
      "cell_type": "raw",
      "source": "Los parametros reales pueden pasarse por nombre del parametro de la funcion, por ejemplo indice = 3\nLos parametros por nombre van siempre despues de los que se pasan por posicion"
    },
    {
      "metadata": {
        "trusted": true
      },
      "cell_type": "code",
      "source": "def calcularaiz(radicando, indice = 2):\n    return radicando**(1/indice)\n#programa principal\n\nr3 = calcularaiz(27, indice = 3)\nprint(\"la raiz cubica es:\", r3)\n",
      "execution_count": 11,
      "outputs": [
        {
          "output_type": "stream",
          "text": "la raiz cubica es: 3.0\n",
          "name": "stdout"
        }
      ]
    },
    {
      "metadata": {},
      "cell_type": "raw",
      "source": "Si se utilzian solo parametros reales por nombre, pueden ir en cualquier posicion"
    },
    {
      "metadata": {
        "trusted": true
      },
      "cell_type": "code",
      "source": "def calcularaiz(radicando, indice):\n    return radicando**(1/indice)\n#programa principal\n\nr5 = calcularaiz(indice = 5, radicando = 32)\nprint(\"la raiz quinta es:\", r5)\n",
      "execution_count": 13,
      "outputs": [
        {
          "output_type": "stream",
          "text": "la raiz quinta es: 2.0\n",
          "name": "stdout"
        }
      ]
    },
    {
      "metadata": {},
      "cell_type": "markdown",
      "source": "# Funciones Lambda"
    },
    {
      "metadata": {
        "trusted": true
      },
      "cell_type": "code",
      "source": "cuadrado = lambda x : x**2\nprint(cuadrado(3))",
      "execution_count": 18,
      "outputs": [
        {
          "output_type": "stream",
          "text": "9\n",
          "name": "stdout"
        }
      ]
    },
    {
      "metadata": {
        "trusted": true
      },
      "cell_type": "code",
      "source": "# Utilizando lambda con dos parametros\nraiz = lambda x,y : x**(1/y)\nprint(raiz(9, 3))",
      "execution_count": 25,
      "outputs": [
        {
          "output_type": "stream",
          "text": "2.080083823051904\n",
          "name": "stdout"
        }
      ]
    },
    {
      "metadata": {
        "trusted": true
      },
      "cell_type": "code",
      "source": "# Utilizando lambda con valores por omision en el parametro y, por ejemplo y=3\nraiz = lambda x,y=3 : x**(1/y)\nprint(raiz(9))",
      "execution_count": 26,
      "outputs": [
        {
          "output_type": "stream",
          "text": "2.080083823051904\n",
          "name": "stdout"
        }
      ]
    },
    {
      "metadata": {},
      "cell_type": "markdown",
      "source": "# Listas"
    },
    {
      "metadata": {
        "trusted": true
      },
      "cell_type": "code",
      "source": "numeros = [1,2,3,4]\nprint(numeros)\nprint(*numeros)",
      "execution_count": 29,
      "outputs": [
        {
          "output_type": "stream",
          "text": "[1, 2, 3, 4]\n1 2 3 4\n",
          "name": "stdout"
        }
      ]
    },
    {
      "metadata": {},
      "cell_type": "raw",
      "source": "Empaquetando una lista"
    },
    {
      "metadata": {
        "trusted": true
      },
      "cell_type": "code",
      "source": "d1 = \"lunes\"\nd2 = \"martes\"\ndias = [d1, d2]\nprint(dias)",
      "execution_count": 28,
      "outputs": [
        {
          "output_type": "stream",
          "text": "['lunes', 'martes']\n",
          "name": "stdout"
        }
      ]
    },
    {
      "metadata": {},
      "cell_type": "raw",
      "source": "Desempaquetando una lista"
    },
    {
      "metadata": {
        "trusted": true
      },
      "cell_type": "code",
      "source": "dias = [\"lunes\", \"martes\"]\nd1, d2 = dias\nprint(d1)\nprint(d2)       ",
      "execution_count": 30,
      "outputs": [
        {
          "output_type": "stream",
          "text": "lunes\nmartes\n",
          "name": "stdout"
        }
      ]
    },
    {
      "metadata": {},
      "cell_type": "raw",
      "source": "Concatenando listas"
    },
    {
      "metadata": {
        "trusted": true
      },
      "cell_type": "code",
      "source": "lista1 = [1,2,3]\nlista2 = [4,5,6]\nlista3 = lista1 + lista2\nprint(lista3)",
      "execution_count": 34,
      "outputs": [
        {
          "output_type": "stream",
          "text": "[1, 2, 3, 4, 5, 6]\n",
          "name": "stdout"
        }
      ]
    },
    {
      "metadata": {
        "trusted": true
      },
      "cell_type": "code",
      "source": "lista4 = lista3 + [7]\nprint(lista4)",
      "execution_count": 39,
      "outputs": [
        {
          "output_type": "stream",
          "text": "[1, 2, 3, 4, 5, 6, 7]\n",
          "name": "stdout"
        }
      ]
    },
    {
      "metadata": {},
      "cell_type": "raw",
      "source": "Replicando listas"
    },
    {
      "metadata": {
        "trusted": true
      },
      "cell_type": "code",
      "source": "lista5 = lista4 * 2\nprint(lista5)",
      "execution_count": 41,
      "outputs": [
        {
          "output_type": "stream",
          "text": "[1, 2, 3, 4, 5, 6, 7, 1, 2, 3, 4, 5, 6, 7]\n",
          "name": "stdout"
        }
      ]
    },
    {
      "metadata": {
        "trusted": true
      },
      "cell_type": "code",
      "source": "",
      "execution_count": null,
      "outputs": []
    },
    {
      "metadata": {
        "trusted": true
      },
      "cell_type": "code",
      "source": "lista0 = [0] * 5\nprint(lista0)",
      "execution_count": 42,
      "outputs": [
        {
          "output_type": "stream",
          "text": "[0, 0, 0, 0, 0]\n",
          "name": "stdout"
        }
      ]
    },
    {
      "metadata": {},
      "cell_type": "raw",
      "source": "Modificacion de valores de lista"
    },
    {
      "metadata": {
        "trusted": true
      },
      "cell_type": "code",
      "source": "lista = [1,2,3,4]\nlista[2] = 9\nprint(lista)",
      "execution_count": 43,
      "outputs": [
        {
          "output_type": "stream",
          "text": "[1, 2, 9, 4]\n",
          "name": "stdout"
        }
      ]
    },
    {
      "metadata": {},
      "cell_type": "raw",
      "source": "Leer un conjunto de numeros enteros, calcular su promedio e imprimir los valores mayores al promedio"
    },
    {
      "metadata": {
        "trusted": true
      },
      "cell_type": "code",
      "source": "lista = []\nsuma = 0\ncant = 0\nn = int(input(\"ingrese un numero entero, o un -1 para terminar\"))\nwhile n!= -1:\n    lista.append(n)\n    suma += n\n    cant += 1\n    n = int(input(\"ingrese un numero entero, o un -1 para terminar\"))\nif cant == 0:\n    print(\"no se ingresaron valores\")\nelse:\n    prom = suma/cant\n    print(\"Promedio: \", prom)\n    for i in range(cant):\n        if lista[i] > prom:\n            print(\"Los valores mayores al promedio son:\",lista[i], end=\"\")   ",
      "execution_count": 46,
      "outputs": [
        {
          "output_type": "stream",
          "name": "stdout",
          "text": "ingrese un numero entero, o un -1 para terminar3\ningrese un numero entero, o un -1 para terminar5\ningrese un numero entero, o un -1 para terminar7\ningrese un numero entero, o un -1 para terminar-1\nPromedio:  5.0\nLos valores mayores al promedio son 7"
        }
      ]
    },
    {
      "metadata": {},
      "cell_type": "raw",
      "source": "formato de salida\nprint(\"Candidato %d: %d votos (%.2f%%)\" %(i, votos[i], porcentaje),end=\"\")"
    },
    {
      "metadata": {
        "trusted": true
      },
      "cell_type": "raw",
      "source": "Crear un grafico de barras con los resultados obtenidos por los candidatos de una eleccion"
    },
    {
      "metadata": {
        "trusted": true
      },
      "cell_type": "code",
      "source": "votos = []\ntotal = 0\nn = int(input(\"votos del candidato?, -1 para terminar\"))\nwhile n != -1:\n    votos += [n]\n    total += n\n    n = int(input(\"votos del candidato?, -1 para terminar\"))\nprint()\n#Calcular porcentaje e imprimir resultados\nfor i in range(len(votos)):\n    porcentaje = votos[i] * 100 / total\n    print(\"Candidato %d: %d votos (%.2f%%)\" %(i, votos[i], porcentaje),end=\"\")\n#Imprimir el grafico de barras\n    for j in range(int(porcentaje/10)):\n        print(\"*\",end=\"\")\n    print()         \n",
      "execution_count": 7,
      "outputs": [
        {
          "output_type": "stream",
          "name": "stdout",
          "text": "votos del candidato?, -1 para terminar34\nvotos del candidato?, -1 para terminar45\nvotos del candidato?, -1 para terminar56\nvotos del candidato?, -1 para terminar-1\n\nCandidato 0: 34 votos (25.19%)**\nCandidato 1: 45 votos (33.33%)***\nCandidato 2: 56 votos (41.48%)****\n"
        }
      ]
    },
    {
      "metadata": {},
      "cell_type": "markdown",
      "source": "# Operaciones con Listas"
    },
    {
      "metadata": {
        "trusted": true
      },
      "cell_type": "code",
      "source": "lista = [3, 4, 5, 6]\nprint(sum(lista))",
      "execution_count": 21,
      "outputs": [
        {
          "output_type": "stream",
          "text": "18\n",
          "name": "stdout"
        }
      ]
    },
    {
      "metadata": {
        "trusted": true
      },
      "cell_type": "code",
      "source": "lista = [3, 4, 5, 6]\nprint(max(lista))",
      "execution_count": 22,
      "outputs": [
        {
          "output_type": "stream",
          "text": "6\n",
          "name": "stdout"
        }
      ]
    },
    {
      "metadata": {
        "trusted": true
      },
      "cell_type": "code",
      "source": "lista = [3, 4, 5, 6]\nprint(min(lista))",
      "execution_count": 23,
      "outputs": [
        {
          "output_type": "stream",
          "text": "3\n",
          "name": "stdout"
        }
      ]
    },
    {
      "metadata": {
        "trusted": true
      },
      "cell_type": "code",
      "source": "#list para convertir una secuencia en lista\nlista = list(range(1,20,3))\nprint(lista)",
      "execution_count": 2,
      "outputs": [
        {
          "output_type": "stream",
          "text": "[1, 4, 7, 10, 13, 16, 19]\n",
          "name": "stdout"
        }
      ]
    },
    {
      "metadata": {
        "trusted": true
      },
      "cell_type": "code",
      "source": "#in para verificar la presencia de un elemento en una lista\nlista = [1, 2, 3, 4]\nif 2 in lista:\n    print(\"ok\")",
      "execution_count": 25,
      "outputs": [
        {
          "output_type": "stream",
          "text": "ok\n",
          "name": "stdout"
        }
      ]
    },
    {
      "metadata": {
        "trusted": true
      },
      "cell_type": "code",
      "source": "# uso de in\n#Hacer una funcion que a partir del mes y el año, diga cuantos dias hubieron\n\ndef cantdias(mes, año):\n    if mes in [1, 3, 5, 7, 8, 10, 12]:\n        dias = 31\n    elif mes in [4, 6, 9, 11]:\n        dias = 30\n    elif:\n        if (año%4==0 and año%100==0) or (año%400==0):\n            dias = 29\n        else:\n            dias = 28\n    else:\n        dias = -1\n    return dias\n\n    \n#programa principal\nm = int(input(\"Cual es el mes?\"))\na = int(input(\"Cual es el año?\"))\nprint(\"la cantidad de dias es:\", cantdias(m,a))",
      "execution_count": 31,
      "outputs": [
        {
          "output_type": "stream",
          "name": "stdout",
          "text": "Cual es el mes?4\nCual es el año?1970\nla cantidad de dias es: 30\n"
        }
      ]
    },
    {
      "metadata": {
        "trusted": true
      },
      "cell_type": "code",
      "source": "#not in para verificar la ausencia de un elemento en una lista\nlista = [1, 3, 4]\nif 2 not in lista:\n    print(\"ok\")",
      "execution_count": 34,
      "outputs": [
        {
          "output_type": "stream",
          "text": "ok\n",
          "name": "stdout"
        }
      ]
    },
    {
      "metadata": {},
      "cell_type": "markdown",
      "source": "# Metodos"
    },
    {
      "metadata": {
        "trusted": true
      },
      "cell_type": "code",
      "source": "#insert inserta un elemento en una lista en una poscion determinada\nlista = [1,2,3,4,5]\nlista.insert(1,3)\nprint(lista)",
      "execution_count": 10,
      "outputs": [
        {
          "output_type": "stream",
          "text": "[1, 3, 2, 3, 4, 5]\n",
          "name": "stdout"
        }
      ]
    },
    {
      "metadata": {
        "trusted": true
      },
      "cell_type": "code",
      "source": "#pop elimina un elemento en una lista de una poscion determinada\nlista = [1,2,3,4,5]\nlista.pop(3)\nprint(lista)",
      "execution_count": 40,
      "outputs": [
        {
          "output_type": "stream",
          "text": "[1, 2, 3, 5]\n",
          "name": "stdout"
        }
      ]
    },
    {
      "metadata": {
        "trusted": true
      },
      "cell_type": "code",
      "source": "#remove elimina un elemento en una lista en la primera posicion encontrada del elemento\nlista = [1,2,3,4,5,1]\nlista.remove(1)\nprint(lista)",
      "execution_count": 41,
      "outputs": [
        {
          "output_type": "stream",
          "text": "[2, 3, 4, 5, 1]\n",
          "name": "stdout"
        }
      ]
    },
    {
      "metadata": {
        "trusted": true
      },
      "cell_type": "code",
      "source": "#index busca un elemento en una lista y devuelve su posicion\nlista = [1,2,3,4,5,1]\nprint(lista.index(5))",
      "execution_count": 42,
      "outputs": [
        {
          "output_type": "stream",
          "text": "4\n",
          "name": "stdout"
        }
      ]
    },
    {
      "metadata": {
        "trusted": true
      },
      "cell_type": "code",
      "source": "#index puede buscar el elemento dentro de un intervalo de posicones (el valor final del intervalo no esta inluido en la busqueda)\nlista = [9,1,2,9,4,5,1]\nprint(lista.index(9,1,4))",
      "execution_count": 46,
      "outputs": [
        {
          "output_type": "stream",
          "text": "3\n",
          "name": "stdout"
        }
      ]
    },
    {
      "metadata": {
        "trusted": true
      },
      "cell_type": "code",
      "source": "#count puede buscar la cantidad de repeticiones de un elemento\nlista = [9,1,2,9,4,5,1]\nprint(lista.count(9))",
      "execution_count": 52,
      "outputs": [
        {
          "output_type": "stream",
          "text": "2\n",
          "name": "stdout"
        }
      ]
    },
    {
      "metadata": {
        "trusted": true
      },
      "cell_type": "code",
      "source": "#reverse invierte el orden de los elementos de una lista\nlist1 = [1, 2, 3, 4, 1, 2, 6]  \nlist1.reverse()  \nprint(list1)  ",
      "execution_count": 58,
      "outputs": [
        {
          "output_type": "stream",
          "text": "[6, 2, 1, 4, 3, 2, 1]\n",
          "name": "stdout"
        }
      ]
    },
    {
      "metadata": {
        "trusted": true
      },
      "cell_type": "code",
      "source": "#clear elimina los elementos de una lista, sin crear una nueva (in situ)\n\nlist1 = [1, 2, 3] \n  \n# Printing list1 before deleting  \nprint (\"List1 before deleting is : \",list1) \n  \n# deleting list using clear() \nlist1.clear() \nprint (\"List1 after deleting is : \",list1) ",
      "execution_count": 65,
      "outputs": [
        {
          "output_type": "stream",
          "text": "List1 before deleting is :  [1, 2, 3]\nList1 after deleting is :  []\n",
          "name": "stdout"
        }
      ]
    },
    {
      "metadata": {
        "trusted": true
      },
      "cell_type": "code",
      "source": "#sort ordena los elementos de una lista, sin crear una nueva (in situ)\n\nlist1 = [4, 3, 1] \n  \n# Printing list1 before sort  \nprint (\"List1 was : \",list1) \n  \n# Printing list with sort() \nlist1.sort() \nprint (\"List1 now is : \",list1) ",
      "execution_count": 66,
      "outputs": [
        {
          "output_type": "stream",
          "text": "List1 was :  [4, 3, 1]\nList1 now is :  [1, 3, 4]\n",
          "name": "stdout"
        }
      ]
    },
    {
      "metadata": {
        "trusted": true
      },
      "cell_type": "code",
      "source": "#sort de mayor a menor\n\nlist1 = [4, 3, 9] \n  \n# Printing list1 before sort  \nprint (\"List1 was : \",list1) \n  \n# Printing list with sort() \nlist1.sort(reverse = True) \nprint (\"List1 now is : \",list1) ",
      "execution_count": 67,
      "outputs": [
        {
          "output_type": "stream",
          "text": "List1 was :  [4, 3, 9]\nList1 now is :  [9, 4, 3]\n",
          "name": "stdout"
        }
      ]
    },
    {
      "metadata": {
        "trusted": true
      },
      "cell_type": "code",
      "source": "#sort con criterio de ordenamiento mediante funciones lambda\n\nlist1 = [4, 3, 9, 6, 4, 8, 6, 9, 0, 4] \n  \n# Printing list1 before sort  \nprint (\"List1 was : \",list1) \n  \n# En este caso labda hace que se ordenen primer los pares y luego los impares\n\nlist1.sort(key = lambda x:x%2) \nprint (\"List1 now is : \",list1) ",
      "execution_count": 16,
      "outputs": [
        {
          "output_type": "stream",
          "text": "List1 was :  [4, 3, 9, 6, 4, 8, 6, 9, 0, 4]\nList1 now is :  [4, 6, 4, 8, 6, 0, 4, 3, 9, 9]\n",
          "name": "stdout"
        }
      ]
    },
    {
      "metadata": {
        "trusted": true
      },
      "cell_type": "code",
      "source": "#funciona solo para texto\nlista = ['asdf143', 'asdf1234', 'asdf111', 'asdf124']\nlista.sort(key=lambda x:(int(x[-2])))\nprint(lista)",
      "execution_count": 12,
      "outputs": [
        {
          "output_type": "stream",
          "text": "['asdf111', 'asdf124', 'asdf1234', 'asdf143']\n",
          "name": "stdout"
        }
      ]
    },
    {
      "metadata": {
        "trusted": true
      },
      "cell_type": "code",
      "source": "##### sort con criterio de ordenamiento mediante funcion len \n\nnombres = [\"pipin\", \"gandalf\", \"aragorn\", \"saruman\", \"elf\"] \n  \n# Printing list1 before sort  \nprint (\"List1 was : \",nombres) \n  \n# En este caso llen hace que se ordenen por el largo de la palabra\n\nnombres.sort(key = len) \nprint (\"List1 now is : \",nombres) ",
      "execution_count": 13,
      "outputs": [
        {
          "output_type": "stream",
          "text": "List1 was :  ['pipin', 'gandalf', 'aragorn', 'saruman', 'elf']\nList1 now is :  ['elf', 'pipin', 'gandalf', 'aragorn', 'saruman']\n",
          "name": "stdout"
        }
      ]
    },
    {
      "metadata": {
        "trusted": true
      },
      "cell_type": "code",
      "source": "#Ordenando por el ultimo digito\ninp=[1,52,234,65,87,57,96,0,3]\ninp.sort(key=lambda x: x%10)\nprint(inp)",
      "execution_count": 46,
      "outputs": [
        {
          "output_type": "stream",
          "text": "[0, 1, 52, 3, 234, 65, 96, 87, 57]\n",
          "name": "stdout"
        }
      ]
    },
    {
      "metadata": {
        "trusted": true
      },
      "cell_type": "code",
      "source": "##### sort con criterio de ordenamiento mediante funcion\n  \n# funcion reada para devolver el elemento de ordenamiento deseado\ndef sortSecond(valor): \n    return valor[1]  \n  \nlist1 = [(1, 9), (3, 3), (1, 4)] \n  \n# ordenando de acuerdo al elemento de la funcion\nlist1.sort(key = sortSecond)  \nprint(list1) \n  \n# ordenando de acuerdo al elemento de la funcion, y ademas invirtiendo\nlist1.sort(key = sortSecond, reverse = True) \nprint(list1) \n",
      "execution_count": 128,
      "outputs": [
        {
          "output_type": "stream",
          "text": "[(3, 3), (1, 4), (1, 9)]\n[(1, 9), (1, 4), (3, 3)]\n",
          "name": "stdout"
        }
      ]
    },
    {
      "metadata": {
        "trusted": true
      },
      "cell_type": "code",
      "source": "# Ordenando por la ultima letra, funciona solo para texto\ndef ordenaultimaletra(lista): \n    lista.sort(key = lambda x: x[-1]) \n    return lista\n  \n# Driver Code \napellidos =[\"gomez\", \"gancedo\", \"miranda\"] \nprint(ordenaultimaletra(apellidos)) ",
      "execution_count": 145,
      "outputs": [
        {
          "output_type": "stream",
          "text": "['miranda', 'gancedo', 'gomez']\n",
          "name": "stdout"
        }
      ]
    },
    {
      "metadata": {
        "trusted": true
      },
      "cell_type": "code",
      "source": "# Ordenando por la ultima letra, no se porque no anda....\n\napellidos =[\"gomez\", \"gancedo\", \"miranda\"] \napellidosord = apellidos.sort(key = lambda x: x[-1])\nprint(apellidosord)",
      "execution_count": 13,
      "outputs": [
        {
          "output_type": "stream",
          "text": "None\n",
          "name": "stdout"
        }
      ]
    },
    {
      "metadata": {},
      "cell_type": "markdown",
      "source": "\n# Random"
    },
    {
      "metadata": {
        "trusted": true
      },
      "cell_type": "code",
      "source": "import random\nazar = random.random()\nprint(azar)",
      "execution_count": 105,
      "outputs": [
        {
          "output_type": "stream",
          "text": "0.7997628696483973\n",
          "name": "stdout"
        }
      ]
    },
    {
      "metadata": {
        "trusted": true
      },
      "cell_type": "code",
      "source": "import random\nazar = random.randint(1,6)\nprint(azar)",
      "execution_count": 118,
      "outputs": [
        {
          "output_type": "stream",
          "text": "5\n",
          "name": "stdout"
        }
      ]
    },
    {
      "metadata": {
        "trusted": true
      },
      "cell_type": "code",
      "source": "#Para obtener varias veces la misma secuencia de números pseudoaleatoria se puede utilizar la función seed() que fija mediante una \"semilla\" el mismo comienzo en cada secuencia\n#Permitiendo con ello obtener series con los mismos valores.\n\n#A continuación, se muestra un ejemplo donde se realizan dos series de cinco sorteos; y en cada serie se obtienen los mismos regalos y en el mismo orden.print(azar)\n#El sorteo solo cambia si se cambia la semilla\n\nimport random\n\nregalos = ['sartén', 'playstation', 'mp4', 'muñeca', 'tv',\n           'patín', 'balón', 'reloj', 'bicicleta', 'anillo']\n\nfor serie in range(2):\n    print('\\nserie:', serie + 1)\n    random.seed(3)\n    for sorteo in range(5):\n        regalo = regalos[random.randint(0, 9)]\n        print('Sorteo', sorteo + 1, ':', regalo)",
      "execution_count": 15,
      "outputs": [
        {
          "output_type": "stream",
          "text": "\nserie: 1\nSorteo 1 : muñeca\nSorteo 2 : anillo\nSorteo 3 : bicicleta\nSorteo 4 : mp4\nSorteo 5 : patín\n\nserie: 2\nSorteo 1 : muñeca\nSorteo 2 : anillo\nSorteo 3 : bicicleta\nSorteo 4 : mp4\nSorteo 5 : patín\n",
          "name": "stdout"
        }
      ]
    },
    {
      "metadata": {},
      "cell_type": "markdown",
      "source": "# List Slice"
    },
    {
      "metadata": {
        "trusted": true
      },
      "cell_type": "code",
      "source": "#Realiza una seleccion de un intevalo sin incluir la ultima posicion\nlista = [1,2,4,6,3,7,3,7,8,5,3,5,4,2,24]\nprint(lista[2:7])",
      "execution_count": 150,
      "outputs": [
        {
          "output_type": "stream",
          "text": "[4, 6, 3, 7, 3]\n",
          "name": "stdout"
        }
      ]
    },
    {
      "metadata": {
        "trusted": true
      },
      "cell_type": "code",
      "source": "#Realiza una seleccion de un intevalo,  salteando de a un elemento,  sin incluir la ultima posicion\nlista = [1,2,4,6,3,7,3,7,8,5,3,5,4,2,24]\nprint(lista[2:9:2])",
      "execution_count": 16,
      "outputs": [
        {
          "output_type": "stream",
          "text": "[4, 3, 3, 8]\n",
          "name": "stdout"
        }
      ]
    },
    {
      "metadata": {
        "trusted": true
      },
      "cell_type": "code",
      "source": "#Realiza una seleccion de un intevalo hasta el final\nlista = [1,2,4,6,3,7,3,7,8,5,3,5,4,2,24]\nprint(lista[2:])",
      "execution_count": 153,
      "outputs": [
        {
          "output_type": "stream",
          "text": "[4, 6, 3, 7, 3, 7, 8, 5, 3, 5, 4, 2, 24]\n",
          "name": "stdout"
        }
      ]
    },
    {
      "metadata": {
        "trusted": true
      },
      "cell_type": "code",
      "source": "#Realiza una seleccion de un intevalo desde el principio\nlista = [1,2,4,6,3,7,3,7,8,5,3,5,4,2,24]\nprint(lista[:7])",
      "execution_count": 154,
      "outputs": [
        {
          "output_type": "stream",
          "text": "[1, 2, 4, 6, 3, 7, 3]\n",
          "name": "stdout"
        }
      ]
    },
    {
      "metadata": {
        "trusted": true
      },
      "cell_type": "code",
      "source": "#Un incremento negativo toma los elementos de atras hacia adelante\nlista = [1,2,4,6,3,7,3,7,8,5,3,5,4,2,24]\nprint(lista[::-1])",
      "execution_count": 155,
      "outputs": [
        {
          "output_type": "stream",
          "text": "[24, 2, 4, 5, 3, 5, 8, 7, 3, 7, 3, 6, 4, 2, 1]\n",
          "name": "stdout"
        }
      ]
    },
    {
      "metadata": {
        "trusted": true
      },
      "cell_type": "code",
      "source": "#Se pueden reemplazar elementos mediante list slice. (puede ser una cantidad de elementos diferente de la original)\nlista = [1,2,4,6,3,7,3,7,8,5,3,5,4,2,24]\nlista[3:12] =\"lunes\", \"martes\"\nprint(lista)",
      "execution_count": 158,
      "outputs": [
        {
          "output_type": "stream",
          "text": "[1, 2, 4, 'lunes', 'martes', 4, 2, 24]\n",
          "name": "stdout"
        }
      ]
    },
    {
      "metadata": {
        "trusted": true
      },
      "cell_type": "code",
      "source": "#Se pueden elimnar elementos mediante list slice. (puede ser una cantidad de elementos diferente de la original)\nlista = [1,2,4,6,3,7,3,7,8,5,3,5,4,2,24]\nlista[3:12] =[]\nprint(lista)",
      "execution_count": 159,
      "outputs": [
        {
          "output_type": "stream",
          "text": "[1, 2, 4, 4, 2, 24]\n",
          "name": "stdout"
        }
      ]
    },
    {
      "metadata": {
        "trusted": true
      },
      "cell_type": "code",
      "source": "#Las list slices son tambien variables\nlista = [1,2,4,6,3,7,3,7,8,5,3,5,4,2,24]\na = 2\nb = 7\nprint(lista[a:b])",
      "execution_count": 160,
      "outputs": [
        {
          "output_type": "stream",
          "text": "[4, 6, 3, 7, 3]\n",
          "name": "stdout"
        }
      ]
    },
    {
      "metadata": {},
      "cell_type": "markdown",
      "source": "# Comparacion de listas"
    },
    {
      "metadata": {
        "trusted": true
      },
      "cell_type": "code",
      "source": "#La comparacion se realiza elemento a elemento\nprint([2,3]>[1,2])\nprint([2,3]>[3,2])\nprint([2,4,6]>[2,4])",
      "execution_count": 161,
      "outputs": [
        {
          "output_type": "stream",
          "text": "True\nFalse\nTrue\n",
          "name": "stdout"
        }
      ]
    },
    {
      "metadata": {},
      "cell_type": "markdown",
      "source": "# Copia de listas"
    },
    {
      "metadata": {
        "trusted": true
      },
      "cell_type": "code",
      "source": "lista =[1,2,3]\nlista2 = lista.copy()\nlista2.append(4)\nprint(lista)\nprint(lista2)",
      "execution_count": 162,
      "outputs": [
        {
          "output_type": "stream",
          "text": "[1, 2, 3]\n[1, 2, 3, 4]\n",
          "name": "stdout"
        }
      ]
    },
    {
      "metadata": {},
      "cell_type": "markdown",
      "source": "# For"
    },
    {
      "metadata": {
        "trusted": true
      },
      "cell_type": "code",
      "source": "#uso de for con slices\nlista = [\"a\",\"b\",\"c\",\"d\",\"e\",\"f\",\"g\",\"h\"]\nfor i in lista[3:7]:\n    print(i, end=\"\")\n    \n",
      "execution_count": 166,
      "outputs": [
        {
          "output_type": "stream",
          "text": "defg",
          "name": "stdout"
        }
      ]
    },
    {
      "metadata": {
        "trusted": true
      },
      "cell_type": "code",
      "source": "#uso de for con slices\n\n\n\nfor i in enumerate(lista):\n    print(i, end=\"\")\n    ",
      "execution_count": 2,
      "outputs": [
        {
          "output_type": "stream",
          "text": "(0, 'a')(1, 'b')(2, 'c')(3, 'd')(4, 'e')(5, 'f')(6, 'g')(7, 'h')",
          "name": "stdout"
        }
      ]
    },
    {
      "metadata": {},
      "cell_type": "markdown",
      "source": "# Delete list"
    },
    {
      "metadata": {
        "trusted": true
      },
      "cell_type": "code",
      "source": "#borra un elemento de la lista\nlista = [\"a\",\"b\",\"c\",\"d\",\"e\",\"f\",\"g\",\"h\"]\ndel lista[1]\nprint(lista)",
      "execution_count": 170,
      "outputs": [
        {
          "output_type": "stream",
          "text": "['a', 'c', 'd', 'e', 'f', 'g', 'h']\n",
          "name": "stdout"
        }
      ]
    },
    {
      "metadata": {
        "trusted": true
      },
      "cell_type": "code",
      "source": "#borra toda la lista o parte de la lista\nlista = [\"a\",\"b\",\"c\",\"d\",\"e\",\"f\",\"g\",\"h\"]\ndel lista[3:5]\nprint(lista)",
      "execution_count": 172,
      "outputs": [
        {
          "output_type": "stream",
          "text": "['a', 'b', 'c', 'f', 'g', 'h']\n",
          "name": "stdout"
        }
      ]
    },
    {
      "metadata": {},
      "cell_type": "markdown",
      "source": "# Funcion map"
    },
    {
      "metadata": {
        "trusted": true
      },
      "cell_type": "code",
      "source": "numeros = [1,2,3,4]\ncuadrados = list(map(lambda x:x**(2), numeros))\nprint(numeros)\nprint(cuadrados)",
      "execution_count": 18,
      "outputs": [
        {
          "output_type": "stream",
          "text": "[1, 2, 3, 4]\n[1, 4, 9, 16]\n",
          "name": "stdout"
        }
      ]
    },
    {
      "metadata": {
        "trusted": true
      },
      "cell_type": "code",
      "source": "#es equivalente a\nnumeros = [1,2,3,4]\ncuadrados =[]\nfor i in numeros:\n    cuadrados.append(i*(2))\nprint(numeros)\nprint(cuadrados)   ",
      "execution_count": 19,
      "outputs": [
        {
          "output_type": "stream",
          "text": "[1, 2, 3, 4]\n[2, 4, 6, 8]\n",
          "name": "stdout"
        }
      ]
    },
    {
      "metadata": {},
      "cell_type": "markdown",
      "source": "# Funcion filter"
    },
    {
      "metadata": {
        "trusted": true
      },
      "cell_type": "code",
      "source": "# filter permite filtrar cuando se da una condicion en los elementos de una lista\nnumeros = [1,2,3,4,5]\nraices_enteras = list( filter (lambda x:x**(1/2) == int(x**(1/2)), numeros))\nprint(raices_enteras)",
      "execution_count": 179,
      "outputs": [
        {
          "output_type": "stream",
          "text": "[1, 4]\n",
          "name": "stdout"
        }
      ]
    },
    {
      "metadata": {},
      "cell_type": "markdown",
      "source": "# Listas por Comprension"
    },
    {
      "metadata": {
        "trusted": true
      },
      "cell_type": "code",
      "source": "cuadrados = [i**2 for i in range(6)]\nprint(cuadrados)",
      "execution_count": 180,
      "outputs": [
        {
          "output_type": "stream",
          "text": "[0, 1, 4, 9, 16, 25]\n",
          "name": "stdout"
        }
      ]
    },
    {
      "metadata": {
        "trusted": true
      },
      "cell_type": "code",
      "source": "cubospares = [i**3 for i in range(20) if (i**3)%2 ==0]\nprint(cubospares)",
      "execution_count": 183,
      "outputs": [
        {
          "output_type": "stream",
          "text": "[0, 8, 64, 216, 512, 1000, 1728, 2744, 4096, 5832]\n",
          "name": "stdout"
        }
      ]
    },
    {
      "metadata": {},
      "cell_type": "markdown",
      "source": "# Matrices: Creacion"
    },
    {
      "metadata": {},
      "cell_type": "raw",
      "source": "Creacion de Matrices: metodo 1"
    },
    {
      "metadata": {
        "trusted": true
      },
      "cell_type": "code",
      "source": "filas = 3\ncolumnas = 4\nmatriz = []\nfor f in range(filas):\n    matriz.append([])\n    for c in range(columnas):\n        matriz[f].append(0)\nprint(matriz)",
      "execution_count": 185,
      "outputs": [
        {
          "output_type": "stream",
          "text": "[[0, 0, 0, 0], [0, 0, 0, 0], [0, 0, 0, 0]]\n",
          "name": "stdout"
        }
      ]
    },
    {
      "metadata": {},
      "cell_type": "raw",
      "source": "Creacion de Matrices: metodo 2"
    },
    {
      "metadata": {
        "trusted": true
      },
      "cell_type": "code",
      "source": "filas = 3\ncolumnas = 4\nmatriz = []\nfor f in range(filas):\n    matriz.append([0]* columnas)\nprint(matriz)",
      "execution_count": 186,
      "outputs": [
        {
          "output_type": "stream",
          "text": "[[0, 0, 0, 0], [0, 0, 0, 0], [0, 0, 0, 0]]\n",
          "name": "stdout"
        }
      ]
    },
    {
      "metadata": {},
      "cell_type": "raw",
      "source": "Creacion de Matrices: metodo 2 mediante listas por comprension"
    },
    {
      "metadata": {
        "trusted": true
      },
      "cell_type": "code",
      "source": "filas = 3\ncolumnas = 4\nmatriz = [[0]*columnas for i in range(filas)]\nprint(matriz)",
      "execution_count": 193,
      "outputs": [
        {
          "output_type": "stream",
          "text": "[[0, 0, 0, 0], [0, 0, 0, 0], [0, 0, 0, 0]]\n",
          "name": "stdout"
        }
      ]
    },
    {
      "metadata": {},
      "cell_type": "markdown",
      "source": "# Matrices: Operaciones"
    },
    {
      "metadata": {
        "trusted": true
      },
      "cell_type": "code",
      "source": "def rellenarmatriz(matrix):\n    filas = len(matrix)\n    columnas = len(matrix[0])\n    for f in range(filas):\n        for c in range(columnas):\n            n = int(input(\"ingrese el valor de la celda\"))\n            matrix[f][c] = n\n    return matrix\n\n#programa principal\nprint(rellenarmatriz(matriz))\n",
      "execution_count": 198,
      "outputs": [
        {
          "output_type": "stream",
          "name": "stdout",
          "text": "ingrese el valor de la celda3\ningrese el valor de la celda2\ningrese el valor de la celda4\ningrese el valor de la celda3\ningrese el valor de la celda2\ningrese el valor de la celda1\ningrese el valor de la celda2\ningrese el valor de la celda3\ningrese el valor de la celda4\ningrese el valor de la celda5\ningrese el valor de la celda6\ningrese el valor de la celda5\n[[3, 2, 4, 3], [2, 1, 2, 3], [4, 5, 6, 5]]\n"
        }
      ]
    },
    {
      "metadata": {
        "trusted": true
      },
      "cell_type": "code",
      "source": "def imprimirmatriz(matrix):\n    filas = len(matrix)\n    columnas = len(matrix[0])\n    for f in range(filas):\n        for c in range(columnas):\n            print(\"%3d\" %matrix[f][c], end=\"\")\n        print()\n\n#programa principal\nimprimirmatriz(matriz)",
      "execution_count": 204,
      "outputs": [
        {
          "output_type": "stream",
          "text": "  3  2  4  3\n  2  1  2  3\n  4  5  6  5\n",
          "name": "stdout"
        }
      ]
    },
    {
      "metadata": {},
      "cell_type": "markdown",
      "source": "# Cadena de Caracteres"
    },
    {
      "metadata": {
        "trusted": true
      },
      "cell_type": "code",
      "source": "# Uso de las comillas: Se pueden combinar\nfrase = 'Me dijo: \"podes irte tranquilo\", y se quedo mirando'\nprint(frase)",
      "execution_count": 205,
      "outputs": [
        {
          "output_type": "stream",
          "text": "Me dijo: \"podes irte tranquilo\", y se quedo mirando\n",
          "name": "stdout"
        }
      ]
    },
    {
      "metadata": {
        "trusted": true
      },
      "cell_type": "code",
      "source": "# Uso de las barra invertida \\ \nfrase = 'Me dijo: \"podes irte \\\ntranquilo\", y se quedo mirando'\nprint(frase)",
      "execution_count": 208,
      "outputs": [
        {
          "output_type": "stream",
          "text": "Me dijo: \"podes irte tranquilo\", y se quedo mirando\n",
          "name": "stdout"
        }
      ]
    },
    {
      "metadata": {
        "trusted": true
      },
      "cell_type": "code",
      "source": "# Para mantener el formato: Triple comilla\n\nEmmy = '''Todo indica que esta noche el mundo volverá a hablar de Game of Thrones,\ncomo lo hizo cada domingo durante la emisión de sus ocho temporadas. \nHoy, a las 20, por TNT y TNT series se verá la 71a. entrega de los premios Emmy.\nSe trata de una ceremonia en la que la ficción de HBO tiene todas las de ganar.'''\n\nprint(Emmy)",
      "execution_count": 210,
      "outputs": [
        {
          "output_type": "stream",
          "text": "Todo indica que esta noche el mundo volverá a hablar de Game of Thrones,\ncomo lo hizo cada domingo durante la emisión de sus ocho temporadas. \nHoy, a las 20, por TNT y TNT series se verá la 71a. entrega de los premios Emmy.\nSe trata de una ceremonia en la que la ficción de HBO tiene todas las de ganar.\n",
          "name": "stdout"
        }
      ]
    },
    {
      "metadata": {},
      "cell_type": "raw",
      "source": "Secuencias de Escape"
    },
    {
      "metadata": {},
      "cell_type": "raw",
      "source": "\\n Salto de linea\n\\r Retroceso\n\\t Tabulador\n\\\" Comilla doble\n\\' Comilla simple\n\\a Campanilla"
    },
    {
      "metadata": {
        "trusted": true
      },
      "cell_type": "code",
      "source": "#Ejemplos\n\nprint(\"Lunes\\nMartes\\nMiercoles\")",
      "execution_count": 214,
      "outputs": [
        {
          "output_type": "stream",
          "text": "Lunes\nMartes\nMiercoles\n",
          "name": "stdout"
        }
      ]
    },
    {
      "metadata": {},
      "cell_type": "raw",
      "source": "Raw Strings"
    },
    {
      "metadata": {
        "trusted": true
      },
      "cell_type": "code",
      "source": "#PAra evitar errores con las secuencias de escape ocasinados por el uso de la barra \\:\n# Se utilizan Raw Strings marcados por la letra rseguida de comillas r\"\n\nruta = r\"c:\\nuevo\\datostxt\"\n",
      "execution_count": null,
      "outputs": []
    },
    {
      "metadata": {},
      "cell_type": "raw",
      "source": "Caracteristicas de las Cadenas de Caracteres"
    },
    {
      "metadata": {},
      "cell_type": "raw",
      "source": "Las cadenas de caracteres, al igual que las listas son iterables mediante subindice"
    },
    {
      "metadata": {
        "trusted": true
      },
      "cell_type": "code",
      "source": "dia = \"lunes\"\nprint(dia[2])\n",
      "execution_count": 216,
      "outputs": [
        {
          "output_type": "stream",
          "text": "n\n",
          "name": "stdout"
        }
      ]
    },
    {
      "metadata": {},
      "cell_type": "raw",
      "source": "Las cadenas de caracteres, al igual que las listas son iterables mediante slices"
    },
    {
      "metadata": {
        "trusted": true
      },
      "cell_type": "code",
      "source": "dia = \"lunes\"\nprint(dia[1:4])\n",
      "execution_count": 221,
      "outputs": [
        {
          "output_type": "stream",
          "text": "une\n",
          "name": "stdout"
        }
      ]
    },
    {
      "metadata": {},
      "cell_type": "raw",
      "source": "Concatenacion de strings"
    },
    {
      "metadata": {
        "trusted": true
      },
      "cell_type": "code",
      "source": "dia1 = \"lunes\"\ndia2 = \"martes\"\nprint(dia1+dia2)",
      "execution_count": 220,
      "outputs": [
        {
          "output_type": "stream",
          "text": "lunesmartes\n",
          "name": "stdout"
        }
      ]
    },
    {
      "metadata": {},
      "cell_type": "raw",
      "source": "Replicas de Strings"
    },
    {
      "metadata": {
        "trusted": true
      },
      "cell_type": "code",
      "source": "dia = \"lunes\"\nprint(dia*5)\n",
      "execution_count": 222,
      "outputs": [
        {
          "output_type": "stream",
          "text": "lunesluneslunesluneslunes\n",
          "name": "stdout"
        }
      ]
    },
    {
      "metadata": {},
      "cell_type": "raw",
      "source": "Metodos y Funciones"
    },
    {
      "metadata": {
        "trusted": true
      },
      "cell_type": "code",
      "source": "dia = \"lunes\"\nprint(len(dia))",
      "execution_count": 223,
      "outputs": [
        {
          "output_type": "stream",
          "text": "5\n",
          "name": "stdout"
        }
      ]
    },
    {
      "metadata": {
        "trusted": true
      },
      "cell_type": "code",
      "source": "dia = \"lunes\"\nif \"n\" in dia:\n    print(\"ok\")",
      "execution_count": 225,
      "outputs": [
        {
          "output_type": "stream",
          "text": "ok\n",
          "name": "stdout"
        }
      ]
    },
    {
      "metadata": {
        "trusted": true
      },
      "cell_type": "code",
      "source": "dia = \"lunes\"\nif \"h\" not in dia:\n    print(\"ok\")",
      "execution_count": 226,
      "outputs": [
        {
          "output_type": "stream",
          "text": "ok\n",
          "name": "stdout"
        }
      ]
    },
    {
      "metadata": {
        "trusted": true
      },
      "cell_type": "code",
      "source": "dia = \"lunes\"\nprint(max(dia))",
      "execution_count": 227,
      "outputs": [
        {
          "output_type": "stream",
          "text": "u\n",
          "name": "stdout"
        }
      ]
    },
    {
      "metadata": {
        "trusted": true
      },
      "cell_type": "code",
      "source": "dia = \"lunes\"\nprint(min(dia))",
      "execution_count": 228,
      "outputs": [
        {
          "output_type": "stream",
          "text": "e\n",
          "name": "stdout"
        }
      ]
    },
    {
      "metadata": {
        "trusted": true
      },
      "cell_type": "code",
      "source": "dia = \"lunes\"\nprint(dia.index(\"e\"))",
      "execution_count": 233,
      "outputs": [
        {
          "output_type": "stream",
          "text": "3\n",
          "name": "stdout"
        }
      ]
    },
    {
      "metadata": {
        "trusted": true
      },
      "cell_type": "code",
      "source": "dia = \"Viernes\"\nprint(dia.count(\"e\"))",
      "execution_count": 234,
      "outputs": [
        {
          "output_type": "stream",
          "text": "2\n",
          "name": "stdout"
        }
      ]
    },
    {
      "metadata": {},
      "cell_type": "raw",
      "source": "Invertir una cadena mediante slices"
    },
    {
      "metadata": {
        "trusted": true
      },
      "cell_type": "code",
      "source": "dia = \"Viernes\"\nprint(dia[::-1])",
      "execution_count": 243,
      "outputs": [
        {
          "output_type": "stream",
          "text": "senreiV\n",
          "name": "stdout"
        }
      ]
    },
    {
      "metadata": {},
      "cell_type": "raw",
      "source": "Ejemplo: Eliminar signos de puntuacion de un texto\n"
    },
    {
      "metadata": {
        "trusted": true
      },
      "cell_type": "code",
      "source": "signos = \"!·$%&/()=?^*¨_:;,.-´ç+`\\|@\"\nparrafo = '''Todo indica que esta noche el mundo volverá a hablar de Game of Thrones como lo hizo cada domingo durante la emisión de sus ocho temporadas.\nHoy, a las 20, por TNT y TNT series se verá la 71a. entrega de los premios Emmy, una ceremonia en la que la ficción de HBO tiene todas las de ganar.\nEs que no solo fue la serie más nominada con 32 menciones -de las que ya ganó 10 en la premiación de los rubros técnicos realizada la semana pasada-, \nsino que el hecho de que ya se haya terminado implica que esta será la última oportunidad que tendrán los integrantes de la Academia de televisión de reconocer \na la épica adaptación de las novelas de George R.R. Martin que se transformó en fenómeno global. Pero claro, lo cierto es que anticipar con algún nivel de certeza \nlo que pueda suceder en una entrega de premios en Hollywood no es una ciencia exacta. Lejos de eso, las influencias cruzadas de las campañas de promoción de los \ncanales y plataformas de streaming además de la composición lamentablemente homogénea de los votantes pueden aportar alguna sorpresa cuando se abran los sobres y \nmás de un disgusto para los seguidores de esas series que se queden con las manos vacías.'''\nnuevotexto = \"\"\nfor caracter in parrafo:\n    if caracter not in signos:\n        nuevotexto = nuevotexto + caracter\nprint(nuevotexto)",
      "execution_count": 251,
      "outputs": [
        {
          "output_type": "stream",
          "text": "Todo indica que esta noche el mundo volverá a hablar de Game of Thrones como lo hizo cada domingo durante la emisión de sus ocho temporadas\nHoy a las 20 por TNT y TNT series se verá la 71a entrega de los premios Emmy una ceremonia en la que la ficción de HBO tiene todas las de ganar\nEs que no solo fue la serie más nominada con 32 menciones de las que ya ganó 10 en la premiación de los rubros técnicos realizada la semana pasada \nsino que el hecho de que ya se haya terminado implica que esta será la última oportunidad que tendrán los integrantes de la Academia de televisión de reconocer \na la épica adaptación de las novelas de George RR Martin que se transformó en fenómeno global Pero claro lo cierto es que anticipar con algún nivel de certeza \nlo que pueda suceder en una entrega de premios en Hollywood no es una ciencia exacta Lejos de eso las influencias cruzadas de las campañas de promoción de los \ncanales y plataformas de streaming además de la composición lamentablemente homogénea de los votantes pueden aportar alguna sorpresa cuando se abran los sobres y \nmás de un disgusto para los seguidores de esas series que se queden con las manos vacías\n",
          "name": "stdout"
        }
      ]
    },
    {
      "metadata": {},
      "cell_type": "markdown",
      "source": "# Metodos para cadenas"
    },
    {
      "metadata": {
        "trusted": true
      },
      "cell_type": "code",
      "source": "#split\ntexto = '''Todo indica que esta noche el mundo volverá a hablar de Game of Thrones'''\ntexto2 = texto.split()\nprint(texto2)",
      "execution_count": 16,
      "outputs": [
        {
          "output_type": "stream",
          "text": "['Todo', 'indica', 'que', 'esta', 'noche', 'el', 'mundo', 'volverá', 'a', 'hablar,', 'de', 'Game', 'of', 'Thrones']\n",
          "name": "stdout"
        }
      ]
    },
    {
      "metadata": {
        "trusted": true
      },
      "cell_type": "code",
      "source": "#split\ntexto = '''Todo indica que esta noche el mundo volverá a hablar de Game of Thrones'''\ntexto2 = texto.split(\"a\")\nprint(texto2)",
      "execution_count": 257,
      "outputs": [
        {
          "output_type": "stream",
          "text": "['Todo indic', ' que est', ' noche el mundo volverá ', ' h', 'bl', 'r de G', 'me of Thrones']\n",
          "name": "stdout"
        }
      ]
    },
    {
      "metadata": {
        "trusted": true
      },
      "cell_type": "code",
      "source": "#join\ntexto = '''Todo indica que esta noche el mundo volverá a hablar de Game of Thrones'''\nseparador = \" \"\ntexto2 = separador.join(texto)\nprint(texto2)",
      "execution_count": 265,
      "outputs": [
        {
          "output_type": "stream",
          "text": "T o d o   i n d i c a   q u e   e s t a   n o c h e   e l   m u n d o   v o l v e r á   a   h a b l a r   d e   G a m e   o f   T h r o n e s\n",
          "name": "stdout"
        }
      ]
    },
    {
      "metadata": {
        "trusted": true
      },
      "cell_type": "code",
      "source": "#replace\ntexto = '''Todo indica que esta noche el mundo volverá a hablar de Game of Thrones'''\nreemplazo = \"Game of Thrones\"\nnuevo = \"Rompeportones\"\ntexto2 = texto.replace(reemplazo, nuevo)\nprint(texto2)",
      "execution_count": 268,
      "outputs": [
        {
          "output_type": "stream",
          "text": "Todo indica que esta noche el mundo volverá a hablar de Rompeportones\n",
          "name": "stdout"
        }
      ]
    },
    {
      "metadata": {
        "trusted": true
      },
      "cell_type": "code",
      "source": "#replace\ntexto = '''Todo indica que esta noche el mundo volverá a hablar de Game of Thrones'''\nreemplazo = \" \"\nnuevo = \"-\"\ncantidad = 5\ntexto2 = texto.replace(reemplazo, nuevo,cantidad)\nprint(texto2)",
      "execution_count": 270,
      "outputs": [
        {
          "output_type": "stream",
          "text": "Todo-indica-que-esta-noche-el mundo volverá a hablar de Game of Thrones\n",
          "name": "stdout"
        }
      ]
    },
    {
      "metadata": {},
      "cell_type": "raw",
      "source": "Ejemplo\nLeer una frase invertir las palabras sin invertir las letras"
    },
    {
      "metadata": {
        "trusted": true
      },
      "cell_type": "code",
      "source": "parrafo = '''Todo indica que esta noche el mundo volverá a hablar de Game of Thrones como lo hizo cada domingo durante la emisión de sus ocho temporadas.\nHoy, a las 20, por TNT y TNT series se verá la 71a. entrega de los premios Emmy, una ceremonia en la que la ficción de HBO tiene todas las de ganar.\nEs que no solo fue la serie más nominada con 32 menciones -de las que ya ganó 10 en la premiación de los rubros técnicos realizada la semana pasada-, \nsino que el hecho de que ya se haya terminado implica que esta será la última oportunidad que tendrán los integrantes de la Academia de televisión de reconocer \na la épica adaptación de las novelas de George R.R. Martin que se transformó en fenómeno global. Pero claro, lo cierto es que anticipar con algún nivel de certeza \nlo que pueda suceder en una entrega de premios en Hollywood no es una ciencia exacta. Lejos de eso, las influencias cruzadas de las campañas de promoción de los \ncanales y plataformas de streaming además de la composición lamentablemente homogénea de los votantes pueden aportar alguna sorpresa cuando se abran los sobres y \nmás de un disgusto para los seguidores de esas series que se queden con las manos vacías.'''\npalabras = parrafo.split()\npalabras.reverse()\nparrafo = \" \".join(palabras)\nprint(parrafo)",
      "execution_count": 1,
      "outputs": [
        {
          "output_type": "stream",
          "text": "vacías. manos las con queden se que series esas de seguidores los para disgusto un de más y sobres los abran se cuando sorpresa alguna aportar pueden votantes los de homogénea lamentablemente composición la de además streaming de plataformas y canales los de promoción de campañas las de cruzadas influencias las eso, de Lejos exacta. ciencia una es no Hollywood en premios de entrega una en suceder pueda que lo certeza de nivel algún con anticipar que es cierto lo claro, Pero global. fenómeno en transformó se que Martin R.R. George de novelas las de adaptación épica la a reconocer de televisión de Academia la de integrantes los tendrán que oportunidad última la será esta que implica terminado haya se ya que de hecho el que sino pasada-, semana la realizada técnicos rubros los de premiación la en 10 ganó ya que las -de menciones 32 con nominada más serie la fue solo no que Es ganar. de las todas tiene HBO de ficción la que la en ceremonia una Emmy, premios los de entrega 71a. la verá se series TNT y TNT por 20, las a Hoy, temporadas. ocho sus de emisión la durante domingo cada hizo lo como Thrones of Game de hablar a volverá mundo el noche esta que indica Todo\n",
          "name": "stdout"
        }
      ]
    },
    {
      "metadata": {
        "trusted": true
      },
      "cell_type": "raw",
      "source": "Para crear un clon de una String, es necesario usar un metodo especial"
    },
    {
      "metadata": {
        "trusted": true
      },
      "cell_type": "code",
      "source": "texto = \"Hola\"\nnuevotexto = \"\".join(texto)\nprint(id(texto))\nprint(id(nuevotexto))",
      "execution_count": 2,
      "outputs": [
        {
          "output_type": "stream",
          "text": "139779175144000\n139779175298640\n",
          "name": "stdout"
        }
      ]
    },
    {
      "metadata": {
        "trusted": true
      },
      "cell_type": "markdown",
      "source": "# Manejo de Errores"
    },
    {
      "metadata": {},
      "cell_type": "raw",
      "source": "Uso de try y except en ZeroDivisionError, ValueError, y en general para cualquier caso"
    },
    {
      "metadata": {
        "trusted": true
      },
      "cell_type": "code",
      "source": "try:\n    a = int(input(\"Dividendo?\"))\n    b = int(input(\"Divisor?\"))\n    cociente = a//b\n    resto = a % b\n    print()\n    print(\"Cociente:\", cociente)\n    print(\"Resto:\", resto)\nexcept ZeroDivisionError:\n    print(\"No se puede dividir por cero\")\nexcept ValueError:\n    print(\"El numero debe ser entero\")\nexcept:\n    print(\"Error desconocido, intente mas tarde\")\n",
      "execution_count": 7,
      "outputs": [
        {
          "output_type": "stream",
          "name": "stdout",
          "text": "Dividendo?23.2\nEl numero debe ser entero\n"
        }
      ]
    },
    {
      "metadata": {},
      "cell_type": "raw",
      "source": "Utilizando try y except en funciones"
    },
    {
      "metadata": {
        "trusted": true
      },
      "cell_type": "code",
      "source": "def leerentero(mensaje=\"ingrese un entero\"):\n    '''Funcion para agregar un entero'''\n    while True:\n        try:\n            n = int(input(mensaje))\n            break\n        except ValueError:\n            print(\"dato invalido\")\n            print(\"intente nuevamente\")\n    return n\n\n#programa principal\nwhile True:\n    try:\n        a = leerentero(\"Dividendo?\")\n        b = leerentero(\"Divisor?\")\n        cociente = a//b\n        resto = a % b\n        print()\n        print(\"Cociente:\", cociente)\n        print(\"Resto:\", resto)\n    except ZeroDivisionError:\n        print(\"No se puede dividir por cero\")\n\n            ",
      "execution_count": 1,
      "outputs": [
        {
          "output_type": "stream",
          "name": "stdout",
          "text": "Dividendo?23\nDivisor?4\n\nCociente: 5\nResto: 3\nDividendo?23.8\ndato invalido\nintente nuevamente\n"
        },
        {
          "output_type": "error",
          "ename": "KeyboardInterrupt",
          "evalue": "",
          "traceback": [
            "\u001b[0;31m---------------------------------------------------------------------------\u001b[0m",
            "\u001b[0;31mKeyboardInterrupt\u001b[0m                         Traceback (most recent call last)",
            "\u001b[0;32m~/anaconda3_501/lib/python3.6/site-packages/ipykernel/kernelbase.py\u001b[0m in \u001b[0;36m_input_request\u001b[0;34m(self, prompt, ident, parent, password)\u001b[0m\n\u001b[1;32m    877\u001b[0m             \u001b[0;32mtry\u001b[0m\u001b[0;34m:\u001b[0m\u001b[0;34m\u001b[0m\u001b[0m\n\u001b[0;32m--> 878\u001b[0;31m                 \u001b[0mident\u001b[0m\u001b[0;34m,\u001b[0m \u001b[0mreply\u001b[0m \u001b[0;34m=\u001b[0m \u001b[0mself\u001b[0m\u001b[0;34m.\u001b[0m\u001b[0msession\u001b[0m\u001b[0;34m.\u001b[0m\u001b[0mrecv\u001b[0m\u001b[0;34m(\u001b[0m\u001b[0mself\u001b[0m\u001b[0;34m.\u001b[0m\u001b[0mstdin_socket\u001b[0m\u001b[0;34m,\u001b[0m \u001b[0;36m0\u001b[0m\u001b[0;34m)\u001b[0m\u001b[0;34m\u001b[0m\u001b[0m\n\u001b[0m\u001b[1;32m    879\u001b[0m             \u001b[0;32mexcept\u001b[0m \u001b[0mException\u001b[0m\u001b[0;34m:\u001b[0m\u001b[0;34m\u001b[0m\u001b[0m\n",
            "\u001b[0;32m~/anaconda3_501/lib/python3.6/site-packages/jupyter_client/session.py\u001b[0m in \u001b[0;36mrecv\u001b[0;34m(self, socket, mode, content, copy)\u001b[0m\n\u001b[1;32m    802\u001b[0m         \u001b[0;32mtry\u001b[0m\u001b[0;34m:\u001b[0m\u001b[0;34m\u001b[0m\u001b[0m\n\u001b[0;32m--> 803\u001b[0;31m             \u001b[0mmsg_list\u001b[0m \u001b[0;34m=\u001b[0m \u001b[0msocket\u001b[0m\u001b[0;34m.\u001b[0m\u001b[0mrecv_multipart\u001b[0m\u001b[0;34m(\u001b[0m\u001b[0mmode\u001b[0m\u001b[0;34m,\u001b[0m \u001b[0mcopy\u001b[0m\u001b[0;34m=\u001b[0m\u001b[0mcopy\u001b[0m\u001b[0;34m)\u001b[0m\u001b[0;34m\u001b[0m\u001b[0m\n\u001b[0m\u001b[1;32m    804\u001b[0m         \u001b[0;32mexcept\u001b[0m \u001b[0mzmq\u001b[0m\u001b[0;34m.\u001b[0m\u001b[0mZMQError\u001b[0m \u001b[0;32mas\u001b[0m \u001b[0me\u001b[0m\u001b[0;34m:\u001b[0m\u001b[0;34m\u001b[0m\u001b[0m\n",
            "\u001b[0;32m~/anaconda3_501/lib/python3.6/site-packages/zmq/sugar/socket.py\u001b[0m in \u001b[0;36mrecv_multipart\u001b[0;34m(self, flags, copy, track)\u001b[0m\n\u001b[1;32m    466\u001b[0m         \"\"\"\n\u001b[0;32m--> 467\u001b[0;31m         \u001b[0mparts\u001b[0m \u001b[0;34m=\u001b[0m \u001b[0;34m[\u001b[0m\u001b[0mself\u001b[0m\u001b[0;34m.\u001b[0m\u001b[0mrecv\u001b[0m\u001b[0;34m(\u001b[0m\u001b[0mflags\u001b[0m\u001b[0;34m,\u001b[0m \u001b[0mcopy\u001b[0m\u001b[0;34m=\u001b[0m\u001b[0mcopy\u001b[0m\u001b[0;34m,\u001b[0m \u001b[0mtrack\u001b[0m\u001b[0;34m=\u001b[0m\u001b[0mtrack\u001b[0m\u001b[0;34m)\u001b[0m\u001b[0;34m]\u001b[0m\u001b[0;34m\u001b[0m\u001b[0m\n\u001b[0m\u001b[1;32m    468\u001b[0m         \u001b[0;31m# have first part already, only loop while more to receive\u001b[0m\u001b[0;34m\u001b[0m\u001b[0;34m\u001b[0m\u001b[0m\n",
            "\u001b[0;32mzmq/backend/cython/socket.pyx\u001b[0m in \u001b[0;36mzmq.backend.cython.socket.Socket.recv\u001b[0;34m()\u001b[0m\n",
            "\u001b[0;32mzmq/backend/cython/socket.pyx\u001b[0m in \u001b[0;36mzmq.backend.cython.socket.Socket.recv\u001b[0;34m()\u001b[0m\n",
            "\u001b[0;32mzmq/backend/cython/socket.pyx\u001b[0m in \u001b[0;36mzmq.backend.cython.socket._recv_copy\u001b[0;34m()\u001b[0m\n",
            "\u001b[0;32m~/anaconda3_501/lib/python3.6/site-packages/zmq/backend/cython/checkrc.pxd\u001b[0m in \u001b[0;36mzmq.backend.cython.checkrc._check_rc\u001b[0;34m()\u001b[0m\n",
            "\u001b[0;31mKeyboardInterrupt\u001b[0m: ",
            "\nDuring handling of the above exception, another exception occurred:\n",
            "\u001b[0;31mKeyboardInterrupt\u001b[0m                         Traceback (most recent call last)",
            "\u001b[0;32m<ipython-input-1-974f3b2064c4>\u001b[0m in \u001b[0;36m<module>\u001b[0;34m\u001b[0m\n\u001b[1;32m     13\u001b[0m \u001b[0;32mwhile\u001b[0m \u001b[0;32mTrue\u001b[0m\u001b[0;34m:\u001b[0m\u001b[0;34m\u001b[0m\u001b[0m\n\u001b[1;32m     14\u001b[0m     \u001b[0;32mtry\u001b[0m\u001b[0;34m:\u001b[0m\u001b[0;34m\u001b[0m\u001b[0m\n\u001b[0;32m---> 15\u001b[0;31m         \u001b[0ma\u001b[0m \u001b[0;34m=\u001b[0m \u001b[0mleerentero\u001b[0m\u001b[0;34m(\u001b[0m\u001b[0;34m\"Dividendo?\"\u001b[0m\u001b[0;34m)\u001b[0m\u001b[0;34m\u001b[0m\u001b[0m\n\u001b[0m\u001b[1;32m     16\u001b[0m         \u001b[0mb\u001b[0m \u001b[0;34m=\u001b[0m \u001b[0mleerentero\u001b[0m\u001b[0;34m(\u001b[0m\u001b[0;34m\"Divisor?\"\u001b[0m\u001b[0;34m)\u001b[0m\u001b[0;34m\u001b[0m\u001b[0m\n\u001b[1;32m     17\u001b[0m         \u001b[0mcociente\u001b[0m \u001b[0;34m=\u001b[0m \u001b[0ma\u001b[0m\u001b[0;34m//\u001b[0m\u001b[0mb\u001b[0m\u001b[0;34m\u001b[0m\u001b[0m\n",
            "\u001b[0;32m<ipython-input-1-974f3b2064c4>\u001b[0m in \u001b[0;36mleerentero\u001b[0;34m(mensaje)\u001b[0m\n\u001b[1;32m      3\u001b[0m     \u001b[0;32mwhile\u001b[0m \u001b[0;32mTrue\u001b[0m\u001b[0;34m:\u001b[0m\u001b[0;34m\u001b[0m\u001b[0m\n\u001b[1;32m      4\u001b[0m         \u001b[0;32mtry\u001b[0m\u001b[0;34m:\u001b[0m\u001b[0;34m\u001b[0m\u001b[0m\n\u001b[0;32m----> 5\u001b[0;31m             \u001b[0mn\u001b[0m \u001b[0;34m=\u001b[0m \u001b[0mint\u001b[0m\u001b[0;34m(\u001b[0m\u001b[0minput\u001b[0m\u001b[0;34m(\u001b[0m\u001b[0mmensaje\u001b[0m\u001b[0;34m)\u001b[0m\u001b[0;34m)\u001b[0m\u001b[0;34m\u001b[0m\u001b[0m\n\u001b[0m\u001b[1;32m      6\u001b[0m             \u001b[0;32mbreak\u001b[0m\u001b[0;34m\u001b[0m\u001b[0m\n\u001b[1;32m      7\u001b[0m         \u001b[0;32mexcept\u001b[0m \u001b[0mValueError\u001b[0m\u001b[0;34m:\u001b[0m\u001b[0;34m\u001b[0m\u001b[0m\n",
            "\u001b[0;32m~/anaconda3_501/lib/python3.6/site-packages/ipykernel/kernelbase.py\u001b[0m in \u001b[0;36mraw_input\u001b[0;34m(self, prompt)\u001b[0m\n\u001b[1;32m    851\u001b[0m             \u001b[0mself\u001b[0m\u001b[0;34m.\u001b[0m\u001b[0m_parent_ident\u001b[0m\u001b[0;34m,\u001b[0m\u001b[0;34m\u001b[0m\u001b[0m\n\u001b[1;32m    852\u001b[0m             \u001b[0mself\u001b[0m\u001b[0;34m.\u001b[0m\u001b[0m_parent_header\u001b[0m\u001b[0;34m,\u001b[0m\u001b[0;34m\u001b[0m\u001b[0m\n\u001b[0;32m--> 853\u001b[0;31m             \u001b[0mpassword\u001b[0m\u001b[0;34m=\u001b[0m\u001b[0;32mFalse\u001b[0m\u001b[0;34m,\u001b[0m\u001b[0;34m\u001b[0m\u001b[0m\n\u001b[0m\u001b[1;32m    854\u001b[0m         )\n\u001b[1;32m    855\u001b[0m \u001b[0;34m\u001b[0m\u001b[0m\n",
            "\u001b[0;32m~/anaconda3_501/lib/python3.6/site-packages/ipykernel/kernelbase.py\u001b[0m in \u001b[0;36m_input_request\u001b[0;34m(self, prompt, ident, parent, password)\u001b[0m\n\u001b[1;32m    881\u001b[0m             \u001b[0;32mexcept\u001b[0m \u001b[0mKeyboardInterrupt\u001b[0m\u001b[0;34m:\u001b[0m\u001b[0;34m\u001b[0m\u001b[0m\n\u001b[1;32m    882\u001b[0m                 \u001b[0;31m# re-raise KeyboardInterrupt, to truncate traceback\u001b[0m\u001b[0;34m\u001b[0m\u001b[0;34m\u001b[0m\u001b[0m\n\u001b[0;32m--> 883\u001b[0;31m                 \u001b[0;32mraise\u001b[0m \u001b[0mKeyboardInterrupt\u001b[0m\u001b[0;34m\u001b[0m\u001b[0m\n\u001b[0m\u001b[1;32m    884\u001b[0m             \u001b[0;32melse\u001b[0m\u001b[0;34m:\u001b[0m\u001b[0;34m\u001b[0m\u001b[0m\n\u001b[1;32m    885\u001b[0m                 \u001b[0;32mbreak\u001b[0m\u001b[0;34m\u001b[0m\u001b[0m\n",
            "\u001b[0;31mKeyboardInterrupt\u001b[0m: "
          ]
        }
      ]
    },
    {
      "metadata": {},
      "cell_type": "raw",
      "source": "Escribir un programa para imprimir los numeros enteros a partir del 1, que no pueda ser interrumpido por Contro+C\n"
    },
    {
      "metadata": {
        "trusted": true
      },
      "cell_type": "code",
      "source": "contador = 1\nwhile True:\n    try:\n        print(\"contador\", end=\" \")\n        contador = contador + 1\n    except KeyboardInterrupt:\n        pass",
      "execution_count": null,
      "outputs": []
    },
    {
      "metadata": {},
      "cell_type": "raw",
      "source": "Utilizando raise: Se usa para provocar una excepcion \nPuede ir seguida del nombre de la excepcion a producir, si no se detalla el nombre, se relanza la ultima produci\n"
    },
    {
      "metadata": {
        "trusted": true
      },
      "cell_type": "code",
      "source": "def leerentero(mensaje=\"ingrese un entero\"):\n    '''Funcion para agregar un entero'''\n    while True:\n        try:\n            n = int(input(mensaje))\n            break\n        except ValueError:\n            print(\"dato invalido\")\n            a = input(\"Desea ingresarlo nuevamente (S/N):\")\n            if a.upper() == \"N\":\n                raise\n    return n\n\n#programa principal\nwhile True:\n    try:\n        a = leerentero(\"Dividendo?\")\n        b = leerentero(\"Divisor?\")\n        cociente = a//b\n        resto = a % b\n        print()\n        print(\"Cociente:\", cociente)\n        print(\"Resto:\", resto)\n    except ZeroDivisionError:\n        print(\"No se puede dividir por cero\")",
      "execution_count": 3,
      "outputs": [
        {
          "output_type": "stream",
          "name": "stdout",
          "text": "Dividendo?23\nDivisor?3\n\nCociente: 7\nResto: 2\nDividendo?23\nDivisor?3.4\ndato invalido\nDesea ingresarlo nuevamente (S/N):S\nDivisor?as\ndato invalido\nDesea ingresarlo nuevamente (S/N):N\n"
        },
        {
          "output_type": "error",
          "ename": "ValueError",
          "evalue": "invalid literal for int() with base 10: 'as'",
          "traceback": [
            "\u001b[0;31m---------------------------------------------------------------------------\u001b[0m",
            "\u001b[0;31mValueError\u001b[0m                                Traceback (most recent call last)",
            "\u001b[0;32m<ipython-input-3-1d1f0b5d5e33>\u001b[0m in \u001b[0;36m<module>\u001b[0;34m\u001b[0m\n\u001b[1;32m     16\u001b[0m     \u001b[0;32mtry\u001b[0m\u001b[0;34m:\u001b[0m\u001b[0;34m\u001b[0m\u001b[0m\n\u001b[1;32m     17\u001b[0m         \u001b[0ma\u001b[0m \u001b[0;34m=\u001b[0m \u001b[0mleerentero\u001b[0m\u001b[0;34m(\u001b[0m\u001b[0;34m\"Dividendo?\"\u001b[0m\u001b[0;34m)\u001b[0m\u001b[0;34m\u001b[0m\u001b[0m\n\u001b[0;32m---> 18\u001b[0;31m         \u001b[0mb\u001b[0m \u001b[0;34m=\u001b[0m \u001b[0mleerentero\u001b[0m\u001b[0;34m(\u001b[0m\u001b[0;34m\"Divisor?\"\u001b[0m\u001b[0;34m)\u001b[0m\u001b[0;34m\u001b[0m\u001b[0m\n\u001b[0m\u001b[1;32m     19\u001b[0m         \u001b[0mcociente\u001b[0m \u001b[0;34m=\u001b[0m \u001b[0ma\u001b[0m\u001b[0;34m//\u001b[0m\u001b[0mb\u001b[0m\u001b[0;34m\u001b[0m\u001b[0m\n\u001b[1;32m     20\u001b[0m         \u001b[0mresto\u001b[0m \u001b[0;34m=\u001b[0m \u001b[0ma\u001b[0m \u001b[0;34m%\u001b[0m \u001b[0mb\u001b[0m\u001b[0;34m\u001b[0m\u001b[0m\n",
            "\u001b[0;32m<ipython-input-3-1d1f0b5d5e33>\u001b[0m in \u001b[0;36mleerentero\u001b[0;34m(mensaje)\u001b[0m\n\u001b[1;32m      3\u001b[0m     \u001b[0;32mwhile\u001b[0m \u001b[0;32mTrue\u001b[0m\u001b[0;34m:\u001b[0m\u001b[0;34m\u001b[0m\u001b[0m\n\u001b[1;32m      4\u001b[0m         \u001b[0;32mtry\u001b[0m\u001b[0;34m:\u001b[0m\u001b[0;34m\u001b[0m\u001b[0m\n\u001b[0;32m----> 5\u001b[0;31m             \u001b[0mn\u001b[0m \u001b[0;34m=\u001b[0m \u001b[0mint\u001b[0m\u001b[0;34m(\u001b[0m\u001b[0minput\u001b[0m\u001b[0;34m(\u001b[0m\u001b[0mmensaje\u001b[0m\u001b[0;34m)\u001b[0m\u001b[0;34m)\u001b[0m\u001b[0;34m\u001b[0m\u001b[0m\n\u001b[0m\u001b[1;32m      6\u001b[0m             \u001b[0;32mbreak\u001b[0m\u001b[0;34m\u001b[0m\u001b[0m\n\u001b[1;32m      7\u001b[0m         \u001b[0;32mexcept\u001b[0m \u001b[0mValueError\u001b[0m\u001b[0;34m:\u001b[0m\u001b[0;34m\u001b[0m\u001b[0m\n",
            "\u001b[0;31mValueError\u001b[0m: invalid literal for int() with base 10: 'as'"
          ]
        }
      ]
    },
    {
      "metadata": {
        "trusted": true
      },
      "cell_type": "code",
      "source": "def leerentero(mensaje=\"ingrese un entero\"):\n    '''Funcion para agregar un entero'''\n    while True:\n        try:\n            n = int(input(mensaje))\n            break\n        except ValueError:\n            print(\"dato invalido\")\n            a = input(\"Desea ingresarlo nuevamente (S/N):\")\n        else: \n            break\n    return n\n\n#programa principal\nwhile True:\n    try:\n        a = leerentero(\"Dividendo?\")\n        b = leerentero(\"Divisor?\")\n        cociente = a//b\n        resto = a % b\n        print()\n        print(\"Cociente:\", cociente)\n        print(\"Resto:\", resto)\n    except ZeroDivisionError:\n        print(\"No se puede dividir por cero\")",
      "execution_count": 32,
      "outputs": [
        {
          "output_type": "error",
          "ename": "KeyboardInterrupt",
          "evalue": "",
          "traceback": [
            "\u001b[0;31m---------------------------------------------------------------------------\u001b[0m",
            "\u001b[0;31mKeyboardInterrupt\u001b[0m                         Traceback (most recent call last)",
            "\u001b[0;32m~/anaconda3_501/lib/python3.6/site-packages/ipykernel/kernelbase.py\u001b[0m in \u001b[0;36m_input_request\u001b[0;34m(self, prompt, ident, parent, password)\u001b[0m\n\u001b[1;32m    877\u001b[0m             \u001b[0;32mtry\u001b[0m\u001b[0;34m:\u001b[0m\u001b[0;34m\u001b[0m\u001b[0m\n\u001b[0;32m--> 878\u001b[0;31m                 \u001b[0mident\u001b[0m\u001b[0;34m,\u001b[0m \u001b[0mreply\u001b[0m \u001b[0;34m=\u001b[0m \u001b[0mself\u001b[0m\u001b[0;34m.\u001b[0m\u001b[0msession\u001b[0m\u001b[0;34m.\u001b[0m\u001b[0mrecv\u001b[0m\u001b[0;34m(\u001b[0m\u001b[0mself\u001b[0m\u001b[0;34m.\u001b[0m\u001b[0mstdin_socket\u001b[0m\u001b[0;34m,\u001b[0m \u001b[0;36m0\u001b[0m\u001b[0;34m)\u001b[0m\u001b[0;34m\u001b[0m\u001b[0m\n\u001b[0m\u001b[1;32m    879\u001b[0m             \u001b[0;32mexcept\u001b[0m \u001b[0mException\u001b[0m\u001b[0;34m:\u001b[0m\u001b[0;34m\u001b[0m\u001b[0m\n",
            "\u001b[0;32m~/anaconda3_501/lib/python3.6/site-packages/jupyter_client/session.py\u001b[0m in \u001b[0;36mrecv\u001b[0;34m(self, socket, mode, content, copy)\u001b[0m\n\u001b[1;32m    802\u001b[0m         \u001b[0;32mtry\u001b[0m\u001b[0;34m:\u001b[0m\u001b[0;34m\u001b[0m\u001b[0m\n\u001b[0;32m--> 803\u001b[0;31m             \u001b[0mmsg_list\u001b[0m \u001b[0;34m=\u001b[0m \u001b[0msocket\u001b[0m\u001b[0;34m.\u001b[0m\u001b[0mrecv_multipart\u001b[0m\u001b[0;34m(\u001b[0m\u001b[0mmode\u001b[0m\u001b[0;34m,\u001b[0m \u001b[0mcopy\u001b[0m\u001b[0;34m=\u001b[0m\u001b[0mcopy\u001b[0m\u001b[0;34m)\u001b[0m\u001b[0;34m\u001b[0m\u001b[0m\n\u001b[0m\u001b[1;32m    804\u001b[0m         \u001b[0;32mexcept\u001b[0m \u001b[0mzmq\u001b[0m\u001b[0;34m.\u001b[0m\u001b[0mZMQError\u001b[0m \u001b[0;32mas\u001b[0m \u001b[0me\u001b[0m\u001b[0;34m:\u001b[0m\u001b[0;34m\u001b[0m\u001b[0m\n",
            "\u001b[0;32m~/anaconda3_501/lib/python3.6/site-packages/zmq/sugar/socket.py\u001b[0m in \u001b[0;36mrecv_multipart\u001b[0;34m(self, flags, copy, track)\u001b[0m\n\u001b[1;32m    466\u001b[0m         \"\"\"\n\u001b[0;32m--> 467\u001b[0;31m         \u001b[0mparts\u001b[0m \u001b[0;34m=\u001b[0m \u001b[0;34m[\u001b[0m\u001b[0mself\u001b[0m\u001b[0;34m.\u001b[0m\u001b[0mrecv\u001b[0m\u001b[0;34m(\u001b[0m\u001b[0mflags\u001b[0m\u001b[0;34m,\u001b[0m \u001b[0mcopy\u001b[0m\u001b[0;34m=\u001b[0m\u001b[0mcopy\u001b[0m\u001b[0;34m,\u001b[0m \u001b[0mtrack\u001b[0m\u001b[0;34m=\u001b[0m\u001b[0mtrack\u001b[0m\u001b[0;34m)\u001b[0m\u001b[0;34m]\u001b[0m\u001b[0;34m\u001b[0m\u001b[0m\n\u001b[0m\u001b[1;32m    468\u001b[0m         \u001b[0;31m# have first part already, only loop while more to receive\u001b[0m\u001b[0;34m\u001b[0m\u001b[0;34m\u001b[0m\u001b[0m\n",
            "\u001b[0;32mzmq/backend/cython/socket.pyx\u001b[0m in \u001b[0;36mzmq.backend.cython.socket.Socket.recv\u001b[0;34m()\u001b[0m\n",
            "\u001b[0;32mzmq/backend/cython/socket.pyx\u001b[0m in \u001b[0;36mzmq.backend.cython.socket.Socket.recv\u001b[0;34m()\u001b[0m\n",
            "\u001b[0;32mzmq/backend/cython/socket.pyx\u001b[0m in \u001b[0;36mzmq.backend.cython.socket._recv_copy\u001b[0;34m()\u001b[0m\n",
            "\u001b[0;32m~/anaconda3_501/lib/python3.6/site-packages/zmq/backend/cython/checkrc.pxd\u001b[0m in \u001b[0;36mzmq.backend.cython.checkrc._check_rc\u001b[0;34m()\u001b[0m\n",
            "\u001b[0;31mKeyboardInterrupt\u001b[0m: ",
            "\nDuring handling of the above exception, another exception occurred:\n",
            "\u001b[0;31mKeyboardInterrupt\u001b[0m                         Traceback (most recent call last)",
            "\u001b[0;32m<ipython-input-32-c375fa3af470>\u001b[0m in \u001b[0;36m<module>\u001b[0;34m\u001b[0m\n\u001b[1;32m     15\u001b[0m \u001b[0;32mwhile\u001b[0m \u001b[0;32mTrue\u001b[0m\u001b[0;34m:\u001b[0m\u001b[0;34m\u001b[0m\u001b[0m\n\u001b[1;32m     16\u001b[0m     \u001b[0;32mtry\u001b[0m\u001b[0;34m:\u001b[0m\u001b[0;34m\u001b[0m\u001b[0m\n\u001b[0;32m---> 17\u001b[0;31m         \u001b[0ma\u001b[0m \u001b[0;34m=\u001b[0m \u001b[0mleerentero\u001b[0m\u001b[0;34m(\u001b[0m\u001b[0;34m\"Dividendo?\"\u001b[0m\u001b[0;34m)\u001b[0m\u001b[0;34m\u001b[0m\u001b[0m\n\u001b[0m\u001b[1;32m     18\u001b[0m         \u001b[0mb\u001b[0m \u001b[0;34m=\u001b[0m \u001b[0mleerentero\u001b[0m\u001b[0;34m(\u001b[0m\u001b[0;34m\"Divisor?\"\u001b[0m\u001b[0;34m)\u001b[0m\u001b[0;34m\u001b[0m\u001b[0m\n\u001b[1;32m     19\u001b[0m         \u001b[0mcociente\u001b[0m \u001b[0;34m=\u001b[0m \u001b[0ma\u001b[0m\u001b[0;34m//\u001b[0m\u001b[0mb\u001b[0m\u001b[0;34m\u001b[0m\u001b[0m\n",
            "\u001b[0;32m<ipython-input-32-c375fa3af470>\u001b[0m in \u001b[0;36mleerentero\u001b[0;34m(mensaje)\u001b[0m\n\u001b[1;32m      3\u001b[0m     \u001b[0;32mwhile\u001b[0m \u001b[0;32mTrue\u001b[0m\u001b[0;34m:\u001b[0m\u001b[0;34m\u001b[0m\u001b[0m\n\u001b[1;32m      4\u001b[0m         \u001b[0;32mtry\u001b[0m\u001b[0;34m:\u001b[0m\u001b[0;34m\u001b[0m\u001b[0m\n\u001b[0;32m----> 5\u001b[0;31m             \u001b[0mn\u001b[0m \u001b[0;34m=\u001b[0m \u001b[0mint\u001b[0m\u001b[0;34m(\u001b[0m\u001b[0minput\u001b[0m\u001b[0;34m(\u001b[0m\u001b[0mmensaje\u001b[0m\u001b[0;34m)\u001b[0m\u001b[0;34m)\u001b[0m\u001b[0;34m\u001b[0m\u001b[0m\n\u001b[0m\u001b[1;32m      6\u001b[0m             \u001b[0;32mbreak\u001b[0m\u001b[0;34m\u001b[0m\u001b[0m\n\u001b[1;32m      7\u001b[0m         \u001b[0;32mexcept\u001b[0m \u001b[0mValueError\u001b[0m\u001b[0;34m:\u001b[0m\u001b[0;34m\u001b[0m\u001b[0m\n",
            "\u001b[0;32m~/anaconda3_501/lib/python3.6/site-packages/ipykernel/kernelbase.py\u001b[0m in \u001b[0;36mraw_input\u001b[0;34m(self, prompt)\u001b[0m\n\u001b[1;32m    851\u001b[0m             \u001b[0mself\u001b[0m\u001b[0;34m.\u001b[0m\u001b[0m_parent_ident\u001b[0m\u001b[0;34m,\u001b[0m\u001b[0;34m\u001b[0m\u001b[0m\n\u001b[1;32m    852\u001b[0m             \u001b[0mself\u001b[0m\u001b[0;34m.\u001b[0m\u001b[0m_parent_header\u001b[0m\u001b[0;34m,\u001b[0m\u001b[0;34m\u001b[0m\u001b[0m\n\u001b[0;32m--> 853\u001b[0;31m             \u001b[0mpassword\u001b[0m\u001b[0;34m=\u001b[0m\u001b[0;32mFalse\u001b[0m\u001b[0;34m,\u001b[0m\u001b[0;34m\u001b[0m\u001b[0m\n\u001b[0m\u001b[1;32m    854\u001b[0m         )\n\u001b[1;32m    855\u001b[0m \u001b[0;34m\u001b[0m\u001b[0m\n",
            "\u001b[0;32m~/anaconda3_501/lib/python3.6/site-packages/ipykernel/kernelbase.py\u001b[0m in \u001b[0;36m_input_request\u001b[0;34m(self, prompt, ident, parent, password)\u001b[0m\n\u001b[1;32m    881\u001b[0m             \u001b[0;32mexcept\u001b[0m \u001b[0mKeyboardInterrupt\u001b[0m\u001b[0;34m:\u001b[0m\u001b[0;34m\u001b[0m\u001b[0m\n\u001b[1;32m    882\u001b[0m                 \u001b[0;31m# re-raise KeyboardInterrupt, to truncate traceback\u001b[0m\u001b[0;34m\u001b[0m\u001b[0;34m\u001b[0m\u001b[0m\n\u001b[0;32m--> 883\u001b[0;31m                 \u001b[0;32mraise\u001b[0m \u001b[0mKeyboardInterrupt\u001b[0m\u001b[0;34m\u001b[0m\u001b[0m\n\u001b[0m\u001b[1;32m    884\u001b[0m             \u001b[0;32melse\u001b[0m\u001b[0;34m:\u001b[0m\u001b[0;34m\u001b[0m\u001b[0m\n\u001b[1;32m    885\u001b[0m                 \u001b[0;32mbreak\u001b[0m\u001b[0;34m\u001b[0m\u001b[0m\n",
            "\u001b[0;31mKeyboardInterrupt\u001b[0m: "
          ]
        }
      ]
    },
    {
      "metadata": {
        "trusted": true
      },
      "cell_type": "code",
      "source": "",
      "execution_count": null,
      "outputs": []
    },
    {
      "metadata": {
        "trusted": true
      },
      "cell_type": "code",
      "source": "def imprimirmatriz(mat):\n    filas = len(mat)\n    columnas = len(mat[0])\n    elementos = filas*columnas\n    f = 0\n    c = 0\n    for i in range(elementos):\n        try:\n            print(\"%3d\" %mat[f][c], end=\"\")\n        except IndexError:\n            f = f + 1\n            c = 0\n            print()\n            print(\"%3d\" %mat[f][c], end=\"\")\n        finally:\n            c = c + 1\n            \n#programa principal\nmatriz = ((1,2,3),(4,5,6),(7,8,9))\nimprimirmatriz(matriz)\n",
      "execution_count": 5,
      "outputs": [
        {
          "output_type": "stream",
          "text": "  1  2  3\n  4  5  6\n  7  8  9",
          "name": "stdout"
        }
      ]
    },
    {
      "metadata": {
        "trusted": true
      },
      "cell_type": "code",
      "source": "while True:\n    try:\n        mes = int(input(\"ingrese el numero de mes:\"))\n        assert 1 <= mes <= 12\n        break\n    except ValueError:\n        print(\"Solo se permiten numeros\")\n    except AssertionError:\n        print(\"El numero debe ser entre 1 y 12\")\n    print(\"Intente nuevamente\")\nprint(\"El mes ingresado es:\", mes)\n        ",
      "execution_count": 27,
      "outputs": [
        {
          "output_type": "stream",
          "name": "stdout",
          "text": "ingrese el numero de mes:43\nEl numero debe ser entre 1 y 12\nIntente nuevamente\ningrese el numero de mes:12\nEl mes ingresado es: 12\n"
        }
      ]
    },
    {
      "metadata": {
        "trusted": true
      },
      "cell_type": "code",
      "source": "while True:\n    try:\n        mes = int(input(\"ingrese el numero de mes:\"))\n        if not(1 <= mes <=12):\n            raise AssertionError\n        break\n    except ValueError:\n        print(\"Solo se permiten numeros\")\n    except AssertionError:\n        print(\"El numero debe ser entre 1 y 12\")\n    print(\"Intente nuevamente\")\nprint(\"El mes ingresado es:\", mes)",
      "execution_count": 28,
      "outputs": [
        {
          "output_type": "stream",
          "name": "stdout",
          "text": "ingrese el numero de mes:123\nEl numero debe ser entre 1 y 12\nIntente nuevamente\ningrese el numero de mes:12\nEl mes ingresado es: 12\n"
        }
      ]
    },
    {
      "metadata": {
        "trusted": true
      },
      "cell_type": "code",
      "source": "palabra = input(\"ingrese la palabra:\")\ntry:\n    assert len(palabra) > 5, \"palabra muy corta\"\n    assert palabra.isalpha(), \"solo se permiten letras\"\nexcept AssertionError as mensaje:\n    print(mensaje)",
      "execution_count": 31,
      "outputs": [
        {
          "output_type": "stream",
          "name": "stdout",
          "text": "ingrese la palabra:123454321\nsolo se permiten letras\n"
        }
      ]
    },
    {
      "metadata": {
        "trusted": true
      },
      "cell_type": "markdown",
      "source": "# Archivos"
    },
    {
      "metadata": {
        "trusted": true
      },
      "cell_type": "code",
      "source": "try:\n    arch = open(\"alumnos.txt\", \"wt\")\n    lu = input(\"LU?: (Enter para terminar)\")\n    while lu == \"\":\n        nombre = input(\"nombre?\")\n        arch.write(lu+\";\"+nombre+\"\\n\")\n        lu = input(\"LU?: (Enter para terminar)\")\n    print(\"Archivo Creado Correctamente\")\nexcept OSError as mensaje:\n    print(\"No se puede guardar el archivo:\", mensaje)\nfinally:\n    try:\n        arch.close()\n    except NameError:\n        pass\n",
      "execution_count": 12,
      "outputs": [
        {
          "output_type": "stream",
          "name": "stdout",
          "text": "LU?: (Enter para terminar)\nnombre?faby\nLU?: (Enter para terminar)12323\nArchivo Creado Correctamente\n"
        }
      ]
    },
    {
      "metadata": {
        "trusted": true
      },
      "cell_type": "code",
      "source": "try:\n    arch = open(\"alumnos.txt\", \"rt\")\n    linea = arch.readline()    \n    while linea:\n        lu, nombre = linea.split(\";\")\n        nombre = nombre.rstrip(\"\\n\")\n        if int(lu)<1000000:\n            print(f\"LU:{lu:>7} - Nombre:{nombre}\")\n        linea = arch.readline()\n    print(\"Archivo leido correctamente\")\nexcept FileNotFoundError as mensaje:\n    print(\"No se puede abrir el archivo:\", mensaje)      \nexcept OSError as mensaje:\n    print(\"No se puede leer el archivo:\", mensaje)\nfinally:\n    try:\n        arch.close()\n    except NameError:\n        pass",
      "execution_count": 15,
      "outputs": [
        {
          "output_type": "error",
          "ename": "ValueError",
          "evalue": "invalid literal for int() with base 10: ''",
          "traceback": [
            "\u001b[0;31m---------------------------------------------------------------------------\u001b[0m",
            "\u001b[0;31mValueError\u001b[0m                                Traceback (most recent call last)",
            "\u001b[0;32m<ipython-input-15-ab03941a983b>\u001b[0m in \u001b[0;36m<module>\u001b[0;34m\u001b[0m\n\u001b[1;32m      5\u001b[0m         \u001b[0mlu\u001b[0m\u001b[0;34m,\u001b[0m \u001b[0mnombre\u001b[0m \u001b[0;34m=\u001b[0m \u001b[0mlinea\u001b[0m\u001b[0;34m.\u001b[0m\u001b[0msplit\u001b[0m\u001b[0;34m(\u001b[0m\u001b[0;34m\";\"\u001b[0m\u001b[0;34m)\u001b[0m\u001b[0;34m\u001b[0m\u001b[0m\n\u001b[1;32m      6\u001b[0m         \u001b[0mnombre\u001b[0m \u001b[0;34m=\u001b[0m \u001b[0mnombre\u001b[0m\u001b[0;34m.\u001b[0m\u001b[0mrstrip\u001b[0m\u001b[0;34m(\u001b[0m\u001b[0;34m\"\\n\"\u001b[0m\u001b[0;34m)\u001b[0m\u001b[0;34m\u001b[0m\u001b[0m\n\u001b[0;32m----> 7\u001b[0;31m         \u001b[0;32mif\u001b[0m \u001b[0mint\u001b[0m\u001b[0;34m(\u001b[0m\u001b[0mlu\u001b[0m\u001b[0;34m)\u001b[0m\u001b[0;34m<\u001b[0m\u001b[0;36m1000000\u001b[0m\u001b[0;34m:\u001b[0m\u001b[0;34m\u001b[0m\u001b[0m\n\u001b[0m\u001b[1;32m      8\u001b[0m             \u001b[0mprint\u001b[0m\u001b[0;34m(\u001b[0m\u001b[0;34mf\"LU:{lu:>7} - Nombre:{nombre}\"\u001b[0m\u001b[0;34m)\u001b[0m\u001b[0;34m\u001b[0m\u001b[0m\n\u001b[1;32m      9\u001b[0m         \u001b[0mlinea\u001b[0m \u001b[0;34m=\u001b[0m \u001b[0march\u001b[0m\u001b[0;34m.\u001b[0m\u001b[0mreadline\u001b[0m\u001b[0;34m(\u001b[0m\u001b[0;34m)\u001b[0m\u001b[0;34m\u001b[0m\u001b[0m\n",
            "\u001b[0;31mValueError\u001b[0m: invalid literal for int() with base 10: ''"
          ]
        }
      ]
    },
    {
      "metadata": {
        "trusted": true
      },
      "cell_type": "markdown",
      "source": "# Tuplas, Conjuntos, Diccionarios"
    },
    {
      "metadata": {
        "trusted": true
      },
      "cell_type": "code",
      "source": "perro = \"caniche\", #Puede ir con o sin parentesis\nprint(perro)\nperro = perro + (\"yorkshire\",) #PAra concatenar es obligatorio el parentesis\nprint(perro)\nprint(perro[1])",
      "execution_count": 10,
      "outputs": [
        {
          "output_type": "stream",
          "text": "('caniche',)\n('caniche', 'yorkshire')\nyorkshire\n",
          "name": "stdout"
        }
      ]
    },
    {
      "metadata": {
        "trusted": true
      },
      "cell_type": "code",
      "source": "primos = {1,2,3,5,7,11}\npares = {2,4,6,8,10}\n\nunion = primos|pares\nprint (union)\ninterseccion = primos&pares\nprint (interseccion)\nresta = primos - pares\nprint (resta)\nrestasimetrica = primos ^ pares #se saca solo el valor que es interseccion, pero dejo todo el resto de ambos\nprint (restasimetrica)",
      "execution_count": 14,
      "outputs": [
        {
          "output_type": "stream",
          "text": "{1, 2, 3, 4, 5, 6, 7, 8, 10, 11}\n{2}\n{1, 3, 5, 7, 11}\n{1, 3, 4, 5, 6, 7, 8, 10, 11}\n",
          "name": "stdout"
        }
      ]
    },
    {
      "metadata": {
        "trusted": true
      },
      "cell_type": "code",
      "source": "#para agregar y eliminar elementos\nprimos = {1,2,3,5}\nprimos.add(7)\nprint(primos)\nprimos.discard(1)\nprint(primos)\n",
      "execution_count": 16,
      "outputs": [
        {
          "output_type": "stream",
          "text": "{1, 2, 3, 5, 7}\n{2, 3, 5, 7}\n",
          "name": "stdout"
        }
      ]
    },
    {
      "metadata": {
        "trusted": true
      },
      "cell_type": "code",
      "source": "#para ver si un set esta incluido en otro\nprimos = {2,3,5}\nif primos.issubset({1,2,3,5,7,11}):\n    print(\"inluido\")\nelse:\n    print(\"no inluido\")",
      "execution_count": 22,
      "outputs": [
        {
          "output_type": "stream",
          "text": "inluido\n",
          "name": "stdout"
        }
      ]
    },
    {
      "metadata": {
        "trusted": true
      },
      "cell_type": "code",
      "source": "dias = \"lunes\", \"martes\" #Es una tupla\nd1 = dict.fromkeys(dias)\nprint(d1)\nd11= dict.keys(d1)\nprint(d11)\n\nvocales = \"aeiou\"\nd2 = dict.fromkeys(vocales, 0)\nprint(d2)\nd22 = dict.items(d2)\nprint(d22)\n",
      "execution_count": 5,
      "outputs": [
        {
          "output_type": "stream",
          "text": "{'lunes': None, 'martes': None}\ndict_keys(['lunes', 'martes'])\n{'a': 0, 'e': 0, 'i': 0, 'o': 0, 'u': 0}\ndict_items([('a', 0), ('e', 0), ('i', 0), ('o', 0), ('u', 0)])\n",
          "name": "stdout"
        }
      ]
    },
    {
      "metadata": {
        "trusted": true
      },
      "cell_type": "code",
      "source": "#Desarollar un prgrama para simluar la entrega de cartas de poker, evitando naipes repetidos\nimport random\n\nsimbolo = (\"Trebol\", \"Pica\", \"Corazon\", \"Diamate\") #utilizo tupla\nmano = set() #defino mano como diccionario\nintentos = 0\nwhile len(mano)<5: #cinco cartas por jugador\n    numero = random.randint(1,13) #cartas: 1 a 10 mas JQK\n    palo = random.randint(0,3)\n    carta = (numero, simbolo[palo]) #crea una tupla con el numero de carta y el palo. el palo es un numero de poscion\n    print(carta)\n    mano.add(carta) # para que la carta no se duplique al usar diccionario se sobreescribe y queda solo una sin duplicar\n    intentos = intentos + 1\nprint(mano)\nprint(\"Intentos realizados:\", intentos)",
      "execution_count": 3,
      "outputs": [
        {
          "output_type": "stream",
          "text": "(1, 'Corazon')\n(1, 'Corazon')\n(1, 'Diamate')\n(8, 'Pica')\n(3, 'Trebol')\n(10, 'Trebol')\n{(1, 'Corazon'), (10, 'Trebol'), (8, 'Pica'), (1, 'Diamate'), (3, 'Trebol')}\nIntentos realizados: 6\n",
          "name": "stdout"
        }
      ]
    },
    {
      "metadata": {
        "trusted": true
      },
      "cell_type": "code",
      "source": "#Ejemplo 2\n#Realizar un programa para ingresar una frase\n#y mostrar un listado ordenado alfabeticamente\n#con las palabras que contiene,\n#eliminando las repetidas y\n#añadiendo junto a cada una la cantidad de veces\n#que se encontro\n\nfrase = input(\"ingrese una frase:\\n\")\nlistadepalabras = frase.split()\ndic = {}\n\nfor palabra in listadepalabras:\n    \n#hace la cuenta de palabras por cada palabra\n    if palabra not in dic:\n        dic[palabra] = 1\n    else:\n        dic[palabra] = dic[palabra] + 1\nprint(dic)\n\n#ahora creo una lista para cada palabra del diccionario solo con fines de presentacion de los datos y ordenamiento\nlistado = []\nfor p in dic:\n    listado.append(\">\" + p + \":\" + str(dic[p])+\"veces\")\n    \nlistado.sort()\nfor linea in listado:\n    print(linea)\n    ",
      "execution_count": 5,
      "outputs": [
        {
          "output_type": "stream",
          "name": "stdout",
          "text": "ingrese una frase:\nEsta es una prueba para ver si se repiten muchas palabras, se repiten muchas muchas palabras\n{'Esta': 1, 'es': 1, 'una': 1, 'prueba': 1, 'para': 1, 'ver': 1, 'si': 1, 'se': 2, 'repiten': 2, 'muchas': 3, 'palabras,': 1, 'palabras': 1}\n>Esta:1veces\n>es:1veces\n>muchas:3veces\n>palabras,:1veces\n>palabras:1veces\n>para:1veces\n>prueba:1veces\n>repiten:2veces\n>se:2veces\n>si:1veces\n>una:1veces\n>ver:1veces\n"
        }
      ]
    },
    {
      "metadata": {
        "trusted": true
      },
      "cell_type": "code",
      "source": "",
      "execution_count": null,
      "outputs": []
    },
    {
      "metadata": {
        "trusted": true
      },
      "cell_type": "code",
      "source": "",
      "execution_count": null,
      "outputs": []
    }
  ],
  "metadata": {
    "kernelspec": {
      "name": "python36",
      "display_name": "Python 3.6",
      "language": "python"
    },
    "language_info": {
      "mimetype": "text/x-python",
      "nbconvert_exporter": "python",
      "name": "python",
      "pygments_lexer": "ipython3",
      "version": "3.6.6",
      "file_extension": ".py",
      "codemirror_mode": {
        "version": 3,
        "name": "ipython"
      }
    }
  },
  "nbformat": 4,
  "nbformat_minor": 2
}