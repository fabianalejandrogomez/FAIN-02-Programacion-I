{
  "cells": [
    {
      "metadata": {},
      "cell_type": "markdown",
      "source": "# FACULTAD DE INGENIERÍA Y CIENCIAS EXACTAS\nDepartamento de Tecnología Informática\n- PROGRAMACION I"
    },
    {
      "metadata": {},
      "cell_type": "markdown",
      "source": "# Trabajo Práctico 1: FUNCIONES"
    },
    {
      "metadata": {
        "collapsed": true
      },
      "cell_type": "raw",
      "source": "EJERCICIO 01 - Desarrollar una función que reciba tres números positivos y devuelva el mayor de\nlos tres, sólo si éste es único (mayor estricto). En caso de no existir el mayor estricto\ndevolver -1. No utilizar operadores lógicos (and, or, not). Desarrollar también\nun programa para ingresar los tres valores, invocar a la función y mostrar el\nmáximo hallado, o un mensaje informativo si éste no existe."
    },
    {
      "metadata": {
        "trusted": true
      },
      "cell_type": "code",
      "source": "\"\"\" Desarrollar una función que reciba tres números positivos y devuelva el mayor de los tres, \nsólo si éste es único (mayor estricto). En caso de no existir el mayor estricto devolver -1. \nNo utilizar operadores lógicos (and, or, not). \nDesarrollar también un programa para ingresar los tres valores, \ninvocar a la función y mostrar el máximo hallado, o un mensaje informativo si éste no existe. \"\"\"\n\ndef mayor(n1, n2, n3):\n    if(n1 > n2):\n        if(n1 > n3):\n            return n1\n        elif(n3 > n1):\n            return n3\n        else:\n            return -1\n    elif(n2 > n3):\n        if(n2 > n1):\n            return n2\n        else:\n            return -1\n    elif(n3 > n2):\n        return n3\n    else:\n        return -1\n\nif __name__ == '__main__':\n    nu1 = int(input(\"Ingrese el primer numero: \"))\n    nu2 = int(input(\"Ingrese el segundo numero: \"))\n    nu3 = int(input(\"Ingrese el tercer numero: \"))\n    if(mayor(nu1, nu2, nu3) != -1):\n        print(\"Existe un valor mayor\")\n    else:\n        print(\"No existe un valor mayor\")\n",
      "execution_count": 1,
      "outputs": [
        {
          "output_type": "stream",
          "name": "stdout",
          "text": "Ingrese el primer numero: 5\nIngrese el segundo numero: 4\nIngrese el tercer numero: 3\nExiste un valor mayor\n"
        }
      ]
    },
    {
      "metadata": {},
      "cell_type": "raw",
      "source": "EJERCICIO 02 - Desarrollar una función que reciba tres números enteros positivos y verifique si\ncorresponden a una fecha gregoriana válida (día, mes, año). Devolver True o False\nsegún la fecha sea correcta o no. Realizar también un programa para verificar el\ncomportamiento de la función."
    },
    {
      "metadata": {
        "trusted": true
      },
      "cell_type": "code",
      "source": "\"\"\" Desarrollar una función que reciba tres números enteros positivos \ny verifique si corresponden a una fecha gregoriana válida (día, mes, año). \nDevolver True o False según la fecha sea correcta o no. \nRealizar también un programa para verificar el comportamiento de la función. \"\"\"\n\ndef fecha(dia, mes, anio):\n    if(dia > 0 and dia <= 31 and mes > 0 and mes <= 12 and anio > 0 and anio < 3000):\n        return True\n    else:\n        return False\n\nif __name__ == '__main__':\n    dia = (int(input(\"Ingrese el dia: \")))\n    mes = (int(input(\"Ingrese el mes: \")))\n    anio = (int(input(\"Ingrese el año: \")))\n    if(fecha(dia, mes, anio)):\n        print(\"Es una fecha del almanaque gregroriano valido\")\n    else:\n        print(\"No es una fecha del almanaque gregroriano valido\")",
      "execution_count": null,
      "outputs": []
    },
    {
      "metadata": {},
      "cell_type": "raw",
      "source": "EJERCICIO 03 - Para un número entero N menor de 100 recibido como parámetro, escribir un programa\nque utilice una función para devolver la suma de los cuadrados de aquellos\nnúmeros entre 1 y N que están separados entre si por cuatro unidades. (1**2 + 5**2 +\n9**2 + 13**2 + …)"
    },
    {
      "metadata": {
        "trusted": true
      },
      "cell_type": "code",
      "source": "\"\"\" Para un número entero N menor de 100 recibido como parámetro, \nescribir un programa que utilice una función para devolver \nla suma de los cuadrados de aquellos números entre 1 y N \nque están separados entre si por cuatro unidades.\"\"\"\n\ndef sumaycuadrados(valorDeEntrada):\n    for i in range(1, valorDeEntrada, 4):\n        print(i**2, end=\" \")        \n\nif __name__ == '__main__':\n    valorDeEntrada = 100\n    while(valorDeEntrada >= 100):\n            valorDeEntrada = (int(input(\"Ingrese un valor para comezar: \")))\n    sumaycuadrados(valorDeEntrada)",
      "execution_count": null,
      "outputs": []
    },
    {
      "metadata": {},
      "cell_type": "raw",
      "source": "EJERCICIO 04 - Una persona desea llevar el control de los gastos realizados al viajar en el subterráneo\ndentro de un mes. Sabiendo que dicho medio de transporte utiliza un esquema\nde tarifas decrecientes (detalladas en la tabla de abajo) se solicita desarrollar\nuna función que reciba como parámetro la cantidad de viajes realizados en un\ndeterminado mes y devuelva el total gastado en viajes. Realizar también un programa\npara verificar el comportamiento de la función.\n\nCantidad de viaje   Valor del pasaje\n1 a 20              Averiguar valor actualizado\n21 a 30             20% de descuento sobre tarifa máxima\n31 a 40             30% de descuento sobre tarifa máxima\nMás de 40           40% de descuento sobre tarifa máxima\n"
    },
    {
      "metadata": {
        "trusted": true
      },
      "cell_type": "code",
      "source": "\"\"\" Una persona desea llevar el control de los gastos realizados \nal viajar en el subterráneo dentro de un mes. \nSabiendo que dicho medio de transporte utiliza un esquema de tarifas decrecientes \n(detalladas en la tabla de abajo) \nse solicita desarrollar una función que reciba como parámetro \nla cantidad de viajes realizados en un determinado mes \ny devuelva el total gastado en viajes. \nRealizar también un programa para verificar el comportamiento de la función.\n1 a 20 Averiguar valor actualizado\n21 a 30 20% de descuento sobre tarifa máxima\n31 a 40 30% de descuento sobre tarifa máxima\nMás de 40 40% de descuento sobre tarifa máxima\n \"\"\"\n\ndef controldeviajes(cant_viajes):\n    tafMaxima = 12.5\n    gastoMensual = 0.0\n    for i in range(cant_viajes):\n        if(i <= 20):\n            gastoMensual += tafMaxima\n        if(i > 20 and i <= 30):\n            gastoMensual += tafMaxima*80/100\n        if(i > 30 and i <= 40):\n            gastoMensual += tafMaxima*70/100\n        if(i > 39):\n            gastoMensual += tafMaxima*60/100\n    \n    return gastoMensual\n\nif __name__ == '__main__':\n    cant_viajes = int(input(\"Ingrese la cantidad de viajes mensuales en el subte: \"))\n    print(\"El gasto mensual es de: \" + str(controldeviajes(cant_viajes)))",
      "execution_count": null,
      "outputs": []
    },
    {
      "metadata": {
        "trusted": true
      },
      "cell_type": "code",
      "source": "# Práctica 1, Ejercicio 4\n\ndef calculargasto(viajes, tarifa):\n    \"\"\" Devuelve el importe a pagar segun la cantidad de viajes realizados,\n        considerando el esquema de tarifas decrecientes vigente \"\"\"\n    tarifa1 = tarifa*0.80  # tarifa con el 20% de descuento\n    tarifa2 = tarifa*0.70  # tarifa con el 30% de descuento\n    tarifa3 = tarifa*0.60  # tarifa con el 40% de descuento\n    if viajes<=0:\n        total=0\n    elif viajes<=20:\n        total = viajes*tarifa\n    elif viajes<=30:\n        total = 20*tarifa+(viajes-20)*tarifa1\n    elif viajes<=40:\n        total = 20*tarifa+10*tarifa1+(viajes-30)*tarifa2\n    else:\n        total = 20*tarifa+10*tarifa1+10*tarifa2+(viajes-40)*tarifa3\n    return total\n\n# Programa principal\nn = int(input(\"Cantidad de viajes? \"))\np = float(input(\"Precio del pasaje? \"))\nimporte = calculargasto(n, p)\nprint()\nprint(\"Por\", n, \"viajes se gastaron $\", importe)\nprint()\n",
      "execution_count": 1,
      "outputs": [
        {
          "output_type": "stream",
          "name": "stdout",
          "text": "Cantidad de viajes? 3\nPrecio del pasaje? 20\n\nPor 3 viajes se gastaron $ 60.0\n\n"
        }
      ]
    },
    {
      "metadata": {},
      "cell_type": "raw",
      "source": "EJERCICIO 05 - Un comercio de electrodomésticos necesita para su línea de cajas un programa que\nle indique al cajero el cambio que debe entregarle al cliente. Para eso se ingresan\ndos números enteros, correspondientes al total de la compra y al dinero recibido.\nInformar cuántos billetes de cada denominación deben ser entregados al cliente\ncomo vuelto, de tal forma que se minimice la cantidad de billetes. Considerar que\nexisten billetes de $500, $100, $50, $20, $10, $5 y $1. Emitir un mensaje de error\nsi el dinero recibido fuera insuficiente. Ejemplo: Si la compra es de $317 y se abona\ncon $500, el vuelto debe contener 1 billete de $100, 1 billete de $50, 1 billete\nde $20, 1 billete de $10 y 3 billetes de $1."
    },
    {
      "metadata": {
        "trusted": true
      },
      "cell_type": "code",
      "source": "\"\"\" Un comercio de electrodomésticos necesita para su línea de cajas un programa \nque le indique al cajero el cambio que debe entregarle al cliente. \nPara eso se ingresan dos números enteros, \ncorrespondientes al total de la compra y al dinero recibido. \nInformar cuántos billetes de cada denominación deben ser entregados al cliente como vuelto, \nde tal forma que se minimice la cantidad de billetes. \nConsiderar que existen billetes de $500, $100, $50, $20, $10, $5 y $1. \nEmitir un mensaje de error si el dinero recibido fuera insuficiente. \n \"\"\"\n\ndef vueltoDeCaja(total, pago):\n    # cargo los valores de los billetes en un diccionario para acceder mas rapido en menos codigo\n    billetes = {}\n    billetes[\"1\"] = billetes[\"5\"] = billetes[\"10\"] = billetes[\"20\"] = billetes[\"50\"] = billetes[\"100\"] = billetes[\"500\"] = 0\n\n    diferencia = pago-total\n\n    for i in range(diferencia):\n        if(diferencia >= 500):\n            billetes[\"500\"] += 1\n            diferencia -= 500\n        elif(diferencia >= 100 and diferencia < 500):\n            billetes[\"100\"] += 1\n            diferencia -= 100\n        elif(diferencia >= 50 and diferencia < 100):\n            billetes[\"50\"] += 1\n            diferencia -= 50\n        elif(diferencia >= 20 and diferencia < 50):\n            billetes[\"20\"] += 1\n            diferencia -= 20\n        elif(diferencia >= 10 and diferencia < 20):\n            billetes[\"10\"] += 1\n            diferencia -= 10\n        elif(diferencia >= 5 and diferencia < 10):\n            billetes[\"5\"] += 1\n            diferencia -= 5\n        elif(diferencia >= 1 and diferencia < 5):\n            billetes[\"1\"] += 1\n            diferencia -= 1\n        else:\n            break\n\n    print(\"La cantidad de billetes para dar el vuelto es: \")\n    for k in billetes:\n        if(billetes[k] != 0):\n            print (\"billetes de \" + str(k) + \": \" + str(billetes[k]))\n \nif __name__ == '__main__':\n    total = int(input(\"Cual es el total de la compra?: \"))\n    pago = int(input(\"Cuanto pago el cliente para abonar la compra?: \"))\n    while(pago < total):\n        print(\"La cantidad de dinero es insuficiente para abonar la compra\")\n        pago = int(input(\"Cuanto pago el cliente para abonar la compra?: \"))\n\n    vueltoDeCaja(total, pago)",
      "execution_count": null,
      "outputs": []
    },
    {
      "metadata": {},
      "cell_type": "raw",
      "source": "EJERCICIO 06 - Escribir dos funciones para imprimir por pantalla cada uno de los siguientes\npatrones de asteriscos, donde la cantidad de filas se recibe como parámetro:\n\n**********\n**********\n**********\n**********\n**********\n\n\n**\n****\n******\n********\n**********"
    },
    {
      "metadata": {
        "trusted": true
      },
      "cell_type": "code",
      "source": "\"\"\" Escribir funciones para imprimir por pantalla los siguientes patrones de asteriscos, \ndonde la cantidad de filas se recibe como parámetro:\n\n********** \n********** \n********** \n********** \n**********\n\n** \n**** \n****** \n******** \n********** \"\"\"\n\ndef main():\n    for i in range(6):\n        for j in range(11):\n            if(j != 10):\n                print(\"*\", end=\"\")\n            if(j == 10):\n                print(\"*\", end=\"\\n\")\n    parAst, veces = \"**\", 0\n    for k in range(6):\n        print(\"\")\n        for l in range(veces):\n            print(parAst, end = \"\")\n        veces += 1\n\nif __name__ == '__main__':\n    main()",
      "execution_count": 2,
      "outputs": [
        {
          "output_type": "stream",
          "text": "***********\n***********\n***********\n***********\n***********\n***********\n\n\n**\n****\n******\n********\n**********",
          "name": "stdout"
        }
      ]
    },
    {
      "metadata": {},
      "cell_type": "raw",
      "source": "EJERCICIO 07 - Desarrollar una función que reciba como parámetros dos números enteros y devuelva\nel número que resulte de concatenar ambos valores. Por ejemplo, si recibe\n1234 y 567 debe devolver 1234567. No se permite utilizar facilidades de Python no\nvistas en clase."
    },
    {
      "metadata": {
        "trusted": true
      },
      "cell_type": "code",
      "source": "\"\"\" Desarrollar una función que reciba como parámetros dos números enteros \ny devuelva el número que resulte de concatenar ambos valores. \nPor ejemplo, si recibe 1234 y 567 debe devolver 1234567 \"\"\"\n\ndef enteroString(primero, segundo):\n    print(str(primero) + str(segundo))\n\nif __name__ == '__main__':\n    primero = int(input(\"Ingrese un numero entero: \"))\n    segundo = int(input(\"Ingrese otro numero entero: \"))\n    enteroString(primero, segundo)",
      "execution_count": null,
      "outputs": []
    },
    {
      "metadata": {},
      "cell_type": "raw",
      "source": "EJERCICIO 08 - Escribir una función que reciba como parámetro número del 1 al 9 y devuelva el\nresultado de sumar n + nn + nnn + nnnn, donde n corresponde al número recibido.\nPor ejemplo, si se ingresa 3 debe devolver 3702 (3+33+333+3333). Escribir\ntambién un programa para verificar el comportamiento de la función. No se\npermite utilizar facilidades de Python no vistas en clase."
    },
    {
      "metadata": {
        "trusted": true
      },
      "cell_type": "code",
      "source": "\"\"\" Escribir una función que reciba como parámetro número del 1 al 9 \ny devuelva el resultado de sumar n + nn + nnn + nnnn, \ndonde n corresponde al número recibido. \nPor ejemplo, si se ingresa 3 debe devolver 3702 (3+33+333+3333). \nEscribir también un programa para verificar el comportamiento de la función. \"\"\"\n\ndef main(numero):\n    resultado, cadena, cadenita = 0, str(numero), \"\"\n    for i in range(4):\n        cadenita += cadena\n        resultado += int(cadenita)\n    \n    print(str(resultado))\n\nif __name__ == '__main__':\n    numero = -1\n    while numero < 1 or numero >= 10:\n        numero = int(input(\"Escriba un numero del 1 al 9: \"))\n\n    main(numero)",
      "execution_count": null,
      "outputs": []
    },
    {
      "metadata": {},
      "cell_type": "raw",
      "source": "EJERCICIO 09 - Escribir una función diasiguiente(…) que reciba como parámetro una fecha cualquiera\nexpresada por tres enteros (correspondientes al día, mes y año) y calcule y\ndevuelva tres enteros correspondientes el día siguiente al dado.\nUtilizando esta función, desarrollar programas que permitan:\n\na. Sumar N días a una fecha.\nb. Calcular la cantidad de días existentes entre dos fechas cualesquiera."
    },
    {
      "metadata": {
        "trusted": true
      },
      "cell_type": "code",
      "source": "# Practica 1, ejercicio 9\n\ndef diasiguiente(dia, mes, año):\n    \"\"\" Devuelve el día siguiente a la fecha recibida como parámetro \"\"\"\n    if mes in [1, 3, 5, 7, 8, 10, 12]:\n        cantdias = 31\n    elif mes in [4, 6, 9, 11]:\n        cantdias = 30\n    elif mes == 2:\n        if (año%4 == 0 and año%100 != 0) or año%400==0:\n            cantdias = 29\n        else:\n            cantdias = 28\n    else:\n        cantdias = -1\n    dia = dia + 1\n    if dia>cantdias:\n        dia = 1\n        mes = mes + 1\n        if mes>12:\n            mes = 1\n            año = año + 1\n    return dia, mes, año\n\ndef sumardias(dia, mes, año, n):\n    \"\"\" Suma N días a una fecha y devuelve tres enteros con la nueva fecha \"\"\"\n    for i in range(n):\n        dia, mes, año = diasiguiente(dia, mes, año)\n    return dia, mes, año\n\ndef fecha2int(dia, mes, año):\n    \"\"\" Recibe una fecha y devuelve un entero concatenando el año, el mes y el día \"\"\"\n    return año*10000 + mes*100 + dia\n\ndef calculardiasentrefechas(d1, m1, a1, d2, m2, a2):\n    \"\"\" Calcula cuántos días hay entre dos fechas recibidas como parámetros\n        y devuelve un entero con dicha cantidad \"\"\"\n    # Primero nos aseguramos que la fecha1 sea menor que la fecha2. Si no, las intercambiamos\n    # Concatenamos la fecha en formato AAMMDD para compararlas directamente\n    fecha1 = fecha2int(d1, m1, a1)\n    fecha2 = fecha2int(d2, m2, a2)\n    if fecha1>fecha2:\n        aux = d1\n        d1 = d2\n        d2 = aux\n        aux = m1\n        m1 = m2\n        m2 = aux\n        aux = a1\n        a1 = a2\n        a2 = aux\n    # Ahora que sabemos que la fecha1 es menor o igual que la fecha2, comenzamos a contar los días que las separan\n    n = 0\n    while fecha2int(d1, m1, a1)!=fecha2int(d2, m2, a2):  # Mientras las fechas sean distintas...\n        d1, m1, a1 = diasiguiente(d1, m1, a1)            # ...le sumamos un día a la fecha menor\n        n = n + 1                                        # y contamos el día sumado\n    return n\n\n# Programa principal\nprint(\"Ingrese una fecha:\")\nd = int(input(\"Día? \"))\nm = int(input(\"Mes? \"))\na = int(input(\"Año? \"))\nprint()\ndias = int(input(\"Cuántos días desea sumarle? \"))\nd, m, a = sumardias(d, m, a, dias)\nprint(\"La nueva fecha es %d/%d/%d\" %(d, m, a))\nprint()\nprint(\"Ingrese los datos de la fecha 1:\")\nd1 = int(input(\"Día? \"))\nm1 = int(input(\"Mes? \"))\na1 = int(input(\"Año? \"))\nprint()\nprint(\"Ingrese los datos de la fecha 2:\")\nd2 = int(input(\"Día? \"))\nm2 = int(input(\"Mes? \"))\na2 = int(input(\"Año? \"))\nprint()\ndias = calculardiasentrefechas(d1, m1, a1, d2, m2, a2)\nprint(\"Hay\", dias, \"dias entre ambas fechas\")",
      "execution_count": null,
      "outputs": []
    },
    {
      "metadata": {},
      "cell_type": "raw",
      "source": "EJERCICIO 10 - La siguiente función permite averiguar el día de la semana para una fecha determinada.\nLa fecha se suministra en forma de tres parámetros enteros y la función devuelve\n0 para domingo, 1 para lunes, 2 para martes, etc. Escribir un programa\npara imprimir por pantalla el calendario de un mes completo, correspondiente a un\nmes y año cualquiera basándose en la función suministrada. Considerar que la semana\ncomienza en domingo."
    },
    {
      "metadata": {
        "trusted": true
      },
      "cell_type": "code",
      "source": "#Esta resolucion tiene un Abril de 2020 de 31 dias....\n\n\ndef generarCalendarioPorMes(mes, anio):\n    \"\"\"\n    Se genera automaticamente el calendario de un mes  y año recibidos como parametro\n    \"\"\"\n\n    # genero una lista con las letras de la semana\n    semana = \"D\", \"L\", \"Ma\", \"Mi\", \"J\", \"V\", \"S\"\n    # imprimo los dias como encabezado\n    for i in range(7):\n        print(semana[i], end=\"\\t\")\n    print(\"\")\n\n    #verifico cuando es el primer dia\n    _primerDia = diadelasemana(1, mes, anio)\n\n    #en base a eso, hago un bucle para repetir las tabulaciones necesarias de la primer semana\n    for i in range(_primerDia):\n        print(\"\", end=\"\\t\")\n        \n    # imprimo todos los dias, cuando llega a sabado hace salto de linea sino n cantidad de espacios\n    for i in range(1, 32):\n        if 0 == diadelasemana(i, mes, anio):\n            print(i, end=\"\\t\")\n        elif 0 == diadelasemana(i, mes, anio):\n            print(i, end=\"\\t\")\n        elif 1 == diadelasemana(i, mes, anio):\n            print(i, end=\"\\t\")\n        elif 2 == diadelasemana(i, mes, anio):\n            print(i, end=\"\\t\")\n        elif 3 == diadelasemana(i, mes, anio):\n            print(i, end=\"\\t\")\n        elif 4 == diadelasemana(i, mes, anio):\n            print(i, end=\"\\t\")\n        elif 5 == diadelasemana(i, mes, anio):\n            print(i, end=\"\\t\")\n        elif 6 == diadelasemana(i, mes, anio):\n            print(i, end=\"\\n\")\n\n\ndef diadelasemana(dia, mes, año):\n    if mes < 3:\n        mes = mes+10\n        año = año-1\n    else:\n        mes = mes-2\n    siglo = año//100\n    año2 = año % 100\n    diasem = (((26*mes-2)//10)+dia+año2+(año2//4)+(siglo//4)-(2*siglo)) % 7\n    if diasem < 0:\n        diasem = diasem+7\n    return diasem\n\n\nif __name__ == '__main__':\n    # pido la fecha y separo los datos a traves de la barra\n    _mes, _anio = input(\"Ingrese la fecha en formato MM/AAAA: \").split(\"/\")\n    # casteo el string a entero\n    mes = int(_mes)\n    anio = int(_anio)\n    # le paso los datos a la funcion\n    generarCalendarioPorMes(mes, anio)",
      "execution_count": 4,
      "outputs": [
        {
          "output_type": "stream",
          "text": "4\n",
          "name": "stdout"
        }
      ]
    },
    {
      "metadata": {
        "trusted": true
      },
      "cell_type": "code",
      "source": "",
      "execution_count": null,
      "outputs": []
    }
  ],
  "metadata": {
    "kernelspec": {
      "name": "python36",
      "display_name": "Python 3.6",
      "language": "python"
    },
    "language_info": {
      "mimetype": "text/x-python",
      "nbconvert_exporter": "python",
      "name": "python",
      "pygments_lexer": "ipython3",
      "version": "3.6.6",
      "file_extension": ".py",
      "codemirror_mode": {
        "version": 3,
        "name": "ipython"
      }
    }
  },
  "nbformat": 4,
  "nbformat_minor": 2
}