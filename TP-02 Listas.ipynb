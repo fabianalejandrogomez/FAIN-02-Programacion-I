{
  "cells": [
    {
      "metadata": {},
      "cell_type": "markdown",
      "source": "# FACULTAD DE INGENIERÍA Y CIENCIAS EXACTAS\nDepartamento de Tecnología Informática\n- PROGRAMACION I"
    },
    {
      "metadata": {},
      "cell_type": "markdown",
      "source": "#  Trabajo Práctico 2: LISTAS "
    },
    {
      "metadata": {
        "collapsed": true
      },
      "cell_type": "raw",
      "source": "EJERICIO 01 - Desarrollar cada una de las siguientes funciones y escribir un programa que permita verificar su funcionamiento imprimiendo la lista luego de invocar a cada función:\n\na. Cargar una lista con números al azar de cuatro dígitos. La cantidad de elementos también será un número al azar de dos dígitos.\n\nb. Calcular y devolver la sumatoria de todos los elementos de la lista anterior.\n\nc. Eliminar todas las apariciones de un valor en la lista anterior. El valor a eliminar se ingresa desde el teclado y la función lo recibe como parámetro.\n\nd. Determinar si el contenido de una lista cualquiera es capicúa, sin usar listas\nauxiliares. Un ejemplo de lista capicúa es [50, 17, 91, 17, 50]."
    },
    {
      "metadata": {
        "trusted": true
      },
      "cell_type": "code",
      "source": "import random\n\ndef cantidad():\n    return random.randint(10,99)\n\nlista =[]\nnum = cantidad()\na = 1\nwhile a <= num:\n    a = a + 1\n    lista.append(random.randint(1000,9999))\n    \nprint(num)\nprint(lista)\nprint(sum(lista))\n    \n                            \n    ",
      "execution_count": 1,
      "outputs": [
        {
          "output_type": "stream",
          "text": "64\n[4463, 9906, 7003, 1422, 4331, 1476, 9734, 6076, 7960, 8664, 9265, 3280, 6799, 8978, 4017, 9019, 8623, 1061, 3331, 1117, 8427, 2953, 5394, 2515, 2171, 6008, 1271, 8069, 1809, 9621, 9104, 6654, 7337, 7807, 8811, 1803, 5594, 3061, 9476, 6636, 1129, 4537, 8027, 6907, 7942, 1017, 5060, 7596, 9054, 6513, 9448, 1397, 9891, 7366, 1663, 3751, 2120, 1407, 7682, 3644, 5597, 7009, 7080, 1500]\n358383\n",
          "name": "stdout"
        }
      ]
    },
    {
      "metadata": {
        "trusted": true
      },
      "cell_type": "code",
      "source": "valor = int(input(\"ingrese el valor de la lista a eliminar\"))\nlista.remove(valor)\nprint(lista)",
      "execution_count": 2,
      "outputs": [
        {
          "output_type": "stream",
          "name": "stdout",
          "text": "ingrese el valor de la lista a eliminar4463\n[9906, 7003, 1422, 4331, 1476, 9734, 6076, 7960, 8664, 9265, 3280, 6799, 8978, 4017, 9019, 8623, 1061, 3331, 1117, 8427, 2953, 5394, 2515, 2171, 6008, 1271, 8069, 1809, 9621, 9104, 6654, 7337, 7807, 8811, 1803, 5594, 3061, 9476, 6636, 1129, 4537, 8027, 6907, 7942, 1017, 5060, 7596, 9054, 6513, 9448, 1397, 9891, 7366, 1663, 3751, 2120, 1407, 7682, 3644, 5597, 7009, 7080, 1500]\n"
        }
      ]
    },
    {
      "metadata": {},
      "cell_type": "raw",
      "source": "D - Determinar si una lista es capicúa. (es igual de derecha a izquierda que de derecha a izquierda)"
    },
    {
      "metadata": {
        "trusted": true
      },
      "cell_type": "code",
      "source": "\ndef escapicua(lista):\n    i = 0\n    j = len(lista) - 1\n    while i < j and lista[i] == lista [j]:\n        i = i + 1\n        j = j - 1\n    if i < j:\n        return False\n    else:\n        return True\n    \n#programa principal\nlist = [2,3,4,3,2]\nprint(escapicua(list))",
      "execution_count": 17,
      "outputs": [
        {
          "output_type": "stream",
          "text": "True\n",
          "name": "stdout"
        }
      ]
    },
    {
      "metadata": {
        "trusted": true
      },
      "cell_type": "code",
      "source": "# Practica 2, ejercicio 1\n\nimport random\n\ndef cargarlista():\n    cantidad = random.randint(10, 99)   # Número al azar de dos dígitos\n    numeros = [ ]\n    for i in range(cantidad):\n        azar = random.randint(1000, 9999)   # Números al azar de cuatro díigitos\n        numeros.append(azar)\n    return numeros\n\ndef calcularsumatoria(numeros):\n    return sum(numeros)\n\ndef eliminarvalor(numeros, valor):\n    while valor in numeros:\n        numeros.remove(valor)\n\ndef escapicua(numeros):\n    izq = 0\n    der = len(numeros) - 1   # El subindice correspondiente a la longitud NO pertenece a la lista\n    bandera = True   # Asumimos que es capicúa, ahora vamos a verificarlo\n    while izq<der:\n        if numeros[izq]!=numeros[der]:\n            bandera = False   # Encontramos una diferencia, entonces no es capicua\n            break\n        izq = izq + 1\n        der = der - 1\n    return bandera\n\n# Programa principal\nlista = cargarlista()\nprint(lista)\nsuma = calcularsumatoria(lista)\nprint(\"La suma de los elementos de la lista es de\", suma)\nn = int(input(\"Qué valor desea eliminar? \"))\neliminarvalor(lista, n)\nprint(lista)\nif escapicua(lista):\n    print(\"La lista es capicúa\")\nelse:\n    print(\"La lista no es capicúa\")",
      "execution_count": null,
      "outputs": []
    },
    {
      "metadata": {
        "trusted": true
      },
      "cell_type": "raw",
      "source": "EJERCICIO 02 - Escribir funciones para:\n\na. Generar una lista de 50 números aleatorios del 1 al 100.\n\nb. Recibir una lista como parámetro y devolver True si la misma contiene algún\nelemento repetido. La función no debe modificar la lista.\n\nc. Recibir una lista como parámetro y devolver una nueva lista con los elementos\núnicos de la lista original, sin importar el orden.\n\nCombinar estas tres funciones en un mismo programa."
    },
    {
      "metadata": {
        "trusted": true
      },
      "cell_type": "code",
      "source": "\"\"\" \nEscribir funciones para:\na.Recibir una lista como parámetro y devolver True si la misma contiene algún elemento repetido. La función no debe modificar la lista. \nb.Generar una lista de 50 números aleatorios del 1 al 100 y comprobar con la función anterior si existen elementos duplicados. Devolver True o False.\nc.Recibir una lista como parámetro y devolver una nueva lista con los elementos únicos de la lista original, sin importar el orden. \nCombinar estas tres funciones en un mismo programa \n\"\"\"\n\nimport random\n\n\ndef generarListaUnica(lista):\n    \"\"\"\n    Recibe una lista como parametro y devuelve una lista sin duplicados\n    \"\"\"\n    listaUnica = []\n    for i in range(len(lista)):\n        if lista[i] not in listaUnica:\n            listaUnica.append(lista[i])\n    return listaUnica\n\n\ndef generarLista():\n    \"\"\"\n    Devuelve una lista de 50 numeros al azar del 1 al 100\n    \"\"\"\n    lista = []\n    for i in range(50):\n        lista.append(random.randint(1, 100))\n    if repetidosSinModificar(lista):\n        print(\"Hay numeros repetidos en la lista, vamos a eliminarlos\", end = \"\\n\\n\")\n        listaUnica = generarListaUnica(lista)\n    if repetidosSinModificar(listaUnica) is False:\n        print(\"Ahora ya no hay repetidos\")\n\n\ndef repetidosSinModificar(lista):\n    \"\"\"\n    Recibir una lista como parámetro y devolver True si la misma contiene algún elemento repetido. La función no debe modificar la lista.\n    \"\"\"\n    repe = 0\n    for i in range(len(lista)):\n        for j in range(len(lista)):\n            if lista[i] == lista[j]:\n                repe += 1\n        if repe >= 2:\n            return True\n        else:\n            repe = 0\n    return False        \n\n\nif __name__ == '__main__':\n    generarLista()",
      "execution_count": null,
      "outputs": []
    },
    {
      "metadata": {},
      "cell_type": "raw",
      "source": "EJERCICIO 03 - Crear una lista con los cuadrados de los números entre 1 y N (ambos incluidos),\ndonde N se ingresa desde el teclado. Luego se solicita imprimir los últimos 10 valores\nde la lista."
    },
    {
      "metadata": {
        "trusted": true
      },
      "cell_type": "code",
      "source": "\"\"\"\nCrear una lista con los cuadrados de los números entre 1 y N (ambos incluidos), \ndonde N se ingresa desde el teclado. \nLuego se solicita imprimir los últimos 10 valores de la lista, \nutilizando la técnica de las rebanandas. \n\"\"\"\n\ndef imprimirdiezultimos(lista):\n    \"\"\"\n    Recibe una lista e imprime por consola los ultimos diez valores de la lista\n    \"\"\"\n    sublista = lista[len(lista)-10:]\n    print(sublista)\n\ndef generar(dato):\n    \"\"\"\n    Recibe un dato y devuelve una lista\n    con los cuadrados de los números entre 1 y N (ambos incluidos)\n    \"\"\"\n    lista = []\n    for i in range(dato):\n        lista.append(i**2)\n    return lista\n\nif __name__ == '__main__':\n    lista = []\n    lista = generar(int(input(\"Ingrese un numero por teclado: \")))\n    imprimirdiezultimos(lista)",
      "execution_count": null,
      "outputs": []
    },
    {
      "metadata": {},
      "cell_type": "raw",
      "source": "EJERCICIO 04 - Definir una función superposición() que reciba como parámetros dos listas de cualquier\ntipo y devuelva True si tienen al menos un elemento en común, o False en\ncaso contrario. Desarrollar un programa para verificar su comportamiento."
    },
    {
      "metadata": {
        "trusted": true
      },
      "cell_type": "code",
      "source": "\"\"\"\nDefinir una función superposición() que reciba\n como parámetros dos listas de cualquier tipo \n y devuelva True si tienen al menos un elemento en común, o False en caso contrario. \nDesarrollar un programa para verificar su comportamiento.\n\"\"\"\n\ndef superposicion(listaUno, listaDos):\n    \"\"\"\n    Recibe dos listas como párametros y devuelve True si hay al menos un elemento en común entre las dos listas\n    \"\"\"\n    for i in range(len(listaUno)):\n        if(listaUno[i] in listaDos):\n            return True\n    return False\n\nif __name__ == '__main__':\n    # le paso dos listas como parametro con distintos tipos de datos\n    listaUno = [\"hola\", 1, 2, 4, \"probando\"]\n    listaDos = [5, 112, \"hola\", 24]\n    print(superposicion(listaUno, listaDos))",
      "execution_count": null,
      "outputs": []
    },
    {
      "metadata": {},
      "cell_type": "raw",
      "source": "EJERCICIO 05 - Escribir un programa que calcule la suma acumulada a partir de una lista de números.\nEl programa debe generar una nueva lista donde el primer elemento es el mismo\nde la lista original, el segundo elemento es la suma del primero más el segundo,\nel tercer elemento es la suma del primero más el segundo más el tercero y así\nsucesivamente. Por ejemplo, la suma acumulada de [1,2,3] es [1,3,6]."
    },
    {
      "metadata": {
        "trusted": true
      },
      "cell_type": "code",
      "source": "\"\"\"\nEscribir un programa que calcule la suma acumulada a partir de una lista de números. \nEl programa debe generar una nueva lista \ndonde el primer elemento es el mismo de la lista original, \nel segundo elemento es la suma del primero más el segundo, \nel tercer elemento es la suma del primero más el segundo más el tercero y así sucesivamente. \nPor ejemplo, la suma acumulada de [1,2,3] es [1,3,6]\n\"\"\"\n\nimport random\n\ndef generarLista():\n    \"\"\"\n    Devuelve una lista cargada con números aleatorios\n    \"\"\"\n    lista = []\n    for i in range(random.randint(1, 20)):\n        lista.append(random.randint(i, 100))\n    return lista\n\n\ndef calcularSuma(lista):\n    \"\"\"\n    Recibe una lista como párametro y devuelve una lista con elementos nuevos\n    donde cada elemento es igual a la suma de los anteriores e inclusive si mismo\n    \"\"\"\n    # creo la lista y una variable sumatoria\n    nuevaLista = []\n    sumatoria = 0\n    # corro la lista en el for y voy agregando los valores a la sumatoria\n    for i in range(len(lista)):\n        sumatoria += lista[i]\n        nuevaLista.append(sumatoria)\n\n    print(\"Lista Original:\")\n    imprimirListas(lista)\n    print(\"\\nNueva Lista:\")\n    imprimirListas(nuevaLista)\n\n\ndef imprimirListas(lista):\n    \"\"\"\n    Rcibe una lista como parametro e imprime por consola\n    \"\"\"\n    for i in range(len(lista)):\n        print(lista[i], end = \" \")\n\n\nif __name__ == '__main__':\n    # Le paso como parametro una función que le devuelve una lista númerica\n    calcularSuma(generarLista())",
      "execution_count": null,
      "outputs": []
    },
    {
      "metadata": {},
      "cell_type": "raw",
      "source": "EJERCICIO 06 - Eliminar de una lista de palabras las palabras que se encuentren en una segunda\nlista. Imprimir la lista original, la lista de palabras a eliminar y la lista resultante."
    },
    {
      "metadata": {
        "trusted": true
      },
      "cell_type": "code",
      "source": "\"\"\"\nEliminar de una lista de palabras las palabras \nque se encuentren en una segunda lista. \nImprimir la lista original, la lista de palabras a eliminar y la lista resultante.\n\"\"\"\n\ndef imprimir(lista):\n    \"\"\"\n    Recibe una lista por parametro e imprime su\n    \"\"\"\n    for i in range(len(lista)):\n        if i != len(lista)-1:\n            print(lista[i], end = \" - \")\n        else:\n            print(lista[i], end = \"\\n\\n\")\n\ndef eliminar(listaUno, listaDos):\n    \"\"\"\n    Recibe como párametro dos listas de palabras y devuelve una tercer lista con los elementos únicos\n    \"\"\"\n    nuevaLista = []\n    for i in range(len(listaUno)):\n        if(listaUno[i] not in listaDos):\n            nuevaLista.append(listaUno[i])\n    return nuevaLista\n\n\nif __name__ == '__main__':\n    # declaro y le asigno valores a las dos listas\n    listaUno, listaDos = [\"probando\", \"listita\", \"SOS\", \"asdasd\"], [\"probando\", \"SOS\", \"asdasd\"]\n    # imprimo las tres listas\n    print (\"La lista original: \")\n    imprimir(listaUno)\n    print (\"La segunda lista: \")\n    imprimir(listaDos)\n    # le paso los parametros a la funcion\n    print (\"La lista resultante: \")\n    imprimir(eliminar(listaUno, listaDos))",
      "execution_count": null,
      "outputs": []
    },
    {
      "metadata": {},
      "cell_type": "raw",
      "source": "EJERCICIO 07 - Escribir una función que reciba una lista como parámetro y devuelva True si la lista\nestá ordenada en forma ascendente o False en caso contrario. Por ejemplo,\nordenada([1, 2, 3]) retorna True y ordenada(['b', 'a']) retorna False. Desarrollar\nademás un programa para verificar el comportamiento de la función."
    },
    {
      "metadata": {
        "trusted": true
      },
      "cell_type": "code",
      "source": "\"\"\"\nEscribir una función que reciba una lista como parámetro y devuelva True si la lista está ordenada en forma ascendente \no False en caso contrario. \nPor ejemplo, ordenada([1, 2, 3]) retorna True y ordenada([b, a]) retorna False. \nDesarrollar además un programa para verificar el comportamiento de la función.\n\"\"\"\n\ndef ordenadaAsc(lista):\n    \"\"\"\n    Recibe una lista como párametro y devuelve True si esta ordenada en forma ascendente, sino devuelve False\n    \"\"\"\n    # copio la lista ordenada en una nueva variable\n    listaOrdenada = sorted(lista)\n    # y la comparo\n    if listaOrdenada == lista:\n        return True\n    return False\n\n\nif __name__ == '__main__':\n    # creo varias listas de prueba con distintos tipos de datos\n    listaNumeros = [45, 234, 300]\n    listaCadena = ['a', 'z', 's']\n    # imprimo una lista de enteros y otra de caracteres\n    print(\"Lista Numeros:\")\n    print(ordenadaAsc(listaNumeros))\n    print(\"Lista Cadenas:\")\n    print(ordenadaAsc(listaCadena))",
      "execution_count": null,
      "outputs": []
    },
    {
      "metadata": {},
      "cell_type": "raw",
      "source": "EJERCICIO 08 - Generar dos listas con M y N números al azar entre 1 y 50 y construir una tercera\nlista cuyos elementos sean el resultado de la intersección de las dos listas dadas.\nLos valores de M y N se obtienen al azar. Imprimir las tres listas por pantalla."
    },
    {
      "metadata": {
        "trusted": true
      },
      "cell_type": "code",
      "source": "\"\"\"\nGenerar dos listas con M y N números al azar entre 1 y 50\ny construir una tercera lista cuyos elementos sean el resultado de la intersección de las dos listas dadas. \nLos valores de M y N se obtienen al azar. \nImprimir las tres listas por pantalla.\n\"\"\"\n\nimport random\n\ndef imprimir(lista):\n    print(lista)\n    print()\n\n\ndef unirlistas(listaM, listaN):\n    lista = []\n    for i in range(len(listaM)):\n        if listaM[i] in listaN:\n            lista.append(listaM[i])\n    return lista\n       \n\ndef generar():\n    return [random.randint(1, 50) for i in range(random.randint(5, 20))]\n\n\nif __name__ == '__main__':\n    # genero las dos listas\n    listaM = generar()\n    listaN = generar()\n    # las imprimo una por una\n    imprimir(listaM)\n    imprimir(listaN)\n    imprimir(unirlistas(listaM, listaN))",
      "execution_count": null,
      "outputs": []
    },
    {
      "metadata": {},
      "cell_type": "raw",
      "source": "EJERCICIO 09 - Escribir una función que reciba una lista de números enteros como parámetro y la\nnormalice, es decir que todos sus elementos deben sumar 1.0, respetando las proporciones\nrelativas que cada elemento tiene en la lista original. Desarrollar también\nun programa que permita verificar el comportamiento de la función. Por ejemplo,\nnormalizar([1, 1, 2]) debe devolver [0.25, 0.25, 0.50]."
    },
    {
      "metadata": {
        "trusted": true
      },
      "cell_type": "code",
      "source": "\"\"\"\nEscribir una función que reciba una lista de números enteros como parámetro y la normalice, \nes decir que todos sus elementos deben sumar 1.0, \nrespetando las proporciones relativas que cada elemento tiene en la lista original. \nDesarrollar también un programa que permita verificar el comportamiento de la función. \nPor ejemplo, normalizar([1, 1, 2]) debe devolver [0.25, 0.25, 0.50].\n\"\"\"\n\ndef normalizarLista(lista):\n    \"\"\"\n    Recibe una lista por párametro y devuelve una nueva lista normalizada\n    donde todos sus elementos suman 1.0 respetando las proporciones de los\n    elementos de la lista original\n    \"\"\"\n    # sumo el valor de todos los elementos y lo dividido 1/suma para tener el valor de cada unidad\n    valor = 1/sum(lista)\n    # devuelvo una nueva lista, solo multiplico el valor de cada unidad por el valor de cada elemento de la lista original\n    return [i * valor for i in lista]    \n\n\nif __name__ == '__main__':\n    # genero una lista harcodeada para probar\n    lista = [10,5, 8]\n    # le paso la lista a la funcion e imprimo lo que devuelve\n    print(normalizarLista(lista))\n    print (\"La suma de todos los elementos es: \" + str(sum(normalizarLista(lista))))",
      "execution_count": null,
      "outputs": []
    },
    {
      "metadata": {},
      "cell_type": "raw",
      "source": "EJERCICIO 10 - Generar una lista con números al azar entre 0 y 100, donde su cantidad de elementos\nserá un número par también obtenido al azar entre 10 y 50. Luego se solicita\npartir la lista por la mitad a través de la técnica de las rebanadas, creando dos\nnuevas listas. Imprimir las tres listas por pantalla."
    },
    {
      "metadata": {
        "trusted": true
      },
      "cell_type": "code",
      "source": " \"\"\"\nGenerar una lista con números al azar entre 0 y 100, \ndonde su cantidad de elementos será un número par también obtenido al azar entre 10 y 50. \nLuego se solicita partir la lista por la mitad a través de la técnica de las rebanadas, creando dos nuevas listas. \nImprimir las tres listas por pantalla.\n\"\"\"\n\nimport random\n\n\ndef imprimir(lista):\n    \"\"\"\n    Imprime una lista recibida por páramentro\n    \"\"\"\n    print(lista)\n    print()\n\n\ndef partiralamitad(lista):\n    \"\"\"\n    Recibe una lista por páramentro que imprime junto a dos listas resultado de la division de la lista anterior\n    \"\"\"\n    imprimir(lista)\n    imprimir(lista[0:len(lista)//2])\n    imprimir(lista[len(lista)//2:])\n\n\ndef generar():\n    \"\"\"\n    Devuelve una lista generada con números al azar del 0 al 100 inclusive\n    \"\"\"\n    return [random.randint(0, 100) for i in range(random.randint(10, 50))]\n\n\nif __name__ == '__main__':\n    partiralamitad(generar())",
      "execution_count": null,
      "outputs": []
    },
    {
      "metadata": {},
      "cell_type": "raw",
      "source": "EJERCICIO 11 - Intercalar los elementos de una lista entre los elementos de otra. La intercalación\ndeberá realizarse exclusivamente mediante la técnica de rebanadas y no se creará\nuna lista nueva sino que se modificará la primera. Por ejemplo, si lista1 = [8, 1, 3]\ny lista2 = [5, 9, 7], lista1 deberá quedar como [8, 5, 1, 9, 3, 7]."
    },
    {
      "metadata": {
        "trusted": true
      },
      "cell_type": "code",
      "source": "\"\"\"\nIntercalar los elementos de una lista entre los elementos de otra. \nLa intercalación deberá realizarse exclusivamente mediante rebanadas y no se creará una lista nueva sino que se modificará la primera. \nPor ejemplo, si lista1 = [1,3,5] y lista2 = [2,4,6], lista1 deberá quedar como [1,2,3,4,5,6].\n\"\"\"\n\ndef intercalar(pLista, sLista):\n    \"\"\"\n    Recibe dos listas e intercala los elementos de una lista entre los elementos de otra.\n    \"\"\"\n    tLista = pLista + sLista\n    tLista[::2] = pLista\n    tLista[1::2] = sLista\n    return tLista\n\n\nif __name__ == '__main__':\n    # genero dos listas manualmente\n    lista1 = [1, 3, 5]\n    lista2 = [2, 4, 6]\n    # imprimo las dos listas\n    print(lista1)\n    print(lista2)\n    # le paso los parametros a la funcion\n    lista1 = intercalar(lista1, lista2)\n    # imprimo la lista 1\n    print(lista1)",
      "execution_count": null,
      "outputs": []
    },
    {
      "metadata": {},
      "cell_type": "raw",
      "source": "EJERCICIO 12 - Utilizar la técnica de listas por comprensión para construir una lista con todos los\nnúmeros impares comprendidos entre 100 y 200."
    },
    {
      "metadata": {
        "trusted": true
      },
      "cell_type": "code",
      "source": "\"\"\"\nUtilizar la técnica de listas por comprensión para construir una lista con números impares entre 100 y 200.\n\"\"\"\n\ndef generar():\n    \"\"\"\n    Devuelve una lista con numeros impares entre 100 y 200\n    \"\"\"\n    return [i for i in range(100, 200) if i % 2 != 0]\n\nif __name__ == '__main__':\n    print(generar())",
      "execution_count": null,
      "outputs": []
    },
    {
      "metadata": {},
      "cell_type": "raw",
      "source": "EJERCICIO 13 - Escribir un programa para generar una lista con los múltiplos de 7 que no sean\nmúltiplos de 5, entre 2000 y 3500. Imprimir la lista obtenida."
    },
    {
      "metadata": {
        "trusted": true
      },
      "cell_type": "code",
      "source": "\"\"\"\nEscribir un programa para generar una lista con los múltiplos de 7 que no sean múltiplos de 5, entre 2000 y 3500. \nImprimir la lista obtenida.\n\"\"\"\n\ndef imprimir(lista):\n    \"\"\"\n    Recibe una lista por párametro y la imprime por consola\n    \"\"\"\n    for i in range(len(lista)):\n        if i != len(lista)-1:\n            print(lista[i], end = \" - \")\n        else:\n            print(lista[i], end = \"\")\n\n\ndef generar():\n    \"\"\"\n    Devuelve una lista de valores entre 2000 y 3500, multiplos de 7 pero no de 5\n    \"\"\"\n    lista = []\n    for i in range(2000, 3500, 1):\n        if i % 7 == 0 and i % 5 != 0:\n            lista.append(i)\n    return lista\n\n\nif __name__ == '__main__':\n    imprimir(generar())",
      "execution_count": null,
      "outputs": []
    },
    {
      "metadata": {},
      "cell_type": "raw",
      "source": "EJERCICIO 14 - Repetir el ejercicio anterior, pero utilizando la técnica de listas por comprensión."
    },
    {
      "metadata": {
        "trusted": true
      },
      "cell_type": "code",
      "source": "\"\"\"\nRepetir el ejercicio anterior, pero utilizando la técnica de listas por comprensión.\n\"\"\"\n\ndef generar():\n    \"\"\"\n    Devuelve una lista con numeros del 2000 al 3500\n    multiplos de 7 pero no de 5\n    \"\"\"\n    return [i for i in range(2000, 3500, 1) if i % 7 == 0 and i % 5 != 0]\n    \n\nif __name__ == '__main__':\n    print(generar())",
      "execution_count": null,
      "outputs": []
    },
    {
      "metadata": {},
      "cell_type": "raw",
      "source": "EJERCICIO 15 - Generar una lista con números al azar entre 1 y 100 y crear una nueva lista con\nlos elementos de la primera que sean impares. El proceso deberá realizarse utilizando\nlistas por comprensión. Imprimir las dos listas por pantalla."
    },
    {
      "metadata": {
        "trusted": true
      },
      "cell_type": "code",
      "source": "\"\"\"\nGenerar una lista con números al azar entre 1 y 100 \ny crear una nueva lista con los elementos de la primera que sean impares. \nEl proceso deberá realizarse utilizando listas por comprensión. \nImprimir las dos listas por pantalla\n\"\"\"\n\nimport random\n\ndef impares(lista):\n    \"\"\"\n    Recibe una lista y devuelve una nueva lista con sus valores impares\n    \"\"\"\n    return [i for i in range(len(lista)) if i % 2 != 0]\n\n\ndef generar():\n    \"\"\"\n    Devuelve una lista con números al azar entre 1 y 100\n    \"\"\"\n    return [i for i in range(random.randint(1, 100))]\n\n\nif __name__ == '__main__':\n    lista = generar()\n    print(lista)\n    print(impares(lista))",
      "execution_count": null,
      "outputs": []
    }
  ],
  "metadata": {
    "kernelspec": {
      "name": "python36",
      "display_name": "Python 3.6",
      "language": "python"
    },
    "language_info": {
      "mimetype": "text/x-python",
      "nbconvert_exporter": "python",
      "name": "python",
      "pygments_lexer": "ipython3",
      "version": "3.6.6",
      "file_extension": ".py",
      "codemirror_mode": {
        "version": 3,
        "name": "ipython"
      }
    }
  },
  "nbformat": 4,
  "nbformat_minor": 2
}