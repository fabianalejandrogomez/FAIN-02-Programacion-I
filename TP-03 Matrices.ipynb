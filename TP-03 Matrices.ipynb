{
  "cells": [
    {
      "metadata": {
        "collapsed": true
      },
      "cell_type": "markdown",
      "source": "# FACULTAD DE INGENIERÍA Y CIENCIAS EXACTAS\nDepartamento de Tecnología Informática\n- PROGRAMACION I"
    },
    {
      "metadata": {},
      "cell_type": "markdown",
      "source": "#  Trabajo Práctico 03: MATRICES"
    },
    {
      "metadata": {},
      "cell_type": "raw",
      "source": "EJERCICIO 1 - Desarrollar cada una de las siguientes funciones y escribir un programa que permita verificar su funcionamiento, imprimiendo la matriz luego de invocar a cada función:\n\na. Cargar números enteros en una matriz de N x N, ingresando los datos desde teclado.\nb. Ordenar en forma ascendente cada una de las filas de la matriz.\nc. Intercambiar dos filas, cuyos números se reciben como parámetro.\nd. Intercambiar dos columnas dadas, cuyos números se reciben como parámetro.\ne. Intercambiar una fila por una columna, cuyos números se reciben como parámetro.\nf. Transponer la matriz sobre si misma. (intercambiar cada elemento Aij por Aji)\ng. Calcular el promedio de los elementos de una fila, cuyo número se recibe como parámetro.\nh. Calcular el porcentaje de elementos con valor impar en una columna, cuyo número se recibe como parámetro.\ni. Determinar si la matriz es simétrica con respecto a su diagonal principal.\nj. Determinar si la matriz es simétrica con respecto a su diagonal secundaria.\nk. Determinar qué columnas de la matriz son palíndromos (capicúas), devolviendo una lista con los números de las mismas.\n\nNOTA: El valor de N debe establecerlo el programador o ingresarse por teclado, pero las funciones deben servir aunque este valor se modifique"
    },
    {
      "metadata": {
        "trusted": true
      },
      "cell_type": "code",
      "source": "\"\"\"\nDesarrollar cada una de las siguientes funciones y escribir un programa que permita verificar su funcionamiento, \nimprimiendo la matriz luego de invocar a cada función:\na.Cargar números enteros en una matriz de N x N, ingresando los datos desde teclado. \nb.Ordenar en forma ascendente cada una de las filas de la matriz. \nc.Intercambiar dos filas, cuyos números se reciben como parámetro. \nd.Intercambiar dos columnas dadas, cuyos números se reciben como parámetro. \ne.Intercambiar una fila por una columna, cuyos números se reciben como parámetro. \nf.Transponer la matriz sobre si misma. (intercambiar cada elemento Aij por Aji) \ng.Calcular el promedio de los elementos de una fila, cuyo número se recibe como parámetro. \nh.Calcular el porcentaje de elementos con valor impar en una columna, cuyo número se recibe como parámetro. \ni. Determinar si la matriz es simétrica con respecto a su diagonal principal. \nj. Determinar si la matriz es simétrica con respecto a su diagonal secundaria. \nk.Determinar qué columnas de la matriz son palíndromos (capicúas), devolviendo una lista con los números de las mismas.\nNOTA: El valor de N debe establecerlo el programador, pero las funciones deben servir aunque este valor se modifique.\n\"\"\"\n\ndef imprimir(matriz):\n    \"\"\"\n    Recibe una matriz y la imprime por consola\n    \"\"\"\n    print(\"*\" * 32, end = \"\\n\\n\\n\")\n    for f in range(len(matriz)):\n        for c in range(len(matriz)):\n            print(matriz[f][c], end = \" \")\n        print()\n    print(\"\\n\\n\\n\" + \"*\" * 32, end = \"\\n\\n\\n\")\n\n    \ndef cargar(n):\n    \"\"\"\n    Devuelve una matriz con datos cargados por teclado\n    \"\"\"\n    matriz = [[-1] * n for i in range(n)]\n    for f in range(len(matriz)):\n        for c in range(len(matriz)):\n            matriz[f][c] = int(input(\"Ingrese un valor para la matriz: \"))\n    return matriz\n\n\ndef ordAscFilas(matriz):\n    \"\"\"\n    Ordena de forma ascendente las filas \n    \"\"\"\n    for f in range(len(matriz)):\n        matriz[f].sort()\n    return matriz\n\n\ndef intercambiarFilas(matriz, f1, f2):\n    \"\"\"\n    Recibe como parametro una matriz y dos filas para intercambiarlas de lugar\n    \"\"\"\n    matriz[f1], matriz[f2] = matriz[f2], matriz[f1]\n    return matriz\n\n\ndef intercambiarColumnas(matriz, c1, c2):\n    \"\"\"\n    Recibe como parametro una matriz y dos filas para intercambiarlas de lugar\n    \"\"\"\n    for i in range(len(matriz)):\n        matriz[i][c1], matriz[i][c2] = matriz[i][c2], matriz[i][c1]\n    return matriz\n\n\ndef filaPorColumna(matriz, f1, c1):\n    \"\"\"\n    Intercambia una fila por una columna, se reciben los indices por parametros\n    \"\"\"\n    fila, columna = matriz[f1], []\n    for f in range(len(matriz)):\n        columna.append(matriz[f][c1])\n        matriz[f][c1] = fila[f]\n    matriz[f1] = columna\n    return matriz\n\n\ndef promedioFila(matriz, f1):\n    \"\"\"\n    Calcular el promedio de los valores de una fila dada por parametro\n    \"\"\"\n    print(\"El promedio de la fila es {0}\".format(sum(matriz[f1]) / len(matriz)))\n\n\ndef promedioValorImparColumna(matriz, c1):\n    \"\"\"\n    Calcula el porcentaje de elementos con valor impar en una columna, cuyo número se recibe como parámetro\n    \"\"\"\n    suma, elem = 0, 0\n    for f in range(len(matriz)):\n        for c in range(len(matriz)):\n            if c == c1:\n                if matriz[f][c] % 2 != 0:\n                    elem += 1\n                    suma += matriz[f][c]\n    print(\"El promedio de la columna con valores impares es {0}\".format(suma / elem))\n    \n\ndef diagPpalSimetrica(matriz):\n    \"\"\"\n    Determinar si la matriz es simétrica con respecto a su diagonal principal\n    \"\"\"\n    salida = True\n    for f in range(len(matriz)):\n        for c in range(len(matriz)):\n            if matriz[f][c] != matriz[c][f]:\n                salida = False\n    imprimir(matriz)\n    if salida == True:\n        print(\"La matriz es simetrica\")\n    else:\n        print(\"La matriz no es simetrica\")\n\n\ndef diagSecuSimetrica(matriz):\n    \"\"\"\n    Determinar si la matriz es simétrica con respecto a su diagonal secundaria\n    \"\"\"\n    salida = True\n    for f in range(len(matriz)-1,-1,-1):\n        for c in range(len(matriz)-1,-1,-1):\n            if matriz[f][c] != matriz[c][f]:\n                salida = False",
      "execution_count": null,
      "outputs": []
    },
    {
      "metadata": {},
      "cell_type": "raw",
      "source": "EJERCICIO 2 - Para cada una de las siguientes matrices, desarrollar una función que la genere y escribir un programa que invoque a cada una de ellas y muestre por pantalla la matriz obtenida. \nEl tamaño de las matrices debe establecerse como N x N, y las funciones deben servir aunque este valor se modifique.\n\na: \n1 0 0 0 \n0 3 0 0 \n0 0 5 0 \n0 0 0 7 \n\nb: \n0 0 0 27 \n0 0 9 0 \n0 3 0 0 \n1 0 0 0 \n\nc: \n4 0 0 0\n3 3 0 0\n2 2 2 0\n1 1 1 1\n\nd: \n8 8 8 8 \n4 4 4 4 \n2 2 2 2\n1 1 1 1 \n\ne: \n0 1 0 2 \n3 0 4 0 \n0 5 0 6\n7 0 8 0 \n\nf: \n0 0 0 1\n0 0 3 2\n0 6 5 4\n10 9 8 7\n\ng: \n1 2 3 4 \n12 13 14 5\n11 16 15 6 \n10 9 8 7 \n\nh: \n1 2 4 7\n3 5 8 11 \n6 9 12 14 \n10 13 15 16 \n\ni: \n1 2 6 7\n3 5 8 13\n4 9 12 14\n10 11 15 16"
    },
    {
      "metadata": {
        "trusted": true
      },
      "cell_type": "code",
      "source": "# Practica 3, ejercicio 2a\n\nn = 4\nval = 1\na = [[0] * n for i in range(n)]\nfor i in range(n):\n    for j in range(n):\n        if i==j:\n            a[i][j] = i+j+val\n        else:\n            a[i][j] = 0\nfor row in a:\n    print(' '.join([str(elem) for elem in row]))",
      "execution_count": 3,
      "outputs": [
        {
          "output_type": "stream",
          "text": "1 0 0 0\n0 3 0 0\n0 0 5 0\n0 0 0 7\n",
          "name": "stdout"
        }
      ]
    },
    {
      "metadata": {
        "trusted": true
      },
      "cell_type": "code",
      "source": "# Practica 3, ejercicio 2a otra forma\n\nn = 4\nval = 1\nfor colu in range(n):\n    file=[1+colu+fila if colu==fila else 0 for fila in range(n)]\n    print(file)\n    \n    ",
      "execution_count": 1,
      "outputs": [
        {
          "output_type": "stream",
          "text": "[0, 3, 0, 0]\n",
          "name": "stdout"
        }
      ]
    },
    {
      "metadata": {
        "trusted": true
      },
      "cell_type": "code",
      "source": "# Practica 3, ejercicio 2b\n\nn = 4\na = [[0] * n for i in range(n)]\nfor i in range(n):\n    for j in range(n):\n        if (i+j)==n-1:\n            a[i][j] = (i+j)**(j)\n        else:\n            a[i][j] = 0\nfor row in a:\n    print(' '.join([str(elem) for elem in row]))",
      "execution_count": 14,
      "outputs": [
        {
          "output_type": "stream",
          "text": "0 0 0 27\n0 0 9 0\n0 3 0 0\n1 0 0 0\n",
          "name": "stdout"
        }
      ]
    },
    {
      "metadata": {
        "trusted": true
      },
      "cell_type": "code",
      "source": "# Practica 3, ejercicio 2c\n\nn = 4\nval = 4\na = [[0] * n for i in range(n)]\nfor i in range(n):\n    for j in range(n):\n        if i>=j:\n            a[i][j] = val-i\n        else:\n            a[i][j] = 0\nfor row in a:\n    print(' '.join([str(elem) for elem in row]))",
      "execution_count": 22,
      "outputs": [
        {
          "output_type": "stream",
          "text": "4 0 0 0\n3 3 0 0\n2 2 2 0\n1 1 1 1\n",
          "name": "stdout"
        }
      ]
    },
    {
      "metadata": {
        "trusted": true
      },
      "cell_type": "code",
      "source": "# Practica 3, ejercicio 2d\n\nn = 4\nval = 8\na = [[0] * n for i in range(n)]\nfor i in range(n):\n    for j in range(n):\n        if i == 0:\n            a[i][j] = val\n        elif  i == 1:\n            a[i][j] = val//2\n        elif  i == 2:\n            a[i][j] = val//4\n        else:\n            a[i][j] = val//8\nfor row in a:\n    print(' '.join([str(elem) for elem in row]))",
      "execution_count": 36,
      "outputs": [
        {
          "output_type": "stream",
          "text": "8 8 8 8\n4 4 4 4\n2 2 2 2\n1 1 1 1\n",
          "name": "stdout"
        }
      ]
    },
    {
      "metadata": {
        "trusted": true
      },
      "cell_type": "code",
      "source": "# Practica 3, ejercicio 2e\n\nn = 4\nval = 0\na = [[0] * n for i in range(n)]\nfor i in range(n):\n    for j in range(n):\n        if i == j or (i - j)==n//2 or(j - i)==n//2:\n            a[i][j] = val\n        else:\n            for x in range(n):\n                a[i][j] = i+1\nfor row in a:\n    print(' '.join([str(elem) for elem in row]))",
      "execution_count": 63,
      "outputs": [
        {
          "output_type": "stream",
          "text": "0 1 0 1\n2 0 2 0\n0 3 0 3\n4 0 4 0\n",
          "name": "stdout"
        }
      ]
    },
    {
      "metadata": {
        "trusted": true
      },
      "cell_type": "code",
      "source": "# Practica 3, ejercicio 2f",
      "execution_count": null,
      "outputs": []
    },
    {
      "metadata": {
        "trusted": true
      },
      "cell_type": "code",
      "source": "n = 4\nnum = 1\ncant = 1\na = [[0] * n for i in range(n)]\nfor f in range(n):\n    for c in range(1,n+1-(n-f-1)): \n        a[f][-c]=num\n        num+=1\n\nfor row in a:\n    print(' '.join([str(elem) for elem in row]))",
      "execution_count": null,
      "outputs": []
    },
    {
      "metadata": {
        "trusted": true
      },
      "cell_type": "code",
      "source": "# Practica 3, ejercicio 2f con otro orden\n\nn = 4\ncontador = 1\na = [[0] * n for i in range(n)]\nfor i in range(n):\n    for j in range(n):\n        if (i+j)<n-1:\n            a[i][j] = 0\n        else:\n            a[i][j] = contador\n            contador = contador +1\nfor row in a:\n    print(' '.join([str(elem) for elem in row]))",
      "execution_count": 73,
      "outputs": [
        {
          "output_type": "stream",
          "text": "0 0 0 1\n0 0 2 3\n0 4 5 6\n7 8 9 10\n",
          "name": "stdout"
        }
      ]
    },
    {
      "metadata": {
        "trusted": true
      },
      "cell_type": "code",
      "source": "# Practica 3, ejercicio 2f otra version\n\nN=4\n\nmatriz = []\nfor f in range(N):\n    matriz.append([None]*N)\n\nk = 1\nfor i in range(N):\n    for j in range(N-1,-1,-1):\n        if (j >= N-1-i):\n            matriz[i][j] = k\n            k += 1\n        else:\n            matriz[i][j] = 0\n\nfor i in range(N):\n    print(matriz[i])",
      "execution_count": null,
      "outputs": []
    },
    {
      "metadata": {
        "trusted": true
      },
      "cell_type": "code",
      "source": "#Otro ejemplo variandolo\n\nN=4\n\nmatriz = []\nfor f in range(N):\n    matriz.append([None]*N)\n\nk = 0\nfor i in range(0,4):\n    for j in range(3,-1,-1): #el rango(3,-1) significa 3,2,1,0. Recordar que el primer -1 es la posicion que el rango no alcanza (llega hasta 0)\n        # ademas el segundo -1 es el paso, en este caso marca que es decreciente de a uno\n        matriz[i][j] = k #El valor con el que arranca, en este caso 1\n        k += 1 # va sumando uno en cada paso\n\n\nfor i in range(N):\n    print(matriz[i])",
      "execution_count": null,
      "outputs": []
    },
    {
      "metadata": {
        "trusted": true
      },
      "cell_type": "code",
      "source": "# Practica 3, ejercicio 2g\n\nn = int(input(\"TamaÃ±o de la matriz? \"))\n\n# Generar matriz\nmat = [ ]\nfor f in range(n):\n    mat.append([0]*n)\n    \n# Relleno en espiral\ncontador = 1\nfor cuadro in range(n//2+1):\n    \n    # Fila superior del recuadro\n    for c in range(cuadro,n-cuadro):\n        mat[cuadro][c] = contador\n        contador = contador + 1\n        \n    # Columna derecha del recuadro\n    for f in range(cuadro+1,n-cuadro):\n        mat[f][n-1-cuadro] = contador\n        contador = contador + 1\n        \n    # Fila inferior del recuadro\n    for c in range(n-2-cuadro,cuadro-1,-1):\n        mat[n-1-cuadro][c] = contador\n        contador = contador + 1\n        \n    # Columna izquierda del recuadro\n    for f in range(n-2-cuadro,cuadro,-1):\n        mat[f][cuadro] = contador\n        contador = contador + 1\n        \n# Imprimir matriz\nfor f in range(n):\n    for c in range(n):\n        print(\"%3d\" %mat[f][c], end=\"\")\n    print()",
      "execution_count": 3,
      "outputs": [
        {
          "output_type": "stream",
          "name": "stdout",
          "text": "TamaÃ±o de la matriz? 5\n  1  2  3  4  5\n 16 17 18 19  6\n 15 24 25 20  7\n 14 23 22 21  8\n 13 12 11 10  9\n"
        }
      ]
    },
    {
      "metadata": {
        "trusted": true
      },
      "cell_type": "code",
      "source": "# Practica 3, ejercicio 2h\n\"\"\"\n01 02 04 07\n03 05 08 11\n06 09 12 14\n10 13 15 16\n\"\"\"\n",
      "execution_count": null,
      "outputs": []
    },
    {
      "metadata": {
        "trusted": true
      },
      "cell_type": "code",
      "source": "n = 4\ncontador = 1\na = [[0] * n for i in range(n)]\n\n\nfor row in a:\n    print(' '.join([str(elem) for elem in row]))",
      "execution_count": null,
      "outputs": []
    },
    {
      "metadata": {
        "trusted": true
      },
      "cell_type": "code",
      "source": "# Practica 3, ejercicio 2i\n\"\"\"\n01 02 06 07\n03 05 08 13\n04 09 12 14\n10 11 15 16\n\"\"\"",
      "execution_count": null,
      "outputs": []
    },
    {
      "metadata": {
        "trusted": true
      },
      "cell_type": "code",
      "source": "",
      "execution_count": null,
      "outputs": []
    },
    {
      "metadata": {},
      "cell_type": "raw",
      "source": "EJERCICIO 03 - Desarrollar un programa para rellenar una matriz de N x N con números enteros al\nazar comprendidos en el intervalo [0,N**2), de tal forma que ningún número se repita. Imprimir la matriz por pantalla.\n"
    },
    {
      "metadata": {
        "trusted": true
      },
      "cell_type": "code",
      "source": "# Práctica 3, ejercicio 3\n# Contiene tres estrategias distintas\n\nimport random\n\ndef cargarmatriz1(mat):\n    \"\"\" Estrategia 1:\n        Utiliza una lista auxiliar para determinar\n        si el número candidato ya fue cargado en\n        la matriz, ya que cada número se carga\n        simultáneamente en la matriz y en la lista\n        auxiliar \"\"\"\n    n = len(mat)\n    numeros = [ ]\n    cantidad = n**2\n    for f in range(n):\n        for c in range(n):\n            azar = random.randint(0,cantidad-1)\n            while azar in numeros:\n                azar = random.randint(0,cantidad-1)\n            mat[f][c] = azar\n            numeros.append(azar)\n\ndef estaenmatriz(mat, num):\n    \"\"\" Verifica si el valor del parámetro n\n        ya fue cargado en la matriz mat.\n        Esta función se usa en cargarmatriz2 \"\"\"\n    n = len(mat)\n    yaesta = False\n    for f in range(n):\n        if num in mat[f]:   # el operador in busca en toda la fila\n            yaesta = True\n            break\n    return yaesta\n\ndef cargarmatriz2(mat):\n    \"\"\" Estrategia 2:\n        Rellena la matriz con números al azar\n        verificando si el número candidato ya\n        se encuentra cargado en la misma \"\"\"\n    n = len(mat)\n    cantidad = n**2\n    for f in range(n):\n        for c in range(n):\n            while True:   # repite hasta que salga con el break\n                azar = random.randint(0,cantidad-1)\n                if not estaenmatriz(mat, azar):\n                    mat[f][c] = azar\n                    break\n\ndef cargarmatriz3(n):\n    \"\"\" Estrategia 3:\n        Genera una lista con N² números al azar\n        in repetir y luego los toma en porciones\n        de N elementos usando rebanadas. Cada una\n        de estas sublistas se agrega como una fila\n        de la matriz \"\"\"\n    lista = [ ]\n    # Generamos una lista con N² números al azar sin repetir\n    for i in range(n**2):\n        azar = random.randint(0,n**2-1)\n        while azar in lista:\n            azar = random.randint(0,n**2-1)\n        lista.append(azar)\n    # Ahora vamos tomando los numeros de la lista\n    # en porciones de N elementos usando rebanadas\n    # y un range con incremento N, y agregamos cada\n    # sublista a la matriz\n    mat = [ ]\n    for i in range(0, n**2, n):\n        mat.append(lista[i:i+n])\n    return mat\n\ndef imprimirmatriz(mat):\n    tam = len(mat)\n    for f in range(tam):\n        for c in range(tam):\n            print(\"%3d\" %mat[f][c], end =\"\")\n        print( )\n\n# Programa principal\nm = [ ]\nn = int(input(\"Tamaño de la matriz? \"))\nprint( )\n# Crear matriz\nfor i in range(n):\n    m.append([0]*n)\ncargarmatriz1(m)   # estrategia 1\nimprimirmatriz(m)\nprint( )\nprint(\"-\"*n*3)   # imprime línea de guiones proporcional al tamaño de la matriz\nprint( )\ndel m   # borramos la matriz creada con la estrategia 1\n# Volver a crear matriz\nm = [ ]\nfor i in range(n):\n    m.append([-1]*n)\n    # la matriz se inicializa con -1 porque es un\n    # valor fuera del rango de los números al azar\ncargarmatriz2(m)   # estrategia 2\nimprimirmatriz(m)\nprint( )\nprint(\"-\"*n*3)   # imprime línea de guiones proporcional al tamaño de la matriz\nprint( )\ndel m  # borramos la matriz creada con la estrategia 2\nm = cargarmatriz3(n)   # estrategia 3\nimprimirmatriz(m)",
      "execution_count": 2,
      "outputs": [
        {
          "output_type": "stream",
          "name": "stdout",
          "text": "Tamaño de la matriz? 6\n\n 17 13 23 32 26  0\n 34 11 14 20 33 18\n 27 19 25 30  9 21\n 12  6  1 16 15  7\n 28 22  4 10 35 24\n  8 31 29  5  3  2\n\n------------------\n\n 24 35 23 14 10 15\n 26 21  2 17 32 30\n 13 25 12 33 19  9\n 31 28  7 18  0  4\n 27  3  1  5  8  6\n 11 34 29 16 20 22\n\n------------------\n\n  0 17  2 30 21 23\n  3 24 14  6  9 35\n  1 32 29 19 11 20\n 16 22  4 28 31 13\n  5  8  7 25 10 15\n 26 27 34 18 12 33\n"
        }
      ]
    },
    {
      "metadata": {},
      "cell_type": "raw",
      "source": "EJERCICIO 04 - 2048 es un juego que se desarrolla en una cuadrícula de 4 x 4, donde en cada celda hay una baldosa con un número 2 o 4 generados al azar. Se utilizan las teclas\nde dirección para mover las baldosas: 4 (izquierda), 6 (derecha), 8 (arriba) y 2\n(abajo). Estas baldosas se deslizan sobre el tablero en el sentido indicado por la\ntecla presionada. Si dos baldosas con el mismo número \"colisionan\" durante un\nmovimiento, se combinarán en una nueva baldosa cuyo valor será la suma de los\nvalores de las dos baldosas originales, es decir que si dos baldosas con el número\n4 colisionan, éstas se combinarán en una baldosa con el número 8. Sin embargo la\nbaldosa resultante no podrá combinarse con otra en esa misma jugada.\n\nLas jugadas se realizan ingresando la fila y columna de la baldosa a desplazar y la\ndirección en que se mueve. En el espacio vacío dejado por la baldosa desplazada\naparecerá una nueva baldosa conteniendo un número 2 o 4, generado al azar. \nEl juego finaliza cuando se obtiene una baldosa con el número 2048. Escribir un programa que permita jugarlo e informe la cantidad de jugadas realizadas hasta finalizar"
    },
    {
      "metadata": {
        "trusted": true
      },
      "cell_type": "code",
      "source": "",
      "execution_count": null,
      "outputs": []
    }
  ],
  "metadata": {
    "kernelspec": {
      "name": "python36",
      "display_name": "Python 3.6",
      "language": "python"
    },
    "language_info": {
      "mimetype": "text/x-python",
      "nbconvert_exporter": "python",
      "name": "python",
      "pygments_lexer": "ipython3",
      "version": "3.6.6",
      "file_extension": ".py",
      "codemirror_mode": {
        "version": 3,
        "name": "ipython"
      }
    }
  },
  "nbformat": 4,
  "nbformat_minor": 2
}