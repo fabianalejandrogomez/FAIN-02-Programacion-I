{
  "cells": [
    {
      "metadata": {},
      "cell_type": "markdown",
      "source": "# FACULTAD DE INGENIERÍA Y CIENCIAS EXACTAS\nDepartamento de Tecnología Informática\n\nPROGRAMACION I"
    },
    {
      "metadata": {
        "slideshow": {
          "slide_type": "fragment"
        }
      },
      "cell_type": "markdown",
      "source": "# Trabajo Práctico 07: Recursividad"
    },
    {
      "metadata": {},
      "cell_type": "raw",
      "source": "EJERCICIO 01 - Escribir una función que devuelva la cantidad de dígitos de un número entero, sin\nutilizar cadenas de caracteres."
    },
    {
      "metadata": {
        "trusted": true
      },
      "cell_type": "code",
      "source": "",
      "execution_count": null,
      "outputs": []
    },
    {
      "metadata": {},
      "cell_type": "raw",
      "source": "EJERCICIO 02 - Desarrollar una función que reciba un número binario y lo devuelva convertido a\nbase decimal."
    },
    {
      "metadata": {
        "collapsed": true,
        "trusted": false
      },
      "cell_type": "code",
      "source": "# Práctica 7 - Ejercicio 2\n\ndef bin2dec(bin, pos=0):\n    if bin==0:\n        return 0\n    else:\n        return bin%10*2**pos + bin2dec(bin//10, pos+1)\n    \n# Programa principal\nn = int(input(\"Numero binario? \"))\nprint(n, \"equivale a\", bin2dec(n), \"en decimal\")",
      "execution_count": null,
      "outputs": []
    },
    {
      "metadata": {},
      "cell_type": "raw",
      "source": "EJERCICIO 03 - Escribir una función que devuelva la suma de los N primeros números naturales."
    },
    {
      "metadata": {},
      "cell_type": "raw",
      "source": "EJERCICIO 04 - Desarrollar una función que devuelva el producto de dos números enteros por sumas\nsucesivas."
    },
    {
      "metadata": {},
      "cell_type": "raw",
      "source": "EJERCICIO 05 - Realizar una función que devuelva el resto de dos números enteros, utilizando restas\nsucesivas."
    },
    {
      "metadata": {},
      "cell_type": "raw",
      "source": "EJERCICIO 06 - La función de Ackermann A(m,n) se define de la siguiente forma:\n\n    n+1              si m = 0\n    A(m-1,1)         si n = 0\n    A(m-1,A(m,n-1))  de otro modo\n\n    Imprimir un cuadro con los valores que adopta la función para valores de m entre\n0 y 3 y de n entre 0 y 7."
    },
    {
      "metadata": {},
      "cell_type": "raw",
      "source": "EJERCICIO 07 - Dados dos números enteros no negativos, devolver el resultado de calcular el Máximo\nComún Divisor (también llamado Divisor Común Mayor) basándose en las siguientes\npropiedades:\n    \nMCD(X, X) = X\nMCD(X, Y) = MCD(Y, X)\nSi X > Y => MCD(X, Y) = MCD(X–Y, Y).\n\nUtilizando la función anterior calcular el MCD de todos los elementos de una lista\nde números enteros, sabiendo que MCD(X,Y,Z) = MCD(MCD(X,Y),Z). No se permite\nutilizar iteraciones en ninguna etapa del proceso."
    },
    {
      "metadata": {
        "trusted": true
      },
      "cell_type": "code",
      "source": "def MCDRecursivo(numa, numb):\n    if numa >  numb:\n        maxim = numa\n        minim = numb\n    else:\n        maxim = numb\n        minim = numa\n    resto = maxim%minim\n    if resto == 0:\n        return minim\n    else:\n        return MCDRecursivo(minim, resto)\n        \na = int(input(\"ingrese el primer numero\"))\nb = int(input(\"ingrese el segundo numero\"))\nprint(\"el MCD es:\", MCDRecursivo(a, b))",
      "execution_count": null,
      "outputs": []
    },
    {
      "metadata": {},
      "cell_type": "raw",
      "source": "EJERCICIO 08 - Realizar la implementación recursiva del método de selección para ordenar una\nlista de números enteros. Sugerencia: Colocar el elemento más pequeño en la primera\nposición, y luego ordenar el resto de la lista con una llamada recursiva."
    },
    {
      "metadata": {},
      "cell_type": "raw",
      "source": "EJERCICIO 09 - Realizar una función recursiva para imprimir una matriz de M x N."
    },
    {
      "metadata": {},
      "cell_type": "raw",
      "source": "EJERCICIO 10 - Escribir una función que sume todos los elementos de una matriz de M x N y devuelva\nel resultado."
    },
    {
      "metadata": {},
      "cell_type": "raw",
      "source": "EJERCICIO 11 - Desarrollar una función que devuelva el elemento de valor mínimo de una matriz\nde M x N."
    }
  ],
  "metadata": {
    "kernelspec": {
      "name": "python36",
      "display_name": "Python 3.6",
      "language": "python"
    },
    "language_info": {
      "mimetype": "text/x-python",
      "nbconvert_exporter": "python",
      "name": "python",
      "pygments_lexer": "ipython3",
      "version": "3.6.6",
      "file_extension": ".py",
      "codemirror_mode": {
        "version": 3,
        "name": "ipython"
      }
    }
  },
  "nbformat": 4,
  "nbformat_minor": 2
}